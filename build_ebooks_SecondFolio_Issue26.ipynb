{
 "cells": [
  {
   "cell_type": "markdown",
   "metadata": {},
   "source": [
    "# Imports and initialization"
   ]
  },
  {
   "cell_type": "code",
   "execution_count": 1,
   "metadata": {
    "collapsed": false
   },
   "outputs": [],
   "source": [
    "from __future__ import print_function\n",
    "\n",
    "from github_settings import (ry_username, ry_password,\n",
    "                             username, password,\n",
    "                             token, \n",
    "                             GITENBERG_GITHUB_TOKEN,\n",
    "                             GITENBERG_TRAVIS_ACCESS_TOKEN,\n",
    "                             RDHYEE_GITHUB_TOKEN,\n",
    "                             RDHYEE_TRAVIS_ACCESS_TOKEN, \n",
    "                             RDHYEE_TRAVIS_PROFILE_TOKEN)\n",
    "\n",
    "\n",
    "from itertools import (islice, izip)\n",
    "import requests\n",
    "\n",
    "\n",
    "from second_folio import (apply_to_repos, all_repos)\n",
    "\n",
    "from gitenberg_utils import (GitenbergJob,\n",
    "                             GitenbergTravisJob,\n",
    "                             ForkBuildRepo,\n",
    "                             BuildRepo,\n",
    "                             BuildRepo2,\n",
    "                             MetadataWrite,\n",
    "                             RepoNameFixer,\n",
    "                             repo_md)\n",
    "\n",
    "\n",
    "import pandas as pd\n",
    "from pandas import (DataFrame, Series)"
   ]
  },
  {
   "cell_type": "code",
   "execution_count": 2,
   "metadata": {
    "collapsed": false
   },
   "outputs": [],
   "source": [
    "# loop through all the repos\n",
    "\n",
    "repos = all_repos\n"
   ]
  },
  {
   "cell_type": "markdown",
   "metadata": {},
   "source": [
    "# status of builds"
   ]
  },
  {
   "cell_type": "code",
   "execution_count": null,
   "metadata": {
    "collapsed": false
   },
   "outputs": [],
   "source": [
    "# easier way to build travis_repo for given repo?\n",
    "\n",
    "from travispy import TravisPy\n",
    "travis = TravisPy(GITENBERG_TRAVIS_ACCESS_TOKEN)\n",
    "\n",
    "travis_repo = travis.repo(\"GITenberg/United-States-Declaration-of-Independence_1\")"
   ]
  },
  {
   "cell_type": "code",
   "execution_count": null,
   "metadata": {
    "collapsed": false
   },
   "outputs": [],
   "source": [
    "travis_repo.state"
   ]
  },
  {
   "cell_type": "code",
   "execution_count": null,
   "metadata": {
    "collapsed": true
   },
   "outputs": [],
   "source": [
    "def travis_last_build(travis, repo_owner, repo_name):\n",
    "    travis_repo = travis.repo(\"{}/{}\".format(repo_owner,repo_name))\n",
    "    return (travis_repo.last_build, travis_repo.last_build.id, travis_repo.last_build.state)"
   ]
  },
  {
   "cell_type": "markdown",
   "metadata": {},
   "source": [
    "# Scaling up to build all the repos"
   ]
  },
  {
   "cell_type": "code",
   "execution_count": null,
   "metadata": {
    "collapsed": true
   },
   "outputs": [],
   "source": [
    "from rdhyee_utils import grouper"
   ]
  },
  {
   "cell_type": "code",
   "execution_count": null,
   "metadata": {
    "collapsed": false
   },
   "outputs": [],
   "source": [
    "import arrow\n",
    "\n",
    "now = arrow.now()\n",
    "now.isoformat()"
   ]
  },
  {
   "cell_type": "code",
   "execution_count": null,
   "metadata": {
    "collapsed": false
   },
   "outputs": [],
   "source": [
    "import io, csv\n",
    "from itertools import islice\n",
    "\n",
    "import arrow\n",
    "\n",
    "def init_repos(conn, repo_owner='GITenberg', max_repos=None):\n",
    "\n",
    "    REPO_LIST_PATH = \"/Users/raymondyee/C/src/gitberg/build/lib/gitenberg/data/GITenberg_repo_list.tsv\"\n",
    "    PAGE_SIZE = 50\n",
    "    PER_PAGE = 500\n",
    "\n",
    "    c = conn.cursor()\n",
    "    \n",
    "    with io.open(REPO_LIST_PATH, mode='r', encoding='UTF-8') as f:\n",
    "        s = f.read()\n",
    "\n",
    "    repos = [row.split(\"\\t\") for row in s.split(\"\\n\") if len(row.split(\"\\t\")) == 2]\n",
    "    \n",
    " \n",
    "    for (i, page) in enumerate(grouper(islice(repos ,max_repos), PAGE_SIZE)):\n",
    "\n",
    "        page_of_repos = []\n",
    "\n",
    "        for repo in page:    \n",
    "            values = [repo[0], arrow.now().isoformat(), repo[1], repo_owner] + (len(BASE_COLUMNS)-4) * [None]\n",
    "            page_of_repos.append(values)\n",
    "\n",
    "        try:    \n",
    "            c.executemany(INSERT_SQL, page_of_repos)\n",
    "        except Exception, e:\n",
    "            print (e)\n",
    "            c.rollback()\n",
    "            break\n",
    "\n",
    "    conn.commit()\n",
    "    conn.close()\n"
   ]
  },
  {
   "cell_type": "code",
   "execution_count": null,
   "metadata": {
    "collapsed": false
   },
   "outputs": [],
   "source": [
    "# https://pymotw.com/2/sqlite3/\n",
    "import sqlite3\n",
    "\n",
    "import os\n",
    "import sqlite3\n",
    "import arrow\n",
    "\n",
    "db_filename = 'gitenberg.db'\n",
    "\n",
    "BASE_COLUMNS = [\n",
    " ('gutenberg_id', 'integer primary key'),\n",
    " ('updated', 'text'),\n",
    " ('repo_name', 'text'),\n",
    " ('repo_owner', 'text'),\n",
    " ('datebuilt', 'integer'),\n",
    " ('version', 'text'),\n",
    " ('ebooks_in_release_count', 'integer'),\n",
    " ('last_build_id', 'integer'),\n",
    " ('last_build_status', 'text'),\n",
    "]\n",
    "\n",
    "BASE_COLUMNS_FIELDS = [(k[0]) for k in BASE_COLUMNS]\n",
    "\n",
    "\n",
    "CREATE_TABLE_SQL = \"CREATE TABLE IF NOT EXISTS repos ({0})\".format(\n",
    "\n",
    "   \",\\n\".join([\"%s %s\" % (k[0], k[1]) for k in BASE_COLUMNS])\n",
    ")\n",
    "\n",
    "INSERT_SQL = \"INSERT OR REPLACE INTO repos ({0}) VALUES ({1})\".format( \\\n",
    "                    \", \".join(BASE_COLUMNS_FIELDS),\n",
    "                    \", \".join([\"?\"] * len(BASE_COLUMNS_FIELDS))) \n",
    "\n",
    "\n",
    "conn = sqlite3.connect(db_filename)\n",
    "\n",
    "c = conn.cursor()\n",
    "c.execute(CREATE_TABLE_SQL)\n",
    "\n",
    "print (\"table created\")\n",
    "\n",
    "db_is_new = not os.path.exists(db_filename)\n",
    "\n",
    "\n",
    "if db_is_new:\n",
    "    print ('Need to create schema')\n",
    "else:\n",
    "    print ('Database exists, assume schema does, too.')\n",
    "    \n",
    "init_repos(conn)\n",
    "\n",
    "conn.close()"
   ]
  },
  {
   "cell_type": "markdown",
   "metadata": {},
   "source": [
    "list of repos?\n",
    "\n",
    "https://github.com/gitenberg-dev/gitberg/blob/master/gitenberg/data/GITenberg_repo_list.tsv\n",
    "\n",
    "-> local copy: `/Users/raymondyee/C/src/gitberg/build/lib/gitenberg/data/GITenberg_repo_list.tsv`"
   ]
  },
  {
   "cell_type": "code",
   "execution_count": null,
   "metadata": {
    "collapsed": false
   },
   "outputs": [],
   "source": [
    "repos = [row.split(\"\\t\")[-1] for row in s.split(\"\\n\") if len(row.split(\"\\t\")) == 2]"
   ]
  },
  {
   "cell_type": "markdown",
   "metadata": {},
   "source": [
    "rate limits:\n",
    "    \n",
    "[Travis CI API rate limit · Issue #6257 · travis-ci/travis-ci](https://github.com/travis-ci/travis-ci/issues/6257)\n",
    "    "
   ]
  },
  {
   "cell_type": "markdown",
   "metadata": {},
   "source": [
    "# Build in Gitenberg "
   ]
  },
  {
   "cell_type": "markdown",
   "metadata": {},
   "source": [
    "## test"
   ]
  },
  {
   "cell_type": "code",
   "execution_count": null,
   "metadata": {
    "collapsed": true
   },
   "outputs": [],
   "source": [
    "# repo = \"Anne-of-the-Island_51\"\n",
    "# repo = \"Adventures-of-Huckleberry-Finn_76\"\n",
    "repo = \"The-Lady-with-the-Dog-and-Other-Stories_13415\"\n",
    "\n",
    "\n",
    "bj = BuildRepo2(username=username, password=password, repo_name=repo,\n",
    "              repo_owner='GITenberg', \n",
    "              update_travis_commit_msg='build using travis.build_epub',\n",
    "              tag_commit_message='build using travis.build_epub',\n",
    "              access_token=GITENBERG_TRAVIS_ACCESS_TOKEN)"
   ]
  },
  {
   "cell_type": "code",
   "execution_count": null,
   "metadata": {
    "collapsed": false
   },
   "outputs": [],
   "source": [
    "bj.status()"
   ]
  },
  {
   "cell_type": "code",
   "execution_count": null,
   "metadata": {
    "collapsed": false
   },
   "outputs": [],
   "source": [
    "bj.travis_repo.last_build.finished_at"
   ]
  },
  {
   "cell_type": "code",
   "execution_count": null,
   "metadata": {
    "collapsed": false
   },
   "outputs": [],
   "source": [
    "bj.gh.rate_limit()"
   ]
  },
  {
   "cell_type": "code",
   "execution_count": null,
   "metadata": {
    "collapsed": false
   },
   "outputs": [],
   "source": [
    "bj.run(fix_repo_name=True)"
   ]
  },
  {
   "cell_type": "code",
   "execution_count": null,
   "metadata": {
    "collapsed": false
   },
   "outputs": [],
   "source": [
    "bj.travis_repo.state, bj.status()"
   ]
  },
  {
   "cell_type": "markdown",
   "metadata": {},
   "source": [
    "## loop over rest"
   ]
  },
  {
   "cell_type": "code",
   "execution_count": null,
   "metadata": {
    "collapsed": true
   },
   "outputs": [],
   "source": [
    "from collections import OrderedDict\n",
    "from itertools import islice\n",
    "\n",
    "results = OrderedDict()\n",
    "\n",
    "repos = all_repos\n",
    "repos.reverse()\n",
    "\n",
    "repos_iter = iter(repos[:])"
   ]
  },
  {
   "cell_type": "code",
   "execution_count": null,
   "metadata": {
    "collapsed": true
   },
   "outputs": [],
   "source": [
    "def build_repos(repos, n=None):\n",
    "    for (i, repo) in enumerate(islice(repos, n)):\n",
    "        try:\n",
    "            bj = BuildRepo2(username=username, password=password, repo_name=repo,\n",
    "              repo_owner='GITenberg', \n",
    "              update_travis_commit_msg='build using travis.build_epub',\n",
    "              tag_commit_message='build using travis.build_epub',\n",
    "              access_token=GITENBERG_TRAVIS_ACCESS_TOKEN)\n",
    "            results[repo] = (bj, bj.run(fix_repo_name=True))\n",
    "        except Exception, e:\n",
    "            results[repo] = e\n",
    "        \n",
    "        print (\"\\r{}: {}\".format(i, results[repo]), end=\"\")\n",
    "    "
   ]
  },
  {
   "cell_type": "code",
   "execution_count": null,
   "metadata": {
    "collapsed": false
   },
   "outputs": [],
   "source": [
    "build_repos(repos_iter, None)"
   ]
  },
  {
   "cell_type": "code",
   "execution_count": null,
   "metadata": {
    "collapsed": false
   },
   "outputs": [],
   "source": [
    "[result[0].status().get('ebooks_in_release_count') for result in results.values()[-5:] \n",
    "   if not isinstance(result,Exception)]"
   ]
  },
  {
   "cell_type": "code",
   "execution_count": null,
   "metadata": {
    "collapsed": false
   },
   "outputs": [],
   "source": [
    "len(results)"
   ]
  },
  {
   "cell_type": "code",
   "execution_count": null,
   "metadata": {
    "collapsed": false
   },
   "outputs": [],
   "source": [
    "# can I get travis status of pending build?\n",
    "r = results.values()[-1][0]\n",
    "r.repo_name, r.travis_repo.last_build.id, r.travis_repo.last_build.finished"
   ]
  },
  {
   "cell_type": "code",
   "execution_count": null,
   "metadata": {
    "collapsed": false
   },
   "outputs": [],
   "source": [
    "build_result = results.values()[0][0]\n",
    "build_result.travis_repo.check_state()"
   ]
  },
  {
   "cell_type": "markdown",
   "metadata": {},
   "source": [
    "# Figure out the various tokens\n",
    "\n",
    "There are at least three types of tokens in use in `travis-ci` ([The Travis CI Blog: Token, Token, Token](https://blog.travis-ci.com/2013-01-28-token-token-token/)):\n",
    "\n",
    "* GitHub token\n",
    "* access token\n",
    "* Travis token\n",
    "\n"
   ]
  },
  {
   "cell_type": "code",
   "execution_count": null,
   "metadata": {
    "collapsed": false
   },
   "outputs": [],
   "source": [
    "# try using an access token\n",
    "\n",
    "from travispy import TravisPy\n",
    "#travis_client = TravisPy(RDHYEE_TRAVIS_ACCESS_TOKEN)\n",
    "travis_client = TravisPy(GITENBERG_TRAVIS_ACCESS_TOKEN)\n",
    "\n",
    "travis_repo = travis_client.repo(\"GITenberg/Adventures-of-Huckleberry-Finn_76\")"
   ]
  },
  {
   "cell_type": "code",
   "execution_count": null,
   "metadata": {
    "collapsed": false
   },
   "outputs": [],
   "source": [
    "from collections import namedtuple\n",
    "Point = namedtuple('Point', ['x', 'y'])"
   ]
  },
  {
   "cell_type": "code",
   "execution_count": null,
   "metadata": {
    "collapsed": false
   },
   "outputs": [],
   "source": [
    "Point(3,y=4).y"
   ]
  },
  {
   "cell_type": "code",
   "execution_count": null,
   "metadata": {
    "collapsed": false
   },
   "outputs": [],
   "source": [
    "\n",
    "(travis_repo.last_build_number, \n",
    " travis_repo.last_build_id, \n",
    " travis_repo.last_build.created,\n",
    " travis_repo.last_build_started_at, \n",
    " travis_repo.last_build_finished_at,\n",
    " travis_repo.last_build_duration)"
   ]
  },
  {
   "cell_type": "code",
   "execution_count": null,
   "metadata": {
    "collapsed": false
   },
   "outputs": [],
   "source": [
    "travis_repo.enable()"
   ]
  },
  {
   "cell_type": "code",
   "execution_count": null,
   "metadata": {
    "collapsed": false
   },
   "outputs": [],
   "source": [
    "# using GitHub auth and read off the corresponding access token\n",
    "\n",
    "from travispy import TravisPy\n",
    "#t = TravisPy.github_auth(RDHYEE_GITHUB_TOKEN)\n",
    "t = TravisPy.github_auth(GITENBERG_GITHUB_TOKEN)\n"
   ]
  },
  {
   "cell_type": "code",
   "execution_count": null,
   "metadata": {
    "collapsed": false
   },
   "outputs": [],
   "source": [
    "session = t._session\n",
    "(session.uri,  \n",
    " session.headers.get('Authorization').split()[-1] == GITENBERG_TRAVIS_ACCESS_TOKEN)"
   ]
  },
  {
   "cell_type": "markdown",
   "metadata": {},
   "source": [
    "# everything else"
   ]
  },
  {
   "cell_type": "code",
   "execution_count": null,
   "metadata": {
    "collapsed": false
   },
   "outputs": [],
   "source": [
    "# repo = \"Anne-of-the-Island_51\"\n",
    "# repo = \"Adventures-of-Huckleberry-Finn_76\"\n",
    "repo = \"Chaucer-s-Works-Volume-4--of-7----The-Canterbury-Tales_22120\"\n",
    "\n",
    "bj = BuildRepo(username=ry_username, password=ry_password, repo_name=repo,\n",
    "              repo_owner='rdhyee', \n",
    "              update_travis_commit_msg='try again: encoding problem?',\n",
    "              tag_commit_message='try again: encoding problem?',\n",
    "              access_token=RDHYEE_TRAVIS_ACCESS_TOKEN)"
   ]
  },
  {
   "cell_type": "code",
   "execution_count": null,
   "metadata": {
    "collapsed": false
   },
   "outputs": [],
   "source": [
    "bj.run()"
   ]
  },
  {
   "cell_type": "markdown",
   "metadata": {},
   "source": [
    "# fork and build"
   ]
  },
  {
   "cell_type": "code",
   "execution_count": null,
   "metadata": {
    "collapsed": true
   },
   "outputs": [],
   "source": [
    "# fork and build repo\n",
    "\n",
    "repo = repos[-1]\n",
    "\n",
    "bj2 = ForkBuildRepo(username=ry_username, password=ry_password, repo_name=repo,\n",
    "              repo_owner='rdhyee', \n",
    "              update_travis_commit_msg='update travis',\n",
    "              tag_commit_message='update travis',\n",
    "              access_token=RDHYEE_TRAVIS_ACCESS_TOKEN)\n",
    "\n"
   ]
  },
  {
   "cell_type": "code",
   "execution_count": null,
   "metadata": {
    "collapsed": false
   },
   "outputs": [],
   "source": [
    "bj2.fork_repo()"
   ]
  },
  {
   "cell_type": "code",
   "execution_count": null,
   "metadata": {
    "collapsed": false
   },
   "outputs": [],
   "source": [
    "from collections import OrderedDict\n",
    "from itertools import islice\n",
    "\n",
    "results = OrderedDict()\n",
    "\n",
    "repos = all_repos\n",
    "repos.reverse()\n",
    "\n",
    "repos_iter = iter(repos)"
   ]
  },
  {
   "cell_type": "code",
   "execution_count": null,
   "metadata": {
    "collapsed": true
   },
   "outputs": [],
   "source": [
    "def build_repos(repos, n=None):\n",
    "    for (i, repo) in enumerate(islice(repos, n)):\n",
    "        try:\n",
    "            bj = BuildRepo(username=ry_username, password=ry_password, repo_name=repo,\n",
    "                  repo_owner='rdhyee', \n",
    "                  update_travis_commit_msg='build using gitenberg.travis',\n",
    "                  tag_commit_message='build using gitenberg.travis',\n",
    "                  access_token=RDHYEE_TRAVIS_ACCESS_TOKEN)\n",
    "            results[repo] = (bj, bj.run())\n",
    "        except Exception, e:\n",
    "            results[repo] = e\n",
    "        \n",
    "        print (\"\\r{}: {}\".format(i, results[repo]), end=\"\")\n",
    "    "
   ]
  },
  {
   "cell_type": "code",
   "execution_count": null,
   "metadata": {
    "collapsed": false
   },
   "outputs": [],
   "source": [
    "results.values()[-1][0].repo_name"
   ]
  },
  {
   "cell_type": "code",
   "execution_count": null,
   "metadata": {
    "collapsed": false
   },
   "outputs": [],
   "source": [
    "build_repos(repos_iter, 32)"
   ]
  },
  {
   "cell_type": "code",
   "execution_count": null,
   "metadata": {
    "collapsed": false
   },
   "outputs": [],
   "source": [
    "len(results)"
   ]
  },
  {
   "cell_type": "code",
   "execution_count": null,
   "metadata": {
    "collapsed": false
   },
   "outputs": [],
   "source": [
    "[result[0].status().get('ebooks_in_release_count') for result in results.values()[-5:]]"
   ]
  },
  {
   "cell_type": "code",
   "execution_count": null,
   "metadata": {
    "collapsed": false
   },
   "outputs": [],
   "source": [
    "results.values()[-1][0].status()"
   ]
  },
  {
   "cell_type": "markdown",
   "metadata": {},
   "source": [
    "# if I want to delete existing repo tokens...\n",
    "\n",
    "can use\n",
    "\n",
    "```\n",
    "auths = gh.iter_authorizations()\n",
    "[(auth.name, auth.created_at) for auth in auths]\n",
    "```"
   ]
  },
  {
   "cell_type": "markdown",
   "metadata": {},
   "source": [
    "# try rebuilding errored builds"
   ]
  },
  {
   "cell_type": "code",
   "execution_count": null,
   "metadata": {
    "collapsed": true
   },
   "outputs": [],
   "source": [
    "from collections import OrderedDict\n",
    "from itertools import islice\n",
    "\n",
    "results = OrderedDict()\n",
    "\n",
    "repos = all_repos\n",
    "repos.reverse()\n",
    "\n",
    "repos_iter = iter(repos)\n",
    "\n",
    "def rebuild_repos(repos, n=None):\n",
    "    for (i, repo) in enumerate(islice(repos, n)):\n",
    "        try:\n",
    "            bj = BuildRepo(username=ry_username, password=ry_password, repo_name=repo,\n",
    "              repo_owner='rdhyee', \n",
    "              update_travis_commit_msg='build using gitenberg.travis (retry)',\n",
    "              tag_commit_message='build using gitenberg.travis (retry)',\n",
    "              access_token=RDHYEE_TRAVIS_ACCESS_TOKEN)\n",
    "            # reset token\n",
    "            results[repo] = (bj, (load_repo_token=False))\n",
    "        except Exception, e:\n",
    "            results[repo] = e\n",
    "        \n",
    "        print (\"\\r{}: {}\".format(i, results[repo]), end=\"\")"
   ]
  },
  {
   "cell_type": "code",
   "execution_count": null,
   "metadata": {
    "collapsed": false
   },
   "outputs": [],
   "source": [
    "rebuild_repos(repos_iter,None)"
   ]
  },
  {
   "cell_type": "code",
   "execution_count": null,
   "metadata": {
    "collapsed": false
   },
   "outputs": [],
   "source": [
    "len(results)"
   ]
  },
  {
   "cell_type": "code",
   "execution_count": null,
   "metadata": {
    "collapsed": false
   },
   "outputs": [],
   "source": [
    "repos_failed = [result[0].repo_name for result in results.values() if result[1] == 'failed']\n",
    "repos_failed"
   ]
  },
  {
   "cell_type": "markdown",
   "metadata": {},
   "source": [
    "# fix repo names"
   ]
  },
  {
   "cell_type": "code",
   "execution_count": null,
   "metadata": {
    "collapsed": true
   },
   "outputs": [],
   "source": [
    "REPOS_FAILED = ['The-Pilgrim-s-Progress-from-this-world-to-that-which-is-to-come--13-Delivered-under-the-similit__131',\n",
    "'The-Art-of-War_132',\n",
    "'The-Thousand-and-One-Nights-Vol.-I.Commonly-Called-the-Arabian-Nights-Entertainments_34206',\n",
    "'On-the-Origin-of-Species-By-Means-of-Natural-Selection--13-Or-the-Preservation-of-Favoured-Rac__1228',\n",
    "'Daddy-Long-Legs_157',\n",
    "'Heidi-Gift-Edition-_20781',\n",
    "'The-Trial_7849',\n",
    "'Chaucer-s-Works-Volume-4--of-7----The-Canterbury-Tales_22120',\n",
    "'Persuasion_105',\n",
    "'The-Works-of-Edgar-Allan-Poe-The-Raven-EditionTable-Of-Contents-And-Index-Of-The-Five-Volumes_25525']"
   ]
  },
  {
   "cell_type": "code",
   "execution_count": null,
   "metadata": {
    "collapsed": true
   },
   "outputs": [],
   "source": [
    "def fixname_repos(repos, n=None):\n",
    "    for (i, repo) in enumerate(islice(repos, n)):\n",
    "        try:\n",
    "            bj = RepoNameFixer(username=ry_username, password=ry_password, repo_name=repo,\n",
    "              repo_owner='rdhyee', \n",
    "              update_travis_commit_msg='build using gitenberg.travis (retry)',\n",
    "              tag_commit_message='build using gitenberg.travis (retry)',\n",
    "              access_token=RDHYEE_TRAVIS_ACCESS_TOKEN)\n",
    "            results[repo] = (bj, bj.run())\n",
    "        except Exception, e:\n",
    "            results[repo] = e\n",
    "        \n",
    "        print (\"\\r{}: {}\".format(i, results[repo]), end=\"\")"
   ]
  },
  {
   "cell_type": "markdown",
   "metadata": {},
   "source": [
    "# status of the Second Folio forks (152 repos)? \n"
   ]
  },
  {
   "cell_type": "code",
   "execution_count": null,
   "metadata": {
    "collapsed": false
   },
   "outputs": [],
   "source": [
    "from second_folio import (all_repos)\n",
    "\n",
    "all_repos[:5]"
   ]
  },
  {
   "cell_type": "code",
   "execution_count": null,
   "metadata": {
    "collapsed": false
   },
   "outputs": [],
   "source": [
    "def status_for_repo(repo_name):\n",
    "    rs = GitenbergTravisJob(username=username, password=password, repo_name=repo_name,\n",
    "              repo_owner='GITenberg', \n",
    "              update_travis_commit_msg='check status',\n",
    "              tag_commit_message='check status',\n",
    "              access_token=GITENBERG_TRAVIS_ACCESS_TOKEN)\n",
    "    return rs.status()\n",
    "\n",
    "results_iter = apply_to_repos(status_for_repo, repos=repos)"
   ]
  },
  {
   "cell_type": "code",
   "execution_count": null,
   "metadata": {
    "collapsed": false
   },
   "outputs": [],
   "source": [
    "status_for_repo('Adventures-of-Huckleberry-Finn_76')"
   ]
  },
  {
   "cell_type": "code",
   "execution_count": null,
   "metadata": {
    "collapsed": false
   },
   "outputs": [],
   "source": [
    "results = []\n",
    "\n",
    "for (i,result) in enumerate(results_iter):\n",
    "    \n",
    "    results.append(result)\n",
    "    if not isinstance(result, Exception):\n",
    "        print (\"\\r{}: {}\".format(i, result['repo_name']), end=\"\")\n",
    "    else:\n",
    "        print (\"\\r{}: {}\".format(i, str(result)), end=\"\")"
   ]
  },
  {
   "cell_type": "code",
   "execution_count": null,
   "metadata": {
    "collapsed": false
   },
   "outputs": [],
   "source": [
    "[(i, result) for (i, result) in enumerate(results) if isinstance(result, Exception)]"
   ]
  },
  {
   "cell_type": "code",
   "execution_count": null,
   "metadata": {
    "collapsed": false
   },
   "outputs": [],
   "source": [
    "[result.get('repo_name') for result in results if result.get('ebooks_in_release_count') != 3]"
   ]
  },
  {
   "cell_type": "code",
   "execution_count": null,
   "metadata": {
    "collapsed": false
   },
   "outputs": [],
   "source": [
    "results[0]"
   ]
  },
  {
   "cell_type": "code",
   "execution_count": null,
   "metadata": {
    "collapsed": false
   },
   "outputs": [],
   "source": [
    "results[-1]"
   ]
  },
  {
   "cell_type": "markdown",
   "metadata": {},
   "source": [
    "# forks still require rebuilding -- including name change"
   ]
  },
  {
   "cell_type": "code",
   "execution_count": null,
   "metadata": {
    "collapsed": true
   },
   "outputs": [],
   "source": [
    "TO_REBUILD = ['Dubliners_2814',\n",
    " 'Moby-Dick--Or-The-Whale_2701',\n",
    " 'The-Brothers-Karamazov_28054',\n",
    " 'Frankenstein_84',\n",
    " 'The-Works-of-Edgar-Allan-Poe-The-Raven-EditionTable-Of-Contents-And-Index-Of-The-Five-Volumes_25525',\n",
    " 'A-Little-Princess--13-Being-the-whole-story-of-Sara-Crewe-now-told-for-the-first-time_146',\n",
    " 'The-Invisible-Man--A-Grotesque-Romance_5230',\n",
    " 'Persuasion_105',\n",
    " 'Tales-of-the-Jazz-Age_6695',\n",
    " 'The-Last-of-the-Mohicans--A-Narrative-of-1757_27681',\n",
    " 'Around-the-World-in-80-Days_103',\n",
    " 'The-Trial_7849',\n",
    " 'The-Posthumous-Papers-of-the-Pickwick-Club-v-1of-2_47534',\n",
    " 'Cyrano-De-Bergerac_1254',\n",
    " 'Daddy-Long-Legs_157',\n",
    " 'Aesop-s-Fables--a-new-translation_11339',\n",
    " 'The-Art-of-War_132']"
   ]
  },
  {
   "cell_type": "code",
   "execution_count": null,
   "metadata": {
    "collapsed": true
   },
   "outputs": [],
   "source": [
    "repo = \"The-Posthumous-Papers-of-the-Pickwick-Club-v-1of-2_47534\"\n",
    "# repo = \"Adventures-of-Huckleberry-Finn_76\"\n",
    "# repo = \"Chaucer-s-Works-Volume-4--of-7----The-Canterbury-Tales_22120\"\n",
    "\n",
    "\n",
    "bj = BuildRepo(username=ry_username, password=ry_password, repo_name=repo,\n",
    "              repo_owner='rdhyee', \n",
    "              update_travis_commit_msg='try again after fixing _version',\n",
    "              tag_commit_message='try again after fixing _version',\n",
    "              access_token=RDHYEE_TRAVIS_ACCESS_TOKEN)"
   ]
  },
  {
   "cell_type": "code",
   "execution_count": null,
   "metadata": {
    "collapsed": true
   },
   "outputs": [],
   "source": [
    "bj.fix_repo_name()"
   ]
  },
  {
   "cell_type": "code",
   "execution_count": null,
   "metadata": {
    "collapsed": false
   },
   "outputs": [],
   "source": [
    "bj.delete_repo_token()"
   ]
  },
  {
   "cell_type": "code",
   "execution_count": null,
   "metadata": {
    "collapsed": false
   },
   "outputs": [],
   "source": [
    "bj.run()"
   ]
  },
  {
   "cell_type": "code",
   "execution_count": null,
   "metadata": {
    "collapsed": false
   },
   "outputs": [],
   "source": [
    "bj.status()"
   ]
  },
  {
   "cell_type": "code",
   "execution_count": null,
   "metadata": {
    "collapsed": false
   },
   "outputs": [],
   "source": [
    "repos_iter = iter(TO_REBUILD[4:])"
   ]
  },
  {
   "cell_type": "code",
   "execution_count": null,
   "metadata": {
    "collapsed": true
   },
   "outputs": [],
   "source": [
    "from collections import OrderedDict\n",
    "results = OrderedDict()\n",
    "\n",
    "def build_repos(repos, n=None):\n",
    "    for (i, repo) in enumerate(islice(repos, n)):\n",
    "        try:\n",
    "            bj = BuildRepo(username=ry_username, password=ry_password, repo_name=repo,\n",
    "                  repo_owner='rdhyee', \n",
    "                  update_travis_commit_msg='build repo',\n",
    "                  tag_commit_message='build repo',\n",
    "                  access_token=RDHYEE_TRAVIS_ACCESS_TOKEN)\n",
    "            token_delete_result = bj.delete_repo_token()\n",
    "            results[repo] = (bj, bj.run(load_repo_token=False), token_delete_result)\n",
    "        except Exception, e:\n",
    "            results[repo] = e\n",
    "        \n",
    "        print (\"\\r{}: {}\".format(i, results[repo]), end=\"\")"
   ]
  },
  {
   "cell_type": "code",
   "execution_count": null,
   "metadata": {
    "collapsed": false
   },
   "outputs": [],
   "source": [
    "build_repos(repos_iter,None)"
   ]
  },
  {
   "cell_type": "code",
   "execution_count": null,
   "metadata": {
    "collapsed": false
   },
   "outputs": [],
   "source": [
    "[result[0].repo_name for result in results.values() if result[1] is not None]"
   ]
  },
  {
   "cell_type": "code",
   "execution_count": null,
   "metadata": {
    "collapsed": false
   },
   "outputs": [],
   "source": [
    "results"
   ]
  },
  {
   "cell_type": "markdown",
   "metadata": {
    "collapsed": true
   },
   "source": [
    "# buildability"
   ]
  },
  {
   "cell_type": "code",
   "execution_count": null,
   "metadata": {
    "collapsed": true
   },
   "outputs": [],
   "source": [
    "# https://github.com/GITenberg/United-States-Declaration-of-Independence_1\n",
    "\n",
    "#repo_name = \"United-States-Declaration-of-Independence_1\"\n",
    "repo_name = \"United-States-Bill-of-Rights_2\"\n",
    "repo_name = \"On-Liberty_34901\"\n",
    "\n",
    "bj = BuildRepo2(username=username, password=password, repo_name=repo_name,\n",
    "        repo_owner='GITenberg', \n",
    "        update_travis_commit_msg='build using travis.build_epub',\n",
    "        tag_commit_message='build using travis.build_epub',\n",
    "        access_token=GITENBERG_TRAVIS_ACCESS_TOKEN)\n",
    "           \n",
    "   "
   ]
  },
  {
   "cell_type": "code",
   "execution_count": null,
   "metadata": {
    "collapsed": false
   },
   "outputs": [],
   "source": [
    "bj.status()"
   ]
  },
  {
   "cell_type": "code",
   "execution_count": null,
   "metadata": {
    "collapsed": false
   },
   "outputs": [],
   "source": [
    "bj.buildable()"
   ]
  },
  {
   "cell_type": "code",
   "execution_count": null,
   "metadata": {
    "collapsed": false
   },
   "outputs": [],
   "source": [
    "bj.gh_repo"
   ]
  },
  {
   "cell_type": "code",
   "execution_count": null,
   "metadata": {
    "collapsed": false
   },
   "outputs": [],
   "source": [
    "import traceback\n",
    "import sys\n",
    "from pprint import pprint\n",
    "\n",
    "try:\n",
    "    bj.travis_repo.last_build\n",
    "except KeyError as e:\n",
    "    \n",
    "    (exc_type, exc_value, exc_tb) = sys.exc_info()\n",
    "    stack_trace = \" \".join(traceback.format_exception(exc_type, exc_value, exc_tb))\n",
    "    \n",
    "    print (stack_trace)\n",
    "    #print (\" \".join(traceback.format_stack()))\n",
    "    raise e"
   ]
  },
  {
   "cell_type": "code",
   "execution_count": null,
   "metadata": {
    "collapsed": false
   },
   "outputs": [],
   "source": [
    "# check for existence of metadata.yaml\n",
    "\n",
    "bj.gh_repo.contents(\"metadata.yaml\", ref=\"master\") is not None"
   ]
  },
  {
   "cell_type": "code",
   "execution_count": null,
   "metadata": {
    "collapsed": true
   },
   "outputs": [],
   "source": [
    "source_book(bj)"
   ]
  },
  {
   "cell_type": "markdown",
   "metadata": {},
   "source": [
    "# writing metadata files\n",
    "\n"
   ]
  },
  {
   "cell_type": "markdown",
   "metadata": {},
   "source": [
    "loop through all repo_name where has_metadata is null.\n",
    "\n"
   ]
  }
 ],
 "metadata": {
  "kernelspec": {
   "display_name": "Python 2",
   "language": "python",
   "name": "python2"
  },
  "language_info": {
   "codemirror_mode": {
    "name": "ipython",
    "version": 2
   },
   "file_extension": ".py",
   "mimetype": "text/x-python",
   "name": "python",
   "nbconvert_exporter": "python",
   "pygments_lexer": "ipython2",
   "version": "2.7.11"
  },
  "widgets": {
   "state": {},
   "version": "1.1.2"
  }
 },
 "nbformat": 4,
 "nbformat_minor": 0
}
