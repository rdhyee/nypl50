{
 "cells": [
  {
   "cell_type": "markdown",
   "metadata": {},
   "source": [
    "(2016.01.12)  I **think** this notebook is about pushing ahead on getting the following in place.  In one commit, I'd to be able to:\n",
    "\n",
    "* add `travis.deploy.api_key.txt`\n",
    "* increase patch version number\n",
    "* `git commit` with appropriate message\n",
    "* `git tag`\n",
    "* `git push`"
   ]
  },
  {
   "cell_type": "code",
   "execution_count": 1,
   "metadata": {
    "collapsed": true
   },
   "outputs": [],
   "source": [
    "from __future__ import print_function"
   ]
  },
  {
   "cell_type": "code",
   "execution_count": 2,
   "metadata": {
    "collapsed": true
   },
   "outputs": [],
   "source": [
    "import os\n",
    "import json\n",
    "import shutil\n",
    "import sh\n",
    "import yaml\n",
    "from pandas import DataFrame, Series\n",
    "from itertools import islice\n",
    "\n",
    "REPOS_LIST = \"/Users/raymondyee/C/src/gitenberg/Second-Folio/list_of_repos.txt\"\n",
    "GITENBERG_DIR = \"/Users/raymondyee/C/src/gitenberg/\"\n",
    "\n",
    "METADATA_DIR = \"/Users/raymondyee/C/src/gitenberg-dev/giten_site/metadata\"\n",
    "COVERS_DATA = \"/Users/raymondyee/C/src/gitenberg/Second-Folio/covers_data.json\""
   ]
  },
  {
   "cell_type": "code",
   "execution_count": 3,
   "metadata": {
    "collapsed": false
   },
   "outputs": [],
   "source": [
    "import os\n",
    "import glob\n",
    "import sh\n",
    "import yaml\n",
    "\n",
    "from gitenberg import metadata\n",
    "import jinja2\n",
    "\n",
    "from second_folio import (GITENBERG_DIR, \n",
    "                          all_repos, \n",
    "                          apply_to_repos, \n",
    "                          travis_template, \n",
    "                          travis_setup_releases, \n",
    "                          git_pull,\n",
    "                          apply_travis,\n",
    "                          finish_travis,\n",
    "                          repo_is_buildable,\n",
    "                          has_travis_with_gitenberg_build,\n",
    "                          slugify,\n",
    "                          write_repo_token_file,\n",
    "                          latest_epub,\n",
    "                          repo_version\n",
    "                          )\n",
    "\n",
    "from github_settings import (username, password)"
   ]
  },
  {
   "cell_type": "code",
   "execution_count": 4,
   "metadata": {
    "collapsed": false
   },
   "outputs": [
    {
     "data": {
      "text/plain": [
       "[]"
      ]
     },
     "execution_count": 4,
     "metadata": {},
     "output_type": "execute_result"
    }
   ],
   "source": [
    "from itertools import islice, izip\n",
    "\n",
    "# pick subset of repositories to calculate on\n",
    "repos = list(islice(all_repos,0,None))\n",
    "\n",
    "# determine which repos are \"buildable\"\n",
    "repos_statues = list(izip(repos, \n",
    "                          apply_to_repos(repo_is_buildable, repos=repos), \n",
    "                          apply_to_repos(has_travis_with_gitenberg_build, repos=repos) ))\n",
    "\n",
    "# we want to apply travis to repos that are buildable but that don't yet have .travis.yml. \n",
    "\n",
    "repos_to_travisfy = [repo[0] for repo in repos_statues if repo[1] and not repo[2]]\n",
    "repos_to_travisfy"
   ]
  },
  {
   "cell_type": "code",
   "execution_count": 5,
   "metadata": {
    "collapsed": false
   },
   "outputs": [
    {
     "data": {
      "text/plain": [
       "['Adventures-of-Huckleberry-Finn_76',\n",
       " 'Don-Quixote_996',\n",
       " 'Dubliners_2814',\n",
       " 'Jane-Eyre_1260',\n",
       " 'Moby-Dick--Or-The-Whale_2701',\n",
       " 'Narrative-of-the-Life-of-Frederick-Douglass-an-American-Slave_23',\n",
       " 'Pride-and-Prejudice_1342',\n",
       " 'The-Adventures-of-Sherlock-Holmes_1661',\n",
       " 'The-Brothers-Karamazov_28054',\n",
       " 'The-Time-Machine_35',\n",
       " 'Frankenstein_84',\n",
       " 'Middlemarch_145',\n",
       " 'A-Tale-of-Two-Cities_98',\n",
       " 'The-Call-of-the-Wild_215',\n",
       " 'Crime-and-Punishment_2554',\n",
       " 'The-Strange-Case-of-Dr.-Jekyll-and-Mr.-Hyde_42',\n",
       " 'Dracula_345',\n",
       " 'Flatland--A-Romance-of-Many-Dimensions--Illustrated-_201',\n",
       " 'Household-Stories-by-the-Brothers-Grimm_19068',\n",
       " 'Heart-of-Darkness_219',\n",
       " 'A-Journey-into-the-Interior-of-the-Earth_3748',\n",
       " 'Jude-the-Obscure_153',\n",
       " 'King-Solomon-s-Mines_2166',\n",
       " 'Little-Women_514',\n",
       " 'Madame-Bovary_2413',\n",
       " 'The-Life-and-Adventures-of-Robinson-Crusoe_521',\n",
       " 'The-Awakening-and-Selected-Short-Stories_160',\n",
       " 'The-Jungle_140',\n",
       " 'The-Jungle-Book_236',\n",
       " 'Metamorphosis_5200',\n",
       " 'The-Picture-of-Dorian-Gray_174',\n",
       " 'The-Red-Badge-of-Courage_73',\n",
       " 'The-Scarlet-Letter_33',\n",
       " 'The-War-of-the-Worlds_36',\n",
       " 'The-Wonderful-Wizard-of-Oz_55',\n",
       " 'This-Side-of-Paradise_805',\n",
       " 'Anna-Karenina_1399',\n",
       " 'Gulliver-s-Travels_829',\n",
       " 'Les-Mis-rables_135',\n",
       " 'Swann-s-Way_7178',\n",
       " 'The-Count-of-Monte-Cristo_1184',\n",
       " 'The-Hunchback-of-Notre-Dame_6539',\n",
       " 'The-Three-Musketeers_1257',\n",
       " 'Through-the-Looking-Glass_12',\n",
       " 'Twenty-Thousand-Leagues-under-the-Sea_164',\n",
       " 'War-and-Peace_2600',\n",
       " 'Winesburg-Ohio--A-Group-of-Tales-of-Ohio-Small-Town-Life_416',\n",
       " 'My-Antonia_242',\n",
       " 'Divine-Comedy-Longfellow-s-Translation-Hell_1001',\n",
       " 'The-Works-of-Edgar-Allan-Poe-The-Raven-EditionTable-Of-Contents-And-Index-Of-The-Five-Volumes_25525']"
      ]
     },
     "execution_count": 5,
     "metadata": {},
     "output_type": "execute_result"
    }
   ],
   "source": [
    "all_repos"
   ]
  },
  {
   "cell_type": "code",
   "execution_count": 6,
   "metadata": {
    "collapsed": false
   },
   "outputs": [
    {
     "data": {
      "text/plain": [
       "'Dubliners_2814'"
      ]
     },
     "execution_count": 6,
     "metadata": {},
     "output_type": "execute_result"
    }
   ],
   "source": [
    "repo = all_repos[2]\n",
    "repo"
   ]
  },
  {
   "cell_type": "markdown",
   "metadata": {},
   "source": [
    "[semantic_version 2.4.2 : Python Package Index](https://pypi.python.org/pypi/semantic_version/2.4.2)"
   ]
  },
  {
   "cell_type": "code",
   "execution_count": null,
   "metadata": {
    "collapsed": false
   },
   "outputs": [],
   "source": [
    "list(apply_to_repos(repo_version,kwargs={'version_type':'patch'},repos=all_repos))"
   ]
  },
  {
   "cell_type": "markdown",
   "metadata": {},
   "source": [
    "# templates\n",
    "\n",
    "template path?  \n",
    "\n",
    "variables to fill:\n",
    "\n",
    "* `epub_title`\n",
    "* `encrypted_key`\n",
    "* `repo_name`"
   ]
  },
  {
   "cell_type": "code",
   "execution_count": 9,
   "metadata": {
    "collapsed": true
   },
   "outputs": [],
   "source": [
    "def new_travis_template(repo, template, write_template=False):\n",
    "    \"\"\"\n",
    "    compute (and optionally write) .travis.yml based on the template and current metadata.yaml \n",
    "    \"\"\"\n",
    "    template_written = False\n",
    "    \n",
    "    sh.cd(os.path.join(GITENBERG_DIR, repo))\n",
    "\n",
    "    metadata_path = os.path.join(GITENBERG_DIR, repo, \"metadata.yaml\")\n",
    "    travis_path = os.path.join(GITENBERG_DIR, repo, \".travis.yml\")\n",
    "    travis_api_key_path = os.path.join(GITENBERG_DIR, repo, \".travis.deploy.api_key.txt\") \n",
    "    \n",
    "    md = metadata.pandata.Pandata(metadata_path)\n",
    "    epub_title = slugify(md.metadata.get(\"title\"))\n",
    "    encrypted_key = open(travis_api_key_path).read().strip()\n",
    "    repo_name = md.metadata.get(\"_repo\")\n",
    "    \n",
    "    template_vars =  {\n",
    "        'epub_title': epub_title,\n",
    "        'encrypted_key': encrypted_key,\n",
    "        'repo_name': repo_name\n",
    "    }\n",
    "    \n",
    "    template_result = template.render(**template_vars)\n",
    "    \n",
    "    if write_template:\n",
    "        with open(travis_path, \"w\") as f:\n",
    "            f.write(template_result)\n",
    "        template_written = True\n",
    "    \n",
    "    return (template_result, template_written) "
   ]
  },
  {
   "cell_type": "code",
   "execution_count": null,
   "metadata": {
    "collapsed": false
   },
   "outputs": [],
   "source": [
    "from itertools import izip\n",
    "\n",
    "template = template = travis_template()\n",
    "\n",
    "results = list(izip(all_repos, apply_to_repos(new_travis_template,\n",
    "                                        kwargs={'template':template},\n",
    "                                        repos=all_repos)))\n",
    "[result for result in results if isinstance(result[1], Exception) ]"
   ]
  },
  {
   "cell_type": "code",
   "execution_count": null,
   "metadata": {
    "code_folding": [],
    "collapsed": false
   },
   "outputs": [],
   "source": [
    "import os\n",
    "import yaml\n",
    "import pdb\n",
    "\n",
    "def commit_travis_api_key_and_update_travis(repo, template, write_updates=False):\n",
    "    \"\"\"\n",
    "    create .travis.deploy.api_key.txt and update .travis.yml; do git commit\n",
    "    \"\"\"\n",
    "    sh.cd(os.path.join(GITENBERG_DIR, repo))\n",
    "\n",
    "    metadata_path = os.path.join(GITENBERG_DIR, repo, \"metadata.yaml\")\n",
    "    travis_path = os.path.join(GITENBERG_DIR, repo, \".travis.yml\")\n",
    "    travis_api_key_path = os.path.join(GITENBERG_DIR, repo, \".travis.deploy.api_key.txt\") \n",
    "    \n",
    "    # git add .travis.deploy.api_key.txt\n",
    "    \n",
    "    if write_updates:\n",
    "        sh.git.add(travis_api_key_path)\n",
    "    \n",
    "    # read the current metadata file and replace current_ver with next_ver\n",
    "\n",
    "    (v0, v1, v_updated) = repo_version(repo, version_type='patch', write_version=write_updates)\n",
    "    if v_updated:\n",
    "        sh.git.add(metadata_path)\n",
    "        \n",
    "    # write new .travis.yml\n",
    "    (new_template, template_written) = new_travis_template(repo, template, write_template=write_updates)\n",
    "    if template_written:\n",
    "        sh.git.add(travis_path)\n",
    "    \n",
    "    if write_updates:\n",
    "        sh.git.commit(\"-m\", \"add .travis.deploy.api_key.txt; updated .travis.yml\")\n",
    "    \n",
    "    # add tag\n",
    "    if v_updated:\n",
    "        sh.git.tag(v1)\n",
    "        sh.git.push(\"origin\", \"master\", \"--tags\")\n",
    "\n",
    "        return True\n",
    "\n",
    "    else:\n",
    "        return False\n",
    "    \n"
   ]
  },
  {
   "cell_type": "code",
   "execution_count": null,
   "metadata": {
    "collapsed": true
   },
   "outputs": [],
   "source": [
    "problem_repos = ('The-Picture-of-Dorian-Gray_174',\n",
    "                 'The-Hunchback-of-Notre-Dame_6539', \n",
    "                 'Divine-Comedy-Longfellow-s-Translation-Hell_1001',\n",
    "                 'The-Works-of-Edgar-Allan-Poe-The-Raven-EditionTable-Of-Contents-And-Index-Of-The-Five-Volumes_25525'\n",
    "                )\n"
   ]
  },
  {
   "cell_type": "code",
   "execution_count": null,
   "metadata": {
    "collapsed": false,
    "scrolled": true
   },
   "outputs": [],
   "source": [
    "repos = all_repos[36:][0:]\n",
    "repos = [repo for repo in repos if repo not in problem_repos]\n",
    "repos"
   ]
  },
  {
   "cell_type": "code",
   "execution_count": null,
   "metadata": {
    "collapsed": false
   },
   "outputs": [],
   "source": [
    "template = travis_template()\n",
    "\n",
    "# I wish there would be a way to figure out variables in a template from jinja2...but I don't see a way.\n"
   ]
  },
  {
   "cell_type": "code",
   "execution_count": null,
   "metadata": {
    "collapsed": false
   },
   "outputs": [],
   "source": [
    "results = list(apply_to_repos(commit_travis_api_key_and_update_travis, \n",
    "               kwargs={'template':template,\n",
    "                        'write_updates':True},\n",
    "               repos=repos))\n",
    "results"
   ]
  },
  {
   "cell_type": "code",
   "execution_count": null,
   "metadata": {
    "collapsed": true
   },
   "outputs": [],
   "source": [
    "import requests\n",
    "\n",
    "def url_status(url):\n",
    "    r = requests.get(url, allow_redirects=True, stream=True)\n",
    "    return r.status_code\n",
    "\n",
    "def repo_epub_status(repo):\n",
    "    return url_status(latest_epub(repo))"
   ]
  },
  {
   "cell_type": "code",
   "execution_count": null,
   "metadata": {
    "collapsed": false
   },
   "outputs": [],
   "source": [
    "list(izip(repos, apply_to_repos(repo_epub_status, \n",
    "               repos=repos)))"
   ]
  },
  {
   "cell_type": "code",
   "execution_count": null,
   "metadata": {
    "collapsed": false
   },
   "outputs": [],
   "source": [
    "results = list(izip(all_repos, apply_to_repos(repo_epub_status, \n",
    "               repos=all_repos)))"
   ]
  },
  {
   "cell_type": "code",
   "execution_count": null,
   "metadata": {
    "collapsed": false
   },
   "outputs": [],
   "source": [
    "results"
   ]
  },
  {
   "cell_type": "code",
   "execution_count": null,
   "metadata": {
    "collapsed": false
   },
   "outputs": [],
   "source": [
    "ok_repos = [result[0] for result in results if result[1] == 200 ]\n",
    "not_ok_repos = [result[0] for result in results if result[1] <> 200 ]\n",
    "len(ok_repos), len(not_ok_repos)"
   ]
  },
  {
   "cell_type": "code",
   "execution_count": null,
   "metadata": {
    "collapsed": false
   },
   "outputs": [],
   "source": [
    "for (i, repo) in enumerate(ok_repos):\n",
    "    print (i+1, \"\\t\", repo, \"\\t\", latest_epub(repo))"
   ]
  },
  {
   "cell_type": "code",
   "execution_count": null,
   "metadata": {
    "collapsed": false
   },
   "outputs": [],
   "source": [
    "not_ok_repos"
   ]
  },
  {
   "cell_type": "markdown",
   "metadata": {
    "collapsed": true
   },
   "source": [
    "# Divine Comedy\n",
    "\n",
    " `Divine-Comedy-Longfellow-s-Translation-Hell_1001` / `/Users/raymondyee/C/src/gitenberg/Divine-Comedy-Longfellow-s-Translation-Hell_1001\n",
    "`: there is a book.asciidoc but no .travis.yml \n",
    "\n",
    "Let's do this by hand and document the process...\n",
    "\n",
    "template"
   ]
  },
  {
   "cell_type": "code",
   "execution_count": 12,
   "metadata": {
    "collapsed": false
   },
   "outputs": [],
   "source": [
    "from second_folio import TRAVIS_TEMPLATE_URL\n",
    "\n",
    "repo = \"Divine-Comedy-Longfellow-s-Translation-Hell_1001\""
   ]
  },
  {
   "cell_type": "code",
   "execution_count": 13,
   "metadata": {
    "collapsed": false
   },
   "outputs": [
    {
     "data": {
      "text/plain": [
       "u'Divine-Comedy-Longfellows-Translation-Hell'"
      ]
     },
     "execution_count": 13,
     "metadata": {},
     "output_type": "execute_result"
    }
   ],
   "source": [
    "title = \"Divine Comedy, Longfellow's Translation, Hell\"\n",
    "slugify(title)"
   ]
  },
  {
   "cell_type": "code",
   "execution_count": null,
   "metadata": {
    "collapsed": true
   },
   "outputs": [],
   "source": []
  }
 ],
 "metadata": {
  "kernelspec": {
   "display_name": "Python 2",
   "language": "python",
   "name": "python2"
  },
  "language_info": {
   "codemirror_mode": {
    "name": "ipython",
    "version": 2
   },
   "file_extension": ".py",
   "mimetype": "text/x-python",
   "name": "python",
   "nbconvert_exporter": "python",
   "pygments_lexer": "ipython2",
   "version": "2.7.11"
  },
  "widgets": {
   "state": {},
   "version": "1.1.2"
  }
 },
 "nbformat": 4,
 "nbformat_minor": 0
}
