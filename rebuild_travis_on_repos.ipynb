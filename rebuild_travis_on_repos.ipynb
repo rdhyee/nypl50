{
 "cells": [
  {
   "cell_type": "markdown",
   "metadata": {},
   "source": [
    "(2016.01.12)  I **think** this notebook is about pushing ahead on getting the following in place.  In one commit, I'd to be able to:\n",
    "\n",
    "* add `travis.deploy.api_key.txt`\n",
    "* increase patch version number\n",
    "* `git commit` with appropriate message\n",
    "* `git tag`\n",
    "* `git push`"
   ]
  },
  {
   "cell_type": "code",
   "execution_count": null,
   "metadata": {
    "collapsed": true
   },
   "outputs": [],
   "source": [
    "from __future__ import print_function"
   ]
  },
  {
   "cell_type": "code",
   "execution_count": null,
   "metadata": {
    "collapsed": true
   },
   "outputs": [],
   "source": [
    "import os\n",
    "import json\n",
    "import shutil\n",
    "import sh\n",
    "import yaml\n",
    "from pandas import DataFrame, Series\n",
    "from itertools import islice\n",
    "\n",
    "REPOS_LIST = \"/Users/raymondyee/C/src/gitenberg/Second-Folio/list_of_repos.txt\"\n",
    "GITENBERG_DIR = \"/Users/raymondyee/C/src/gitenberg/\"\n",
    "\n",
    "METADATA_DIR = \"/Users/raymondyee/C/src/gitenberg-dev/giten_site/metadata\"\n",
    "COVERS_DATA = \"/Users/raymondyee/C/src/gitenberg/Second-Folio/covers_data.json\""
   ]
  },
  {
   "cell_type": "code",
   "execution_count": null,
   "metadata": {
    "collapsed": false
   },
   "outputs": [],
   "source": [
    "import os\n",
    "import glob\n",
    "import sh\n",
    "import yaml\n",
    "\n",
    "from gitenberg import metadata\n",
    "import jinja2\n",
    "\n",
    "from second_folio import (GITENBERG_DIR, \n",
    "                          all_repos, \n",
    "                          apply_to_repos, \n",
    "                          travis_template, \n",
    "                          travis_setup_releases, \n",
    "                          git_pull,\n",
    "                          apply_travis,\n",
    "                          finish_travis,\n",
    "                          repo_is_buildable,\n",
    "                          has_travis_with_gitenberg_build,\n",
    "                          slugify,\n",
    "                          write_travis_token_file,\n",
    "                          latest_epub,\n",
    "                          repo_version\n",
    "                          )\n",
    "\n",
    "from github_settings import (username, password)"
   ]
  },
  {
   "cell_type": "code",
   "execution_count": null,
   "metadata": {
    "collapsed": false
   },
   "outputs": [],
   "source": [
    "from itertools import islice, izip\n",
    "\n",
    "# pick subset of repositories to calculate on\n",
    "repos = list(islice(all_repos,0,None))\n",
    "\n",
    "# determine which repos are \"buildable\"\n",
    "repos_statues = list(izip(repos, \n",
    "                          apply_to_repos(repo_is_buildable, repos=repos), \n",
    "                          apply_to_repos(has_travis_with_gitenberg_build, repos=repos) ))\n",
    "\n",
    "# we want to apply travis to repos that are buildable but that don't yet have .travis.yml. \n",
    "\n",
    "repos_to_travisfy = [repo[0] for repo in repos_statues if repo[1] and not repo[2]]\n",
    "repos_to_travisfy"
   ]
  },
  {
   "cell_type": "code",
   "execution_count": null,
   "metadata": {
    "collapsed": false
   },
   "outputs": [],
   "source": [
    "all_repos"
   ]
  },
  {
   "cell_type": "code",
   "execution_count": null,
   "metadata": {
    "collapsed": false
   },
   "outputs": [],
   "source": [
    "repo = all_repos[2]\n",
    "repo"
   ]
  },
  {
   "cell_type": "markdown",
   "metadata": {},
   "source": [
    "[semantic_version 2.4.2 : Python Package Index](https://pypi.python.org/pypi/semantic_version/2.4.2)"
   ]
  },
  {
   "cell_type": "code",
   "execution_count": null,
   "metadata": {
    "collapsed": false
   },
   "outputs": [],
   "source": [
    "list(apply_to_repos(repo_version,kwargs={'version_type':'patch'},repos=all_repos))"
   ]
  },
  {
   "cell_type": "code",
   "execution_count": null,
   "metadata": {
    "collapsed": true
   },
   "outputs": [],
   "source": [
    "# add token to github for the repos\n",
    "\n",
    "def finish_travis(repo):\n",
    "        \n",
    "    sh.cd(os.path.join(GITENBERG_DIR, repo))\n",
    "\n",
    "    metadata_path = os.path.join(GITENBERG_DIR, repo, \"metadata.yaml\")\n",
    "    travis_path = os.path.join(GITENBERG_DIR, repo, \".travis.yml\")\n",
    "    travis_api_key_path = os.path.join(GITENBERG_DIR, repo, \"travis.deploy.api_key.txt\") \n",
    "    \n",
    "    \n",
    "    try:\n",
    "        sh.travis.enable(\"--no-interactive\")\n",
    "    except:\n",
    "        pass\n",
    "    \n",
    "    sh.git.add(\".travis.yml\")\n",
    "    sh.git.commit(\"-m\", \"add .travis.yml\", _ok_code=[0,1])\n",
    "    sh.git.tag(\"0.0.1\", _ok_code=[0,1])\n",
    "    sh.git.push(\"origin\", \"master\", \"--tags\", _ok_code=[0,1])\n",
    "    \n",
    "    return True"
   ]
  },
  {
   "cell_type": "markdown",
   "metadata": {},
   "source": [
    "# templates\n",
    "\n",
    "template path?  \n",
    "\n",
    "variables to fill:\n",
    "\n",
    "* `epub_title`\n",
    "* `encrypted_key`\n",
    "* `repo_name`"
   ]
  },
  {
   "cell_type": "code",
   "execution_count": null,
   "metadata": {
    "collapsed": true
   },
   "outputs": [],
   "source": [
    "def new_travis_template(repo, template, write_template=False):\n",
    "    \n",
    "    template_written = False\n",
    "    \n",
    "    sh.cd(os.path.join(GITENBERG_DIR, repo))\n",
    "\n",
    "    metadata_path = os.path.join(GITENBERG_DIR, repo, \"metadata.yaml\")\n",
    "    travis_path = os.path.join(GITENBERG_DIR, repo, \".travis.yml\")\n",
    "    travis_api_key_path = os.path.join(GITENBERG_DIR, repo, \".travis.deploy.api_key.txt\") \n",
    "    \n",
    "    md = metadata.pandata.Pandata(metadata_path)\n",
    "    epub_title = slugify(md.metadata.get(\"title\"))\n",
    "    encrypted_key = open(travis_api_key_path).read().strip()\n",
    "    repo_name = md.metadata.get(\"_repo\")\n",
    "    \n",
    "    template_vars =  {\n",
    "        'epub_title': epub_title,\n",
    "        'encrypted_key': encrypted_key,\n",
    "        'repo_name': repo_name\n",
    "    }\n",
    "    \n",
    "    template_result = template.render(**template_vars)\n",
    "    \n",
    "    if write_template:\n",
    "        with open(travis_path, \"w\") as f:\n",
    "            f.write(template_result)\n",
    "        template_written = True\n",
    "    \n",
    "    return (template_result, template_written) "
   ]
  },
  {
   "cell_type": "code",
   "execution_count": null,
   "metadata": {
    "collapsed": false
   },
   "outputs": [],
   "source": [
    "from itertools import izip\n",
    "\n",
    "template = template = travis_template()\n",
    "\n",
    "results = list(izip(all_repos, apply_to_repos(new_travis_template,\n",
    "                                        kwargs={'template':template},\n",
    "                                        repos=all_repos)))\n",
    "[result for result in results if isinstance(result[1], Exception) ]"
   ]
  },
  {
   "cell_type": "code",
   "execution_count": null,
   "metadata": {
    "code_folding": [],
    "collapsed": false
   },
   "outputs": [],
   "source": [
    "import os\n",
    "import yaml\n",
    "import pdb\n",
    "\n",
    "def commit_travis_api_key_and_update_travis(repo, template, write_updates=False):\n",
    "    \n",
    "    sh.cd(os.path.join(GITENBERG_DIR, repo))\n",
    "\n",
    "    metadata_path = os.path.join(GITENBERG_DIR, repo, \"metadata.yaml\")\n",
    "    travis_path = os.path.join(GITENBERG_DIR, repo, \".travis.yml\")\n",
    "    travis_api_key_path = os.path.join(GITENBERG_DIR, repo, \".travis.deploy.api_key.txt\") \n",
    "    \n",
    "    # git add .travis.deploy.api_key.txt\n",
    "    \n",
    "    if write_updates:\n",
    "        sh.git.add(travis_api_key_path)\n",
    "    \n",
    "    # read the current metadata file and replace current_ver with next_ver\n",
    "\n",
    "    (v0, v1, v_updated) = repo_version(repo, version_type='patch', write_version=write_updates)\n",
    "    if v_updated:\n",
    "        sh.git.add(metadata_path)\n",
    "        \n",
    "    # write new .travis.yml\n",
    "    (new_template, template_written) = new_travis_template(repo, template, write_template=write_updates)\n",
    "    if template_written:\n",
    "        sh.git.add(travis_path)\n",
    "    \n",
    "    if write_updates:\n",
    "        sh.git.commit(\"-m\", \"add .travis.deploy.api_key.txt; updated .travis.yml\")\n",
    "    \n",
    "    # add tag\n",
    "    if v_updated:\n",
    "        sh.git.tag(v1)\n",
    "        sh.git.push(\"origin\", \"master\", \"--tags\")\n",
    "\n",
    "        return True\n",
    "\n",
    "    else:\n",
    "        return False\n",
    "    \n"
   ]
  },
  {
   "cell_type": "code",
   "execution_count": null,
   "metadata": {
    "collapsed": true
   },
   "outputs": [],
   "source": [
    "# let's work "
   ]
  },
  {
   "cell_type": "code",
   "execution_count": null,
   "metadata": {
    "collapsed": true
   },
   "outputs": [],
   "source": [
    "problem_repos = ('The-Picture-of-Dorian-Gray_174',\n",
    "                 'The-Hunchback-of-Notre-Dame_6539', \n",
    "                 'Divine-Comedy-Longfellow-s-Translation-Hell_1001',\n",
    "                 'The-Works-of-Edgar-Allan-Poe-The-Raven-EditionTable-Of-Contents-And-Index-Of-The-Five-Volumes_25525'\n",
    "                )\n"
   ]
  },
  {
   "cell_type": "code",
   "execution_count": null,
   "metadata": {
    "collapsed": false,
    "scrolled": true
   },
   "outputs": [],
   "source": [
    "repos = all_repos[36:][0:]\n",
    "repos = [repo for repo in repos if repo not in problem_repos]\n",
    "repos"
   ]
  },
  {
   "cell_type": "code",
   "execution_count": null,
   "metadata": {
    "collapsed": false
   },
   "outputs": [],
   "source": [
    "template = travis_template()\n",
    "\n",
    "# I wish there would be a way to figure out variables in a template from jinja2...but I don't see a way.\n"
   ]
  },
  {
   "cell_type": "code",
   "execution_count": null,
   "metadata": {
    "collapsed": false
   },
   "outputs": [],
   "source": [
    "results = list(apply_to_repos(commit_travis_api_key_and_update_travis, \n",
    "               kwargs={'template':template,\n",
    "                        'write_updates':True},\n",
    "               repos=repos))\n",
    "results"
   ]
  },
  {
   "cell_type": "code",
   "execution_count": null,
   "metadata": {
    "collapsed": true
   },
   "outputs": [],
   "source": [
    "import requests\n",
    "\n",
    "def url_status(url):\n",
    "    r = requests.get(url, allow_redirects=True, stream=True)\n",
    "    return r.status_code\n",
    "\n",
    "def repo_epub_status(repo):\n",
    "    return url_status(latest_epub(repo))"
   ]
  },
  {
   "cell_type": "code",
   "execution_count": null,
   "metadata": {
    "collapsed": false
   },
   "outputs": [],
   "source": [
    "list(izip(repos, apply_to_repos(repo_epub_status, \n",
    "               repos=repos)))"
   ]
  },
  {
   "cell_type": "code",
   "execution_count": null,
   "metadata": {
    "collapsed": false
   },
   "outputs": [],
   "source": [
    "results = list(izip(all_repos, apply_to_repos(repo_epub_status, \n",
    "               repos=all_repos)))"
   ]
  },
  {
   "cell_type": "code",
   "execution_count": null,
   "metadata": {
    "collapsed": false
   },
   "outputs": [],
   "source": [
    "results"
   ]
  },
  {
   "cell_type": "code",
   "execution_count": null,
   "metadata": {
    "collapsed": false
   },
   "outputs": [],
   "source": [
    "ok_repos = [result[0] for result in results if result[1] == 200 ]\n",
    "not_ok_repos = [result[0] for result in results if result[1] <> 200 ]\n",
    "len(ok_repos), len(not_ok_repos)"
   ]
  },
  {
   "cell_type": "code",
   "execution_count": null,
   "metadata": {
    "collapsed": false
   },
   "outputs": [],
   "source": [
    "for (i, repo) in enumerate(ok_repos):\n",
    "    print (i+1, \"\\t\", repo, \"\\t\", latest_epub(repo))"
   ]
  },
  {
   "cell_type": "code",
   "execution_count": null,
   "metadata": {
    "collapsed": false
   },
   "outputs": [],
   "source": [
    "not_ok_repos"
   ]
  },
  {
   "cell_type": "code",
   "execution_count": null,
   "metadata": {
    "collapsed": true
   },
   "outputs": [],
   "source": []
  }
 ],
 "metadata": {
  "kernelspec": {
   "display_name": "Python 2",
   "language": "python",
   "name": "python2"
  },
  "language_info": {
   "codemirror_mode": {
    "name": "ipython",
    "version": 2
   },
   "file_extension": ".py",
   "mimetype": "text/x-python",
   "name": "python",
   "nbconvert_exporter": "python",
   "pygments_lexer": "ipython2",
   "version": "2.7.11"
  }
 },
 "nbformat": 4,
 "nbformat_minor": 0
}
