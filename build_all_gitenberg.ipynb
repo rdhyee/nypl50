{
 "cells": [
  {
   "cell_type": "code",
   "execution_count": null,
   "metadata": {
    "collapsed": true
   },
   "outputs": [],
   "source": [
    "import requests"
   ]
  },
  {
   "cell_type": "markdown",
   "metadata": {
    "collapsed": true
   },
   "source": [
    "# build database"
   ]
  },
  {
   "cell_type": "code",
   "execution_count": null,
   "metadata": {
    "collapsed": false
   },
   "outputs": [],
   "source": [
    "from __future__ import print_function\n",
    "\n",
    "from itertools import (islice, izip)\n",
    "\n",
    "import arrow\n",
    "import github3\n",
    "import requests\n",
    "\n",
    "from sqlalchemy import or_\n",
    "\n",
    "from github_settings import (ry_username, ry_password,\n",
    "                             username, password,\n",
    "                             token, \n",
    "                             GITENBERG_GITHUB_TOKEN,\n",
    "                             GITENBERG_TRAVIS_ACCESS_TOKEN,\n",
    "                             RDHYEE_GITHUB_TOKEN,\n",
    "                             RDHYEE_TRAVIS_ACCESS_TOKEN, \n",
    "                             RDHYEE_TRAVIS_PROFILE_TOKEN)\n",
    "\n",
    "\n",
    "from second_folio import (apply_to_repos, all_repos)\n",
    "\n",
    "from gitenberg_utils import (GitenbergJob,\n",
    "                             GitenbergTravisJob,\n",
    "                             ForkBuildRepo,\n",
    "                             BuildRepo,\n",
    "                             BuildRepo2,\n",
    "                             MetadataWrite,\n",
    "                             RepoNameFixer,\n",
    "                             repo_md,\n",
    "                             GitenbergJobRunner,\n",
    "                             MetadataWriterRunner,\n",
    "                             RepoJobRunner,\n",
    "                             StatusUpdateRunner)\n",
    "\n",
    "\n",
    "from gitenberg_db import Repo, create_session\n",
    "\n"
   ]
  },
  {
   "cell_type": "code",
   "execution_count": null,
   "metadata": {
    "collapsed": false
   },
   "outputs": [],
   "source": [
    "import logging\n",
    "logging.getLogger().getEffectiveLevel()"
   ]
  },
  {
   "cell_type": "code",
   "execution_count": null,
   "metadata": {
    "collapsed": false
   },
   "outputs": [],
   "source": [
    "l = logging.getLogger()\n",
    "l.setLevel(30)\n",
    "\n",
    "print (logging.getLogger().getEffectiveLevel())"
   ]
  },
  {
   "cell_type": "markdown",
   "metadata": {},
   "source": [
    "# reading in data using pandas"
   ]
  },
  {
   "cell_type": "code",
   "execution_count": null,
   "metadata": {
    "collapsed": false
   },
   "outputs": [],
   "source": [
    "# http://www.datacarpentry.org/python-ecology-lesson/08-working-with-sql\n",
    "\n",
    "import sqlite3\n",
    "from itertools import islice\n",
    "\n",
    "# Create a SQL connection to our SQLite database\n",
    "con = sqlite3.connect(\"gitenberg.db\")\n",
    "\n",
    "cur = con.cursor()\n",
    "\n",
    "# the result of a \"cursor.execute\" can be iterated over by row\n",
    "for row in islice(cur.execute('SELECT * FROM repos;'), 3):\n",
    "    print(row)\n",
    "\n",
    "#Be sure to close the connection.\n",
    "con.close()\n"
   ]
  },
  {
   "cell_type": "code",
   "execution_count": null,
   "metadata": {
    "collapsed": false
   },
   "outputs": [],
   "source": [
    "import pandas as pd\n",
    "from pandas import DataFrame, Series\n",
    "import sqlite3\n",
    "\n",
    "con = sqlite3.connect(\"gitenberg.db\")\n",
    "\n",
    "df = pd.read_sql('SELECT * FROM repos;', con, parse_dates=('updated','metadata_written'))\n",
    "df.head()"
   ]
  },
  {
   "cell_type": "code",
   "execution_count": null,
   "metadata": {
    "collapsed": false
   },
   "outputs": [],
   "source": [
    "df.dtypes"
   ]
  },
  {
   "cell_type": "code",
   "execution_count": null,
   "metadata": {
    "collapsed": true
   },
   "outputs": [],
   "source": [
    "# let's pull out a list of repos that have been built\n",
    "\n"
   ]
  },
  {
   "cell_type": "markdown",
   "metadata": {},
   "source": [
    "# Build a specific book\n",
    "\n",
    "```\n",
    "Mr.-Spaceship_32522\n",
    "```"
   ]
  },
  {
   "cell_type": "code",
   "execution_count": null,
   "metadata": {
    "collapsed": false
   },
   "outputs": [],
   "source": [
    "class MetadataWriterRunner2(MetadataWriterRunner):\n",
    "    \n",
    "    def __init__(self, dbfname, gh_username, gh_password, access_token=None, max_exceptions=None,\n",
    "            repos_list=None):\n",
    "        \n",
    "        super(MetadataWriterRunner2, self).__init__(dbfname, gh_username, gh_password, \n",
    "                access_token, max_exceptions)\n",
    "        self.repos_list = repos_list\n",
    "        \n",
    "    def repos(self, n=None):\n",
    "        if self.repos_list is not None:\n",
    "            return islice(self.session().query(Repo).\n",
    "                          filter(Repo.repo_name.in_(self.repos_list)),\n",
    "                    n)\n",
    "        else:\n",
    "            return []\n",
    "        \n",
    "class RepoJobRunner2(RepoJobRunner):\n",
    "    def __init__(self, dbfname, gh_username, gh_password, access_token=None, max_exceptions=None,\n",
    "            repos_list=None):\n",
    "        \n",
    "        super(RepoJobRunner2, self).__init__(dbfname, gh_username, gh_password, \n",
    "                access_token, max_exceptions)\n",
    "        self.repos_list = repos_list\n",
    "        \n",
    "    def repos(self, n=None):\n",
    "        if self.repos_list is not None:\n",
    "            return islice(self.session().query(Repo).\n",
    "                          filter(Repo.repo_name.in_(self.repos_list)),\n",
    "                    n)\n",
    "        else:\n",
    "            return []\n",
    "    \n",
    "    \n",
    "    "
   ]
  },
  {
   "cell_type": "code",
   "execution_count": null,
   "metadata": {
    "collapsed": false
   },
   "outputs": [],
   "source": [
    "mwr2 = MetadataWriterRunner2(\"gitenberg.db\", username, password, \n",
    "                             repos_list=('At-the-Sign-of-the-Eagle_6218',))"
   ]
  },
  {
   "cell_type": "code",
   "execution_count": null,
   "metadata": {
    "collapsed": false
   },
   "outputs": [],
   "source": [
    "mwr2.run(1)"
   ]
  },
  {
   "cell_type": "code",
   "execution_count": null,
   "metadata": {
    "collapsed": false
   },
   "outputs": [],
   "source": [
    "rjr2 = RepoJobRunner2(\"gitenberg.db\", username, password, GITENBERG_TRAVIS_ACCESS_TOKEN, max_exceptions=20,\n",
    "                    repos_list=('At-the-Sign-of-the-Eagle_6218', \n",
    " ))"
   ]
  },
  {
   "cell_type": "code",
   "execution_count": null,
   "metadata": {
    "collapsed": false
   },
   "outputs": [],
   "source": [
    "rjr2.run(None)"
   ]
  },
  {
   "cell_type": "markdown",
   "metadata": {},
   "source": [
    "# metadatawrite"
   ]
  },
  {
   "cell_type": "code",
   "execution_count": null,
   "metadata": {
    "collapsed": false
   },
   "outputs": [],
   "source": [
    "mwr = MetadataWriterRunner(\"gitenberg.db\", username, password)"
   ]
  },
  {
   "cell_type": "code",
   "execution_count": null,
   "metadata": {
    "collapsed": false
   },
   "outputs": [],
   "source": [
    "mwr.run(1)"
   ]
  },
  {
   "cell_type": "code",
   "execution_count": null,
   "metadata": {
    "collapsed": false
   },
   "outputs": [],
   "source": [
    "mwr.exceptions()"
   ]
  },
  {
   "cell_type": "code",
   "execution_count": null,
   "metadata": {
    "collapsed": true
   },
   "outputs": [],
   "source": [
    "job = BuildRepo2(username=username,\n",
    "                password=password,\n",
    "                repo_name='',\n",
    "                repo_owner='GITenberg',\n",
    "                update_travis_commit_msg='build using gitenberg.travis',\n",
    "                tag_commit_message='build using gitenberg.travis',\n",
    "                access_token=GITENBERG_TRAVIS_ACCESS_TOKEN)"
   ]
  },
  {
   "cell_type": "markdown",
   "metadata": {},
   "source": [
    "# Building books"
   ]
  },
  {
   "cell_type": "code",
   "execution_count": null,
   "metadata": {
    "collapsed": false
   },
   "outputs": [],
   "source": [
    "session = create_session(\"gitenberg.db\")"
   ]
  },
  {
   "cell_type": "code",
   "execution_count": null,
   "metadata": {
    "collapsed": false
   },
   "outputs": [],
   "source": [
    "(session.query(Repo)\n",
    " .filter(or_(Repo.buildable == None, Repo.buildable == True))\n",
    " .filter(Repo.datebuilt == None)\n",
    " .filter(Repo.metadata_written != None)\n",
    ").count()"
   ]
  },
  {
   "cell_type": "code",
   "execution_count": null,
   "metadata": {
    "collapsed": false
   },
   "outputs": [],
   "source": [
    "rjr = RepoJobRunner(\"gitenberg.db\", username, password, GITENBERG_TRAVIS_ACCESS_TOKEN, max_exceptions=20)"
   ]
  },
  {
   "cell_type": "code",
   "execution_count": null,
   "metadata": {
    "collapsed": false
   },
   "outputs": [],
   "source": [
    "rjr.run(50)"
   ]
  },
  {
   "cell_type": "code",
   "execution_count": null,
   "metadata": {
    "collapsed": false
   },
   "outputs": [],
   "source": [
    "list(rjr.repo_names(1))"
   ]
  },
  {
   "cell_type": "code",
   "execution_count": null,
   "metadata": {
    "collapsed": false
   },
   "outputs": [],
   "source": [
    "\n",
    "def delete_repo_token(repo_name):\n",
    "    gtj = GitenbergTravisJob(username, password, repo_name, 'GITenberg',\n",
    "                   update_travis_commit_msg='build using gitenberg.travis',\n",
    "                    tag_commit_message='build using gitenberg.travis',\n",
    "                    access_token=GITENBERG_TRAVIS_ACCESS_TOKEN)\n",
    "\n",
    "    gtj.delete_repo_token()"
   ]
  },
  {
   "cell_type": "code",
   "execution_count": null,
   "metadata": {
    "collapsed": false
   },
   "outputs": [],
   "source": [
    "rjr.exceptions()"
   ]
  },
  {
   "cell_type": "code",
   "execution_count": null,
   "metadata": {
    "collapsed": false
   },
   "outputs": [],
   "source": [
    "rjr.gh.ratelimit_remaining"
   ]
  },
  {
   "cell_type": "code",
   "execution_count": null,
   "metadata": {
    "collapsed": false
   },
   "outputs": [],
   "source": [
    "dt = arrow.get(rjr.gh.rate_limit()['rate']['reset']) - arrow.now()\n",
    "rjr.countdown(dt.seconds)"
   ]
  },
  {
   "cell_type": "markdown",
   "metadata": {},
   "source": [
    "# StatusUpdater"
   ]
  },
  {
   "cell_type": "code",
   "execution_count": null,
   "metadata": {
    "collapsed": true
   },
   "outputs": [],
   "source": [
    "class StatusUpdateRunner2(StatusUpdateRunner):\n",
    "    def __init__(self, dbfname, gh_username, gh_password, access_token=None, max_exceptions=None,\n",
    "            repos_list=None):\n",
    "        \n",
    "        super(StatusUpdateRunner2, self).__init__(dbfname, gh_username, gh_password, \n",
    "                access_token, max_exceptions)\n",
    "        self.repos_list = repos_list\n",
    "        \n",
    "    def repos(self, n=None):\n",
    "        if self.repos_list is not None:\n",
    "            return islice(self.session().query(Repo).\n",
    "                          filter(Repo.repo_name.in_(self.repos_list)),\n",
    "                    n)\n",
    "        else:\n",
    "            return []"
   ]
  },
  {
   "cell_type": "code",
   "execution_count": null,
   "metadata": {
    "collapsed": false
   },
   "outputs": [],
   "source": [
    "(session.query(Repo)\n",
    " .filter(Repo.datebuilt != None)\n",
    " .filter(Repo.last_build_id == None)\n",
    ").count()"
   ]
  },
  {
   "cell_type": "code",
   "execution_count": null,
   "metadata": {
    "collapsed": true
   },
   "outputs": [],
   "source": [
    "sur = StatusUpdateRunner(\"gitenberg.db\", username, password, GITENBERG_TRAVIS_ACCESS_TOKEN)"
   ]
  },
  {
   "cell_type": "code",
   "execution_count": null,
   "metadata": {
    "collapsed": false
   },
   "outputs": [],
   "source": [
    "sur.run(None)"
   ]
  },
  {
   "cell_type": "code",
   "execution_count": null,
   "metadata": {
    "collapsed": false
   },
   "outputs": [],
   "source": [
    "sur.gh.ratelimit_remaining"
   ]
  },
  {
   "cell_type": "code",
   "execution_count": null,
   "metadata": {
    "collapsed": false
   },
   "outputs": [],
   "source": [
    "dt = arrow.get(sur.gh.rate_limit()['rate']['reset']) - arrow.now()\n",
    "sur.countdown(dt.seconds)"
   ]
  },
  {
   "cell_type": "code",
   "execution_count": null,
   "metadata": {
    "collapsed": false
   },
   "outputs": [],
   "source": [
    "sur.exceptions()"
   ]
  },
  {
   "cell_type": "markdown",
   "metadata": {},
   "source": [
    "# overall stats"
   ]
  },
  {
   "cell_type": "code",
   "execution_count": null,
   "metadata": {
    "collapsed": false
   },
   "outputs": [],
   "source": [
    "(session.query(Repo)\n",
    "  .filter(Repo.ebooks_in_release_count == 3)\n",
    ").count()"
   ]
  },
  {
   "cell_type": "code",
   "execution_count": null,
   "metadata": {
    "collapsed": false
   },
   "outputs": [],
   "source": [
    "session.query(Repo.ebooks_in_release_count).distinct().all()\n"
   ]
  },
  {
   "cell_type": "markdown",
   "metadata": {},
   "source": [
    "```sql\n",
    "SELECT ebooks_in_release_count, count (ebooks_in_release_count)\n",
    "  FROM Repos\n",
    " GROUP BY ebooks_in_release_count\n",
    "```"
   ]
  },
  {
   "cell_type": "code",
   "execution_count": null,
   "metadata": {
    "collapsed": false
   },
   "outputs": [],
   "source": [
    "# how many built\n",
    "(session.query(Repo)\n",
    " .filter(Repo.datebuilt != None).count())"
   ]
  },
  {
   "cell_type": "code",
   "execution_count": null,
   "metadata": {
    "collapsed": false
   },
   "outputs": [],
   "source": [
    "# how many for which we know lastbuilt status\n",
    "\n",
    "(session.query(Repo)\n",
    " .filter(Repo.last_build_state != None).count())"
   ]
  },
  {
   "cell_type": "code",
   "execution_count": null,
   "metadata": {
    "collapsed": false
   },
   "outputs": [],
   "source": [
    "# http://stackoverflow.com/a/4086229/7782\n",
    "\n",
    "from sqlalchemy import func\n",
    "(session.query(Repo.ebooks_in_release_count, func.count(Repo.ebooks_in_release_count))\n",
    "   .group_by(Repo.ebooks_in_release_count).all())"
   ]
  },
  {
   "cell_type": "code",
   "execution_count": null,
   "metadata": {
    "collapsed": false
   },
   "outputs": [],
   "source": [
    "from sqlalchemy import func\n",
    "\n",
    "build_states = (session.query(Repo.last_build_state, func.count(Repo.last_build_state))\n",
    "   .group_by(Repo.last_build_state).all())\n",
    "build_states"
   ]
  },
  {
   "cell_type": "code",
   "execution_count": null,
   "metadata": {
    "collapsed": false
   },
   "outputs": [],
   "source": [
    "__builtin__.sum([v for (k,v) in build_states])"
   ]
  },
  {
   "cell_type": "code",
   "execution_count": null,
   "metadata": {
    "collapsed": false
   },
   "outputs": [],
   "source": [
    "session.query(Repo).distinct(Repo.ebooks_in_release_count).count()"
   ]
  },
  {
   "cell_type": "code",
   "execution_count": null,
   "metadata": {
    "collapsed": false
   },
   "outputs": [],
   "source": [
    "sur.gh.ratelimit_remaining"
   ]
  },
  {
   "cell_type": "code",
   "execution_count": null,
   "metadata": {
    "collapsed": false
   },
   "outputs": [],
   "source": [
    "dt = arrow.get(sur.gh.rate_limit()['rate']['reset']) - arrow.now()\n",
    "sur.countdown(dt.seconds)"
   ]
  },
  {
   "cell_type": "code",
   "execution_count": null,
   "metadata": {
    "collapsed": false
   },
   "outputs": [],
   "source": [
    "import json\n",
    "import unicodecsv as csv\n",
    "from StringIO import StringIO\n",
    "\n",
    "# http://stackoverflow.com/a/11884806\n",
    "def as_dict(repo):\n",
    "    return {c.name: getattr(repo, c.name) for c in repo.__table__.columns}\n",
    "\n",
    "# return Repos that have a known build state\n",
    "results = (session.query(Repo)\n",
    " .filter(Repo.last_build_state != None))\n",
    "\n",
    "# repos_file = StringIO()\n",
    "with open(\"built_repos.tsv\", \"wb\") as repos_file:\n",
    "\n",
    "    headers = [c.name for c in Repo.__table__.columns]\n",
    "    \n",
    "    repo_csv = csv.DictWriter(repos_file, headers, encoding='utf-8', delimiter='\\t')\n",
    "\n",
    "    repo_csv.writeheader()\n",
    "    for result in islice(results,None):\n",
    "        repo_csv.writerow(as_dict(result))\n",
    "    "
   ]
  },
  {
   "cell_type": "code",
   "execution_count": null,
   "metadata": {
    "collapsed": false
   },
   "outputs": [],
   "source": [
    "!wc built_repos.tsv"
   ]
  },
  {
   "cell_type": "markdown",
   "metadata": {},
   "source": [
    "# debugging errors / failures"
   ]
  },
  {
   "cell_type": "code",
   "execution_count": null,
   "metadata": {
    "collapsed": false
   },
   "outputs": [],
   "source": [
    "failed_builds = (session.query(Repo)\n",
    " .filter(Repo.last_build_state ==  'failed'))\n",
    "\n",
    "failed_builds.count()"
   ]
  },
  {
   "cell_type": "code",
   "execution_count": null,
   "metadata": {
    "collapsed": false
   },
   "outputs": [],
   "source": [
    "for (i, repo) in enumerate(islice(failed_builds,None)):\n",
    "    url = url = \"https://travis-ci.org/GITenberg/{repo_name}/builds/{last_build_id}\".format(repo_name=repo.repo_name,\n",
    "                        last_build_id=repo.last_build_id)\n",
    "    print (url)"
   ]
  },
  {
   "cell_type": "markdown",
   "metadata": {},
   "source": [
    "let's look at https://travis-ci.org/GITenberg/American-Hand-Book-of-the-Daguerreotype_167/builds/150209405\n",
    "\n",
    ">  cannot read from /home/travis/build/GITenberg/American-Hand-Book-of-the-Daguerreotype_167/book.epub\n",
    "\n",
    "The case of the image file names don't match -- case sensitivity.\n",
    "\n",
    "For https://travis-ci.org/GITenberg/Literary-Blunders--A-Chapter-in-the--History-of-Human-Error-_371/builds/150224012:\n",
    "\n",
    "> ebook-convert 371.txt book.epub --title \"Literary Blunders: A Chapter in the \"History of Human Error\"\" --authors \"\" ' returned non-zero exit status 1\n",
    "\n",
    "A problem with how quotes are handled in invocation of `ebook-convert`"
   ]
  },
  {
   "cell_type": "markdown",
   "metadata": {},
   "source": [
    "relationship among build, job, log? \n",
    "\n",
    "https://travis-ci.org/GITenberg/American-Hand-Book-of-the-Daguerreotype_167/builds/150209405\n"
   ]
  },
  {
   "cell_type": "code",
   "execution_count": null,
   "metadata": {
    "collapsed": false
   },
   "outputs": [],
   "source": [
    "# \n",
    "\n",
    "repo_name = \"American-Hand-Book-of-the-Daguerreotype_167\"\n",
    "\n",
    "gtj = GitenbergTravisJob(username, password, repo_name, 'GITenberg',\n",
    "        update_travis_commit_msg='build using gitenberg.travis',\n",
    "        tag_commit_message='build using gitenberg.travis',\n",
    "        access_token=GITENBERG_TRAVIS_ACCESS_TOKEN)\n",
    "\n",
    "gtj.travis_repo"
   ]
  },
  {
   "cell_type": "markdown",
   "metadata": {},
   "source": [
    "How to read log files from travis?  revisit [menegazzo/travispy: Travis CI API for Python](https://github.com/menegazzo/travispy)"
   ]
  },
  {
   "cell_type": "code",
   "execution_count": null,
   "metadata": {
    "collapsed": false
   },
   "outputs": [],
   "source": [
    "# How to read log files from travis\n",
    "\n",
    "b = gtj.travis.build(gtj.travis_repo.last_build_id)\n",
    "j = b.jobs[-1]\n",
    "j.id"
   ]
  },
  {
   "cell_type": "code",
   "execution_count": null,
   "metadata": {
    "collapsed": false
   },
   "outputs": [],
   "source": [
    "j.log.body[:100]"
   ]
  },
  {
   "cell_type": "markdown",
   "metadata": {},
   "source": [
    "## update repos with started status"
   ]
  },
  {
   "cell_type": "code",
   "execution_count": null,
   "metadata": {
    "collapsed": false
   },
   "outputs": [],
   "source": [
    "(session.query(Repo)\n",
    " .filter(Repo.last_build_state == 'started')\n",
    ").count()"
   ]
  },
  {
   "cell_type": "code",
   "execution_count": null,
   "metadata": {
    "collapsed": true
   },
   "outputs": [],
   "source": [
    "class StatusUpdateRunnerForStartedJobs(StatusUpdateRunner):\n",
    "\n",
    "    def repos(self, n):\n",
    "        return islice((self.session().query(Repo)\n",
    "                .filter(Repo.last_build_state == 'started')\n",
    "         ),n)"
   ]
  },
  {
   "cell_type": "code",
   "execution_count": null,
   "metadata": {
    "collapsed": true
   },
   "outputs": [],
   "source": [
    "sur2 = StatusUpdateRunnerForStartedJobs(\"gitenberg.db\", username, password, GITENBERG_TRAVIS_ACCESS_TOKEN)"
   ]
  },
  {
   "cell_type": "code",
   "execution_count": null,
   "metadata": {
    "collapsed": false
   },
   "outputs": [],
   "source": [
    "sur2.run(None)"
   ]
  },
  {
   "cell_type": "markdown",
   "metadata": {},
   "source": [
    "# rerunning jobs that have error status"
   ]
  },
  {
   "cell_type": "code",
   "execution_count": null,
   "metadata": {
    "collapsed": true
   },
   "outputs": [],
   "source": [
    "class ErroredRepoJobRunner(RepoJobRunner):\n",
    "        \n",
    "    def repos(self, n):\n",
    "        return islice((self.session().query(Repo)\n",
    "                .filter(Repo.last_build_state == 'errored')\n",
    "         ),n)\n",
    "    "
   ]
  },
  {
   "cell_type": "code",
   "execution_count": null,
   "metadata": {
    "collapsed": true
   },
   "outputs": [],
   "source": [
    "erjr = ErroredRepoJobRunner(\"gitenberg.db\", username, password, GITENBERG_TRAVIS_ACCESS_TOKEN, max_exceptions=20)"
   ]
  },
  {
   "cell_type": "code",
   "execution_count": null,
   "metadata": {
    "collapsed": false
   },
   "outputs": [],
   "source": [
    "erjr.run(10)"
   ]
  },
  {
   "cell_type": "code",
   "execution_count": null,
   "metadata": {
    "collapsed": false
   },
   "outputs": [],
   "source": [
    "erjr.gh.ratelimit_remaining"
   ]
  },
  {
   "cell_type": "code",
   "execution_count": null,
   "metadata": {
    "collapsed": false
   },
   "outputs": [],
   "source": [
    "dt = arrow.get(erjr.gh.rate_limit()['rate']['reset']) - arrow.now()\n",
    "sur.countdown(dt.seconds)"
   ]
  },
  {
   "cell_type": "markdown",
   "metadata": {},
   "source": [
    "# Misc"
   ]
  },
  {
   "cell_type": "code",
   "execution_count": null,
   "metadata": {
    "collapsed": true
   },
   "outputs": [],
   "source": [
    "for repo in session.query(Repo).filter_by(ebooks_in_release_count = 3):\n",
    "    repo.has_metadata = True\n",
    "    repo.has_source = True\n",
    "    repo.buildable = True\n",
    "    repo.updated = arrow.now().isoformat()\n",
    "\n",
    "\n",
    "session.commit()"
   ]
  },
  {
   "cell_type": "code",
   "execution_count": null,
   "metadata": {
    "collapsed": false
   },
   "outputs": [],
   "source": [
    "import gitenberg\n",
    "\n",
    "b = gitenberg.Book(1)\n",
    "b.parse_book_metadata()\n",
    "b.meta.metadata \n"
   ]
  },
  {
   "cell_type": "code",
   "execution_count": null,
   "metadata": {
    "collapsed": false
   },
   "outputs": [],
   "source": [
    "import yaml\n",
    "md = repo_md(1)\n",
    "print (yaml.safe_dump(md,default_flow_style=False,\n",
    "                                  allow_unicode=True))"
   ]
  },
  {
   "cell_type": "code",
   "execution_count": null,
   "metadata": {
    "collapsed": false
   },
   "outputs": [],
   "source": [
    "1/0"
   ]
  },
  {
   "cell_type": "code",
   "execution_count": null,
   "metadata": {
    "collapsed": true
   },
   "outputs": [],
   "source": [
    "def status_for_repo(repo_name):\n",
    "    rs = GitenbergTravisJob(username=username, password=password, repo_name=repo_name,\n",
    "              repo_owner='GITenberg', \n",
    "              update_travis_commit_msg='check status',\n",
    "              tag_commit_message='check status',\n",
    "              access_token=GITENBERG_TRAVIS_ACCESS_TOKEN)\n",
    "    return rs.status()\n",
    "\n",
    "results_iter = apply_to_repos(status_for_repo, repos=all_repos)"
   ]
  },
  {
   "cell_type": "code",
   "execution_count": null,
   "metadata": {
    "collapsed": false
   },
   "outputs": [],
   "source": [
    "results = []\n",
    "\n",
    "for (i,result) in enumerate(results_iter):\n",
    "    \n",
    "    results.append(result)\n",
    "    if not isinstance(result, Exception):\n",
    "        print (\"\\r{}: {}\".format(i, result['repo_name']), end=\"\")\n",
    "    else:\n",
    "        print (\"\\r{}: {}\".format(i, str(result)), end=\"\")"
   ]
  },
  {
   "cell_type": "code",
   "execution_count": null,
   "metadata": {
    "collapsed": false
   },
   "outputs": [],
   "source": [
    "[(i, result) for (i, result) in enumerate(results) if isinstance(result, Exception)]"
   ]
  },
  {
   "cell_type": "code",
   "execution_count": null,
   "metadata": {
    "collapsed": false
   },
   "outputs": [],
   "source": [
    "[result.get('repo_name') for result in results if result.get('ebooks_in_release_count') != 3]"
   ]
  },
  {
   "cell_type": "code",
   "execution_count": null,
   "metadata": {
    "collapsed": false
   },
   "outputs": [],
   "source": [
    "# update the database based on result\n",
    "\n",
    "result = results[0]\n",
    "result"
   ]
  },
  {
   "cell_type": "code",
   "execution_count": null,
   "metadata": {
    "collapsed": true
   },
   "outputs": [],
   "source": [
    "for result in results:\n",
    "    repo = session.query(Repo).filter_by(repo_name=result['repo_name']).first()\n",
    "    repo.updated = arrow.now().isoformat()\n",
    "    repo.datebuilt = result['last_build_started_at']\n",
    "    repo.version = result['version']\n",
    "    repo.ebooks_in_release_count = result['ebooks_in_release_count']\n",
    "    repo.last_build_id = result['last_build_id']\n",
    "    repo.last_build_state = result['last_build_state']\n",
    "    \n",
    "session.commit()\n",
    "    "
   ]
  },
  {
   "cell_type": "code",
   "execution_count": null,
   "metadata": {
    "collapsed": false
   },
   "outputs": [],
   "source": [
    "# building the rest\n",
    "\n",
    "session.query(Repo).filter(Repo.datebuilt != None).count()"
   ]
  },
  {
   "cell_type": "code",
   "execution_count": null,
   "metadata": {
    "collapsed": false
   },
   "outputs": [],
   "source": [
    "repo_names = [repo.repo_name for repo in \n",
    "islice(session.query(Repo).filter(Repo.datebuilt == None).order_by(Repo.gutenberg_id.asc()),5)]"
   ]
  },
  {
   "cell_type": "code",
   "execution_count": null,
   "metadata": {
    "collapsed": true
   },
   "outputs": [],
   "source": [
    "from collections import OrderedDict\n",
    "from itertools import islice\n",
    "\n",
    "results = OrderedDict()"
   ]
  },
  {
   "cell_type": "code",
   "execution_count": null,
   "metadata": {
    "collapsed": true
   },
   "outputs": [],
   "source": [
    "repos_iter = iter(repo_names)"
   ]
  },
  {
   "cell_type": "code",
   "execution_count": null,
   "metadata": {
    "collapsed": true
   },
   "outputs": [],
   "source": [
    "def build_repos(repo_names, n=None):\n",
    "    for (i, repo_name) in enumerate(islice(repo_names, n)):\n",
    "        try:\n",
    "            bj = BuildRepo2(username=username, password=password, repo_name=repo_name,\n",
    "                  repo_owner='GITenberg', \n",
    "                  update_travis_commit_msg='build using gitenberg.travis',\n",
    "                  tag_commit_message='build using gitenberg.travis',\n",
    "                  access_token=GITENBERG_TRAVIS_ACCESS_TOKEN)\n",
    "            results[repo_name] = (bj, bj.run())\n",
    "            \n",
    "            # just mark as started\n",
    "            repo = session.query(Repo).filter_by(repo_name=result['repo_name']).first()\n",
    "            repo.updated = arrow.now().isoformat()\n",
    "            repo.datebuilt = arrow.now().isoformat()\n",
    "            \n",
    "        except Exception, e:\n",
    "            results[repo_name] = e\n",
    "        \n",
    "        print (\"\\r{}: {}\".format(i, results[repo_name]), end=\"\")"
   ]
  },
  {
   "cell_type": "code",
   "execution_count": null,
   "metadata": {
    "collapsed": false
   },
   "outputs": [],
   "source": [
    "build_repos(repos_iter, 1)"
   ]
  },
  {
   "cell_type": "markdown",
   "metadata": {},
   "source": [
    "wondering if not add_all -- any add or update function?  [python - SQLAlchemy insert or update example - Stack Overflow](http://stackoverflow.com/questions/7889183/sqlalchemy-insert-or-update-example)"
   ]
  },
  {
   "cell_type": "code",
   "execution_count": null,
   "metadata": {
    "collapsed": true
   },
   "outputs": [],
   "source": [
    "repo1.version = '0.0.5'"
   ]
  },
  {
   "cell_type": "code",
   "execution_count": null,
   "metadata": {
    "collapsed": false
   },
   "outputs": [],
   "source": [
    "session.dirty"
   ]
  },
  {
   "cell_type": "code",
   "execution_count": null,
   "metadata": {
    "collapsed": false
   },
   "outputs": [],
   "source": [
    "session.new"
   ]
  },
  {
   "cell_type": "code",
   "execution_count": null,
   "metadata": {
    "collapsed": false
   },
   "outputs": [],
   "source": [
    "our_repo = session.query(Repo).filter_by(repo_name='Repo1').first() # doctest:+NORMALIZE_WHITESPACE\n",
    "our_repo\n"
   ]
  },
  {
   "cell_type": "markdown",
   "metadata": {},
   "source": [
    "# personal access tokens"
   ]
  },
  {
   "cell_type": "code",
   "execution_count": null,
   "metadata": {
    "collapsed": true
   },
   "outputs": [],
   "source": [
    "gh = github3.login(ry_username, password=ry_password)"
   ]
  },
  {
   "cell_type": "code",
   "execution_count": null,
   "metadata": {
    "collapsed": false
   },
   "outputs": [],
   "source": [
    "from itertools import islice\n",
    "\n",
    "\n",
    "auths = [{'name': auth.name, 'created_at':auth.created_at, 'updated_at':auth.updated_at} \n",
    "         for auth in islice(gh.iter_authorizations(),None)]\n"
   ]
  },
  {
   "cell_type": "code",
   "execution_count": null,
   "metadata": {
    "collapsed": false
   },
   "outputs": [],
   "source": [
    "sorted(auths, key=lambda r: r['created_at'])"
   ]
  },
  {
   "cell_type": "code",
   "execution_count": null,
   "metadata": {
    "collapsed": true
   },
   "outputs": [],
   "source": []
  }
 ],
 "metadata": {
  "anaconda-cloud": {},
  "kernelspec": {
   "display_name": "Python [default]",
   "language": "python",
   "name": "python2"
  },
  "language_info": {
   "codemirror_mode": {
    "name": "ipython",
    "version": 2
   },
   "file_extension": ".py",
   "mimetype": "text/x-python",
   "name": "python",
   "nbconvert_exporter": "python",
   "pygments_lexer": "ipython2",
   "version": "2.7.12"
  }
 },
 "nbformat": 4,
 "nbformat_minor": 0
}
