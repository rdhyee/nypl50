{
 "cells": [
  {
   "cell_type": "markdown",
   "metadata": {
    "collapsed": true
   },
   "source": [
    "# build database"
   ]
  },
  {
   "cell_type": "code",
   "execution_count": null,
   "metadata": {
    "collapsed": false
   },
   "outputs": [],
   "source": [
    "from __future__ import print_function\n",
    "\n",
    "from itertools import (islice, izip)\n",
    "\n",
    "import arrow\n",
    "import github3\n",
    "import requests\n",
    "\n",
    "from sqlalchemy import or_\n",
    "from github_settings import (ry_username, ry_password,\n",
    "                             username, password,\n",
    "                             token, \n",
    "                             GITENBERG_GITHUB_TOKEN,\n",
    "                             GITENBERG_TRAVIS_ACCESS_TOKEN,\n",
    "                             RDHYEE_GITHUB_TOKEN,\n",
    "                             RDHYEE_TRAVIS_ACCESS_TOKEN, \n",
    "                             RDHYEE_TRAVIS_PROFILE_TOKEN)\n",
    "\n",
    "\n",
    "from second_folio import (apply_to_repos, all_repos)\n",
    "\n",
    "from gitenberg_utils import (GitenbergJob,\n",
    "                             GitenbergTravisJob,\n",
    "                             ForkBuildRepo,\n",
    "                             BuildRepo,\n",
    "                             BuildRepo2,\n",
    "                             MetadataWrite,\n",
    "                             RepoNameFixer,\n",
    "                             repo_md,\n",
    "                             GitenbergJobRunner,\n",
    "                             MetadataWriterRunner,\n",
    "                             RepoJobRunner,\n",
    "                             StatusUpdateRunner)\n",
    "\n",
    "from gitenberg_db import Repo, create_session"
   ]
  },
  {
   "cell_type": "markdown",
   "metadata": {},
   "source": [
    "# metadatawrite"
   ]
  },
  {
   "cell_type": "code",
   "execution_count": null,
   "metadata": {
    "collapsed": false
   },
   "outputs": [],
   "source": [
    "mwr = MetadataWriterRunner(\"gitenberg.db\", username, password)"
   ]
  },
  {
   "cell_type": "code",
   "execution_count": null,
   "metadata": {
    "collapsed": false
   },
   "outputs": [],
   "source": [
    "mwr.run(1)"
   ]
  },
  {
   "cell_type": "code",
   "execution_count": null,
   "metadata": {
    "collapsed": false
   },
   "outputs": [],
   "source": [
    "mwr.exceptions()"
   ]
  },
  {
   "cell_type": "markdown",
   "metadata": {},
   "source": [
    "# Building books"
   ]
  },
  {
   "cell_type": "code",
   "execution_count": null,
   "metadata": {
    "collapsed": true
   },
   "outputs": [],
   "source": [
    "session = create_session(\"gitenberg.db\")"
   ]
  },
  {
   "cell_type": "code",
   "execution_count": null,
   "metadata": {
    "collapsed": false
   },
   "outputs": [],
   "source": [
    "(session.query(Repo)\n",
    " .filter(or_(Repo.buildable == None, Repo.buildable == True))\n",
    " .filter(Repo.datebuilt == None)\n",
    " .filter(Repo.metadata_written != None)\n",
    ").count()"
   ]
  },
  {
   "cell_type": "code",
   "execution_count": null,
   "metadata": {
    "collapsed": false
   },
   "outputs": [],
   "source": [
    "rjr = RepoJobRunner(\"gitenberg.db\", username, password, GITENBERG_TRAVIS_ACCESS_TOKEN)"
   ]
  },
  {
   "cell_type": "code",
   "execution_count": null,
   "metadata": {
    "collapsed": false
   },
   "outputs": [],
   "source": [
    "rjr.run(10)"
   ]
  },
  {
   "cell_type": "code",
   "execution_count": null,
   "metadata": {
    "collapsed": false
   },
   "outputs": [],
   "source": [
    "rjr.exceptions()"
   ]
  },
  {
   "cell_type": "code",
   "execution_count": null,
   "metadata": {
    "collapsed": false
   },
   "outputs": [],
   "source": [
    "rjr.gh.ratelimit_remaining"
   ]
  },
  {
   "cell_type": "code",
   "execution_count": null,
   "metadata": {
    "collapsed": false
   },
   "outputs": [],
   "source": [
    "dt = arrow.get(rjr.gh.rate_limit()['rate']['reset']) - arrow.now()\n",
    "rjr.countdown(dt.seconds)"
   ]
  },
  {
   "cell_type": "markdown",
   "metadata": {},
   "source": [
    "# StatusUpdater"
   ]
  },
  {
   "cell_type": "code",
   "execution_count": null,
   "metadata": {
    "collapsed": false
   },
   "outputs": [],
   "source": [
    "(session.query(Repo)\n",
    " .filter(Repo.datebuilt != None)\n",
    " .filter(Repo.last_build_id == None)\n",
    ").count()"
   ]
  },
  {
   "cell_type": "code",
   "execution_count": null,
   "metadata": {
    "collapsed": false
   },
   "outputs": [],
   "source": [
    "sur = StatusUpdateRunner(\"gitenberg.db\", username, password, GITENBERG_TRAVIS_ACCESS_TOKEN)"
   ]
  },
  {
   "cell_type": "code",
   "execution_count": null,
   "metadata": {
    "collapsed": false
   },
   "outputs": [],
   "source": [
    "sur.exceptions()"
   ]
  },
  {
   "cell_type": "markdown",
   "metadata": {},
   "source": [
    "# overall stats"
   ]
  },
  {
   "cell_type": "code",
   "execution_count": null,
   "metadata": {
    "collapsed": false
   },
   "outputs": [],
   "source": [
    "(session.query(Repo)\n",
    "  .filter(Repo.ebooks_in_release_count == 3)\n",
    ").count()"
   ]
  },
  {
   "cell_type": "code",
   "execution_count": null,
   "metadata": {
    "collapsed": false
   },
   "outputs": [],
   "source": [
    "session.query(Repo.ebooks_in_release_count).distinct().all()\n"
   ]
  },
  {
   "cell_type": "markdown",
   "metadata": {},
   "source": [
    "```sql\n",
    "SELECT ebooks_in_release_count, count (ebooks_in_release_count)\n",
    "  FROM Repos\n",
    " GROUP BY ebooks_in_release_count\n",
    "```"
   ]
  },
  {
   "cell_type": "code",
   "execution_count": null,
   "metadata": {
    "collapsed": false
   },
   "outputs": [],
   "source": [
    "# http://stackoverflow.com/a/4086229/7782\n",
    "\n",
    "from sqlalchemy import func\n",
    "(session.query(Repo.ebooks_in_release_count, func.count(Repo.ebooks_in_release_count))\n",
    "   .group_by(Repo.ebooks_in_release_count).all())"
   ]
  },
  {
   "cell_type": "code",
   "execution_count": null,
   "metadata": {
    "collapsed": false
   },
   "outputs": [],
   "source": [
    "session.query(Repo).distinct(Repo.ebooks_in_release_count).count()"
   ]
  },
  {
   "cell_type": "code",
   "execution_count": null,
   "metadata": {
    "collapsed": false
   },
   "outputs": [],
   "source": [
    "sur.gh.ratelimit_remaining"
   ]
  },
  {
   "cell_type": "code",
   "execution_count": null,
   "metadata": {
    "collapsed": false
   },
   "outputs": [],
   "source": [
    "dt = arrow.get(sur.gh.rate_limit()['rate']['reset']) - arrow.now()\n",
    "sur.countdown(dt.seconds)"
   ]
  },
  {
   "cell_type": "markdown",
   "metadata": {},
   "source": [
    "# Misc"
   ]
  },
  {
   "cell_type": "code",
   "execution_count": null,
   "metadata": {
    "collapsed": true
   },
   "outputs": [],
   "source": [
    "for repo in session.query(Repo).filter_by(ebooks_in_release_count = 3):\n",
    "    repo.has_metadata = True\n",
    "    repo.has_source = True\n",
    "    repo.buildable = True\n",
    "    repo.updated = arrow.now().isoformat()\n",
    "\n",
    "\n",
    "session.commit()"
   ]
  },
  {
   "cell_type": "code",
   "execution_count": null,
   "metadata": {
    "collapsed": false
   },
   "outputs": [],
   "source": [
    "import gitenberg\n",
    "\n",
    "b = gitenberg.Book(1)\n",
    "b.parse_book_metadata()\n",
    "b.meta.metadata \n"
   ]
  },
  {
   "cell_type": "code",
   "execution_count": null,
   "metadata": {
    "collapsed": false
   },
   "outputs": [],
   "source": [
    "import yaml\n",
    "md = repo_md(1)\n",
    "print (yaml.safe_dump(md,default_flow_style=False,\n",
    "                                  allow_unicode=True))"
   ]
  },
  {
   "cell_type": "code",
   "execution_count": null,
   "metadata": {
    "collapsed": false
   },
   "outputs": [],
   "source": [
    "1/0"
   ]
  },
  {
   "cell_type": "code",
   "execution_count": null,
   "metadata": {
    "collapsed": true
   },
   "outputs": [],
   "source": [
    "def status_for_repo(repo_name):\n",
    "    rs = GitenbergTravisJob(username=username, password=password, repo_name=repo_name,\n",
    "              repo_owner='GITenberg', \n",
    "              update_travis_commit_msg='check status',\n",
    "              tag_commit_message='check status',\n",
    "              access_token=GITENBERG_TRAVIS_ACCESS_TOKEN)\n",
    "    return rs.status()\n",
    "\n",
    "results_iter = apply_to_repos(status_for_repo, repos=all_repos)"
   ]
  },
  {
   "cell_type": "code",
   "execution_count": null,
   "metadata": {
    "collapsed": false
   },
   "outputs": [],
   "source": [
    "results = []\n",
    "\n",
    "for (i,result) in enumerate(results_iter):\n",
    "    \n",
    "    results.append(result)\n",
    "    if not isinstance(result, Exception):\n",
    "        print (\"\\r{}: {}\".format(i, result['repo_name']), end=\"\")\n",
    "    else:\n",
    "        print (\"\\r{}: {}\".format(i, str(result)), end=\"\")"
   ]
  },
  {
   "cell_type": "code",
   "execution_count": null,
   "metadata": {
    "collapsed": false
   },
   "outputs": [],
   "source": [
    "[(i, result) for (i, result) in enumerate(results) if isinstance(result, Exception)]"
   ]
  },
  {
   "cell_type": "code",
   "execution_count": null,
   "metadata": {
    "collapsed": false
   },
   "outputs": [],
   "source": [
    "[result.get('repo_name') for result in results if result.get('ebooks_in_release_count') != 3]"
   ]
  },
  {
   "cell_type": "code",
   "execution_count": null,
   "metadata": {
    "collapsed": false
   },
   "outputs": [],
   "source": [
    "# update the database based on result\n",
    "\n",
    "result = results[0]\n",
    "result"
   ]
  },
  {
   "cell_type": "code",
   "execution_count": null,
   "metadata": {
    "collapsed": true
   },
   "outputs": [],
   "source": [
    "for result in results:\n",
    "    repo = session.query(Repo).filter_by(repo_name=result['repo_name']).first()\n",
    "    repo.updated = arrow.now().isoformat()\n",
    "    repo.datebuilt = result['last_build_started_at']\n",
    "    repo.version = result['version']\n",
    "    repo.ebooks_in_release_count = result['ebooks_in_release_count']\n",
    "    repo.last_build_id = result['last_build_id']\n",
    "    repo.last_build_state = result['last_build_state']\n",
    "    \n",
    "session.commit()\n",
    "    "
   ]
  },
  {
   "cell_type": "code",
   "execution_count": null,
   "metadata": {
    "collapsed": false
   },
   "outputs": [],
   "source": [
    "# building the rest\n",
    "\n",
    "session.query(Repo).filter(Repo.datebuilt != None).count()"
   ]
  },
  {
   "cell_type": "code",
   "execution_count": null,
   "metadata": {
    "collapsed": false
   },
   "outputs": [],
   "source": [
    "repo_names = [repo.repo_name for repo in \n",
    "islice(session.query(Repo).filter(Repo.datebuilt == None).order_by(Repo.gutenberg_id.asc()),5)]"
   ]
  },
  {
   "cell_type": "code",
   "execution_count": null,
   "metadata": {
    "collapsed": true
   },
   "outputs": [],
   "source": [
    "from collections import OrderedDict\n",
    "from itertools import islice\n",
    "\n",
    "results = OrderedDict()"
   ]
  },
  {
   "cell_type": "code",
   "execution_count": null,
   "metadata": {
    "collapsed": true
   },
   "outputs": [],
   "source": [
    "repos_iter = iter(repo_names)"
   ]
  },
  {
   "cell_type": "code",
   "execution_count": null,
   "metadata": {
    "collapsed": true
   },
   "outputs": [],
   "source": [
    "def build_repos(repo_names, n=None):\n",
    "    for (i, repo_name) in enumerate(islice(repo_names, n)):\n",
    "        try:\n",
    "            bj = BuildRepo2(username=username, password=password, repo_name=repo_name,\n",
    "                  repo_owner='GITenberg', \n",
    "                  update_travis_commit_msg='build using gitenberg.travis',\n",
    "                  tag_commit_message='build using gitenberg.travis',\n",
    "                  access_token=GITENBERG_TRAVIS_ACCESS_TOKEN)\n",
    "            results[repo_name] = (bj, bj.run())\n",
    "            \n",
    "            # just mark as started\n",
    "            repo = session.query(Repo).filter_by(repo_name=result['repo_name']).first()\n",
    "            repo.updated = arrow.now().isoformat()\n",
    "            repo.datebuilt = arrow.now().isoformat()\n",
    "            \n",
    "        except Exception, e:\n",
    "            results[repo_name] = e\n",
    "        \n",
    "        print (\"\\r{}: {}\".format(i, results[repo_name]), end=\"\")"
   ]
  },
  {
   "cell_type": "code",
   "execution_count": null,
   "metadata": {
    "collapsed": false
   },
   "outputs": [],
   "source": [
    "build_repos(repos_iter, 1)"
   ]
  },
  {
   "cell_type": "markdown",
   "metadata": {},
   "source": [
    "wondering if not add_all -- any add or update function?  [python - SQLAlchemy insert or update example - Stack Overflow](http://stackoverflow.com/questions/7889183/sqlalchemy-insert-or-update-example)"
   ]
  },
  {
   "cell_type": "code",
   "execution_count": null,
   "metadata": {
    "collapsed": true
   },
   "outputs": [],
   "source": [
    "repo1.version = '0.0.5'"
   ]
  },
  {
   "cell_type": "code",
   "execution_count": null,
   "metadata": {
    "collapsed": false
   },
   "outputs": [],
   "source": [
    "session.dirty"
   ]
  },
  {
   "cell_type": "code",
   "execution_count": null,
   "metadata": {
    "collapsed": false
   },
   "outputs": [],
   "source": [
    "session.new"
   ]
  },
  {
   "cell_type": "code",
   "execution_count": null,
   "metadata": {
    "collapsed": false
   },
   "outputs": [],
   "source": [
    "our_repo = session.query(Repo).filter_by(repo_name='Repo1').first() # doctest:+NORMALIZE_WHITESPACE\n",
    "our_repo\n"
   ]
  }
 ],
 "metadata": {
  "kernelspec": {
   "display_name": "Python 2",
   "language": "python",
   "name": "python2"
  },
  "language_info": {
   "codemirror_mode": {
    "name": "ipython",
    "version": 2
   },
   "file_extension": ".py",
   "mimetype": "text/x-python",
   "name": "python",
   "nbconvert_exporter": "python",
   "pygments_lexer": "ipython2",
   "version": "2.7.11"
  },
  "widgets": {
   "state": {},
   "version": "1.1.2"
  }
 },
 "nbformat": 4,
 "nbformat_minor": 0
}
