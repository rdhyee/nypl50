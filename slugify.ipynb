{
 "cells": [
  {
   "cell_type": "code",
   "execution_count": null,
   "metadata": {
    "collapsed": true
   },
   "outputs": [],
   "source": [
    "from second_folio import (GITENBERG_DIR, \n",
    "                          all_repos, \n",
    "                          apply_to_repos, \n",
    "                          travis_setup_releases, \n",
    "                          git_pull,\n",
    "                          apply_travis,\n",
    "                          finish_travis,\n",
    "                          repo_is_buildable,\n",
    "                          has_travis_with_gitenberg_build,\n",
    "                          slugify\n",
    "                          )\n",
    "\n",
    "from gitenberg import metadata"
   ]
  },
  {
   "cell_type": "code",
   "execution_count": null,
   "metadata": {
    "collapsed": false
   },
   "outputs": [],
   "source": [
    "import yaml\n",
    "import os\n",
    "\n",
    "def slugify_name(repo):\n",
    "    metadata_path = os.path.join(GITENBERG_DIR, repo, \"metadata.yaml\")\n",
    "    if os.path.exists(metadata_path):\n",
    "        md = metadata.pandata.Pandata(os.path.join(GITENBERG_DIR, repo, \"metadata.yaml\"))\n",
    "        repo_name = md.metadata.get(\"_repo\")\n",
    "        # may need a better way to create epub titles\n",
    "        book_title = md.metadata.get(\"title\")\n",
    "        epub_title = slugify(book_title)\n",
    "        return epub_title"
   ]
  },
  {
   "cell_type": "code",
   "execution_count": null,
   "metadata": {
    "collapsed": false
   },
   "outputs": [],
   "source": [
    "list(apply_to_repos(slugify_name))"
   ]
  },
  {
   "cell_type": "code",
   "execution_count": null,
   "metadata": {
    "collapsed": true
   },
   "outputs": [],
   "source": []
  }
 ],
 "metadata": {
  "kernelspec": {
   "display_name": "Python 2",
   "language": "python",
   "name": "python2"
  },
  "language_info": {
   "codemirror_mode": {
    "name": "ipython",
    "version": 2
   },
   "file_extension": ".py",
   "mimetype": "text/x-python",
   "name": "python",
   "nbconvert_exporter": "python",
   "pygments_lexer": "ipython2",
   "version": "2.7.11"
  }
 },
 "nbformat": 4,
 "nbformat_minor": 0
}
