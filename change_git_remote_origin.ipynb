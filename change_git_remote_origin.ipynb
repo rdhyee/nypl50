{
 "cells": [
  {
   "cell_type": "markdown",
   "metadata": {},
   "source": [
    "# Task\n",
    "\n",
    "loop through the local GITenberg repos to change the git remote url for origin to make use of my rdhyee-GITenberg account"
   ]
  },
  {
   "cell_type": "code",
   "execution_count": 1,
   "metadata": {
    "collapsed": true
   },
   "outputs": [],
   "source": [
    "import os\n",
    "import json\n",
    "import shutil\n",
    "import sh\n",
    "import yaml\n",
    "from pandas import DataFrame, Series\n",
    "from itertools import islice\n",
    "\n",
    "REPOS_LIST = \"/Users/raymondyee/C/src/gitenberg/Second-Folio/list_of_repos.txt\"\n",
    "GITENBERG_DIR = \"/Users/raymondyee/C/src/gitenberg/\"\n",
    "\n",
    "METADATA_DIR = \"/Users/raymondyee/C/src/gitenberg-dev/giten_site/metadata\"\n",
    "COVERS_DATA = \"/Users/raymondyee/C/src/gitenberg/Second-Folio/covers_data.json\""
   ]
  },
  {
   "cell_type": "code",
   "execution_count": 2,
   "metadata": {
    "collapsed": true
   },
   "outputs": [],
   "source": [
    "import os\n",
    "import glob\n",
    "import sh\n",
    "import yaml\n",
    "\n",
    "from gitenberg import metadata\n",
    "import jinja2\n",
    "\n",
    "from second_folio import (GITENBERG_DIR, \n",
    "                          all_repos, \n",
    "                          apply_to_repos, \n",
    "                          travis_setup_releases, \n",
    "                          git_pull,\n",
    "                          apply_travis,\n",
    "                          finish_travis,\n",
    "                          repo_is_buildable,\n",
    "                          has_travis_with_gitenberg_build,\n",
    "                          slugify\n",
    "                          )\n",
    "from github_settings import (username, password)"
   ]
  },
  {
   "cell_type": "code",
   "execution_count": 3,
   "metadata": {
    "collapsed": false
   },
   "outputs": [
    {
     "data": {
      "text/plain": [
       "[]"
      ]
     },
     "execution_count": 3,
     "metadata": {},
     "output_type": "execute_result"
    }
   ],
   "source": [
    "from itertools import islice, izip\n",
    "\n",
    "repos = list(islice(all_repos,0,None))\n",
    "\n",
    "# determine which repos are \"buildable\"\n",
    "repos_statues = list(izip(repos, \n",
    "                          apply_to_repos(repo_is_buildable, repos=repos), \n",
    "                          apply_to_repos(has_travis_with_gitenberg_build, repos=repos) ))\n",
    "\n",
    "# we want to apply travis to repos that are buildable but that don't yet have .travis.yml. \n",
    "\n",
    "repos_to_travisfy = [repo[0] for repo in repos_statues if repo[1] and not repo[2]]\n",
    "repos_to_travisfy"
   ]
  },
  {
   "cell_type": "code",
   "execution_count": 41,
   "metadata": {
    "collapsed": false
   },
   "outputs": [],
   "source": [
    "import re\n",
    "\n",
    "def git_set_url(repo):\n",
    "    \n",
    "    \"\"\"\n",
    "    git mv the asciidoc file to book.asciidoc if it's the only asciidoc in root dir\n",
    "    \"\"\"\n",
    "    \n",
    "    sh.cd(os.path.join(GITENBERG_DIR, repo))\n",
    "    # git remote show -n origin\n",
    "    origin_data = sh.git.remote.show(\"-n\", \"origin\")\n",
    "    # line 2\n",
    "    fetch_url_line = origin_data.strip().split(\"\\n\")[1].strip()\n",
    "    # e.g., 'Fetch URL: git@github.com:GITenberg/Dubliners_2814.git'\n",
    "    s = re.search(r'^Fetch URL: git@(.*):(.*)$', fetch_url_line)\n",
    "    if s is not None:\n",
    "        origin_url =  \"git@github-GITenberg:{}\".format(s.group(2))\n",
    "        # git remote set-url origin git@github-GITenberg:GITenberg/Adventures-of-Huckleberry-Finn_76.git\n",
    "        return sh.git.remote(\"set-url\",\"origin\", origin_url)\n",
    "    else:\n",
    "        return None\n",
    "\n",
    "def git_remote_show(repo):\n",
    "    \n",
    "    sh.cd(os.path.join(GITENBERG_DIR, repo))\n",
    "    # git remote show -n origin\n",
    "    origin_data = sh.git.remote.show(\"-n\", \"origin\")\n",
    "    # line 2\n",
    "    fetch_url_line = origin_data.strip().split(\"\\n\")[1].strip()\n",
    "    return fetch_url_line\n",
    "    "
   ]
  },
  {
   "cell_type": "code",
   "execution_count": 46,
   "metadata": {
    "collapsed": false
   },
   "outputs": [
    {
     "data": {
      "text/plain": [
       "[,\n",
       " ,\n",
       " ,\n",
       " ,\n",
       " ,\n",
       " ,\n",
       " ,\n",
       " ,\n",
       " ,\n",
       " ,\n",
       " ,\n",
       " ,\n",
       " ,\n",
       " ,\n",
       " ,\n",
       " ,\n",
       " ,\n",
       " ,\n",
       " ,\n",
       " ,\n",
       " ,\n",
       " ,\n",
       " ,\n",
       " ,\n",
       " ,\n",
       " ,\n",
       " ,\n",
       " ,\n",
       " ,\n",
       " ,\n",
       " ,\n",
       " ,\n",
       " ,\n",
       " ,\n",
       " ,\n",
       " ,\n",
       " ,\n",
       " ,\n",
       " ,\n",
       " ,\n",
       " ,\n",
       " ,\n",
       " ,\n",
       " ,\n",
       " ,\n",
       " ,\n",
       " ,\n",
       " ,\n",
       " ,\n",
       " ]"
      ]
     },
     "execution_count": 46,
     "metadata": {},
     "output_type": "execute_result"
    }
   ],
   "source": [
    "repos = list(islice(all_repos,0,None))\n",
    "\n",
    "list(apply_to_repos(git_set_url, repos=repos))"
   ]
  },
  {
   "cell_type": "code",
   "execution_count": 47,
   "metadata": {
    "collapsed": false
   },
   "outputs": [
    {
     "data": {
      "text/plain": [
       "[u'Fetch URL: git@github-GITenberg:GITenberg/Adventures-of-Huckleberry-Finn_76.git',\n",
       " u'Fetch URL: git@github-GITenberg:GITenberg/Don-Quixote_996.git',\n",
       " u'Fetch URL: git@github-GITenberg:GITenberg/Dubliners_2814.git',\n",
       " u'Fetch URL: git@github-GITenberg:GITenberg/Jane-Eyre_1260.git',\n",
       " u'Fetch URL: git@github-GITenberg:GITenberg/Moby-Dick--Or-The-Whale_2701.git',\n",
       " u'Fetch URL: git@github-GITenberg:GITenberg/Narrative-of-the-Life-of-Frederick-Douglass-an-American-Slave_23.git',\n",
       " u'Fetch URL: git@github-GITenberg:GITenberg/Pride-and-Prejudice_1342.git',\n",
       " u'Fetch URL: git@github-GITenberg:GITenberg/The-Adventures-of-Sherlock-Holmes_1661.git',\n",
       " u'Fetch URL: git@github-GITenberg:GITenberg/The-Brothers-Karamazov_28054.git',\n",
       " u'Fetch URL: git@github-GITenberg:GITenberg/The-Time-Machine_35.git',\n",
       " u'Fetch URL: git@github-GITenberg:GITenberg/Frankenstein_84.git',\n",
       " u'Fetch URL: git@github-GITenberg:GITenberg/Middlemarch_145.git',\n",
       " u'Fetch URL: git@github-GITenberg:GITenberg/A-Tale-of-Two-Cities_98.git',\n",
       " u'Fetch URL: git@github-GITenberg:GITenberg/The-Call-of-the-Wild_215.git',\n",
       " u'Fetch URL: git@github-GITenberg:GITenberg/Crime-and-Punishment_2554.git',\n",
       " u'Fetch URL: git@github-GITenberg:GITenberg/The-Strange-Case-of-Dr.-Jekyll-and-Mr.-Hyde_42.git',\n",
       " u'Fetch URL: git@github-GITenberg:GITenberg/Dracula_345.git',\n",
       " u'Fetch URL: git@github-GITenberg:GITenberg/Flatland--A-Romance-of-Many-Dimensions--Illustrated-_201.git',\n",
       " u'Fetch URL: git@github-GITenberg:GITenberg/Household-Stories-by-the-Brothers-Grimm_19068.git',\n",
       " u'Fetch URL: git@github-GITenberg:GITenberg/Heart-of-Darkness_219.git',\n",
       " u'Fetch URL: git@github-GITenberg:GITenberg/A-Journey-into-the-Interior-of-the-Earth_3748.git',\n",
       " u'Fetch URL: git@github-GITenberg:GITenberg/Jude-the-Obscure_153.git',\n",
       " u'Fetch URL: git@github-GITenberg:GITenberg/King-Solomon-s-Mines_2166.git',\n",
       " u'Fetch URL: git@github-GITenberg:GITenberg/Little-Women_514.git',\n",
       " u'Fetch URL: git@github-GITenberg:GITenberg/Madame-Bovary_2413.git',\n",
       " u'Fetch URL: git@github-GITenberg:GITenberg/The-Life-and-Adventures-of-Robinson-Crusoe_521.git',\n",
       " u'Fetch URL: git@github-GITenberg:GITenberg/The-Awakening-and-Selected-Short-Stories_160.git',\n",
       " u'Fetch URL: git@github-GITenberg:GITenberg/The-Jungle_140.git',\n",
       " u'Fetch URL: git@github-GITenberg:GITenberg/The-Jungle-Book_236.git',\n",
       " u'Fetch URL: git@github-GITenberg:GITenberg/Metamorphosis_5200.git',\n",
       " u'Fetch URL: git@github-GITenberg:GITenberg/The-Picture-of-Dorian-Gray_174.git',\n",
       " u'Fetch URL: git@github-GITenberg:GITenberg/The-Red-Badge-of-Courage_73.git',\n",
       " u'Fetch URL: git@github-GITenberg:GITenberg/The-Scarlet-Letter_33.git',\n",
       " u'Fetch URL: git@github-GITenberg:GITenberg/The-War-of-the-Worlds_36.git',\n",
       " u'Fetch URL: git@github-GITenberg:GITenberg/The-Wonderful-Wizard-of-Oz_55.git',\n",
       " u'Fetch URL: git@github-GITenberg:GITenberg/This-Side-of-Paradise_805.git',\n",
       " u'Fetch URL: git@github-GITenberg:GITenberg/Anna-Karenina_1399.git',\n",
       " u'Fetch URL: git@github-GITenberg:GITenberg/Gulliver-s-Travels_829.git',\n",
       " u'Fetch URL: git@github-GITenberg:GITenberg/Les-Mis-rables_135.git',\n",
       " u'Fetch URL: git@github-GITenberg:GITenberg/Swann-s-Way_7178.git',\n",
       " u'Fetch URL: git@github-GITenberg:GITenberg/The-Count-of-Monte-Cristo_1184.git',\n",
       " u'Fetch URL: git@github-GITenberg:GITenberg/The-Hunchback-of-Notre-Dame_6539.git',\n",
       " u'Fetch URL: git@github-GITenberg:GITenberg/The-Three-Musketeers_1257.git',\n",
       " u'Fetch URL: git@github-GITenberg:GITenberg/Through-the-Looking-Glass_12.git',\n",
       " u'Fetch URL: git@github-GITenberg:GITenberg/Twenty-Thousand-Leagues-under-the-Sea_164.git',\n",
       " u'Fetch URL: git@github-GITenberg:GITenberg/War-and-Peace_2600.git',\n",
       " u'Fetch URL: git@github-GITenberg:GITenberg/Winesburg-Ohio--A-Group-of-Tales-of-Ohio-Small-Town-Life_416.git',\n",
       " u'Fetch URL: git@github-GITenberg:GITenberg/My-Antonia_242.git',\n",
       " u'Fetch URL: git@github-GITenberg:GITenberg/Divine-Comedy-Longfellow-s-Translation-Hell_1001.git',\n",
       " u'Fetch URL: git@github-GITenberg:GITenberg/The-Works-of-Edgar-Allan-Poe-The-Raven-EditionTable-Of-Contents-And-Index-Of-The-Five-Volumes_25525.git']"
      ]
     },
     "execution_count": 47,
     "metadata": {},
     "output_type": "execute_result"
    }
   ],
   "source": [
    "list(apply_to_repos(git_remote_show, repos=repos))"
   ]
  },
  {
   "cell_type": "code",
   "execution_count": 48,
   "metadata": {
    "collapsed": true
   },
   "outputs": [],
   "source": [
    "from second_folio import git_pull"
   ]
  },
  {
   "cell_type": "code",
   "execution_count": 49,
   "metadata": {
    "collapsed": false
   },
   "outputs": [
    {
     "data": {
      "text/plain": [
       "[None,\n",
       " None,\n",
       " None,\n",
       " None,\n",
       " None,\n",
       " None,\n",
       " None,\n",
       " None,\n",
       " None,\n",
       " None,\n",
       " None,\n",
       " None,\n",
       " None,\n",
       " None,\n",
       " None,\n",
       " None,\n",
       " None,\n",
       " None,\n",
       " None,\n",
       " None,\n",
       " None,\n",
       " None,\n",
       " None,\n",
       " None,\n",
       " None,\n",
       " None,\n",
       " None,\n",
       " None,\n",
       " None,\n",
       " None,\n",
       " None,\n",
       " None,\n",
       " None,\n",
       " None,\n",
       " None,\n",
       " None,\n",
       " None,\n",
       " None,\n",
       " None,\n",
       " None,\n",
       " None,\n",
       " None,\n",
       " None,\n",
       " None,\n",
       " None,\n",
       " None,\n",
       " None,\n",
       " None,\n",
       " None,\n",
       " None]"
      ]
     },
     "execution_count": 49,
     "metadata": {},
     "output_type": "execute_result"
    }
   ],
   "source": [
    "list(apply_to_repos(git_pull, repos=repos))"
   ]
  },
  {
   "cell_type": "code",
   "execution_count": null,
   "metadata": {
    "collapsed": true
   },
   "outputs": [],
   "source": []
  }
 ],
 "metadata": {
  "kernelspec": {
   "display_name": "Python 2",
   "language": "python",
   "name": "python2"
  },
  "language_info": {
   "codemirror_mode": {
    "name": "ipython",
    "version": 2
   },
   "file_extension": ".py",
   "mimetype": "text/x-python",
   "name": "python",
   "nbconvert_exporter": "python",
   "pygments_lexer": "ipython2",
   "version": "2.7.11"
  }
 },
 "nbformat": 4,
 "nbformat_minor": 0
}
