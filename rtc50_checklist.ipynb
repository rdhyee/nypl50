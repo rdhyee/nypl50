{
 "cells": [
  {
   "cell_type": "markdown",
   "metadata": {},
   "source": [
    "https://github.com/burnash/gspread\n",
    "\n",
    "spreadsheet to process: https://docs.google.com/spreadsheets/d/1B0qccrlgnUDuNzyadA4pWvjDJs3XuHzkFVX1en8C2Eg/edit#gid=0"
   ]
  },
  {
   "cell_type": "code",
   "execution_count": 1,
   "metadata": {
    "collapsed": false
   },
   "outputs": [],
   "source": [
    "import gspread\n",
    "import json\n",
    "\n",
    "g_name = \"Gitenberg Book List (Summer 2015) || Contributors: Jennifer 8. Lee and Michelle Cheng\"\n",
    "g_url = \"https://docs.google.com/spreadsheets/d/1B0qccrlgnUDuNzyadA4pWvjDJs3XuHzkFVX1en8C2Eg/edit#gid=0\"\n",
    "g_key = \"1B0qccrlgnUDuNzyadA4pWvjDJs3XuHzkFVX1en8C2Eg\"\n",
    "\n",
    "OFFICIAL_NAME_KEY = \"Name in rtc/books.json, Official Name\""
   ]
  },
  {
   "cell_type": "markdown",
   "metadata": {},
   "source": [
    "# OAuth2: Method 1\n",
    "\n",
    "[Using OAuth2 for Authorization — gspread 0.2.5 documentation](http://gspread.readthedocs.org/en/latest/oauth2.html)\n",
    "\n",
    "Created: https://console.developers.google.com/project/nypl50-gspread/apiui/credential#\n",
    "\n",
    "```\n",
    "pip install --upgrade oauth2client\n",
    "```\n",
    "\n",
    "I'd have to share the spreadsheet with `535523918532-5ejclnn335tr2g1u0dqnvh7g39q78mim@developer.gserviceaccount.com` -- so let's look at method 2"
   ]
  },
  {
   "cell_type": "code",
   "execution_count": 2,
   "metadata": {
    "collapsed": false
   },
   "outputs": [],
   "source": [
    "import json\n",
    "import gspread\n",
    "from oauth2client.client import SignedJwtAssertionCredentials\n",
    "\n",
    "json_key = json.load(open('nypl50-gspread.json'))\n",
    "scope = ['https://spreadsheets.google.com/feeds']\n",
    "\n",
    "credentials = SignedJwtAssertionCredentials(json_key['client_email'], json_key['private_key'], scope)\n",
    "\n",
    "gc = gspread.authorize(credentials)\n",
    "\n",
    "#wks = gc.open_by_key(g_key).sheet1\n",
    "wks = gc.open_by_key(g_key).sheet1"
   ]
  },
  {
   "cell_type": "markdown",
   "metadata": {},
   "source": [
    "# Calculations"
   ]
  },
  {
   "cell_type": "code",
   "execution_count": 3,
   "metadata": {
    "collapsed": false
   },
   "outputs": [
    {
     "data": {
      "text/plain": [
       "<Worksheet 'RTC Titles' id:od6>"
      ]
     },
     "execution_count": 3,
     "metadata": {},
     "output_type": "execute_result"
    }
   ],
   "source": [
    "wks"
   ]
  },
  {
   "cell_type": "code",
   "execution_count": 4,
   "metadata": {
    "collapsed": false
   },
   "outputs": [],
   "source": [
    "all_rows = wks.get_all_values()"
   ]
  },
  {
   "cell_type": "code",
   "execution_count": 5,
   "metadata": {
    "collapsed": true
   },
   "outputs": [],
   "source": [
    "import pandas as pd\n",
    "from pandas import (DataFrame, Series)"
   ]
  },
  {
   "cell_type": "code",
   "execution_count": null,
   "metadata": {
    "collapsed": false
   },
   "outputs": [],
   "source": [
    "df = DataFrame(all_rows[2:], columns=all_rows[1])\n",
    "df.index = df.index + 3  # shift index to match spreadsheet\n",
    "df.head()"
   ]
  },
  {
   "cell_type": "code",
   "execution_count": 7,
   "metadata": {
    "collapsed": false
   },
   "outputs": [
    {
     "data": {
      "text/plain": [
       "ASCIIDOC                    59\n",
       "Needs Build                  7\n",
       "Needs Check                  2\n",
       "CHECK                        1\n",
       "Needs Build, Needs Cover     1\n",
       "weird copyright, avoid       1\n",
       "                             1\n",
       "HELD                         1\n",
       "dtype: int64"
      ]
     },
     "execution_count": 7,
     "metadata": {},
     "output_type": "execute_result"
    }
   ],
   "source": [
    "# what does the status mean?\n",
    "\n",
    "df[df[\"RTC Cover?\"] == 'YES'][\"Gitenberg Status\"].value_counts()"
   ]
  },
  {
   "cell_type": "code",
   "execution_count": null,
   "metadata": {
    "collapsed": false
   },
   "outputs": [],
   "source": [
    "rtc50 = df[df[\"RTC Cover?\"] == 'YES']\n",
    "rtc50.head()"
   ]
  },
  {
   "cell_type": "code",
   "execution_count": null,
   "metadata": {
    "collapsed": false
   },
   "outputs": [],
   "source": [
    "rtc50[rtc50[OFFICIAL_NAME_KEY].map(len) == 0]"
   ]
  },
  {
   "cell_type": "code",
   "execution_count": null,
   "metadata": {
    "collapsed": false
   },
   "outputs": [],
   "source": [
    "# \"RTC 1st GEN\" vs \"RTC 2nd GEN\" vs \"RTC Other Gen\"\n",
    "\n",
    "df[df[\"RTC 1st GEN\"] == 'X']"
   ]
  },
  {
   "cell_type": "code",
   "execution_count": 23,
   "metadata": {
    "collapsed": false
   },
   "outputs": [],
   "source": [
    "# copy CSV to clipboard, making it easy to then paste it to \n",
    "# https://github.com/gitenberg-dev/Second-Folio/blob/master/Gitenberg%20Book%20List.csv\n",
    "\n",
    "df.to_clipboard(encoding='utf-8', sep=',', index=False)\n"
   ]
  },
  {
   "cell_type": "markdown",
   "metadata": {
    "collapsed": true
   },
   "source": [
    "# rtc covers\n",
    "\n",
    "\n",
    "https://raw.githubusercontent.com/plympton/rtc/master/books.json"
   ]
  },
  {
   "cell_type": "code",
   "execution_count": 24,
   "metadata": {
    "collapsed": false
   },
   "outputs": [],
   "source": [
    "import requests\n",
    "rtc_covers_url = \"https://raw.githubusercontent.com/plympton/rtc/master/books.json\"\n",
    "covers = requests.get(rtc_covers_url).json()\n",
    "covers_dict = dict([(cover['name'], cover) for cover in covers])"
   ]
  },
  {
   "cell_type": "code",
   "execution_count": 25,
   "metadata": {
    "collapsed": false
   },
   "outputs": [],
   "source": [
    "# read off cover_map from df\n",
    "# http://stackoverflow.com/a/9762084\n",
    "cover_map = dict(filter(lambda (k,v):v,\n",
    "                  [tuple(x) for x in  df[['Title', OFFICIAL_NAME_KEY]].values]\n",
    "            ))"
   ]
  },
  {
   "cell_type": "code",
   "execution_count": 26,
   "metadata": {
    "collapsed": true
   },
   "outputs": [],
   "source": [
    "from IPython.display import HTML\n",
    "from PIL import Image\n",
    "import jinja2"
   ]
  },
  {
   "cell_type": "code",
   "execution_count": null,
   "metadata": {
    "collapsed": false
   },
   "outputs": [],
   "source": [
    "# let's look at the images for the books\n",
    "# https://cdn.rawgit.com/plympton/rtc/master/rtc_books/\n",
    "# https://cdn.rawgit.com/plympton/rtc/master/rtc_books_resized/\n",
    "\n",
    "cover_url_base = \"https://cdn.rawgit.com/plympton/rtc/master/rtc_books/\"\n",
    "small_cover_url_base = \"https://cdn.rawgit.com/plympton/rtc/master/rtc_books_resized/\"\n",
    "\n",
    "from functools import partial\n",
    "\n",
    "def cover_name_to_url(name, reduce=False):\n",
    "    \n",
    "    if reduce:\n",
    "        url = small_cover_url_base\n",
    "    else:\n",
    "        url = cover_url_base\n",
    "        \n",
    "    cover = covers_dict.get(name)\n",
    "    if cover is not None:\n",
    "        return url + cover['covers'][0][\"filename\"]\n",
    "    else:\n",
    "        return None\n",
    "\n",
    "def cover_name_to_artist(name):\n",
    "    cover = covers_dict.get(name)\n",
    "    if cover is not None:\n",
    "        return cover['covers'][0]['artist']\n",
    "    else:\n",
    "        return None    \n",
    "    \n",
    "    \n",
    "    \n",
    "cover_name_to_url_small = partial(cover_name_to_url, reduce=True)\n",
    "cover_name_to_url_big = partial(cover_name_to_url, reduce=False)\n",
    "\n",
    "\n",
    "df['big_image_url'] = rtc50[OFFICIAL_NAME_KEY].map(cover_name_to_url_big)\n",
    "df['small_image_url'] = rtc50[OFFICIAL_NAME_KEY].map(cover_name_to_url_small)\n",
    "\n",
    "\n",
    "rtc50 = df[df[\"RTC Cover?\"] == 'YES']"
   ]
  },
  {
   "cell_type": "code",
   "execution_count": null,
   "metadata": {
    "collapsed": false
   },
   "outputs": [],
   "source": [
    "rtc50.head()"
   ]
  },
  {
   "cell_type": "code",
   "execution_count": null,
   "metadata": {
    "collapsed": false
   },
   "outputs": [],
   "source": [
    "results = rtc50[['Title', 'big_image_url']].T.to_dict().values()"
   ]
  },
  {
   "cell_type": "code",
   "execution_count": null,
   "metadata": {
    "collapsed": false
   },
   "outputs": [],
   "source": [
    "results"
   ]
  },
  {
   "cell_type": "code",
   "execution_count": null,
   "metadata": {
    "collapsed": false
   },
   "outputs": [],
   "source": [
    "from IPython.display import HTML\n",
    "from jinja2 import Template\n",
    "\n",
    "CSS = \"\"\"\n",
    "<style>\n",
    "  .wrap img {\n",
    "    margin-left: 0px;\n",
    "    margin-right: 0px;\n",
    "    display: inline-block;\n",
    "    width: 100px;\n",
    "  }\n",
    "</style>\n",
    "\"\"\"\n",
    "\n",
    "IMAGES_TEMPLATE = CSS + \"\"\"\n",
    "<div class=\"wrap\">\n",
    " {% for item in items %}<img title=\"{{item.Title}}\" src=\"{{item.}}\"/>{% endfor %}\n",
    "</div>\n",
    "\"\"\"\n",
    "    \n",
    "template = Template(IMAGES_TEMPLATE)\n",
    "HTML(template.render(items=results)) "
   ]
  },
  {
   "cell_type": "code",
   "execution_count": null,
   "metadata": {
    "collapsed": false
   },
   "outputs": [],
   "source": [
    "#let's try looping over all the images and convert them to png \n",
    "\n",
    "\n",
    "def download_big_images(limit=None):\n",
    "    \n",
    "    import requests\n",
    "    from itertools import islice\n",
    "    import os\n",
    "\n",
    "    img_path = \"/Users/raymondyee/Downloads/rtc/full_images/\"\n",
    "    for image in islice(results,limit):\n",
    "        # check whether we have the cover already before downloading\n",
    "        \n",
    "        url = image['big_image_url']\n",
    "        \n",
    "        if url is not None:\n",
    "            name = url.split(\"/\")[-1]\n",
    "            dest_path = img_path + name\n",
    "        \n",
    "            if not os.path.exists(dest_path):\n",
    "                print (dest_path)\n",
    "                content = requests.get(url).content\n",
    "                with open(img_path + name, \"wb\") as f:\n",
    "                    f.write(content)"
   ]
  },
  {
   "cell_type": "code",
   "execution_count": null,
   "metadata": {
    "collapsed": false
   },
   "outputs": [],
   "source": [
    "download_big_images(limit=None)"
   ]
  },
  {
   "cell_type": "code",
   "execution_count": null,
   "metadata": {
    "collapsed": false
   },
   "outputs": [],
   "source": [
    "# loop over jpg and convert to png\n",
    "\n",
    "def convert_small_jpg_to_png():\n",
    "\n",
    "    import glob\n",
    "\n",
    "    for f in glob.glob(\"/Users/raymondyee/Downloads/rtc/resized/*.jp*g\"):\n",
    "        im = Image.open(f)\n",
    "        png_path = \".\".join(f.split(\".\")[:-1]) + \".png\"\n",
    "        if im.mode not in [\"1\", \"L\", \"P\", \"RGB\", \"RGBA\"]:\n",
    "            im = im.convert(\"RGB\")\n",
    "        im.save(png_path)"
   ]
  },
  {
   "cell_type": "code",
   "execution_count": null,
   "metadata": {
    "collapsed": false
   },
   "outputs": [],
   "source": [
    "# image types in covers\n",
    "from collections import Counter\n",
    "map(lambda p: p.split(\".\")[-1], reduce(lambda x,y: x+y, [[c['filename'] for c in cover['covers'] for cover in covers]]))"
   ]
  },
  {
   "cell_type": "code",
   "execution_count": null,
   "metadata": {
    "collapsed": false
   },
   "outputs": [],
   "source": [
    "df['GitHub repo']=df['Gitenberg URL'].map(lambda u:u.split(\"/\")[-1])"
   ]
  },
  {
   "cell_type": "code",
   "execution_count": null,
   "metadata": {
    "collapsed": false
   },
   "outputs": [],
   "source": [
    "import numpy as np\n",
    "df['local_big_file'] = df['big_image_url'].map(lambda u:u.split(\"/\")[-1] if u is not None and u is not np.nan else None)"
   ]
  },
  {
   "cell_type": "code",
   "execution_count": null,
   "metadata": {
    "collapsed": false
   },
   "outputs": [],
   "source": [
    "df['cover_artist'] = df[OFFICIAL_NAME_KEY].map(cover_name_to_artist)"
   ]
  },
  {
   "cell_type": "code",
   "execution_count": null,
   "metadata": {
    "collapsed": false
   },
   "outputs": [],
   "source": [
    "df['local_big_file'] = df['local_big_file'].map(lambda s: re.sub(r\".png$\", \".jpg\", s) if s is not None else s)"
   ]
  },
  {
   "cell_type": "code",
   "execution_count": null,
   "metadata": {
    "collapsed": false
   },
   "outputs": [],
   "source": [
    "def write_covers_data():\n",
    "\n",
    "    import json\n",
    "\n",
    "    rtc50 = df[df[\"RTC Cover?\"] == 'YES']\n",
    "\n",
    "    covers_data_path = \"/Users/raymondyee/C/src/gitenberg/Second-Folio/covers_data.json\"\n",
    "\n",
    "    with open(covers_data_path, \"w\") as f:\n",
    "        f.write(json.dumps(rtc50[['GitHub repo', 'cover_artist', 'local_big_file']].T.to_dict().values(),\n",
    "                        sort_keys=True,indent=2, separators=(',', ': ')))"
   ]
  },
  {
   "cell_type": "code",
   "execution_count": null,
   "metadata": {
    "collapsed": true
   },
   "outputs": [],
   "source": [
    "#write_covers_data()"
   ]
  },
  {
   "cell_type": "markdown",
   "metadata": {},
   "source": [
    "# Getting covers into repos"
   ]
  },
  {
   "cell_type": "code",
   "execution_count": null,
   "metadata": {
    "collapsed": true
   },
   "outputs": [],
   "source": [
    "import sh"
   ]
  },
  {
   "cell_type": "code",
   "execution_count": null,
   "metadata": {
    "collapsed": false
   },
   "outputs": [],
   "source": [
    "# can control tty settings for sh\n",
    "# https://amoffat.github.io/sh/#ttys\n",
    "\n",
    "sh.ls(\"-1\", _tty_out=False ).split()"
   ]
  },
  {
   "cell_type": "code",
   "execution_count": null,
   "metadata": {
    "collapsed": false
   },
   "outputs": [],
   "source": [
    "dict([(c['GitHub repo'], c) for c in covers_data])"
   ]
  },
  {
   "cell_type": "code",
   "execution_count": null,
   "metadata": {
    "collapsed": false
   },
   "outputs": [],
   "source": [
    "s = Series(repos)\n",
    "list(s.map(lambda r: covers_data_dict.get(r).get('local_big_file')))"
   ]
  },
  {
   "cell_type": "markdown",
   "metadata": {
    "collapsed": false
   },
   "source": [
    "# Getting covers into repos\n",
    "\n",
    "\n"
   ]
  },
  {
   "cell_type": "code",
   "execution_count": null,
   "metadata": {
    "collapsed": false
   },
   "outputs": [],
   "source": [
    "import os\n",
    "import os\n",
    "import shutil\n",
    "import sh\n",
    "from pandas import DataFrame, Series\n",
    "from itertools import islice\n",
    "\n",
    "REPOS_LIST = \"/Users/raymondyee/C/src/gitenberg/Second-Folio/list_of_repos.txt\"\n",
    "COVERS_DATA = \"/Users/raymondyee/C/src/gitenberg/Second-Folio/covers_data.json\"\n",
    "GITENBERG_DIR = \"/Users/raymondyee/C/src/gitenberg/\"\n",
    "COVERS_DIR = \"/Users/raymondyee/Downloads/rtc/full_images/\"\n",
    "\n",
    "repos=open(REPOS_LIST).read().strip().split(\"\\n\")\n",
    "covers_data = json.loads(open(COVERS_DATA).read())\n",
    "covers_data_dict = dict([(c['GitHub repo'], c) for c in covers_data])\n",
    "\n",
    "def copy_repo_cover(repo, dry_run=False):\n",
    "    cover_file = covers_data_dict[repo]['local_big_file']\n",
    "    \n",
    "    local_cover_path = None\n",
    "    copied = False\n",
    "    \n",
    "    if cover_file is not None:\n",
    "        local_cover_path = os.path.join(COVERS_DIR, cover_file)\n",
    "        destination = os.path.join(GITENBERG_DIR, repo, \"cover.jpg\")\n",
    "        if os.path.exists(local_cover_path) and not os.path.exists(destination):\n",
    "            if not dry_run:\n",
    "                shutil.copyfile(local_cover_path, destination)\n",
    "                copied = True\n",
    "            \n",
    "    return (local_cover_path, copied)\n",
    "\n",
    "def git_pull(repo):\n",
    "    sh.cd(os.path.join(GITENBERG_DIR, repo))\n",
    "    return sh.git(\"pull\")\n",
    "\n",
    "\n",
    "def copy_covers():\n",
    "    for (i,repo) in enumerate(islice(repos,None)):\n",
    "        print (i, repo, copy_repo_cover(repo, dry_run=False))\n",
    "\n"
   ]
  },
  {
   "cell_type": "code",
   "execution_count": null,
   "metadata": {
    "collapsed": false
   },
   "outputs": [],
   "source": [
    "copy_covers()"
   ]
  },
  {
   "cell_type": "code",
   "execution_count": null,
   "metadata": {
    "collapsed": false
   },
   "outputs": [],
   "source": [
    "# let's compute missing covers\n",
    "for repo in repos:\n",
    "    destination = os.path.join(GITENBERG_DIR, repo, \"cover.jpg\")\n",
    "    if not os.path.exists(destination):\n",
    "        print (repo)"
   ]
  },
  {
   "cell_type": "code",
   "execution_count": null,
   "metadata": {
    "collapsed": false
   },
   "outputs": [],
   "source": [
    "def git_add_cover_commit_push(repo):\n",
    "    cover_path = os.path.join(GITENBERG_DIR, repo, \"cover.jpg\")\n",
    "    \n",
    "    try:\n",
    "        if os.path.exists(cover_path):\n",
    "            sh.cd(os.path.join(GITENBERG_DIR, repo))\n",
    "            print (\"add\")\n",
    "            sh.git(\"add\", \"cover.jpg\")\n",
    "            print (\"commit\")\n",
    "            try:\n",
    "                sh.git(\"commit\", \"-m\", \"add cover.jpg\")\n",
    "            except:\n",
    "                pass\n",
    "            print (\"push\")\n",
    "            sh.git.push()\n",
    "        else:\n",
    "            return None\n",
    "    except Exception as e:\n",
    "        return e\n",
    "    \n"
   ]
  },
  {
   "cell_type": "code",
   "execution_count": null,
   "metadata": {
    "collapsed": false
   },
   "outputs": [],
   "source": [
    "for (i,repo) in enumerate(islice(repos,None)):\n",
    "    print (i, repo)\n",
    "    print (git_add_cover_commit_push(repo))\n"
   ]
  },
  {
   "cell_type": "code",
   "execution_count": null,
   "metadata": {
    "collapsed": false
   },
   "outputs": [],
   "source": [
    "def git_pull(repo):\n",
    "    sh.cd(os.path.join(GITENBERG_DIR, repo))\n",
    "    sh.git(\"pull\")\n",
    "    "
   ]
  },
  {
   "cell_type": "code",
   "execution_count": null,
   "metadata": {
    "collapsed": false
   },
   "outputs": [],
   "source": [
    "for (i,repo) in enumerate(islice(repos,None)):\n",
    "    print (i, repo)\n",
    "    git_pull(repo)\n"
   ]
  },
  {
   "cell_type": "code",
   "execution_count": null,
   "metadata": {
    "collapsed": false
   },
   "outputs": [],
   "source": [
    "sh.cd(\"/Users/raymondyee/C/src/gitenberg/Jane-Eyre_1260\")\n",
    "sh.git.push()"
   ]
  },
  {
   "cell_type": "markdown",
   "metadata": {
    "collapsed": true
   },
   "source": [
    "# Generalized structure for iterating over repos\n",
    "\n"
   ]
  },
  {
   "cell_type": "code",
   "execution_count": 33,
   "metadata": {
    "collapsed": true
   },
   "outputs": [],
   "source": [
    "import os\n",
    "import json\n",
    "import shutil\n",
    "import sh\n",
    "import yaml\n",
    "from pandas import DataFrame, Series\n",
    "from itertools import islice\n",
    "\n",
    "REPOS_LIST = \"/Users/raymondyee/C/src/gitenberg/Second-Folio/list_of_repos.txt\"\n",
    "GITENBERG_DIR = \"/Users/raymondyee/C/src/gitenberg/\"\n",
    "\n",
    "METADATA_DIR = \"/Users/raymondyee/C/src/gitenberg-dev/giten_site/metadata\"\n",
    "COVERS_DATA = \"/Users/raymondyee/C/src/gitenberg/Second-Folio/covers_data.json\"\n"
   ]
  },
  {
   "cell_type": "markdown",
   "metadata": {},
   "source": [
    "# Travis work"
   ]
  },
  {
   "cell_type": "code",
   "execution_count": 34,
   "metadata": {
    "collapsed": false
   },
   "outputs": [],
   "source": [
    "import os\n",
    "import glob\n",
    "import sh\n",
    "import yaml\n",
    "\n",
    "from gitenberg import metadata\n",
    "import jinja2\n",
    "\n",
    "from second_folio import (GITENBERG_DIR, \n",
    "                          all_repos, \n",
    "                          apply_to_repos, \n",
    "                          travis_template, \n",
    "                          travis_setup_releases, \n",
    "                          git_pull,\n",
    "                          apply_travis,\n",
    "                          finish_travis,\n",
    "                          repo_is_buildable,\n",
    "                          has_travis_with_gitenberg_build,\n",
    "                          slugify\n",
    "                          )\n",
    "from github_settings import (username, password)"
   ]
  },
  {
   "cell_type": "code",
   "execution_count": 39,
   "metadata": {
    "collapsed": false
   },
   "outputs": [
    {
     "data": {
      "text/plain": [
       "[]"
      ]
     },
     "execution_count": 39,
     "metadata": {},
     "output_type": "execute_result"
    }
   ],
   "source": [
    "from itertools import islice, izip\n",
    "\n",
    "repos = list(islice(all_repos,0,None))\n",
    "\n",
    "# determine which repos are \"buildable\"\n",
    "repos_statues = list(izip(repos, \n",
    "                          apply_to_repos(repo_is_buildable, repos=repos), \n",
    "                          apply_to_repos(has_travis_with_gitenberg_build, repos=repos) ))\n",
    "\n",
    "# we want to apply travis to repos that are buildable but that don't yet have .travis.yml. \n",
    "\n",
    "repos_to_travisfy = [repo[0] for repo in repos_statues if repo[1] and not repo[2]]\n",
    "repos_to_travisfy"
   ]
  },
  {
   "cell_type": "code",
   "execution_count": 37,
   "metadata": {
    "collapsed": true
   },
   "outputs": [],
   "source": [
    "from __future__ import print_function"
   ]
  },
  {
   "cell_type": "code",
   "execution_count": null,
   "metadata": {
    "collapsed": false
   },
   "outputs": [],
   "source": [
    "for (i, repo) in enumerate(islice(repos_to_travisfy,1)):\n",
    "    print (i, repo, end=\" \")\n",
    "    r1 = apply_travis(repo, username, password, overwrite_travis=True)\n",
    "    print (r1, end=\" \")\n",
    "    if r1:\n",
    "        r2 = finish_travis(repo)\n",
    "        print (r2)\n",
    "    else:\n",
    "        print (\"n/a\")"
   ]
  },
  {
   "cell_type": "markdown",
   "metadata": {},
   "source": [
    "# Calculating URL for latest epub for each repo\n",
    "\n",
    "\n",
    "e.g., https://github.com/GITenberg/Metamorphosis_5200/releases/download/0.0.1/Metamorphosis.epub"
   ]
  },
  {
   "cell_type": "code",
   "execution_count": 40,
   "metadata": {
    "collapsed": false
   },
   "outputs": [],
   "source": [
    "import requests\n",
    "url = \"https://github.com/GITenberg/Adventures-of-Huckleberry-Finn_76/releases/download/0.0.17/Adventures-of-Huckleberry-Finn.epub\"\n",
    "r = requests.head(url)"
   ]
  },
  {
   "cell_type": "code",
   "execution_count": 41,
   "metadata": {
    "collapsed": false
   },
   "outputs": [
    {
     "data": {
      "text/plain": [
       "(302,\n",
       " u'https://github.com/GITenberg/Adventures-of-Huckleberry-Finn_76/releases/download/0.0.17/Adventures-of-Huckleberry-Finn.epub',\n",
       " True)"
      ]
     },
     "execution_count": 41,
     "metadata": {},
     "output_type": "execute_result"
    }
   ],
   "source": [
    "r.status_code, r.url, r.url == url"
   ]
  },
  {
   "cell_type": "code",
   "execution_count": 42,
   "metadata": {
    "collapsed": false
   },
   "outputs": [],
   "source": [
    "def latest_epub(repo):\n",
    "    metadata_path = os.path.join(GITENBERG_DIR, repo, \"metadata.yaml\")\n",
    "    if os.path.exists(metadata_path):\n",
    "        md = metadata.pandata.Pandata(metadata_path)\n",
    "        #repo_name = md.metadata.get(\"_repo\")\n",
    "        epub_title = slugify(md.metadata.get(\"title\"))\n",
    "        tag = md.metadata.get(\"_version\")\n",
    "        url = \"https://github.com/GITenberg/{}/releases/download/{}/{}.epub\".format(repo, tag, epub_title)\n",
    "        return url\n",
    "    else:\n",
    "        return None\n",
    "    \n"
   ]
  },
  {
   "cell_type": "code",
   "execution_count": 43,
   "metadata": {
    "collapsed": false
   },
   "outputs": [],
   "source": [
    "epub_urls = list(apply_to_repos(latest_epub))"
   ]
  },
  {
   "cell_type": "code",
   "execution_count": 44,
   "metadata": {
    "collapsed": true
   },
   "outputs": [],
   "source": [
    "import pandas as pd\n",
    "from pandas import DataFrame"
   ]
  },
  {
   "cell_type": "code",
   "execution_count": 45,
   "metadata": {
    "collapsed": false
   },
   "outputs": [
    {
     "data": {
      "text/html": [
       "<div style=\"max-height:1000px;max-width:1500px;overflow:auto;\">\n",
       "<table border=\"1\" class=\"dataframe\">\n",
       "  <thead>\n",
       "    <tr style=\"text-align: right;\">\n",
       "      <th></th>\n",
       "      <th>epub_url</th>\n",
       "    </tr>\n",
       "  </thead>\n",
       "  <tbody>\n",
       "    <tr>\n",
       "      <th>Adventures-of-Huckleberry-Finn_76</th>\n",
       "      <td>https://github.com/GITenberg/Adventures-of-Huc...</td>\n",
       "    </tr>\n",
       "    <tr>\n",
       "      <th>Don-Quixote_996</th>\n",
       "      <td>https://github.com/GITenberg/Don-Quixote_996/r...</td>\n",
       "    </tr>\n",
       "    <tr>\n",
       "      <th>Dubliners_2814</th>\n",
       "      <td>https://github.com/GITenberg/Dubliners_2814/re...</td>\n",
       "    </tr>\n",
       "    <tr>\n",
       "      <th>Jane-Eyre_1260</th>\n",
       "      <td>https://github.com/GITenberg/Jane-Eyre_1260/re...</td>\n",
       "    </tr>\n",
       "    <tr>\n",
       "      <th>Moby-Dick--Or-The-Whale_2701</th>\n",
       "      <td>https://github.com/GITenberg/Moby-Dick--Or-The...</td>\n",
       "    </tr>\n",
       "  </tbody>\n",
       "</table>\n",
       "</div>"
      ],
      "text/plain": [
       "                                                                            epub_url\n",
       "Adventures-of-Huckleberry-Finn_76  https://github.com/GITenberg/Adventures-of-Huc...\n",
       "Don-Quixote_996                    https://github.com/GITenberg/Don-Quixote_996/r...\n",
       "Dubliners_2814                     https://github.com/GITenberg/Dubliners_2814/re...\n",
       "Jane-Eyre_1260                     https://github.com/GITenberg/Jane-Eyre_1260/re...\n",
       "Moby-Dick--Or-The-Whale_2701       https://github.com/GITenberg/Moby-Dick--Or-The..."
      ]
     },
     "execution_count": 45,
     "metadata": {},
     "output_type": "execute_result"
    }
   ],
   "source": [
    "df = DataFrame({'epub_url':epub_urls}, index=all_repos)\n",
    "df.head()"
   ]
  },
  {
   "cell_type": "code",
   "execution_count": 46,
   "metadata": {
    "collapsed": false
   },
   "outputs": [],
   "source": [
    "df['status_code'] = df.epub_url.apply(lambda u: requests.head(u).status_code)"
   ]
  },
  {
   "cell_type": "code",
   "execution_count": 47,
   "metadata": {
    "collapsed": false
   },
   "outputs": [],
   "source": [
    "df['buildable'] = df.index.map(repo_is_buildable)"
   ]
  },
  {
   "cell_type": "code",
   "execution_count": 48,
   "metadata": {
    "collapsed": false
   },
   "outputs": [
    {
     "data": {
      "text/html": [
       "<div style=\"max-height:1000px;max-width:1500px;overflow:auto;\">\n",
       "<table border=\"1\" class=\"dataframe\">\n",
       "  <thead>\n",
       "    <tr style=\"text-align: right;\">\n",
       "      <th></th>\n",
       "      <th>epub_url</th>\n",
       "      <th>status_code</th>\n",
       "      <th>buildable</th>\n",
       "    </tr>\n",
       "  </thead>\n",
       "  <tbody>\n",
       "    <tr>\n",
       "      <th>Household-Stories-by-the-Brothers-Grimm_19068</th>\n",
       "      <td>https://github.com/GITenberg/Household-Stories...</td>\n",
       "      <td>404</td>\n",
       "      <td>True</td>\n",
       "    </tr>\n",
       "    <tr>\n",
       "      <th>The-Picture-of-Dorian-Gray_174</th>\n",
       "      <td>https://github.com/GITenberg/The-Picture-of-Do...</td>\n",
       "      <td>404</td>\n",
       "      <td>False</td>\n",
       "    </tr>\n",
       "    <tr>\n",
       "      <th>The-Hunchback-of-Notre-Dame_6539</th>\n",
       "      <td>https://github.com/GITenberg/The-Hunchback-of-...</td>\n",
       "      <td>404</td>\n",
       "      <td>False</td>\n",
       "    </tr>\n",
       "  </tbody>\n",
       "</table>\n",
       "</div>"
      ],
      "text/plain": [
       "                                                                                        epub_url  \\\n",
       "Household-Stories-by-the-Brothers-Grimm_19068  https://github.com/GITenberg/Household-Stories...   \n",
       "The-Picture-of-Dorian-Gray_174                 https://github.com/GITenberg/The-Picture-of-Do...   \n",
       "The-Hunchback-of-Notre-Dame_6539               https://github.com/GITenberg/The-Hunchback-of-...   \n",
       "\n",
       "                                               status_code buildable  \n",
       "Household-Stories-by-the-Brothers-Grimm_19068          404      True  \n",
       "The-Picture-of-Dorian-Gray_174                         404     False  \n",
       "The-Hunchback-of-Notre-Dame_6539                       404     False  "
      ]
     },
     "execution_count": 48,
     "metadata": {},
     "output_type": "execute_result"
    }
   ],
   "source": [
    "k = df[df['status_code'] == 404][:3]\n",
    "k['status_code'] = k.epub_url.apply(lambda u: requests.head(u).status_code)\n",
    "k.head()"
   ]
  },
  {
   "cell_type": "code",
   "execution_count": null,
   "metadata": {
    "collapsed": false
   },
   "outputs": [],
   "source": [
    "df.ix[k.index] = k"
   ]
  },
  {
   "cell_type": "code",
   "execution_count": null,
   "metadata": {
    "collapsed": false
   },
   "outputs": [],
   "source": [
    "list(k.epub_url)"
   ]
  },
  {
   "cell_type": "code",
   "execution_count": null,
   "metadata": {
    "collapsed": false
   },
   "outputs": [],
   "source": [
    "df[(df.status_code == 404) & (df.buildable)]"
   ]
  },
  {
   "cell_type": "code",
   "execution_count": null,
   "metadata": {
    "collapsed": false
   },
   "outputs": [],
   "source": [
    "df['metadata_url'] = df.index.map(lambda repo: \"https://github.com/GITenberg/{}/raw/master/metadata.yaml\".format(repo))"
   ]
  },
  {
   "cell_type": "code",
   "execution_count": null,
   "metadata": {
    "collapsed": false
   },
   "outputs": [],
   "source": [
    "print \"\\n\".join(list(df[~df.buildable].index))"
   ]
  },
  {
   "cell_type": "code",
   "execution_count": 56,
   "metadata": {
    "collapsed": false
   },
   "outputs": [
    {
     "data": {
      "text/plain": [
       "True     46\n",
       "False     4\n",
       "dtype: int64"
      ]
     },
     "execution_count": 56,
     "metadata": {},
     "output_type": "execute_result"
    }
   ],
   "source": [
    "df.buildable.value_counts()"
   ]
  },
  {
   "cell_type": "code",
   "execution_count": 52,
   "metadata": {
    "collapsed": false
   },
   "outputs": [],
   "source": [
    "df.to_clipboard(index_label=\"repo\", sep=',')"
   ]
  },
  {
   "cell_type": "code",
   "execution_count": 55,
   "metadata": {
    "collapsed": false
   },
   "outputs": [
    {
     "data": {
      "text/html": [
       "<div style=\"max-height:1000px;max-width:1500px;overflow:auto;\">\n",
       "<table border=\"1\" class=\"dataframe\">\n",
       "  <thead>\n",
       "    <tr style=\"text-align: right;\">\n",
       "      <th></th>\n",
       "      <th>epub_url</th>\n",
       "      <th>status_code</th>\n",
       "      <th>buildable</th>\n",
       "    </tr>\n",
       "  </thead>\n",
       "  <tbody>\n",
       "    <tr>\n",
       "      <th>Household-Stories-by-the-Brothers-Grimm_19068</th>\n",
       "      <td>https://github.com/GITenberg/Household-Stories...</td>\n",
       "      <td>404</td>\n",
       "      <td>True</td>\n",
       "    </tr>\n",
       "    <tr>\n",
       "      <th>The-Picture-of-Dorian-Gray_174</th>\n",
       "      <td>https://github.com/GITenberg/The-Picture-of-Do...</td>\n",
       "      <td>404</td>\n",
       "      <td>False</td>\n",
       "    </tr>\n",
       "    <tr>\n",
       "      <th>The-Hunchback-of-Notre-Dame_6539</th>\n",
       "      <td>https://github.com/GITenberg/The-Hunchback-of-...</td>\n",
       "      <td>404</td>\n",
       "      <td>False</td>\n",
       "    </tr>\n",
       "    <tr>\n",
       "      <th>Divine-Comedy-Longfellow-s-Translation-Hell_1001</th>\n",
       "      <td>https://github.com/GITenberg/Divine-Comedy-Lon...</td>\n",
       "      <td>404</td>\n",
       "      <td>False</td>\n",
       "    </tr>\n",
       "    <tr>\n",
       "      <th>The-Works-of-Edgar-Allan-Poe-The-Raven-EditionTable-Of-Contents-And-Index-Of-The-Five-Volumes_25525</th>\n",
       "      <td>https://github.com/GITenberg/The-Works-of-Edga...</td>\n",
       "      <td>404</td>\n",
       "      <td>False</td>\n",
       "    </tr>\n",
       "  </tbody>\n",
       "</table>\n",
       "</div>"
      ],
      "text/plain": [
       "                                                                                                                                              epub_url  \\\n",
       "Household-Stories-by-the-Brothers-Grimm_19068                                                        https://github.com/GITenberg/Household-Stories...   \n",
       "The-Picture-of-Dorian-Gray_174                                                                       https://github.com/GITenberg/The-Picture-of-Do...   \n",
       "The-Hunchback-of-Notre-Dame_6539                                                                     https://github.com/GITenberg/The-Hunchback-of-...   \n",
       "Divine-Comedy-Longfellow-s-Translation-Hell_1001                                                     https://github.com/GITenberg/Divine-Comedy-Lon...   \n",
       "The-Works-of-Edgar-Allan-Poe-The-Raven-EditionTable-Of-Contents-And-Index-Of-The-Five-Volumes_25525  https://github.com/GITenberg/The-Works-of-Edga...   \n",
       "\n",
       "                                                                                                     status_code  \\\n",
       "Household-Stories-by-the-Brothers-Grimm_19068                                                                404   \n",
       "The-Picture-of-Dorian-Gray_174                                                                               404   \n",
       "The-Hunchback-of-Notre-Dame_6539                                                                             404   \n",
       "Divine-Comedy-Longfellow-s-Translation-Hell_1001                                                             404   \n",
       "The-Works-of-Edgar-Allan-Poe-The-Raven-EditionTable-Of-Contents-And-Index-Of-The-Five-Volumes_25525          404   \n",
       "\n",
       "                                                                                                    buildable  \n",
       "Household-Stories-by-the-Brothers-Grimm_19068                                                            True  \n",
       "The-Picture-of-Dorian-Gray_174                                                                          False  \n",
       "The-Hunchback-of-Notre-Dame_6539                                                                        False  \n",
       "Divine-Comedy-Longfellow-s-Translation-Hell_1001                                                        False  \n",
       "The-Works-of-Edgar-Allan-Poe-The-Raven-EditionTable-Of-Contents-And-Index-Of-The-Five-Volumes_25525     False  "
      ]
     },
     "execution_count": 55,
     "metadata": {},
     "output_type": "execute_result"
    }
   ],
   "source": [
    "df[df.status_code == 404]"
   ]
  },
  {
   "cell_type": "markdown",
   "metadata": {},
   "source": [
    "# Misc"
   ]
  },
  {
   "cell_type": "code",
   "execution_count": null,
   "metadata": {
    "collapsed": false
   },
   "outputs": [],
   "source": [
    "md.metadata.get(\"title\"), md.metadata.get(\"_repo\"), md.metadata.get(\"_version\"), "
   ]
  },
  {
   "cell_type": "code",
   "execution_count": null,
   "metadata": {
    "collapsed": false
   },
   "outputs": [],
   "source": [
    "# figure out what elements to feed to template\n",
    "# \n",
    "\n",
    "from jinja2 import Environment, PackageLoader, meta\n",
    "env = Environment()\n",
    "parsed_content = env.parse(template)\n",
    "meta.find_undeclared_variables(parsed_content)"
   ]
  },
  {
   "cell_type": "code",
   "execution_count": null,
   "metadata": {
    "collapsed": false
   },
   "outputs": [],
   "source": [
    "import sh\n",
    "\n",
    "sh.cd(\"/Users/raymondyee/C/src/gitenberg/Adventures-of-Huckleberry-Finn_76\")\n",
    "sh.travis.whoami()"
   ]
  },
  {
   "cell_type": "code",
   "execution_count": null,
   "metadata": {
    "collapsed": false
   },
   "outputs": [],
   "source": [
    "from itertools import islice, izip\n",
    "\n",
    "repos = list(islice(second_folio.all_repos,1,None))\n",
    "\n",
    "list(izip(repos, apply_to_repos(git_mv_asciidoc, repos=repos)))"
   ]
  },
  {
   "cell_type": "code",
   "execution_count": null,
   "metadata": {
    "collapsed": false
   },
   "outputs": [],
   "source": [
    "list(apply_to_repos(git_pull))"
   ]
  },
  {
   "cell_type": "code",
   "execution_count": null,
   "metadata": {
    "collapsed": true
   },
   "outputs": [],
   "source": [
    "from __future__ import print_function"
   ]
  },
  {
   "cell_type": "code",
   "execution_count": null,
   "metadata": {
    "collapsed": false
   },
   "outputs": [],
   "source": [
    "line = \"Detected repository as GITenberg/Don-Quixote_996, is this correct? |yes| \"\n",
    "\"Detected\" in line"
   ]
  },
  {
   "cell_type": "code",
   "execution_count": null,
   "metadata": {
    "collapsed": true
   },
   "outputs": [],
   "source": []
  }
 ],
 "metadata": {
  "kernelspec": {
   "display_name": "Python 2",
   "language": "python",
   "name": "python2"
  },
  "language_info": {
   "codemirror_mode": {
    "name": "ipython",
    "version": 2
   },
   "file_extension": ".py",
   "mimetype": "text/x-python",
   "name": "python",
   "nbconvert_exporter": "python",
   "pygments_lexer": "ipython2",
   "version": "2.7.10"
  }
 },
 "nbformat": 4,
 "nbformat_minor": 0
}
