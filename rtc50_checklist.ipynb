{
 "cells": [
  {
   "cell_type": "markdown",
   "metadata": {},
   "source": [
    "https://github.com/burnash/gspread\n",
    "\n",
    "spreadsheet to process: https://docs.google.com/spreadsheets/d/1B0qccrlgnUDuNzyadA4pWvjDJs3XuHzkFVX1en8C2Eg/edit#gid=0"
   ]
  },
  {
   "cell_type": "code",
   "execution_count": 1,
   "metadata": {
    "collapsed": false
   },
   "outputs": [],
   "source": [
    "import gspread\n",
    "import json\n",
    "\n",
    "g_name = \"Gitenberg Book List (Summer 2015) || Contributors: Jennifer 8. Lee and Michelle Cheng\"\n",
    "url = \"https://docs.google.com/spreadsheets/d/1B0qccrlgnUDuNzyadA4pWvjDJs3XuHzkFVX1en8C2Eg/edit#gid=0\"\n",
    "g_key = \"1B0qccrlgnUDuNzyadA4pWvjDJs3XuHzkFVX1en8C2Eg\"\n"
   ]
  },
  {
   "cell_type": "markdown",
   "metadata": {},
   "source": [
    "# OAuth2: Method 1\n",
    "\n",
    "[Using OAuth2 for Authorization — gspread 0.2.5 documentation](http://gspread.readthedocs.org/en/latest/oauth2.html)\n",
    "\n",
    "Created: https://console.developers.google.com/project/nypl50-gspread/apiui/credential#\n",
    "\n",
    "```\n",
    "pip install --upgrade oauth2client\n",
    "```\n",
    "\n",
    "I'd have to share the spreadsheet with `535523918532-5ejclnn335tr2g1u0dqnvh7g39q78mim@developer.gserviceaccount.com` -- so let's look at method 2"
   ]
  },
  {
   "cell_type": "code",
   "execution_count": 2,
   "metadata": {
    "collapsed": false
   },
   "outputs": [],
   "source": [
    "import json\n",
    "import gspread\n",
    "from oauth2client.client import SignedJwtAssertionCredentials\n",
    "\n",
    "json_key = json.load(open('nypl50-gspread.json'))\n",
    "scope = ['https://spreadsheets.google.com/feeds']\n",
    "\n",
    "credentials = SignedJwtAssertionCredentials(json_key['client_email'], json_key['private_key'], scope)\n",
    "\n",
    "gc = gspread.authorize(credentials)\n",
    "\n",
    "#wks = gc.open_by_key(g_key).sheet1\n",
    "wks = gc.open(g_name).sheet1"
   ]
  },
  {
   "cell_type": "markdown",
   "metadata": {},
   "source": [
    "# OAuth2:  Method 2 -- actually do the auth\n",
    "\n",
    "https://developers.google.com/api-client-library/python/guide/aaa_oauth and\n",
    "https://developers.google.com/api-client-library/python/auth/installed-app"
   ]
  },
  {
   "cell_type": "code",
   "execution_count": null,
   "metadata": {
    "collapsed": false
   },
   "outputs": [],
   "source": [
    "credentials = json.loads(open(\"client_secret.json\").read())\n",
    "(credentials[\"installed\"][\"client_id\"], credentials[\"installed\"][\"client_secret\"])"
   ]
  },
  {
   "cell_type": "code",
   "execution_count": null,
   "metadata": {
    "collapsed": false
   },
   "outputs": [],
   "source": [
    "from oauth2client import client\n",
    "import webbrowser\n",
    "\n",
    "flow = client.flow_from_clientsecrets(\n",
    "    'client_secret.json',\n",
    "    scope='https://spreadsheets.google.com/feeds',\n",
    "    redirect_uri='urn:ietf:wg:oauth:2.0:oob')"
   ]
  },
  {
   "cell_type": "code",
   "execution_count": null,
   "metadata": {
    "collapsed": false
   },
   "outputs": [],
   "source": [
    "auth_uri = flow.step1_get_authorize_url()\n",
    "webbrowser.open_new(auth_uri)"
   ]
  },
  {
   "cell_type": "code",
   "execution_count": null,
   "metadata": {
    "collapsed": false
   },
   "outputs": [],
   "source": [
    "auth_code = raw_input(\"Some input please: \")\n",
    "credentials = flow.step2_exchange(auth_code)\n",
    "credentials"
   ]
  },
  {
   "cell_type": "code",
   "execution_count": null,
   "metadata": {
    "collapsed": false
   },
   "outputs": [],
   "source": [
    "gc = gspread.authorize(credentials)\n",
    "wks = gc.open_by_url(url).sheet1"
   ]
  },
  {
   "cell_type": "markdown",
   "metadata": {},
   "source": [
    "# Calculations"
   ]
  },
  {
   "cell_type": "code",
   "execution_count": 3,
   "metadata": {
    "collapsed": false
   },
   "outputs": [
    {
     "data": {
      "text/plain": [
       "<Worksheet 'RTC 100 (or 98)' id:od6>"
      ]
     },
     "execution_count": 3,
     "metadata": {},
     "output_type": "execute_result"
    }
   ],
   "source": [
    "wks"
   ]
  },
  {
   "cell_type": "code",
   "execution_count": 4,
   "metadata": {
    "collapsed": false
   },
   "outputs": [],
   "source": [
    "all_rows = wks.get_all_values()"
   ]
  },
  {
   "cell_type": "code",
   "execution_count": 5,
   "metadata": {
    "collapsed": true
   },
   "outputs": [],
   "source": [
    "import pandas as pd\n",
    "from pandas import (DataFrame, Series)"
   ]
  },
  {
   "cell_type": "code",
   "execution_count": 6,
   "metadata": {
    "collapsed": false
   },
   "outputs": [
    {
     "data": {
      "text/html": [
       "<div style=\"max-height:1000px;max-width:1500px;overflow:auto;\">\n",
       "<table border=\"1\" class=\"dataframe\">\n",
       "  <thead>\n",
       "    <tr style=\"text-align: right;\">\n",
       "      <th></th>\n",
       "      <th>Title</th>\n",
       "      <th>Author</th>\n",
       "      <th>Gitenberg Status</th>\n",
       "      <th>Gitenberg URL</th>\n",
       "      <th>Repo Cover</th>\n",
       "      <th>RTC 1st GEN</th>\n",
       "      <th>RTC 2nd GEN</th>\n",
       "      <th>RTC Other Gen</th>\n",
       "      <th>RTC Cover?</th>\n",
       "      <th>RTC Good Cover?</th>\n",
       "      <th>CAN REQUEST DATE</th>\n",
       "      <th>Notes</th>\n",
       "      <th>name in rtc/books.json</th>\n",
       "    </tr>\n",
       "  </thead>\n",
       "  <tbody>\n",
       "    <tr>\n",
       "      <th>3</th>\n",
       "      <td>Adventures of Huckleberry Finn</td>\n",
       "      <td>Mark Twain</td>\n",
       "      <td>Needs Check</td>\n",
       "      <td>https://github.com/GITenberg/Adventures-of-Huc...</td>\n",
       "      <td>YES</td>\n",
       "      <td>X</td>\n",
       "      <td></td>\n",
       "      <td></td>\n",
       "      <td>YES</td>\n",
       "      <td></td>\n",
       "      <td></td>\n",
       "      <td></td>\n",
       "      <td>The Adventures of Huckleberry Finn</td>\n",
       "    </tr>\n",
       "    <tr>\n",
       "      <th>4</th>\n",
       "      <td>The Ingenious Gentleman Don Quixote of La Mancha</td>\n",
       "      <td>Miguel de Cervantes</td>\n",
       "      <td>ASCIIDOC</td>\n",
       "      <td>https://github.com/GITenberg/Don-Quixote_996</td>\n",
       "      <td>YES</td>\n",
       "      <td>X</td>\n",
       "      <td></td>\n",
       "      <td></td>\n",
       "      <td>YES</td>\n",
       "      <td></td>\n",
       "      <td></td>\n",
       "      <td></td>\n",
       "      <td>Don Quixote</td>\n",
       "    </tr>\n",
       "    <tr>\n",
       "      <th>5</th>\n",
       "      <td>Dubliners</td>\n",
       "      <td>James Joyce</td>\n",
       "      <td>Needs Build, Needs Cover</td>\n",
       "      <td>https://github.com/GITenberg/Dubliners_2814</td>\n",
       "      <td></td>\n",
       "      <td>X</td>\n",
       "      <td></td>\n",
       "      <td></td>\n",
       "      <td>YES</td>\n",
       "      <td></td>\n",
       "      <td></td>\n",
       "      <td></td>\n",
       "      <td>Dubliners</td>\n",
       "    </tr>\n",
       "    <tr>\n",
       "      <th>6</th>\n",
       "      <td>Jane Eyre</td>\n",
       "      <td>Charlotte Bronte</td>\n",
       "      <td>Needs Build</td>\n",
       "      <td>https://github.com/GITenberg/Jane-Eyre_1260</td>\n",
       "      <td>YES</td>\n",
       "      <td>X</td>\n",
       "      <td></td>\n",
       "      <td></td>\n",
       "      <td>YES</td>\n",
       "      <td></td>\n",
       "      <td></td>\n",
       "      <td></td>\n",
       "      <td>Jane Eyre</td>\n",
       "    </tr>\n",
       "    <tr>\n",
       "      <th>7</th>\n",
       "      <td>Moby-Dick</td>\n",
       "      <td>Herman Melville</td>\n",
       "      <td>Needs Build</td>\n",
       "      <td>https://github.com/GITenberg/Moby-Dick--Or-The...</td>\n",
       "      <td>YES</td>\n",
       "      <td>X</td>\n",
       "      <td></td>\n",
       "      <td></td>\n",
       "      <td>YES</td>\n",
       "      <td></td>\n",
       "      <td></td>\n",
       "      <td></td>\n",
       "      <td>Moby Dick</td>\n",
       "    </tr>\n",
       "  </tbody>\n",
       "</table>\n",
       "</div>"
      ],
      "text/plain": [
       "                                              Title               Author  \\\n",
       "3                    Adventures of Huckleberry Finn           Mark Twain   \n",
       "4  The Ingenious Gentleman Don Quixote of La Mancha  Miguel de Cervantes   \n",
       "5                                         Dubliners          James Joyce   \n",
       "6                                         Jane Eyre     Charlotte Bronte   \n",
       "7                                         Moby-Dick      Herman Melville   \n",
       "\n",
       "           Gitenberg Status  \\\n",
       "3               Needs Check   \n",
       "4                  ASCIIDOC   \n",
       "5  Needs Build, Needs Cover   \n",
       "6               Needs Build   \n",
       "7               Needs Build   \n",
       "\n",
       "                                       Gitenberg URL Repo Cover RTC 1st GEN  \\\n",
       "3  https://github.com/GITenberg/Adventures-of-Huc...        YES           X   \n",
       "4       https://github.com/GITenberg/Don-Quixote_996        YES           X   \n",
       "5        https://github.com/GITenberg/Dubliners_2814                      X   \n",
       "6        https://github.com/GITenberg/Jane-Eyre_1260        YES           X   \n",
       "7  https://github.com/GITenberg/Moby-Dick--Or-The...        YES           X   \n",
       "\n",
       "  RTC 2nd GEN RTC Other Gen RTC Cover? RTC Good Cover? CAN REQUEST DATE Notes  \\\n",
       "3                                  YES                                          \n",
       "4                                  YES                                          \n",
       "5                                  YES                                          \n",
       "6                                  YES                                          \n",
       "7                                  YES                                          \n",
       "\n",
       "               name in rtc/books.json  \n",
       "3  The Adventures of Huckleberry Finn  \n",
       "4                         Don Quixote  \n",
       "5                           Dubliners  \n",
       "6                           Jane Eyre  \n",
       "7                           Moby Dick  "
      ]
     },
     "execution_count": 6,
     "metadata": {},
     "output_type": "execute_result"
    }
   ],
   "source": [
    "df = DataFrame(all_rows[2:], columns=all_rows[1])\n",
    "df.index = df.index + 3  # shift index to match spreadsheet\n",
    "df.head()"
   ]
  },
  {
   "cell_type": "code",
   "execution_count": 7,
   "metadata": {
    "collapsed": false
   },
   "outputs": [
    {
     "data": {
      "text/plain": [
       "ASCIIDOC                    33\n",
       "Needs Build                  7\n",
       "                             6\n",
       "Needs Check                  2\n",
       "Needs Build, Needs Cover     1\n",
       "CHECK                        1\n",
       "dtype: int64"
      ]
     },
     "execution_count": 7,
     "metadata": {},
     "output_type": "execute_result"
    }
   ],
   "source": [
    "# what does the status mean?\n",
    "\n",
    "df[df[\"RTC Cover?\"] == 'YES'][\"Gitenberg Status\"].value_counts()"
   ]
  },
  {
   "cell_type": "code",
   "execution_count": 8,
   "metadata": {
    "collapsed": false
   },
   "outputs": [
    {
     "data": {
      "text/html": [
       "<div style=\"max-height:1000px;max-width:1500px;overflow:auto;\">\n",
       "<table border=\"1\" class=\"dataframe\">\n",
       "  <thead>\n",
       "    <tr style=\"text-align: right;\">\n",
       "      <th></th>\n",
       "      <th>Title</th>\n",
       "      <th>Author</th>\n",
       "      <th>Gitenberg Status</th>\n",
       "      <th>Gitenberg URL</th>\n",
       "      <th>Repo Cover</th>\n",
       "      <th>RTC 1st GEN</th>\n",
       "      <th>RTC 2nd GEN</th>\n",
       "      <th>RTC Other Gen</th>\n",
       "      <th>RTC Cover?</th>\n",
       "      <th>RTC Good Cover?</th>\n",
       "      <th>CAN REQUEST DATE</th>\n",
       "      <th>Notes</th>\n",
       "      <th>name in rtc/books.json</th>\n",
       "    </tr>\n",
       "  </thead>\n",
       "  <tbody>\n",
       "    <tr>\n",
       "      <th>3</th>\n",
       "      <td>Adventures of Huckleberry Finn</td>\n",
       "      <td>Mark Twain</td>\n",
       "      <td>Needs Check</td>\n",
       "      <td>https://github.com/GITenberg/Adventures-of-Huc...</td>\n",
       "      <td>YES</td>\n",
       "      <td>X</td>\n",
       "      <td></td>\n",
       "      <td></td>\n",
       "      <td>YES</td>\n",
       "      <td></td>\n",
       "      <td></td>\n",
       "      <td></td>\n",
       "      <td>The Adventures of Huckleberry Finn</td>\n",
       "    </tr>\n",
       "    <tr>\n",
       "      <th>4</th>\n",
       "      <td>The Ingenious Gentleman Don Quixote of La Mancha</td>\n",
       "      <td>Miguel de Cervantes</td>\n",
       "      <td>ASCIIDOC</td>\n",
       "      <td>https://github.com/GITenberg/Don-Quixote_996</td>\n",
       "      <td>YES</td>\n",
       "      <td>X</td>\n",
       "      <td></td>\n",
       "      <td></td>\n",
       "      <td>YES</td>\n",
       "      <td></td>\n",
       "      <td></td>\n",
       "      <td></td>\n",
       "      <td>Don Quixote</td>\n",
       "    </tr>\n",
       "    <tr>\n",
       "      <th>5</th>\n",
       "      <td>Dubliners</td>\n",
       "      <td>James Joyce</td>\n",
       "      <td>Needs Build, Needs Cover</td>\n",
       "      <td>https://github.com/GITenberg/Dubliners_2814</td>\n",
       "      <td></td>\n",
       "      <td>X</td>\n",
       "      <td></td>\n",
       "      <td></td>\n",
       "      <td>YES</td>\n",
       "      <td></td>\n",
       "      <td></td>\n",
       "      <td></td>\n",
       "      <td>Dubliners</td>\n",
       "    </tr>\n",
       "    <tr>\n",
       "      <th>6</th>\n",
       "      <td>Jane Eyre</td>\n",
       "      <td>Charlotte Bronte</td>\n",
       "      <td>Needs Build</td>\n",
       "      <td>https://github.com/GITenberg/Jane-Eyre_1260</td>\n",
       "      <td>YES</td>\n",
       "      <td>X</td>\n",
       "      <td></td>\n",
       "      <td></td>\n",
       "      <td>YES</td>\n",
       "      <td></td>\n",
       "      <td></td>\n",
       "      <td></td>\n",
       "      <td>Jane Eyre</td>\n",
       "    </tr>\n",
       "    <tr>\n",
       "      <th>7</th>\n",
       "      <td>Moby-Dick</td>\n",
       "      <td>Herman Melville</td>\n",
       "      <td>Needs Build</td>\n",
       "      <td>https://github.com/GITenberg/Moby-Dick--Or-The...</td>\n",
       "      <td>YES</td>\n",
       "      <td>X</td>\n",
       "      <td></td>\n",
       "      <td></td>\n",
       "      <td>YES</td>\n",
       "      <td></td>\n",
       "      <td></td>\n",
       "      <td></td>\n",
       "      <td>Moby Dick</td>\n",
       "    </tr>\n",
       "  </tbody>\n",
       "</table>\n",
       "</div>"
      ],
      "text/plain": [
       "                                              Title               Author  \\\n",
       "3                    Adventures of Huckleberry Finn           Mark Twain   \n",
       "4  The Ingenious Gentleman Don Quixote of La Mancha  Miguel de Cervantes   \n",
       "5                                         Dubliners          James Joyce   \n",
       "6                                         Jane Eyre     Charlotte Bronte   \n",
       "7                                         Moby-Dick      Herman Melville   \n",
       "\n",
       "           Gitenberg Status  \\\n",
       "3               Needs Check   \n",
       "4                  ASCIIDOC   \n",
       "5  Needs Build, Needs Cover   \n",
       "6               Needs Build   \n",
       "7               Needs Build   \n",
       "\n",
       "                                       Gitenberg URL Repo Cover RTC 1st GEN  \\\n",
       "3  https://github.com/GITenberg/Adventures-of-Huc...        YES           X   \n",
       "4       https://github.com/GITenberg/Don-Quixote_996        YES           X   \n",
       "5        https://github.com/GITenberg/Dubliners_2814                      X   \n",
       "6        https://github.com/GITenberg/Jane-Eyre_1260        YES           X   \n",
       "7  https://github.com/GITenberg/Moby-Dick--Or-The...        YES           X   \n",
       "\n",
       "  RTC 2nd GEN RTC Other Gen RTC Cover? RTC Good Cover? CAN REQUEST DATE Notes  \\\n",
       "3                                  YES                                          \n",
       "4                                  YES                                          \n",
       "5                                  YES                                          \n",
       "6                                  YES                                          \n",
       "7                                  YES                                          \n",
       "\n",
       "               name in rtc/books.json  \n",
       "3  The Adventures of Huckleberry Finn  \n",
       "4                         Don Quixote  \n",
       "5                           Dubliners  \n",
       "6                           Jane Eyre  \n",
       "7                           Moby Dick  "
      ]
     },
     "execution_count": 8,
     "metadata": {},
     "output_type": "execute_result"
    }
   ],
   "source": [
    "rtc50 = df[df[\"RTC Cover?\"] == 'YES']\n",
    "rtc50.head()"
   ]
  },
  {
   "cell_type": "markdown",
   "metadata": {
    "collapsed": true
   },
   "source": [
    "# rtc covers\n",
    "\n",
    "\n",
    "https://raw.githubusercontent.com/plympton/rtc/master/books.json"
   ]
  },
  {
   "cell_type": "code",
   "execution_count": 9,
   "metadata": {
    "collapsed": false
   },
   "outputs": [],
   "source": [
    "import requests\n",
    "rtc_covers_url = \"https://raw.githubusercontent.com/plympton/rtc/master/books.json\"\n",
    "covers = requests.get(rtc_covers_url).json()\n",
    "covers_dict = dict([(cover['name'], cover) for cover in covers])"
   ]
  },
  {
   "cell_type": "code",
   "execution_count": 29,
   "metadata": {
    "collapsed": false
   },
   "outputs": [],
   "source": [
    "# read off cover_map from df\n",
    "# http://stackoverflow.com/a/9762084\n",
    "cover_map = dict(filter(lambda (k,v):v,\n",
    "                  [tuple(x) for x in  df[['Title', 'name in rtc/books.json']].values]\n",
    "            ))"
   ]
  },
  {
   "cell_type": "code",
   "execution_count": 30,
   "metadata": {
    "collapsed": true
   },
   "outputs": [],
   "source": [
    "from IPython.display import HTML\n",
    "from PIL import Image\n",
    "import jinja2"
   ]
  },
  {
   "cell_type": "code",
   "execution_count": 31,
   "metadata": {
    "collapsed": false
   },
   "outputs": [
    {
     "data": {
      "text/html": [
       "<b>hi</b>"
      ],
      "text/plain": [
       "<IPython.core.display.HTML object>"
      ]
     },
     "execution_count": 31,
     "metadata": {},
     "output_type": "execute_result"
    }
   ],
   "source": [
    "HTML(\"<b>hi</b>\")"
   ]
  },
  {
   "cell_type": "code",
   "execution_count": 35,
   "metadata": {
    "collapsed": false
   },
   "outputs": [],
   "source": [
    "# let's look at the images for the books\n",
    "# https://cdn.rawgit.com/plympton/rtc/master/rtc_books/\n",
    "# https://cdn.rawgit.com/plympton/rtc/master/rtc_books_resized/\n",
    "\n",
    "cover_url_base = \"https://cdn.rawgit.com/plympton/rtc/master/rtc_books/\"\n",
    "small_cover_url_base = \"https://cdn.rawgit.com/plympton/rtc/master/rtc_books_resized/\"\n",
    "\n",
    "from functools import partial\n",
    "\n",
    "def cover_name_to_url(name, reduce=False):\n",
    "    \n",
    "    if reduce:\n",
    "        url = small_cover_url_base\n",
    "    else:\n",
    "        url = cover_url_base\n",
    "        \n",
    "    cover = covers_dict.get(name)\n",
    "    if cover is not None:\n",
    "        return url + cover['covers'][0][\"filename\"]\n",
    "    else:\n",
    "        return None\n",
    "    \n",
    "cover_name_to_url_small = partial(cover_name_to_url, reduce=True)\n",
    "cover_name_to_url_big = partial(cover_name_to_url, reduce=False)\n",
    "\n",
    "\n",
    "rtc50 = df[df[\"RTC Cover?\"] == 'YES']\n",
    "df['image_url'] = rtc50['name in rtc/books.json'].map(cover_name_to_url_small)"
   ]
  },
  {
   "cell_type": "code",
   "execution_count": 37,
   "metadata": {
    "collapsed": false
   },
   "outputs": [
    {
     "data": {
      "text/html": [
       "<div style=\"max-height:1000px;max-width:1500px;overflow:auto;\">\n",
       "<table border=\"1\" class=\"dataframe\">\n",
       "  <thead>\n",
       "    <tr style=\"text-align: right;\">\n",
       "      <th></th>\n",
       "      <th>Title</th>\n",
       "      <th>Author</th>\n",
       "      <th>Gitenberg Status</th>\n",
       "      <th>Gitenberg URL</th>\n",
       "      <th>Repo Cover</th>\n",
       "      <th>RTC 1st GEN</th>\n",
       "      <th>RTC 2nd GEN</th>\n",
       "      <th>RTC Other Gen</th>\n",
       "      <th>RTC Cover?</th>\n",
       "      <th>RTC Good Cover?</th>\n",
       "      <th>CAN REQUEST DATE</th>\n",
       "      <th>Notes</th>\n",
       "      <th>name in rtc/books.json</th>\n",
       "      <th>image_url</th>\n",
       "    </tr>\n",
       "  </thead>\n",
       "  <tbody>\n",
       "    <tr>\n",
       "      <th>3</th>\n",
       "      <td>Adventures of Huckleberry Finn</td>\n",
       "      <td>Mark Twain</td>\n",
       "      <td>Needs Check</td>\n",
       "      <td>https://github.com/GITenberg/Adventures-of-Huc...</td>\n",
       "      <td>YES</td>\n",
       "      <td>X</td>\n",
       "      <td></td>\n",
       "      <td></td>\n",
       "      <td>YES</td>\n",
       "      <td></td>\n",
       "      <td></td>\n",
       "      <td></td>\n",
       "      <td>The Adventures of Huckleberry Finn</td>\n",
       "      <td>https://cdn.rawgit.com/plympton/rtc/master/rtc...</td>\n",
       "    </tr>\n",
       "    <tr>\n",
       "      <th>4</th>\n",
       "      <td>The Ingenious Gentleman Don Quixote of La Mancha</td>\n",
       "      <td>Miguel de Cervantes</td>\n",
       "      <td>ASCIIDOC</td>\n",
       "      <td>https://github.com/GITenberg/Don-Quixote_996</td>\n",
       "      <td>YES</td>\n",
       "      <td>X</td>\n",
       "      <td></td>\n",
       "      <td></td>\n",
       "      <td>YES</td>\n",
       "      <td></td>\n",
       "      <td></td>\n",
       "      <td></td>\n",
       "      <td>Don Quixote</td>\n",
       "      <td>https://cdn.rawgit.com/plympton/rtc/master/rtc...</td>\n",
       "    </tr>\n",
       "    <tr>\n",
       "      <th>5</th>\n",
       "      <td>Dubliners</td>\n",
       "      <td>James Joyce</td>\n",
       "      <td>Needs Build, Needs Cover</td>\n",
       "      <td>https://github.com/GITenberg/Dubliners_2814</td>\n",
       "      <td></td>\n",
       "      <td>X</td>\n",
       "      <td></td>\n",
       "      <td></td>\n",
       "      <td>YES</td>\n",
       "      <td></td>\n",
       "      <td></td>\n",
       "      <td></td>\n",
       "      <td>Dubliners</td>\n",
       "      <td>https://cdn.rawgit.com/plympton/rtc/master/rtc...</td>\n",
       "    </tr>\n",
       "    <tr>\n",
       "      <th>6</th>\n",
       "      <td>Jane Eyre</td>\n",
       "      <td>Charlotte Bronte</td>\n",
       "      <td>Needs Build</td>\n",
       "      <td>https://github.com/GITenberg/Jane-Eyre_1260</td>\n",
       "      <td>YES</td>\n",
       "      <td>X</td>\n",
       "      <td></td>\n",
       "      <td></td>\n",
       "      <td>YES</td>\n",
       "      <td></td>\n",
       "      <td></td>\n",
       "      <td></td>\n",
       "      <td>Jane Eyre</td>\n",
       "      <td>https://cdn.rawgit.com/plympton/rtc/master/rtc...</td>\n",
       "    </tr>\n",
       "    <tr>\n",
       "      <th>7</th>\n",
       "      <td>Moby-Dick</td>\n",
       "      <td>Herman Melville</td>\n",
       "      <td>Needs Build</td>\n",
       "      <td>https://github.com/GITenberg/Moby-Dick--Or-The...</td>\n",
       "      <td>YES</td>\n",
       "      <td>X</td>\n",
       "      <td></td>\n",
       "      <td></td>\n",
       "      <td>YES</td>\n",
       "      <td></td>\n",
       "      <td></td>\n",
       "      <td></td>\n",
       "      <td>Moby Dick</td>\n",
       "      <td>https://cdn.rawgit.com/plympton/rtc/master/rtc...</td>\n",
       "    </tr>\n",
       "  </tbody>\n",
       "</table>\n",
       "</div>"
      ],
      "text/plain": [
       "                                              Title               Author  \\\n",
       "3                    Adventures of Huckleberry Finn           Mark Twain   \n",
       "4  The Ingenious Gentleman Don Quixote of La Mancha  Miguel de Cervantes   \n",
       "5                                         Dubliners          James Joyce   \n",
       "6                                         Jane Eyre     Charlotte Bronte   \n",
       "7                                         Moby-Dick      Herman Melville   \n",
       "\n",
       "           Gitenberg Status  \\\n",
       "3               Needs Check   \n",
       "4                  ASCIIDOC   \n",
       "5  Needs Build, Needs Cover   \n",
       "6               Needs Build   \n",
       "7               Needs Build   \n",
       "\n",
       "                                       Gitenberg URL Repo Cover RTC 1st GEN  \\\n",
       "3  https://github.com/GITenberg/Adventures-of-Huc...        YES           X   \n",
       "4       https://github.com/GITenberg/Don-Quixote_996        YES           X   \n",
       "5        https://github.com/GITenberg/Dubliners_2814                      X   \n",
       "6        https://github.com/GITenberg/Jane-Eyre_1260        YES           X   \n",
       "7  https://github.com/GITenberg/Moby-Dick--Or-The...        YES           X   \n",
       "\n",
       "  RTC 2nd GEN RTC Other Gen RTC Cover? RTC Good Cover? CAN REQUEST DATE Notes  \\\n",
       "3                                  YES                                          \n",
       "4                                  YES                                          \n",
       "5                                  YES                                          \n",
       "6                                  YES                                          \n",
       "7                                  YES                                          \n",
       "\n",
       "               name in rtc/books.json  \\\n",
       "3  The Adventures of Huckleberry Finn   \n",
       "4                         Don Quixote   \n",
       "5                           Dubliners   \n",
       "6                           Jane Eyre   \n",
       "7                           Moby Dick   \n",
       "\n",
       "                                           image_url  \n",
       "3  https://cdn.rawgit.com/plympton/rtc/master/rtc...  \n",
       "4  https://cdn.rawgit.com/plympton/rtc/master/rtc...  \n",
       "5  https://cdn.rawgit.com/plympton/rtc/master/rtc...  \n",
       "6  https://cdn.rawgit.com/plympton/rtc/master/rtc...  \n",
       "7  https://cdn.rawgit.com/plympton/rtc/master/rtc...  "
      ]
     },
     "execution_count": 37,
     "metadata": {},
     "output_type": "execute_result"
    }
   ],
   "source": [
    "rtc50 = df[df[\"RTC Cover?\"] == 'YES']\n",
    "rtc50.head()"
   ]
  },
  {
   "cell_type": "code",
   "execution_count": null,
   "metadata": {
    "collapsed": false
   },
   "outputs": [],
   "source": [
    "im = Image.open('Foto.jpg')\n",
    "im.save('Foto.png')"
   ]
  },
  {
   "cell_type": "code",
   "execution_count": 43,
   "metadata": {
    "collapsed": false
   },
   "outputs": [],
   "source": [
    "results = rtc50[['Title', 'image_url']].T.to_dict().values()"
   ]
  },
  {
   "cell_type": "code",
   "execution_count": 47,
   "metadata": {
    "collapsed": false
   },
   "outputs": [
    {
     "data": {
      "text/html": [
       "\n",
       "<style>\n",
       "  .wrap img {\n",
       "    margin-left: 0px;\n",
       "    margin-right: 0px;\n",
       "    display: inline-block;\n",
       "    width: 100px;\n",
       "  }\n",
       "</style>\n",
       "\n",
       "<div class=\"wrap\">\n",
       " <img title=\"Adventures of Huckleberry Finn\" src=\"https://cdn.rawgit.com/plympton/rtc/master/rtc_books_resized/rtc_The+Adventures+of+Huckleberry+Finn_Priscilla+Parizeau.jpeg\"/><img title=\"The Ingenious Gentleman Don Quixote of La Mancha\" src=\"https://cdn.rawgit.com/plympton/rtc/master/rtc_books_resized/rtc_Don+Quixote_Wedha+Abdul+Rasyid.jpeg\"/><img title=\"Dubliners\" src=\"https://cdn.rawgit.com/plympton/rtc/master/rtc_books_resized/rtc_Dubliners_Devin.jpeg\"/><img title=\"Jane Eyre\" src=\"https://cdn.rawgit.com/plympton/rtc/master/rtc_books_resized/rtc_Jane+Eyre_Ed+Gaither+-+Modern+Electrographic.jpg\"/><img title=\"Moby-Dick\" src=\"https://cdn.rawgit.com/plympton/rtc/master/rtc_books_resized/rtc_Moby+Dick_Black+Dwarf+Designs.png\"/><img title=\"Narrative of the Life of Frederick Douglass, an American Slave\" src=\"None\"/><img title=\"Pride and Prejudice\" src=\"https://cdn.rawgit.com/plympton/rtc/master/rtc_books_resized/rtc_Pride+and+Prejudice_Tim+Daniel.jpeg\"/><img title=\"The Adventures of Sherlock Holmes\" src=\"https://cdn.rawgit.com/plympton/rtc/master/rtc_books_resized/rtc_The+Adventures+of+Sherlock+Holmes_Maria+Papaefstathiou.jpeg\"/><img title=\"The Brothers Karamazov\" src=\"https://cdn.rawgit.com/plympton/rtc/master/rtc_books_resized/rtc_The+Brothers+Karamazov_Roberlan+Borges.jpeg\"/><img title=\"The Time Machine\" src=\"https://cdn.rawgit.com/plympton/rtc/master/rtc_books_resized/rtc_The+Time+Machine_Jon+Cain.jpeg\"/><img title=\"Frankenstein\" src=\"https://cdn.rawgit.com/plympton/rtc/master/rtc_books_resized/rtc_Frankenstein_Luis+Prado.jpeg\"/><img title=\"Middlemarch, A Study of Provincial Life\" src=\"https://cdn.rawgit.com/plympton/rtc/master/rtc_books_resized/rtc_Middlemarch_Ed+Gaither+-+Modern+Electrographic.jpeg\"/><img title=\"A Tale of Two Cities\" src=\"https://cdn.rawgit.com/plympton/rtc/master/rtc_books_resized/rtc_A+Tale+of+Two+Cities_Alexis+Lampley.jpg\"/><img title=\"The Call of the Wild\" src=\"https://cdn.rawgit.com/plympton/rtc/master/rtc_books_resized/rtc_Call+of+the+Wild_Michael+van+Kekem.jpeg\"/><img title=\"Crime and Punishment\" src=\"https://cdn.rawgit.com/plympton/rtc/master/rtc_books_resized/rtc_Crime+and+Punishment_Mario+Fuentes.jpeg\"/><img title=\"Strange Case of Dr Jekyll and Mr Hyde\" src=\"https://cdn.rawgit.com/plympton/rtc/master/rtc_books_resized/rtc_Dr+++Jekyll+and+Mr+++Hyde_mafMOVE.jpeg\"/><img title=\"Dracula\" src=\"https://cdn.rawgit.com/plympton/rtc/master/rtc_books_resized/rtc_Dracula_Steve+St+++Pierre.jpeg\"/><img title=\"Flatland: A Romance of Many Dimensions\" src=\"https://cdn.rawgit.com/plympton/rtc/master/rtc_books_resized/rtc_Flatland_alex+mckeithen.jpeg\"/><img title=\"Grimm's Fairy Tales\" src=\"https://cdn.rawgit.com/plympton/rtc/master/rtc_books_resized/rtc_Grimm+s+Fairy+Tales_Kathryn+Delaney.jpeg\"/><img title=\"Heart of Darkness\" src=\"https://cdn.rawgit.com/plympton/rtc/master/rtc_books_resized/rtc_Heart+of+Darkness_Louise+Norman.jpeg\"/><img title=\"Journey to the Center of the Earth\" src=\"https://cdn.rawgit.com/plympton/rtc/master/rtc_books_resized/rtc_Journey+to+the+Center+of+the+Earth_Ed+Gaither+-+Modern+Electrographic.jpeg\"/><img title=\"Jude the Obscure\" src=\"https://cdn.rawgit.com/plympton/rtc/master/rtc_books_resized/rtc_Jude+the+Obscure_Stefano+Zanardi.jpeg\"/><img title=\"King Solomon's Mines\" src=\"https://cdn.rawgit.com/plympton/rtc/master/rtc_books_resized/rtc_King+Solomon+s+Mines_Ed+Gaither+-+Modern+Electrographic.jpeg\"/><img title=\"Little Women\" src=\"https://cdn.rawgit.com/plympton/rtc/master/rtc_books_resized/rtc_Little+Women_Lia+Marcoux.jpeg\"/><img title=\"Madame Bovary\" src=\"https://cdn.rawgit.com/plympton/rtc/master/rtc_books_resized/rtc_Madame+Bovary_Alex+Morris.png\"/><img title=\"Robinson Crusoe\" src=\"https://cdn.rawgit.com/plympton/rtc/master/rtc_books_resized/rtc_Robinson+Crusoe_J++D+++Reeves.jpeg\"/><img title=\"The Awakening\" src=\"None\"/><img title=\"The Jungle\" src=\"https://cdn.rawgit.com/plympton/rtc/master/rtc_books_resized/rtc_The+Jungle_Wade+Greenberg.jpeg\"/><img title=\"The Jungle Book\" src=\"https://cdn.rawgit.com/plympton/rtc/master/rtc_books_resized/rtc_The+Jungle+Book_Jeff+Walters.jpeg\"/><img title=\"The Metamorphosis\" src=\"https://cdn.rawgit.com/plympton/rtc/master/rtc_books_resized/rtc_The+Metamorphosis_Frank+Myles.jpeg\"/><img title=\"The Picture of Dorian Gray\" src=\"https://cdn.rawgit.com/plympton/rtc/master/rtc_books_resized/rtc_Picture+of+Dorian+Gray_Maelle+Doliveux.jpeg\"/><img title=\"The Red Badge of Courage\" src=\"https://cdn.rawgit.com/plympton/rtc/master/rtc_books_resized/rtc_Red+Badge+Of+Courage_Ed+Gaither+-+Modern+Electrographic.jpg\"/><img title=\"The Scarlet Letter\" src=\"https://cdn.rawgit.com/plympton/rtc/master/rtc_books_resized/rtc_The+Scarlet+Letter_MrFurious.jpeg\"/><img title=\"The War of the Worlds\" src=\"https://cdn.rawgit.com/plympton/rtc/master/rtc_books_resized/rtc_War+of+the+Worlds_Kjell+Roger+Ringstad.jpeg\"/><img title=\"The Wonderful Wizard of Oz\" src=\"https://cdn.rawgit.com/plympton/rtc/master/rtc_books_resized/rtc_The+Wonderful+Wizard+of+Oz_David+Hays.jpeg\"/><img title=\"This Side of Paradise\" src=\"https://cdn.rawgit.com/plympton/rtc/master/rtc_books_resized/rtc_This+Side+of+Paradise_Sawsan.jpeg\"/><img title=\"Anna Karenina\" src=\"https://cdn.rawgit.com/plympton/rtc/master/rtc_books_resized/rtc_Anna+Karenina_Victoria+Fernandez.jpeg\"/><img title=\"Gulliver's Travels\" src=\"https://cdn.rawgit.com/plympton/rtc/master/rtc_books_resized/rtc_Gulliver+s+Travels_Naomi+Sloman.jpeg\"/><img title=\"Inferno\" src=\"None\"/><img title=\"Les Miserables\" src=\"https://cdn.rawgit.com/plympton/rtc/master/rtc_books_resized/rtc_Les+Miserables_Jon+Cain.jpeg\"/><img title=\"Swann's Way\" src=\"https://cdn.rawgit.com/plympton/rtc/master/rtc_books_resized/rtc_Swann+s+Way_Louise+Norman.jpeg\"/><img title=\"The Count of Monte Cristo\" src=\"https://cdn.rawgit.com/plympton/rtc/master/rtc_books_resized/rtc_The+Count+of+Monte+Cristo_Sara+Nauman.jpeg\"/><img title=\"The Hunchback of Notre Dame\" src=\"https://cdn.rawgit.com/plympton/rtc/master/rtc_books_resized/rtc_The+Hunchback+of+Notre+Dame_Christopher+Komuro.jpeg\"/><img title=\"The Three Musketeers\" src=\"https://cdn.rawgit.com/plympton/rtc/master/rtc_books_resized/rtc_Three+Musketeers_Ioannis+Fetanis.jpeg\"/><img title=\"The Works of Edgar Allan Poe\" src=\"https://cdn.rawgit.com/plympton/rtc/master/rtc_books_resized/rtc_The+Works+of+Edgar+Allan+Poe_Adam+S+++Doyle.jpeg\"/><img title=\"Through the Looking-Glass, and What Alice Found There\" src=\"https://cdn.rawgit.com/plympton/rtc/master/rtc_books_resized/rtc_Through+the+Looking+Glass_Alex+Kostiw.jpeg\"/><img title=\"Twenty Thousand Leagues Under the Sea\" src=\"https://cdn.rawgit.com/plympton/rtc/master/rtc_books_resized/rtc_Twenty+Thousand+Leagues+Under+the+Sea_Wade+Greenberg.jpeg\"/><img title=\"War and Peace\" src=\"https://cdn.rawgit.com/plympton/rtc/master/rtc_books_resized/rtc_War+and+Peace_T++M+++Serlin.jpeg\"/><img title=\"Winesburg Ohio\" src=\"https://cdn.rawgit.com/plympton/rtc/master/rtc_books_resized/rtc_Winesburg,+Ohio_Hanna+Norris.jpeg\"/><img title=\"My Antonia\" src=\"None\"/>\n",
       "</div>"
      ],
      "text/plain": [
       "<IPython.core.display.HTML object>"
      ]
     },
     "execution_count": 47,
     "metadata": {},
     "output_type": "execute_result"
    }
   ],
   "source": [
    "from IPython.display import HTML\n",
    "from jinja2 import Template\n",
    "\n",
    "CSS = \"\"\"\n",
    "<style>\n",
    "  .wrap img {\n",
    "    margin-left: 0px;\n",
    "    margin-right: 0px;\n",
    "    display: inline-block;\n",
    "    width: 100px;\n",
    "  }\n",
    "</style>\n",
    "\"\"\"\n",
    "\n",
    "IMAGES_TEMPLATE = CSS + \"\"\"\n",
    "<div class=\"wrap\">\n",
    " {% for item in items %}<img title=\"{{item.Title}}\" src=\"{{item.image_url}}\"/>{% endfor %}\n",
    "</div>\n",
    "\"\"\"\n",
    "    \n",
    "template = Template(IMAGES_TEMPLATE)\n",
    "HTML(template.render(items=results)) "
   ]
  },
  {
   "cell_type": "code",
   "execution_count": 54,
   "metadata": {
    "collapsed": false
   },
   "outputs": [],
   "source": [
    "#let's try looping over all the images and convert them to png \n",
    "\n",
    "import requests\n",
    "from itertools import islice\n",
    "\n",
    "img_path = \"/Users/raymondyee/Downloads/rtc/\"\n",
    "for image in islice(results,None):\n",
    "    url = image['image_url']\n",
    "    if url is not None:\n",
    "        name = url.split(\"/\")[-1]\n",
    "        content = requests.get(url).content\n",
    "        with open(img_path + name, \"wb\") as f:\n",
    "            f.write(content)"
   ]
  },
  {
   "cell_type": "code",
   "execution_count": 61,
   "metadata": {
    "collapsed": false
   },
   "outputs": [
    {
     "data": {
      "text/plain": [
       "'/Users/raymondyee/Downloads/rtc/rtc_A+Tale+of+Two+Cities_Alexis+Lampley.png'"
      ]
     },
     "execution_count": 61,
     "metadata": {},
     "output_type": "execute_result"
    }
   ],
   "source": [
    "f = \"/Users/raymondyee/Downloads/rtc/rtc_A+Tale+of+Two+Cities_Alexis+Lampley.jpg\"\n",
    "\".\".join(f.split(\".\")[:-1]) + \".png\""
   ]
  },
  {
   "cell_type": "code",
   "execution_count": 65,
   "metadata": {
    "collapsed": false
   },
   "outputs": [],
   "source": [
    "# loop over jpg and convert to png\n",
    "\n",
    "import glob\n",
    "\n",
    "for f in glob.glob(\"/Users/raymondyee/Downloads/rtc/*.jp*g\"):\n",
    "    im = Image.open(f)\n",
    "    png_path = \".\".join(f.split(\".\")[:-1]) + \".png\"\n",
    "    if im.mode not in [\"1\", \"L\", \"P\", \"RGB\", \"RGBA\"]:\n",
    "        im = im.convert(\"RGB\")\n",
    "    im.save(png_path)"
   ]
  },
  {
   "cell_type": "code",
   "execution_count": 84,
   "metadata": {
    "collapsed": false
   },
   "outputs": [
    {
     "data": {
      "text/plain": [
       "[u'rtc_Call+of+the+Wild_Michael+van+Kekem.jpeg',\n",
       " u'rtc_The+Brothers+Karamazov_Roberlan+Borges.jpeg',\n",
       " u'rtc_The+Jungle_Wade+Greenberg.jpeg',\n",
       " u'rtc_Ulysses_nick+fairbank+-+f9+design.jpeg',\n",
       " u'rtc_Heart+of+Darkness_Louise+Norman.jpeg',\n",
       " u'rtc_The+Metamorphosis_Frank+Myles.jpeg',\n",
       " u'rtc_Three+Musketeers_Ioannis+Fetanis.jpeg',\n",
       " u'rtc_The+Good+Soldier_vikram+nongmaithem.jpeg',\n",
       " u'rtc_Flatland_alex+mckeithen.jpeg',\n",
       " u'rtc_War+of+the+Worlds_Kjell+Roger+Ringstad.jpeg',\n",
       " u'rtc_Twenty+Thousand+Leagues+Under+the+Sea_Wade+Greenberg.jpeg',\n",
       " u'rtc_Crime+and+Punishment_Mario+Fuentes.jpeg',\n",
       " u'rtc_The+Jungle+Book_Jeff+Walters.jpeg',\n",
       " u'rtc_Little+Women_Lia+Marcoux.jpeg',\n",
       " u'rtc_Grimm+s+Fairy+Tales_Kathryn+Delaney.jpeg',\n",
       " u'rtc_Swann+s+Way_Louise+Norman.jpeg',\n",
       " u'rtc_Pride+and+Prejudice_Tim+Daniel.jpeg',\n",
       " u'rtc_War+and+Peace_T++M+++Serlin.jpeg',\n",
       " u'rtc_Moby+Dick_Black+Dwarf+Designs.png',\n",
       " u'rtc_The+Scarlet+Letter_MrFurious.jpeg',\n",
       " u'rtc_Persuasion_Heather+Main.png',\n",
       " u'rtc_Dr+++Jekyll+and+Mr+++Hyde_mafMOVE.jpeg',\n",
       " u'rtc_The+Adventures+of+Sherlock+Holmes_Maria+Papaefstathiou.jpeg',\n",
       " u'rtc_Anna+Karenina_Victoria+Fernandez.jpeg',\n",
       " u'rtc_This+Side+of+Paradise_Sawsan.jpeg',\n",
       " u'rtc_Madame+Bovary_Alex+Morris.png',\n",
       " u'rtc_Dracula_Steve+St+++Pierre.jpeg',\n",
       " u'rtc_The+Time+Machine_Jon+Cain.jpeg',\n",
       " u'rtc_A+Tale+of+Two+Cities_Alexis+Lampley.jpg',\n",
       " u'rtc_Don+Quixote_Wedha+Abdul+Rasyid.jpeg',\n",
       " u'rtc_Robinson+Crusoe_J++D+++Reeves.jpeg',\n",
       " u'rtc_The+Wonderful+Wizard+of+Oz_David+Hays.jpeg',\n",
       " u'rtc_Dubliners_Devin.jpeg',\n",
       " u'rtc_Frankenstein_Luis+Prado.jpeg',\n",
       " u'rtc_The+Hunchback+of+Notre+Dame_Christopher+Komuro.jpeg',\n",
       " u'rtc_The+Works+of+Edgar+Allan+Poe_Adam+S+++Doyle.jpeg',\n",
       " u'rtc_Jude+the+Obscure_Stefano+Zanardi.jpeg',\n",
       " u'rtc_Through+the+Looking+Glass_Alex+Kostiw.jpeg',\n",
       " u'rtc_Middlemarch_Ed+Gaither+-+Modern+Electrographic.jpeg',\n",
       " u'rtc_Bleak+House_Ed+Gaither+-+Modern+Electrographic.jpeg',\n",
       " u'rtc_Jane+Eyre_Ed+Gaither+-+Modern+Electrographic.jpg',\n",
       " u'rtc_King+Solomon+s+Mines_Ed+Gaither+-+Modern+Electrographic.jpeg',\n",
       " u'rtc_Great+Expectations_Grace+Kennedy.jpeg',\n",
       " u'rtc_The+Count+of+Monte+Cristo_Sara+Nauman.jpeg',\n",
       " u'rtc_Winesburg,+Ohio_Hanna+Norris.jpeg',\n",
       " u'rtc_The+Adventures+of+Huckleberry+Finn_Priscilla+Parizeau.jpeg',\n",
       " u'rtc_Gulliver+s+Travels_Naomi+Sloman.jpeg',\n",
       " u'rtc_Journey+to+the+Center+of+the+Earth_Ed+Gaither+-+Modern+Electrographic.jpeg',\n",
       " u'rtc_Picture+of+Dorian+Gray_Maelle+Doliveux.jpeg',\n",
       " u'rtc_Les+Miserables_Jon+Cain.jpeg',\n",
       " u'rtc_Red+Badge+Of+Courage_Ed+Gaither+-+Modern+Electrographic.jpg']"
      ]
     },
     "execution_count": 84,
     "metadata": {},
     "output_type": "execute_result"
    }
   ],
   "source": [
    "[cover['covers'][0]['filename'] for cover in covers]"
   ]
  },
  {
   "cell_type": "code",
   "execution_count": 77,
   "metadata": {
    "collapsed": false
   },
   "outputs": [
    {
     "data": {
      "text/plain": [
       "[u'jpg',\n",
       " u'jpg',\n",
       " u'jpg',\n",
       " u'jpg',\n",
       " u'jpg',\n",
       " u'jpg',\n",
       " u'jpg',\n",
       " u'jpg',\n",
       " u'jpg',\n",
       " u'jpg',\n",
       " u'jpg',\n",
       " u'jpg',\n",
       " u'jpg',\n",
       " u'jpg',\n",
       " u'jpg',\n",
       " u'jpg',\n",
       " u'jpg',\n",
       " u'jpg',\n",
       " u'jpg',\n",
       " u'jpg',\n",
       " u'jpg',\n",
       " u'jpg',\n",
       " u'jpg',\n",
       " u'jpg',\n",
       " u'jpg',\n",
       " u'jpg',\n",
       " u'jpg',\n",
       " u'jpg',\n",
       " u'jpg',\n",
       " u'jpg',\n",
       " u'jpg',\n",
       " u'jpg',\n",
       " u'jpg',\n",
       " u'jpg',\n",
       " u'jpg',\n",
       " u'jpg',\n",
       " u'jpg',\n",
       " u'jpg',\n",
       " u'jpg',\n",
       " u'jpg',\n",
       " u'jpg',\n",
       " u'jpg',\n",
       " u'jpg',\n",
       " u'jpg',\n",
       " u'jpg',\n",
       " u'jpg',\n",
       " u'jpg',\n",
       " u'jpg',\n",
       " u'jpg',\n",
       " u'jpg',\n",
       " u'jpg']"
      ]
     },
     "execution_count": 77,
     "metadata": {},
     "output_type": "execute_result"
    }
   ],
   "source": [
    "# image types in covers\n",
    "from collections import Counter\n",
    "map(lambda p: p.split(\".\")[-1], reduce(lambda x,y: x+y, [[c['filename'] for c in cover['covers'] for cover in covers]]))"
   ]
  },
  {
   "cell_type": "code",
   "execution_count": null,
   "metadata": {
    "collapsed": true
   },
   "outputs": [],
   "source": []
  }
 ],
 "metadata": {
  "kernelspec": {
   "display_name": "Python 2",
   "language": "python",
   "name": "python2"
  },
  "language_info": {
   "codemirror_mode": {
    "name": "ipython",
    "version": 2
   },
   "file_extension": ".py",
   "mimetype": "text/x-python",
   "name": "python",
   "nbconvert_exporter": "python",
   "pygments_lexer": "ipython2",
   "version": "2.7.10"
  }
 },
 "nbformat": 4,
 "nbformat_minor": 0
}
