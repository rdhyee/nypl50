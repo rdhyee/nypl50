{
 "cells": [
  {
   "cell_type": "code",
   "execution_count": 1,
   "metadata": {
    "code_folding": [],
    "collapsed": false
   },
   "outputs": [],
   "source": [
    "from __future__ import print_function\n",
    "\n",
    "from github_settings import (ry_username, ry_password,\n",
    "                             username, password,\n",
    "                             token, \n",
    "                             GITENBERG_TRAVIS_TOKEN,\n",
    "                             RDHYEE_TRAVIS_TOKEN)\n",
    "\n",
    "\n",
    "from itertools import (islice, izip)\n",
    "import requests\n",
    "\n",
    "\n",
    "from second_folio import (apply_to_repos)\n",
    "\n",
    "from gitenberg_utils import (GitenbergJob,\n",
    "                             GitenbergTravisJob,\n",
    "                             ForkBuildRepo,\n",
    "                             BuildRepo,\n",
    "                             BuildRepo2,\n",
    "                             MetadataWrite, \n",
    "                             repo_md)\n",
    "\n",
    "\n",
    "import pandas as pd\n",
    "from pandas import (DataFrame, Series)"
   ]
  },
  {
   "cell_type": "markdown",
   "metadata": {},
   "source": [
    "# Nostromo--A-Tale-of-the-Seaboard_2021\n",
    "\n",
    "[AsciiDoc version by james-bostock · Pull Request #1 · GITenberg/Nostromo--A-Tale-of-the-Seaboard_2021](https://github.com/GITenberg/Nostromo--A-Tale-of-the-Seaboard_2021/pull/1)"
   ]
  },
  {
   "cell_type": "code",
   "execution_count": null,
   "metadata": {
    "collapsed": false
   },
   "outputs": [],
   "source": [
    "repo_name = 'Nostromo--A-Tale-of-the-Seaboard_2021'\n",
    "\n",
    "rs = MetadataWrite(username=username, password=password, repo_name=repo_name,\n",
    "              repo_owner='GITenberg', \n",
    "              update_travis_commit_msg='update travis',\n",
    "              tag_commit_message='update travis')\n",
    "\n",
    "rs.run()"
   ]
  },
  {
   "cell_type": "code",
   "execution_count": null,
   "metadata": {
    "collapsed": false
   },
   "outputs": [],
   "source": [
    "bj = BuildRepo(username=username, password=password, repo_name=repo_name,\n",
    "              repo_owner='GITenberg', \n",
    "              update_travis_commit_msg='update travis',\n",
    "              tag_commit_message='update travis')"
   ]
  },
  {
   "cell_type": "code",
   "execution_count": null,
   "metadata": {
    "collapsed": false
   },
   "outputs": [],
   "source": [
    "bj.run()"
   ]
  },
  {
   "cell_type": "markdown",
   "metadata": {},
   "source": [
    "# status of second folio"
   ]
  },
  {
   "cell_type": "code",
   "execution_count": 2,
   "metadata": {
    "collapsed": false
   },
   "outputs": [
    {
     "data": {
      "text/plain": [
       "['Adventures-of-Huckleberry-Finn_76',\n",
       " 'Don-Quixote_996',\n",
       " 'Dubliners_2814',\n",
       " 'Jane-Eyre_1260',\n",
       " 'Moby-Dick--Or-The-Whale_2701']"
      ]
     },
     "execution_count": 2,
     "metadata": {},
     "output_type": "execute_result"
    }
   ],
   "source": [
    "from second_folio import (all_repos)\n",
    "\n",
    "all_repos[:5]"
   ]
  },
  {
   "cell_type": "code",
   "execution_count": 3,
   "metadata": {
    "collapsed": false
   },
   "outputs": [
    {
     "data": {
      "text/plain": [
       "152"
      ]
     },
     "execution_count": 3,
     "metadata": {},
     "output_type": "execute_result"
    }
   ],
   "source": [
    "len(all_repos)"
   ]
  },
  {
   "cell_type": "code",
   "execution_count": 4,
   "metadata": {
    "collapsed": true
   },
   "outputs": [],
   "source": [
    "repo_name = all_repos[0]"
   ]
  },
  {
   "cell_type": "code",
   "execution_count": 5,
   "metadata": {
    "collapsed": false
   },
   "outputs": [],
   "source": [
    "repos = all_repos[:]\n",
    "\n",
    "def status_for_repo(repo_name):\n",
    "    rs = GitenbergJob(username=username, password=password, repo_name=repo_name,\n",
    "              repo_owner='GITenberg', \n",
    "              update_travis_commit_msg='update travis',\n",
    "              tag_commit_message='update travis')\n",
    "    return rs.status()\n",
    "\n",
    "results_iter = apply_to_repos(status_for_repo, repos=repos)"
   ]
  },
  {
   "cell_type": "code",
   "execution_count": 6,
   "metadata": {
    "collapsed": false
   },
   "outputs": [
    {
     "name": "stdout",
     "output_type": "stream",
     "text": [
      "151: On-Liberty_34901"
     ]
    }
   ],
   "source": [
    "results = []\n",
    "\n",
    "for (i,result) in enumerate(results_iter):\n",
    "    results.append(result)\n",
    "    print (\"\\r{}: {}\".format(i, result['repo_name']), end=\"\")"
   ]
  },
  {
   "cell_type": "code",
   "execution_count": 7,
   "metadata": {
    "collapsed": false
   },
   "outputs": [],
   "source": [
    "df = DataFrame(results)"
   ]
  },
  {
   "cell_type": "code",
   "execution_count": 8,
   "metadata": {
    "collapsed": false
   },
   "outputs": [
    {
     "data": {
      "text/html": [
       "<div>\n",
       "<table border=\"1\" class=\"dataframe\">\n",
       "  <thead>\n",
       "    <tr style=\"text-align: right;\">\n",
       "      <th></th>\n",
       "      <th>.travis.deploy.api_key.txt</th>\n",
       "      <th>.travis.yml</th>\n",
       "      <th>asciidocs</th>\n",
       "      <th>book.asciidoc</th>\n",
       "      <th>cover.jpg</th>\n",
       "      <th>ebooks_in_latest_github_release</th>\n",
       "      <th>ebooks_in_release_count</th>\n",
       "      <th>metadata.yaml</th>\n",
       "      <th>repo_name</th>\n",
       "      <th>repo_owner</th>\n",
       "      <th>version</th>\n",
       "    </tr>\n",
       "  </thead>\n",
       "  <tbody>\n",
       "    <tr>\n",
       "      <th>0</th>\n",
       "      <td>True</td>\n",
       "      <td>True</td>\n",
       "      <td>[book.asciidoc]</td>\n",
       "      <td>True</td>\n",
       "      <td>True</td>\n",
       "      <td>[(epub, Adventures-of-Huckleberry-Finn.epub), ...</td>\n",
       "      <td>3</td>\n",
       "      <td>True</td>\n",
       "      <td>Adventures-of-Huckleberry-Finn_76</td>\n",
       "      <td>GITenberg</td>\n",
       "      <td>0.2.0</td>\n",
       "    </tr>\n",
       "    <tr>\n",
       "      <th>1</th>\n",
       "      <td>True</td>\n",
       "      <td>True</td>\n",
       "      <td>[book.asciidoc]</td>\n",
       "      <td>True</td>\n",
       "      <td>True</td>\n",
       "      <td>[(epub, Don-Quixote.epub), (mobi, Don-Quixote....</td>\n",
       "      <td>3</td>\n",
       "      <td>True</td>\n",
       "      <td>Don-Quixote_996</td>\n",
       "      <td>GITenberg</td>\n",
       "      <td>0.2.0</td>\n",
       "    </tr>\n",
       "    <tr>\n",
       "      <th>2</th>\n",
       "      <td>True</td>\n",
       "      <td>True</td>\n",
       "      <td>[book.asciidoc]</td>\n",
       "      <td>True</td>\n",
       "      <td>True</td>\n",
       "      <td>[(epub, Dubliners.epub), (mobi, Dubliners.mobi...</td>\n",
       "      <td>3</td>\n",
       "      <td>True</td>\n",
       "      <td>Dubliners_2814</td>\n",
       "      <td>GITenberg</td>\n",
       "      <td>0.2.0</td>\n",
       "    </tr>\n",
       "    <tr>\n",
       "      <th>3</th>\n",
       "      <td>True</td>\n",
       "      <td>True</td>\n",
       "      <td>[book.asciidoc]</td>\n",
       "      <td>True</td>\n",
       "      <td>True</td>\n",
       "      <td>[(epub, Jane-Eyre-An-Autobiography.epub), (mob...</td>\n",
       "      <td>3</td>\n",
       "      <td>True</td>\n",
       "      <td>Jane-Eyre_1260</td>\n",
       "      <td>GITenberg</td>\n",
       "      <td>0.2.0</td>\n",
       "    </tr>\n",
       "    <tr>\n",
       "      <th>4</th>\n",
       "      <td>True</td>\n",
       "      <td>True</td>\n",
       "      <td>[book.asciidoc]</td>\n",
       "      <td>True</td>\n",
       "      <td>True</td>\n",
       "      <td>[(epub, Moby-Dick-Or-The-Whale.epub), (mobi, M...</td>\n",
       "      <td>3</td>\n",
       "      <td>True</td>\n",
       "      <td>Moby-Dick--Or-The-Whale_2701</td>\n",
       "      <td>GITenberg</td>\n",
       "      <td>0.2.0</td>\n",
       "    </tr>\n",
       "  </tbody>\n",
       "</table>\n",
       "</div>"
      ],
      "text/plain": [
       "  .travis.deploy.api_key.txt .travis.yml        asciidocs book.asciidoc  \\\n",
       "0                       True        True  [book.asciidoc]          True   \n",
       "1                       True        True  [book.asciidoc]          True   \n",
       "2                       True        True  [book.asciidoc]          True   \n",
       "3                       True        True  [book.asciidoc]          True   \n",
       "4                       True        True  [book.asciidoc]          True   \n",
       "\n",
       "  cover.jpg                    ebooks_in_latest_github_release  \\\n",
       "0      True  [(epub, Adventures-of-Huckleberry-Finn.epub), ...   \n",
       "1      True  [(epub, Don-Quixote.epub), (mobi, Don-Quixote....   \n",
       "2      True  [(epub, Dubliners.epub), (mobi, Dubliners.mobi...   \n",
       "3      True  [(epub, Jane-Eyre-An-Autobiography.epub), (mob...   \n",
       "4      True  [(epub, Moby-Dick-Or-The-Whale.epub), (mobi, M...   \n",
       "\n",
       "   ebooks_in_release_count metadata.yaml                          repo_name  \\\n",
       "0                        3          True  Adventures-of-Huckleberry-Finn_76   \n",
       "1                        3          True                    Don-Quixote_996   \n",
       "2                        3          True                     Dubliners_2814   \n",
       "3                        3          True                     Jane-Eyre_1260   \n",
       "4                        3          True       Moby-Dick--Or-The-Whale_2701   \n",
       "\n",
       "  repo_owner version  \n",
       "0  GITenberg   0.2.0  \n",
       "1  GITenberg   0.2.0  \n",
       "2  GITenberg   0.2.0  \n",
       "3  GITenberg   0.2.0  \n",
       "4  GITenberg   0.2.0  "
      ]
     },
     "execution_count": 8,
     "metadata": {},
     "output_type": "execute_result"
    }
   ],
   "source": [
    "df.head()"
   ]
  },
  {
   "cell_type": "code",
   "execution_count": null,
   "metadata": {
    "collapsed": false
   },
   "outputs": [],
   "source": [
    "import json\n",
    "print (json.dumps(results))"
   ]
  },
  {
   "cell_type": "code",
   "execution_count": null,
   "metadata": {
    "collapsed": false
   },
   "outputs": [],
   "source": [
    "df.columns"
   ]
  },
  {
   "cell_type": "code",
   "execution_count": 13,
   "metadata": {
    "collapsed": true
   },
   "outputs": [],
   "source": [
    "def my_filter(r):\n",
    "    #return (r['metadata.yaml'] and r['book.asciidoc']) and (r['ebooks_in_release_count'] == 0) and (not r['.travis.yml'])\n",
    "    #return (r['ebooks_in_release_count'] == 0) and (r['book.asciidoc']) \n",
    "    return (r['ebooks_in_release_count'] == 0) and r['.travis.yml']"
   ]
  },
  {
   "cell_type": "code",
   "execution_count": 14,
   "metadata": {
    "collapsed": false
   },
   "outputs": [
    {
     "data": {
      "text/plain": [
       "1"
      ]
     },
     "execution_count": 14,
     "metadata": {},
     "output_type": "execute_result"
    }
   ],
   "source": [
    "len(df[df.apply(my_filter, axis=1)])"
   ]
  },
  {
   "cell_type": "code",
   "execution_count": 15,
   "metadata": {
    "collapsed": false
   },
   "outputs": [
    {
     "data": {
      "text/plain": [
       "['Ulysses_4300']"
      ]
     },
     "execution_count": 15,
     "metadata": {},
     "output_type": "execute_result"
    }
   ],
   "source": [
    "repos = list(df[df.apply(my_filter, axis=1)]['repo_name'])\n",
    "repos"
   ]
  },
  {
   "cell_type": "markdown",
   "metadata": {},
   "source": [
    "# Repo name mismatch problem"
   ]
  },
  {
   "cell_type": "code",
   "execution_count": null,
   "metadata": {
    "collapsed": false
   },
   "outputs": [],
   "source": [
    "import yaml\n",
    "\n",
    "class RepoNameFixer(BuildRepo):\n",
    "    def run (self):\n",
    "        # check whether repo_name in metadata.yaml and .travis.yml match the repo name\n",
    "        md = self.metadata().metadata\n",
    "        if md.get('_repo') != self.repo_name:\n",
    "            # fix metadata.yaml\n",
    "            md['_repo'] = self.repo_name\n",
    "            result = self.create_or_update_file(\n",
    "                 path = \"metadata.yaml\", \n",
    "                 message = \"fix repo name in metadata.yaml\",\n",
    "                 content = yaml.safe_dump(md,default_flow_style=False,\n",
    "                      allow_unicode=True),\n",
    "                 ci_skip = True)\n",
    "            \n",
    "        # do rest of run\n",
    "        super(RepoNameFixer, self).run()\n"
   ]
  },
  {
   "cell_type": "code",
   "execution_count": null,
   "metadata": {
    "collapsed": false
   },
   "outputs": [],
   "source": [
    "repo_name = 'Tess-of-the-d-Urbervilles--a-Pure-Woman_110'\n",
    "\n",
    "rnf = RepoNameFixer(username=username, password=password, repo_name=repo_name,\n",
    "              repo_owner='GITenberg', \n",
    "              update_travis_commit_msg='update travis',\n",
    "              tag_commit_message='update travis')"
   ]
  },
  {
   "cell_type": "code",
   "execution_count": null,
   "metadata": {
    "collapsed": true
   },
   "outputs": [],
   "source": [
    "rnf.run()"
   ]
  },
  {
   "cell_type": "code",
   "execution_count": null,
   "metadata": {
    "collapsed": false
   },
   "outputs": [],
   "source": [
    "for repo in repos[1:]:\n",
    "    rnf = RepoNameFixer(username=username, password=password, repo_name=repo,\n",
    "              repo_owner='GITenberg', \n",
    "              update_travis_commit_msg='fix repo name',\n",
    "              tag_commit_message='update travis')\n",
    "    print (repo, rnf.run())"
   ]
  },
  {
   "cell_type": "code",
   "execution_count": null,
   "metadata": {
    "collapsed": false
   },
   "outputs": [],
   "source": [
    "'a' == 'a1' == 'a'"
   ]
  },
  {
   "cell_type": "code",
   "execution_count": null,
   "metadata": {
    "collapsed": false
   },
   "outputs": [],
   "source": [
    "rnf.run()"
   ]
  },
  {
   "cell_type": "code",
   "execution_count": null,
   "metadata": {
    "collapsed": true
   },
   "outputs": [],
   "source": [
    "import yaml"
   ]
  },
  {
   "cell_type": "code",
   "execution_count": null,
   "metadata": {
    "collapsed": false
   },
   "outputs": [],
   "source": [
    "import yaml\n",
    "y = yaml.safe_load( \n",
    "   rnf.gh_repo.contents(\".travis.yml\").decoded\n",
    ")\n",
    "y['deploy']['on']['repo']"
   ]
  },
  {
   "cell_type": "code",
   "execution_count": null,
   "metadata": {
    "collapsed": true
   },
   "outputs": [],
   "source": [
    "repos = ['White-Fang_910',\n",
    " 'The-Fat-and-the-Thin_5744',\n",
    " 'The-Communist-Manifesto_61',\n",
    " 'The-Legend-of-Sleepy-Hollow_41',\n",
    " 'Pollyanna_1450',\n",
    " 'Washington-Square_2870',\n",
    " 'The-Kreutzer-Sonata-and-Other-Stories_689',\n",
    " 'The-Wind-in-the-Willows_289',\n",
    " 'The-Moonstone_155',\n",
    " 'Siddhartha_2500',\n",
    " 'The-Importance-of-Being-Earnest--A-Trivial-Comedy-for-Serious-People_844',\n",
    " 'The-Federalist-Papers_1404',\n",
    " 'The-Man-in-the-Iron-Mask_2759',\n",
    " 'Uncle-Tom-s-Cabin_203',\n",
    " 'Jungle-Tales-of-Tarzan_106',\n",
    " 'The-Beautiful-and-Damned_9830',\n",
    " 'The-House-of-the-Seven-Gables_77',\n",
    " 'A-Christmas-Carol_46',\n",
    " 'Twelve-Years-a-Slave--13-Narrative-of-Solomon-Northup-a-Citizen-of-New-York-Kidnapped-in-Wash__45631',\n",
    " 'The-Lady-with-the-Dog-and-Other-Stories_13415',\n",
    " 'A-Doll-s-House---a-play_2542',\n",
    " 'Emma_158',\n",
    " 'Northanger-Abbey_121',\n",
    " 'Thus-Spake-Zarathustra--A-Book-for-All-and-None_1998',\n",
    " 'The-Age-of-Innocence_541',\n",
    " 'Oliver-Twist_730',\n",
    " 'North-and-South_4276']"
   ]
  },
  {
   "cell_type": "code",
   "execution_count": null,
   "metadata": {
    "collapsed": true
   },
   "outputs": [],
   "source": [
    "repos_to_process =  repos[15:]\n",
    "\n",
    "def build_repo(repo_name):\n",
    "    rs = BuildRepo(username=username, password=password, repo_name=repo_name,\n",
    "              repo_owner='GITenberg', \n",
    "              update_travis_commit_msg='update travis',\n",
    "              tag_commit_message='update travis',\n",
    "              travis_token = GITENBERG_TRAVIS_TOKEN)\n",
    "    return rs.run()\n",
    "\n",
    "results_iter = apply_to_repos(build_repo, repos=repos_to_process)"
   ]
  },
  {
   "cell_type": "code",
   "execution_count": null,
   "metadata": {
    "collapsed": false
   },
   "outputs": [],
   "source": [
    "results = []\n",
    "\n",
    "for (i,result) in enumerate(results_iter):\n",
    "    results.append(result)\n",
    "    print (\"\\r{}: {}\".format(i, result[0]), end=\"\")"
   ]
  },
  {
   "cell_type": "code",
   "execution_count": null,
   "metadata": {
    "collapsed": false
   },
   "outputs": [],
   "source": [
    "results"
   ]
  },
  {
   "cell_type": "code",
   "execution_count": null,
   "metadata": {
    "collapsed": false
   },
   "outputs": [],
   "source": [
    "repo_name = repos_to_process[0]\n",
    "rs = BuildRepo(username=username, password=password, repo_name=repo_name,\n",
    "              repo_owner='GITenberg', \n",
    "              update_travis_commit_msg='update travis',\n",
    "              tag_commit_message='update travis',\n",
    "              travis_token = GITENBERG_TRAVIS_TOKEN)\n",
    "rs.run()"
   ]
  },
  {
   "cell_type": "markdown",
   "metadata": {},
   "source": [
    "# to move to library: MetadataWrite"
   ]
  },
  {
   "cell_type": "code",
   "execution_count": null,
   "metadata": {
    "code_folding": [],
    "collapsed": true
   },
   "outputs": [],
   "source": [
    "import yaml\n",
    "import gitenberg\n",
    "\n",
    "\"\"\"\n",
    "https://github.com/rdhyee/gitberg\n",
    "had to download https://www.gutenberg.org/cache/epub/feeds/rdf-files.tar.bz2\n",
    "and configure /Users/raymondyee/Library/Application Support/gitberg/config.yaml (Mac)\n",
    "to pick up Gutenberg metadata \n",
    "\"\"\"\n",
    "\n",
    "def repo_md(repo_id):\n",
    "\n",
    "    b = gitenberg.Book(repo_id)\n",
    "    b.parse_book_metadata()\n",
    "\n",
    "    return b.meta.metadata \n",
    "\n",
    "class MetadataWrite(GitenbergJob):\n",
    "    \n",
    "    def run(self):\n",
    "        try:\n",
    "            import gitenberg\n",
    "\n",
    "            repo_id = self.repo_name.split(\"_\")[-1]\n",
    "            md = repo_md(repo_id)\n",
    "            # add version\n",
    "            md[\"_version\"] = \"0.0.1\"\n",
    "\n",
    "            # add keywords \n",
    "            subjects = md.get(\"subjects\")\n",
    "            if 'GITenberg' not in subjects:\n",
    "                subjects.append('GITenberg')\n",
    "            md[\"subjects\"] = subjects\n",
    "\n",
    "            result = self.create_or_update_file(\n",
    "                             path = \"metadata.yaml\", \n",
    "                             message = \"write metadata.yaml\",\n",
    "                             content = yaml.safe_dump(md,default_flow_style=False,\n",
    "                                  allow_unicode=True),\n",
    "                             ci_skip = True)\n",
    "            return (self.repo_name, result)\n",
    "        except Exception as e:\n",
    "            return (self.repo_name, e)"
   ]
  },
  {
   "cell_type": "code",
   "execution_count": null,
   "metadata": {
    "collapsed": false
   },
   "outputs": [],
   "source": [
    "repo_md('1079')"
   ]
  },
  {
   "cell_type": "code",
   "execution_count": null,
   "metadata": {
    "collapsed": false
   },
   "outputs": [],
   "source": [
    "repos_to_process =  ['The-Life-and-Opinions-of-Tristram-Shandy-Gentleman_1079']\n",
    "\n",
    "def write_metadata(repo_name):\n",
    "    rs = MetadataWrite(username=username, password=password, repo_name=repo_name,\n",
    "              repo_owner='GITenberg', \n",
    "              update_travis_commit_msg='update travis',\n",
    "              tag_commit_message='update travis')\n",
    "    return rs.run()\n",
    "\n",
    "results_iter = apply_to_repos(write_metadata, repos=repos_to_process)"
   ]
  },
  {
   "cell_type": "code",
   "execution_count": null,
   "metadata": {
    "collapsed": false
   },
   "outputs": [],
   "source": [
    "results = []\n",
    "\n",
    "for (i,result) in enumerate(results_iter):\n",
    "    results.append(result)\n",
    "    print (\"\\r{}: {}\".format(i, result[0]), end=\"\")"
   ]
  },
  {
   "cell_type": "code",
   "execution_count": null,
   "metadata": {
    "collapsed": false
   },
   "outputs": [],
   "source": [
    "repos_to_process"
   ]
  },
  {
   "cell_type": "code",
   "execution_count": null,
   "metadata": {
    "collapsed": false
   },
   "outputs": [],
   "source": [
    "repos[0]"
   ]
  },
  {
   "cell_type": "code",
   "execution_count": null,
   "metadata": {
    "collapsed": false
   },
   "outputs": [],
   "source": [
    "write_metadata(repos[0])"
   ]
  },
  {
   "cell_type": "code",
   "execution_count": null,
   "metadata": {
    "collapsed": false
   },
   "outputs": [],
   "source": [
    "yaml.safe_dump(y,default_flow_style=False,\n",
    "                    allow_unicode=True)"
   ]
  },
  {
   "cell_type": "code",
   "execution_count": null,
   "metadata": {
    "collapsed": true
   },
   "outputs": [],
   "source": [
    "# https://gist.githubusercontent.com/rdhyee/9665aa23084a45269cd3c941f702602f/raw/9332e96fa5d3c86137d4a5c49c2ba7b484a4f7c1/repos_status.json"
   ]
  },
  {
   "cell_type": "markdown",
   "metadata": {},
   "source": [
    "# gitenberg for book metadata"
   ]
  },
  {
   "cell_type": "markdown",
   "metadata": {},
   "source": [
    "# Archival"
   ]
  },
  {
   "cell_type": "code",
   "execution_count": null,
   "metadata": {
    "collapsed": false
   },
   "outputs": [],
   "source": [
    "for repo in repos2_to_build[:]:\n",
    "    try:\n",
    "        bj = BuildRepo2(username=username, password=password, repo_name=repo,\n",
    "              repo_owner='GITenberg', \n",
    "              update_travis_commit_msg='update travis',\n",
    "              tag_commit_message='update travis',\n",
    "              travis_token=GITENBERG_TRAVIS_TOKEN)\n",
    "    \n",
    "        bj.run()\n",
    "    except Exception as e:\n",
    "        print (repo, e)"
   ]
  },
  {
   "cell_type": "code",
   "execution_count": null,
   "metadata": {
    "collapsed": false
   },
   "outputs": [],
   "source": [
    "from gitenberg import metadata\n",
    "import os\n",
    "\n",
    "def local_yaml_file(id_):\n",
    "    \n",
    "    fname = \"/Users/raymondyee/C/src/gitenberg-dev/giten_site/metadata/{}.yaml\".format(id_)\n",
    "    if os.path.exists(fname):\n",
    "        md = metadata.pandata.Pandata(fname)\n",
    "        return md\n",
    "    else:\n",
    "        return None\n"
   ]
  },
  {
   "cell_type": "code",
   "execution_count": null,
   "metadata": {
    "collapsed": false
   },
   "outputs": [],
   "source": [
    "for repo in all_repos[:]:\n",
    "    id_ = repo.split(\"_\")[-1]\n",
    "    yaml_file = local_yaml_file(id_)\n",
    "    if yaml_file is None:\n",
    "        print (repo, yaml_file)"
   ]
  },
  {
   "cell_type": "markdown",
   "metadata": {},
   "source": [
    "# changes to make in metadata file to initialize it\n",
    "\n",
    "* _version 0.0.1\n",
    "\n",
    "```\n",
    "covers:\t\t\t\t\t\t\t      \n",
    "- attribution: Ed Gaither - Modern Electrographic, 2015\t      \n",
    "  cover_type: original\t\t\t\t\t      \n",
    "  image_path: cover.jpg\t\t\t\t\t      \n",
    "  rights: Attribution-NonCommercial 4.0 International (CC BY- \n",
    "  rights_url: https://creativecommons.org/licenses/by-nc/4.0/ \n",
    "```\n",
    "\n",
    "```\n",
    "publication_date \n",
    "publisher: Recovering the Classics\t\n",
    "rights: CC BY-NC\n",
    "rights_url http://creativecommons.org/licenses/by-nc/4.0/\n",
    "```\n",
    "\n",
    "\n",
    "* add GITenberg subject"
   ]
  },
  {
   "cell_type": "code",
   "execution_count": null,
   "metadata": {
    "collapsed": false
   },
   "outputs": [],
   "source": [
    "gj.travis_encrypt(RDHYEE_DON_QUIXOTE_TOKEN)"
   ]
  },
  {
   "cell_type": "code",
   "execution_count": null,
   "metadata": {
    "collapsed": false
   },
   "outputs": [],
   "source": [
    "u = gj.gh.user()\n",
    "u.email"
   ]
  },
  {
   "cell_type": "code",
   "execution_count": null,
   "metadata": {
    "collapsed": false
   },
   "outputs": [],
   "source": [
    "gj.fork_and_build_gitenberg_repo()"
   ]
  },
  {
   "cell_type": "code",
   "execution_count": null,
   "metadata": {
    "collapsed": false
   },
   "outputs": [],
   "source": [
    "gj.create_or_update_file(path='JUNK.md', message=b'updated junk.md', content=u'hello'.encode('utf-8'))"
   ]
  },
  {
   "cell_type": "code",
   "execution_count": null,
   "metadata": {
    "collapsed": false
   },
   "outputs": [],
   "source": [
    "print(gj.update_travis_template(write_changes=False, \n",
    "                                encrypted_key=gj.travis_encrypt(gj.repo_token()))[0])"
   ]
  },
  {
   "cell_type": "markdown",
   "metadata": {},
   "source": [
    "## next step\n",
    "\n",
    "* make sure travis_repo is active\n",
    "* check on existence of metadata.yaml in the the new github repo\n",
    "* write .travis.deploy.api_key.txt to the github repo\n",
    "* compute new .travis.yml and write to github repo\n",
    "* tag repo "
   ]
  },
  {
   "cell_type": "code",
   "execution_count": null,
   "metadata": {
    "collapsed": true
   },
   "outputs": [],
   "source": [
    "from travispy import TravisPy\n",
    "\n",
    "\n",
    "travis = TravisPy.github_auth(RDHYEE_TRAVIS_TOKEN)\n",
    "\n",
    "t_user = travis.user()\n",
    "t_user.login"
   ]
  },
  {
   "cell_type": "code",
   "execution_count": null,
   "metadata": {
    "code_folding": [],
    "collapsed": false
   },
   "outputs": [],
   "source": [
    "travis_repo = travis.repo('rdhyee/Don-Quixote_996')\n",
    "travis_repo.active\n",
    "\n",
    "travis_repo.enable()"
   ]
  },
  {
   "cell_type": "code",
   "execution_count": null,
   "metadata": {
    "collapsed": false
   },
   "outputs": [],
   "source": [
    "travis_encrypt(token_to_encrypt=token.token.encode('utf-8'),\n",
    "               repo_slug=\"rdhyee/Don-Quixote_996\")"
   ]
  },
  {
   "cell_type": "markdown",
   "metadata": {},
   "source": [
    "# create test parameters for travispy\n",
    "\n",
    "https://github.com/menegazzo/travispy/blob/v0.3.4/travispy/_tests/test_settings.example.json"
   ]
  },
  {
   "cell_type": "code",
   "execution_count": 16,
   "metadata": {
    "code_folding": [],
    "collapsed": false
   },
   "outputs": [],
   "source": [
    "import json\n",
    "from travispy import TravisPy\n",
    "\n",
    "def create_travispy_test_settings(github_token, repo_slug):\n",
    "    settings = {}\n",
    "    \n",
    "    travis = TravisPy.github_auth(github_token)\n",
    "    \n",
    "    settings['github_token'] = github_token\n",
    "    settings['repo_slug'] = repo_slug\n",
    "    \n",
    "    # account\n",
    "    # https://github.com/menegazzo/travispy/blob/v0.3.4/travispy/_tests/test_authenticated.py#L31\n",
    "    \n",
    "    accounts = travis.accounts()\n",
    "    account = travis.account(accounts[0].id)\n",
    "    \n",
    "    settings['account'] = {\n",
    "        'count': len(accounts),\n",
    "        'id': account.id,\n",
    "        'name': account.name,\n",
    "        'login': account.login,\n",
    "        'type': account.type,\n",
    "        'repos_count': account.repos_count,\n",
    "        'subscribed': hasattr(account, 'subscribed')\n",
    "    }\n",
    "    \n",
    "    # hook\n",
    "    # https://github.com/menegazzo/travispy/blob/v0.3.4/travispy/_tests/test_authenticated.py#L73\n",
    "    \n",
    "    hooks = travis.hooks()\n",
    "    hook = hooks[0]\n",
    "\n",
    "    settings['hook'] = {\n",
    "        'count': len(hooks),\n",
    "        'name': hook.name,\n",
    "        'description': hook.description,\n",
    "        'owner_name': hook.owner_name,\n",
    "        'active': hook.active,\n",
    "        'private': hook.private,\n",
    "        'admin': hook.admin\n",
    "    }\n",
    "    \n",
    "    # user\n",
    "    # https://github.com/menegazzo/travispy/blob/v0.3.4/travispy/_tests/test_authenticated.py#L110\n",
    "    \n",
    "    user = travis.user()\n",
    "\n",
    "    settings['user'] = {\n",
    "        'login': user['login'],\n",
    "        'name': user['name']\n",
    "    }\n",
    "    \n",
    "    # branch\n",
    "    # https://github.com/menegazzo/travispy/blob/v0.3.4/travispy/_tests/test_not_authenticated.py#L19\n",
    "    branches = travis.branches(slug=repo_slug)\n",
    "    branch = travis.branch('master', repo_slug)\n",
    "    \n",
    "    settings['branch'] = {\n",
    "        'count': len(branches),\n",
    "        'id': branch.id,\n",
    "        'repository_id': branch.repository_id,\n",
    "        'pull_request': branch.pull_request,\n",
    "        'config': branch.config,\n",
    "        'number': branch.number\n",
    "    }\n",
    "    \n",
    "    # build\n",
    "    # https://github.com/menegazzo/travispy/blob/v0.3.4/travispy/_tests/test_not_authenticated.py#L66\n",
    "\n",
    "    builds = travis.builds(slug=repo_slug)\n",
    "    build = travis.build(builds[0].id)\n",
    "    build_id = builds[0].id\n",
    "    \n",
    "    settings['build'] = {\n",
    "        'count': len(builds),\n",
    "        'id': build.id,\n",
    "        'repository_id': build.repository_id,\n",
    "        'number': build.number,\n",
    "        'pull_request': build.pull_request,\n",
    "        'pull_request_title': build.pull_request_title,\n",
    "        'pull_request_number': build.pull_request_number,\n",
    "        'config': build.config\n",
    "    }\n",
    "    \n",
    "    # commit\n",
    "    # https://github.com/menegazzo/travispy/blob/v0.3.4/travispy/_tests/test_not_authenticated.py#L115\n",
    "    \n",
    "    commit = build.commit\n",
    "    \n",
    "    settings['commit'] = {\n",
    "        'count': len(builds),\n",
    "        'id': commit.id,\n",
    "        'sha': commit.sha,\n",
    "        'branch': commit.branch,\n",
    "        'message': commit.message,\n",
    "        'committed_at': commit.committed_at,\n",
    "        'author_name': commit.author_name,\n",
    "        'author_email': commit.author_email,\n",
    "        'commiter_name': commit.committer_name, # sic\n",
    "        'commiter_email': commit.committer_email, # sic\n",
    "        'compare_url': commit.compare_url,\n",
    "        'pull_request_number': None if not hasattr(commit, 'pull_request_number') else commit.pull_request_number\n",
    "    }\n",
    "\n",
    "\n",
    "    # jobs\n",
    "    # https://github.com/menegazzo/travispy/blob/v0.3.4/travispy/_tests/test_not_authenticated.py#L140\n",
    "    \n",
    " \n",
    "    jobs = travis.jobs(ids=build.job_ids)\n",
    "    job = travis.job(build.job_ids[0])\n",
    "    \n",
    "    settings['job'] = {\n",
    "        'count': len(jobs),\n",
    "        'build_id': job.build_id,\n",
    "        'repository_id': job.repository_id,\n",
    "        'number': job.number,\n",
    "        'config': job.config,\n",
    "        'queue': job.queue,\n",
    "        'allow_failure': job.allow_failure,\n",
    "        'annotation_ids': job.annotation_ids\n",
    "        \n",
    "    }\n",
    "    \n",
    "    # repo\n",
    "    # https://github.com/menegazzo/travispy/blob/v0.3.4/travispy/_tests/test_not_authenticated.py#L252\n",
    "    # let's add fake stuff for now\n",
    "    \n",
    "    settings['repo'] =  {\n",
    "        \"public_count\": 25,\n",
    "        \"member_count\": 5,\n",
    "        \"owner_count\": 7,\n",
    "        \"github_language\": \"Python\",\n",
    "        \"id\": 2598876,\n",
    "        \"description\": \"TravisPy test project for Python 2.7\",\n",
    "        \"active\": True\n",
    "  }\n",
    "\n",
    "    \n",
    "    return json.dumps(settings, indent=2)"
   ]
  },
  {
   "cell_type": "code",
   "execution_count": 17,
   "metadata": {
    "collapsed": false
   },
   "outputs": [
    {
     "name": "stderr",
     "output_type": "stream",
     "text": [
      "/Users/raymondyee/C/src/travispy/travispy/entities/_entity.py:196: UserWarning: Unknown Commit attribute branch_is_default\n",
      "  .format(entity.__class__.__name__, key))\n"
     ]
    },
    {
     "name": "stdout",
     "output_type": "stream",
     "text": [
      "{\n",
      "  \"account\": {\n",
      "    \"count\": 9, \n",
      "    \"name\": \"Raymond Yee\", \n",
      "    \"subscribed\": false, \n",
      "    \"type\": \"user\", \n",
      "    \"login\": \"rdhyee\", \n",
      "    \"repos_count\": 127, \n",
      "    \"id\": 134212\n",
      "  }, \n",
      "  \"github_token\": \"ee9ac39e8e95d998217a4f8477ac6df1a2921b6d\", \n",
      "  \"repo\": {\n",
      "    \"description\": \"TravisPy test project for Python 2.7\", \n",
      "    \"member_count\": 5, \n",
      "    \"public_count\": 25, \n",
      "    \"github_language\": \"Python\", \n",
      "    \"owner_count\": 7, \n",
      "    \"active\": true, \n",
      "    \"id\": 2598876\n",
      "  }, \n",
      "  \"hook\": {\n",
      "    \"count\": 168, \n",
      "    \"owner_name\": \"EbookFoundation\", \n",
      "    \"name\": \"fef-questionnaire\", \n",
      "    \"admin\": true, \n",
      "    \"private\": false, \n",
      "    \"active\": null, \n",
      "    \"description\": \"\"\n",
      "  }, \n",
      "  \"job\": {\n",
      "    \"count\": 1, \n",
      "    \"build_id\": 93062803, \n",
      "    \"queue\": \"builds.gce\", \n",
      "    \"repository_id\": 4634765, \n",
      "    \"config\": {\n",
      "      \"dist\": \"trusty\", \n",
      "      \"language\": \"ruby\", \n",
      "      \"script\": [\n",
      "        \"python -V\", \n",
      "        \"which python\", \n",
      "        \"python -c \\\"import sys; print(sys.path)\\\"\", \n",
      "        \"/usr/bin/python test.py\"\n",
      "      ], \n",
      "      \"sudo\": \"required\", \n",
      "      \"before_install\": [\n",
      "        \"sudo apt-get update -qq\", \n",
      "        \"sudo apt-get install -y python python-dev python-pip python-virtualenv\", \n",
      "        \"sudo rm -rf /var/lib/apt/lists/*\", \n",
      "        \"sudo pip install -r requirements.txt\", \n",
      "        \"sudo which python\"\n",
      "      ], \n",
      "      \".result\": \"configured\", \n",
      "      \"group\": \"stable\", \n",
      "      \"os\": \"linux\"\n",
      "    }, \n",
      "    \"number\": \"24.1\", \n",
      "    \"annotation_ids\": [], \n",
      "    \"allow_failure\": false\n",
      "  }, \n",
      "  \"user\": {\n",
      "    \"login\": \"rdhyee\", \n",
      "    \"name\": \"Raymond Yee\"\n",
      "  }, \n",
      "  \"branch\": {\n",
      "    \"count\": 4, \n",
      "    \"repository_id\": 4634765, \n",
      "    \"number\": \"24\", \n",
      "    \"pull_request\": false, \n",
      "    \"config\": {\n",
      "      \"dist\": \"trusty\", \n",
      "      \"language\": \"ruby\", \n",
      "      \"script\": [\n",
      "        \"python -V\", \n",
      "        \"which python\", \n",
      "        \"python -c \\\"import sys; print(sys.path)\\\"\", \n",
      "        \"/usr/bin/python test.py\"\n",
      "      ], \n",
      "      \"sudo\": \"required\", \n",
      "      \"before_install\": [\n",
      "        \"sudo apt-get update -qq\", \n",
      "        \"sudo apt-get install -y python python-dev python-pip python-virtualenv\", \n",
      "        \"sudo rm -rf /var/lib/apt/lists/*\", \n",
      "        \"sudo pip install -r requirements.txt\", \n",
      "        \"sudo which python\"\n",
      "      ], \n",
      "      \".result\": \"configured\", \n",
      "      \"group\": \"stable\"\n",
      "    }, \n",
      "    \"id\": 93062803\n",
      "  }, \n",
      "  \"repo_slug\": \"rdhyee/hello-travis-ci\", \n",
      "  \"commit\": {\n",
      "    \"commiter_email\": \"raymond.yee@gmail.com\", \n",
      "    \"author_name\": \"Raymond Yee\", \n",
      "    \"compare_url\": \"https://github.com/rdhyee/hello-travis-ci/compare/2812f7499a3d...10d575011f1c\", \n",
      "    \"message\": \"try to use language:ruby and qualify path for Python\", \n",
      "    \"id\": 26460925, \n",
      "    \"count\": 24, \n",
      "    \"commiter_name\": \"Raymond Yee\", \n",
      "    \"author_email\": \"raymond.yee@gmail.com\", \n",
      "    \"sha\": \"10d575011f1c06134095dec1adc5c0d2fefb2003\", \n",
      "    \"committed_at\": \"2015-11-24T23:59:08Z\", \n",
      "    \"branch\": \"master\", \n",
      "    \"pull_request_number\": null\n",
      "  }, \n",
      "  \"build\": {\n",
      "    \"count\": 24, \n",
      "    \"repository_id\": 4634765, \n",
      "    \"pull_request_title\": null, \n",
      "    \"pull_request\": false, \n",
      "    \"config\": {\n",
      "      \"dist\": \"trusty\", \n",
      "      \"language\": \"ruby\", \n",
      "      \"script\": [\n",
      "        \"python -V\", \n",
      "        \"which python\", \n",
      "        \"python -c \\\"import sys; print(sys.path)\\\"\", \n",
      "        \"/usr/bin/python test.py\"\n",
      "      ], \n",
      "      \"sudo\": \"required\", \n",
      "      \"before_install\": [\n",
      "        \"sudo apt-get update -qq\", \n",
      "        \"sudo apt-get install -y python python-dev python-pip python-virtualenv\", \n",
      "        \"sudo rm -rf /var/lib/apt/lists/*\", \n",
      "        \"sudo pip install -r requirements.txt\", \n",
      "        \"sudo which python\"\n",
      "      ], \n",
      "      \".result\": \"configured\", \n",
      "      \"group\": \"stable\"\n",
      "    }, \n",
      "    \"id\": 93062803, \n",
      "    \"pull_request_number\": null, \n",
      "    \"number\": \"24\"\n",
      "  }\n",
      "}\n"
     ]
    }
   ],
   "source": [
    "print(create_travispy_test_settings(RDHYEE_TRAVIS_TOKEN, 'rdhyee/hello-travis-ci'))"
   ]
  },
  {
   "cell_type": "code",
   "execution_count": null,
   "metadata": {
    "collapsed": true
   },
   "outputs": [],
   "source": []
  }
 ],
 "metadata": {
  "kernelspec": {
   "display_name": "Python 2",
   "language": "python",
   "name": "python2"
  },
  "language_info": {
   "codemirror_mode": {
    "name": "ipython",
    "version": 2
   },
   "file_extension": ".py",
   "mimetype": "text/x-python",
   "name": "python",
   "nbconvert_exporter": "python",
   "pygments_lexer": "ipython2",
   "version": "2.7.11"
  }
 },
 "nbformat": 4,
 "nbformat_minor": 0
}
