{
 "cells": [
  {
   "cell_type": "code",
   "execution_count": null,
   "metadata": {
    "code_folding": [],
    "collapsed": false
   },
   "outputs": [],
   "source": [
    "from __future__ import print_function\n",
    "\n",
    "from github_settings import (ry_username, ry_password,\n",
    "                             username, password,\n",
    "                             token, \n",
    "                             GITENBERG_GITHUB_TOKEN,\n",
    "                             RDHYEE_GITHUB_TOKEN)\n",
    "\n",
    "\n",
    "from itertools import (islice, izip)\n",
    "import requests\n",
    "\n",
    "\n",
    "from second_folio import (apply_to_repos)\n",
    "\n",
    "from gitenberg_utils import (GitenbergJob,\n",
    "                             GitenbergTravisJob,\n",
    "                             ForkBuildRepo,\n",
    "                             BuildRepo,\n",
    "                             BuildRepo2,\n",
    "                             MetadataWrite, \n",
    "                             repo_md)\n",
    "\n",
    "\n",
    "import pandas as pd\n",
    "from pandas import (DataFrame, Series)"
   ]
  },
  {
   "cell_type": "markdown",
   "metadata": {},
   "source": [
    "# status of second folio"
   ]
  },
  {
   "cell_type": "code",
   "execution_count": null,
   "metadata": {
    "collapsed": false
   },
   "outputs": [],
   "source": [
    "from second_folio import (all_repos)\n",
    "\n",
    "all_repos[:5]"
   ]
  },
  {
   "cell_type": "code",
   "execution_count": null,
   "metadata": {
    "collapsed": false
   },
   "outputs": [],
   "source": [
    "len(all_repos)"
   ]
  },
  {
   "cell_type": "code",
   "execution_count": null,
   "metadata": {
    "collapsed": true
   },
   "outputs": [],
   "source": [
    "repo_name = all_repos[0]"
   ]
  },
  {
   "cell_type": "code",
   "execution_count": null,
   "metadata": {
    "collapsed": false
   },
   "outputs": [],
   "source": [
    "repos = all_repos[:]\n",
    "\n",
    "def status_for_repo(repo_name):\n",
    "    rs = GitenbergJob(username=username, password=password, repo_name=repo_name,\n",
    "              repo_owner='GITenberg', \n",
    "              update_travis_commit_msg='update travis',\n",
    "              tag_commit_message='update travis')\n",
    "    return rs.status()\n",
    "\n",
    "results_iter = apply_to_repos(status_for_repo, repos=repos)"
   ]
  },
  {
   "cell_type": "code",
   "execution_count": null,
   "metadata": {
    "collapsed": false
   },
   "outputs": [],
   "source": [
    "results = []\n",
    "\n",
    "for (i,result) in enumerate(results_iter):\n",
    "    results.append(result)\n",
    "    print (\"\\r{}: {}\".format(i, result['repo_name']), end=\"\")"
   ]
  },
  {
   "cell_type": "code",
   "execution_count": null,
   "metadata": {
    "collapsed": false
   },
   "outputs": [],
   "source": [
    "df = DataFrame(results)"
   ]
  },
  {
   "cell_type": "code",
   "execution_count": null,
   "metadata": {
    "collapsed": false
   },
   "outputs": [],
   "source": [
    "df.head()"
   ]
  },
  {
   "cell_type": "code",
   "execution_count": null,
   "metadata": {
    "collapsed": false
   },
   "outputs": [],
   "source": [
    "import json\n",
    "print (json.dumps(results))"
   ]
  },
  {
   "cell_type": "code",
   "execution_count": null,
   "metadata": {
    "collapsed": false
   },
   "outputs": [],
   "source": [
    "df.columns"
   ]
  },
  {
   "cell_type": "code",
   "execution_count": null,
   "metadata": {
    "collapsed": false
   },
   "outputs": [],
   "source": [
    "from semantic_version import Version\n",
    "import re\n",
    "\n",
    "def my_filter(r):\n",
    "    #return (r['metadata.yaml'] and r['book.asciidoc']) and (r['ebooks_in_release_count'] == 0) and (not r['.travis.yml'])\n",
    "    #return (r['ebooks_in_release_count'] == 0) and (r['book.asciidoc']) \n",
    "    # return (r['ebooks_in_release_count'] > 0)\n",
    "    \n",
    "    return len(r['asciidocs'])> 0 and not r['book.asciidoc']\n",
    "    \n",
    "\n",
    "def txts(r):\n",
    "    repo_id = r['repo_name'].split(\"_\")[-1]\n",
    "    \n",
    "    return [hash_ for hash_ in r['root_hashes'] if re.match(r'(\\d+)\\-*(\\d*).txt', hash_)]"
   ]
  },
  {
   "cell_type": "code",
   "execution_count": null,
   "metadata": {
    "collapsed": true
   },
   "outputs": [],
   "source": [
    "# how to find .txt or html files"
   ]
  },
  {
   "cell_type": "code",
   "execution_count": null,
   "metadata": {
    "collapsed": false
   },
   "outputs": [],
   "source": [
    "len(df[df.apply(my_filter, axis=1)])"
   ]
  },
  {
   "cell_type": "code",
   "execution_count": null,
   "metadata": {
    "collapsed": false
   },
   "outputs": [],
   "source": [
    "repos = list(df[df.apply(my_filter, axis=1)]['repo_name'])\n",
    "repos"
   ]
  },
  {
   "cell_type": "code",
   "execution_count": null,
   "metadata": {
    "collapsed": true
   },
   "outputs": [],
   "source": [
    "repos_to_process =  repos[0:1]\n",
    "\n",
    "def build_repo(repo_name):\n",
    "    rs = BuildRepo(username=username, password=password, repo_name=repo_name,\n",
    "              repo_owner='GITenberg', \n",
    "              update_travis_commit_msg='update travis',\n",
    "              tag_commit_message='update travis',\n",
    "              github_token = GITENBERG_GITHUB_TOKEN)\n",
    "    return rs.run()\n",
    "\n",
    "results_iter = apply_to_repos(build_repo, repos=repos_to_process)"
   ]
  },
  {
   "cell_type": "code",
   "execution_count": null,
   "metadata": {
    "collapsed": false
   },
   "outputs": [],
   "source": [
    "results = []\n",
    "\n",
    "for (i,result) in enumerate(results_iter):\n",
    "    results.append(result)\n",
    "    print (\"\\r{}: {}\".format(i, result[0]), end=\"\")"
   ]
  },
  {
   "cell_type": "code",
   "execution_count": null,
   "metadata": {
    "collapsed": false
   },
   "outputs": [],
   "source": [
    "results"
   ]
  },
  {
   "cell_type": "code",
   "execution_count": null,
   "metadata": {
    "collapsed": false
   },
   "outputs": [],
   "source": [
    "repo_name = repos_to_process[0]\n",
    "rs = BuildRepo(username=username, password=password, repo_name=repo_name,\n",
    "              repo_owner='GITenberg', \n",
    "              update_travis_commit_msg='update travis',\n",
    "              tag_commit_message='update travis',\n",
    "              github_token = GITENBERG_GITHUB_TOKEN)\n",
    "rs.run()"
   ]
  },
  {
   "cell_type": "code",
   "execution_count": null,
   "metadata": {
    "collapsed": false
   },
   "outputs": [],
   "source": [
    "repo_md('1079')"
   ]
  },
  {
   "cell_type": "code",
   "execution_count": null,
   "metadata": {
    "collapsed": false
   },
   "outputs": [],
   "source": [
    "repos_to_process =  ['The-Life-and-Opinions-of-Tristram-Shandy-Gentleman_1079']\n",
    "\n",
    "def write_metadata(repo_name):\n",
    "    rs = MetadataWrite(username=username, password=password, repo_name=repo_name,\n",
    "              repo_owner='GITenberg', \n",
    "              update_travis_commit_msg='update travis',\n",
    "              tag_commit_message='update travis')\n",
    "    return rs.run()\n",
    "\n",
    "results_iter = apply_to_repos(write_metadata, repos=repos_to_process)"
   ]
  },
  {
   "cell_type": "code",
   "execution_count": null,
   "metadata": {
    "collapsed": false
   },
   "outputs": [],
   "source": [
    "results = []\n",
    "\n",
    "for (i,result) in enumerate(results_iter):\n",
    "    results.append(result)\n",
    "    print (\"\\r{}: {}\".format(i, result[0]), end=\"\")"
   ]
  },
  {
   "cell_type": "code",
   "execution_count": null,
   "metadata": {
    "collapsed": false
   },
   "outputs": [],
   "source": [
    "repos_to_process"
   ]
  },
  {
   "cell_type": "code",
   "execution_count": null,
   "metadata": {
    "collapsed": false
   },
   "outputs": [],
   "source": [
    "repos[0]"
   ]
  },
  {
   "cell_type": "code",
   "execution_count": null,
   "metadata": {
    "collapsed": false
   },
   "outputs": [],
   "source": [
    "write_metadata(repos[0])"
   ]
  },
  {
   "cell_type": "code",
   "execution_count": null,
   "metadata": {
    "collapsed": false
   },
   "outputs": [],
   "source": [
    "yaml.safe_dump(y,default_flow_style=False,\n",
    "                    allow_unicode=True)"
   ]
  },
  {
   "cell_type": "code",
   "execution_count": null,
   "metadata": {
    "collapsed": true
   },
   "outputs": [],
   "source": [
    "# https://gist.githubusercontent.com/rdhyee/9665aa23084a45269cd3c941f702602f/raw/9332e96fa5d3c86137d4a5c49c2ba7b484a4f7c1/repos_status.json"
   ]
  },
  {
   "cell_type": "markdown",
   "metadata": {},
   "source": [
    "# gitenberg for book metadata"
   ]
  },
  {
   "cell_type": "markdown",
   "metadata": {},
   "source": [
    "# Archival"
   ]
  },
  {
   "cell_type": "code",
   "execution_count": null,
   "metadata": {
    "collapsed": false
   },
   "outputs": [],
   "source": [
    "for repo in repos2_to_build[:]:\n",
    "    try:\n",
    "        bj = BuildRepo2(username=username, password=password, repo_name=repo,\n",
    "              repo_owner='GITenberg', \n",
    "              update_travis_commit_msg='update travis',\n",
    "              tag_commit_message='update travis',\n",
    "              github_token=GITENBERG_GITHUB_TOKEN)\n",
    "    \n",
    "        bj.run()\n",
    "    except Exception as e:\n",
    "        print (repo, e)"
   ]
  },
  {
   "cell_type": "code",
   "execution_count": null,
   "metadata": {
    "collapsed": false
   },
   "outputs": [],
   "source": [
    "from gitenberg import metadata\n",
    "import os\n",
    "\n",
    "def local_yaml_file(id_):\n",
    "    \n",
    "    fname = \"/Users/raymondyee/C/src/gitenberg-dev/giten_site/metadata/{}.yaml\".format(id_)\n",
    "    if os.path.exists(fname):\n",
    "        md = metadata.pandata.Pandata(fname)\n",
    "        return md\n",
    "    else:\n",
    "        return None\n"
   ]
  },
  {
   "cell_type": "code",
   "execution_count": null,
   "metadata": {
    "collapsed": false
   },
   "outputs": [],
   "source": [
    "for repo in all_repos[:]:\n",
    "    id_ = repo.split(\"_\")[-1]\n",
    "    yaml_file = local_yaml_file(id_)\n",
    "    if yaml_file is None:\n",
    "        print (repo, yaml_file)"
   ]
  },
  {
   "cell_type": "markdown",
   "metadata": {},
   "source": [
    "# changes to make in metadata file to initialize it\n",
    "\n",
    "* _version 0.0.1\n",
    "\n",
    "```\n",
    "covers:\t\t\t\t\t\t\t      \n",
    "- attribution: Ed Gaither - Modern Electrographic, 2015\t      \n",
    "  cover_type: original\t\t\t\t\t      \n",
    "  image_path: cover.jpg\t\t\t\t\t      \n",
    "  rights: Attribution-NonCommercial 4.0 International (CC BY- \n",
    "  rights_url: https://creativecommons.org/licenses/by-nc/4.0/ \n",
    "```\n",
    "\n",
    "```\n",
    "publication_date \n",
    "publisher: Recovering the Classics\t\n",
    "rights: CC BY-NC\n",
    "rights_url http://creativecommons.org/licenses/by-nc/4.0/\n",
    "```\n",
    "\n",
    "\n",
    "* add GITenberg subject"
   ]
  },
  {
   "cell_type": "code",
   "execution_count": null,
   "metadata": {
    "collapsed": false
   },
   "outputs": [],
   "source": [
    "gj.travis_encrypt(RDHYEE_DON_QUIXOTE_TOKEN)"
   ]
  },
  {
   "cell_type": "code",
   "execution_count": null,
   "metadata": {
    "collapsed": false
   },
   "outputs": [],
   "source": [
    "u = gj.gh.user()\n",
    "u.email"
   ]
  },
  {
   "cell_type": "code",
   "execution_count": null,
   "metadata": {
    "collapsed": false
   },
   "outputs": [],
   "source": [
    "gj.fork_and_build_gitenberg_repo()"
   ]
  },
  {
   "cell_type": "code",
   "execution_count": null,
   "metadata": {
    "collapsed": false
   },
   "outputs": [],
   "source": [
    "gj.create_or_update_file(path='JUNK.md', message=b'updated junk.md', content=u'hello'.encode('utf-8'))"
   ]
  },
  {
   "cell_type": "code",
   "execution_count": null,
   "metadata": {
    "collapsed": false
   },
   "outputs": [],
   "source": [
    "print(gj.update_travis_template(write_changes=False, \n",
    "                                encrypted_key=gj.travis_encrypt(gj.repo_token()))[0])"
   ]
  },
  {
   "cell_type": "markdown",
   "metadata": {},
   "source": [
    "## next step\n",
    "\n",
    "* make sure travis_repo is active\n",
    "* check on existence of metadata.yaml in the the new github repo\n",
    "* write .travis.deploy.api_key.txt to the github repo\n",
    "* compute new .travis.yml and write to github repo\n",
    "* tag repo "
   ]
  },
  {
   "cell_type": "code",
   "execution_count": null,
   "metadata": {
    "collapsed": true
   },
   "outputs": [],
   "source": [
    "from travispy import TravisPy\n",
    "\n",
    "\n",
    "travis = TravisPy.github_auth(RDHYEE_GITHUB_TOKEN)\n",
    "\n",
    "t_user = travis.user()\n",
    "t_user.login"
   ]
  },
  {
   "cell_type": "code",
   "execution_count": null,
   "metadata": {
    "code_folding": [],
    "collapsed": false
   },
   "outputs": [],
   "source": [
    "travis_repo = travis.repo('rdhyee/Don-Quixote_996')\n",
    "travis_repo.active\n",
    "\n",
    "travis_repo.enable()"
   ]
  },
  {
   "cell_type": "code",
   "execution_count": null,
   "metadata": {
    "collapsed": false
   },
   "outputs": [],
   "source": [
    "travis_encrypt(token_to_encrypt=token.token.encode('utf-8'),\n",
    "               repo_slug=\"rdhyee/Don-Quixote_996\")"
   ]
  },
  {
   "cell_type": "markdown",
   "metadata": {},
   "source": [
    "# create test parameters for travispy\n",
    "\n",
    "https://github.com/menegazzo/travispy/blob/v0.3.4/travispy/_tests/test_settings.example.json"
   ]
  },
  {
   "cell_type": "code",
   "execution_count": null,
   "metadata": {
    "code_folding": [],
    "collapsed": false
   },
   "outputs": [],
   "source": [
    "import json\n",
    "from travispy import TravisPy\n",
    "\n",
    "def create_travispy_test_settings(github_token, repo_slug):\n",
    "    settings = {}\n",
    "    \n",
    "    travis = TravisPy.github_auth(github_token)\n",
    "    \n",
    "    settings['github_token'] = github_token\n",
    "    settings['repo_slug'] = repo_slug\n",
    "    \n",
    "    # account\n",
    "    # https://github.com/menegazzo/travispy/blob/v0.3.4/travispy/_tests/test_authenticated.py#L31\n",
    "    \n",
    "    accounts = travis.accounts()\n",
    "    account = travis.account(accounts[0].id)\n",
    "    \n",
    "    settings['account'] = {\n",
    "        'count': len(accounts),\n",
    "        'id': account.id,\n",
    "        'name': account.name,\n",
    "        'login': account.login,\n",
    "        'type': account.type,\n",
    "        'repos_count': account.repos_count,\n",
    "        'subscribed': hasattr(account, 'subscribed')\n",
    "    }\n",
    "    \n",
    "    # hook\n",
    "    # https://github.com/menegazzo/travispy/blob/v0.3.4/travispy/_tests/test_authenticated.py#L73\n",
    "    \n",
    "    hooks = travis.hooks()\n",
    "    hook = hooks[0]\n",
    "\n",
    "    settings['hook'] = {\n",
    "        'count': len(hooks),\n",
    "        'name': hook.name,\n",
    "        'description': hook.description,\n",
    "        'owner_name': hook.owner_name,\n",
    "        'active': hook.active,\n",
    "        'private': hook.private,\n",
    "        'admin': hook.admin\n",
    "    }\n",
    "    \n",
    "    # user\n",
    "    # https://github.com/menegazzo/travispy/blob/v0.3.4/travispy/_tests/test_authenticated.py#L110\n",
    "    \n",
    "    user = travis.user()\n",
    "\n",
    "    settings['user'] = {\n",
    "        'login': user['login'],\n",
    "        'name': user['name']\n",
    "    }\n",
    "    \n",
    "    # branch\n",
    "    # https://github.com/menegazzo/travispy/blob/v0.3.4/travispy/_tests/test_not_authenticated.py#L19\n",
    "    branches = travis.branches(slug=repo_slug)\n",
    "    branch = travis.branch('master', repo_slug)\n",
    "    \n",
    "    settings['branch'] = {\n",
    "        'count': len(branches),\n",
    "        'id': branch.id,\n",
    "        'repository_id': branch.repository_id,\n",
    "        'pull_request': branch.pull_request,\n",
    "        'config': branch.config,\n",
    "        'number': branch.number\n",
    "    }\n",
    "    \n",
    "    # build\n",
    "    # https://github.com/menegazzo/travispy/blob/v0.3.4/travispy/_tests/test_not_authenticated.py#L66\n",
    "\n",
    "    builds = travis.builds(slug=repo_slug)\n",
    "    build = travis.build(builds[0].id)\n",
    "    build_id = builds[0].id\n",
    "    \n",
    "    settings['build'] = {\n",
    "        'count': len(builds),\n",
    "        'id': build.id,\n",
    "        'repository_id': build.repository_id,\n",
    "        'number': build.number,\n",
    "        'pull_request': build.pull_request,\n",
    "        'pull_request_title': build.pull_request_title,\n",
    "        'pull_request_number': build.pull_request_number,\n",
    "        'config': build.config\n",
    "    }\n",
    "    \n",
    "    # commit\n",
    "    # https://github.com/menegazzo/travispy/blob/v0.3.4/travispy/_tests/test_not_authenticated.py#L115\n",
    "    \n",
    "    commit = build.commit\n",
    "    \n",
    "    settings['commit'] = {\n",
    "        'count': len(builds),\n",
    "        'id': commit.id,\n",
    "        'sha': commit.sha,\n",
    "        'branch': commit.branch,\n",
    "        'message': commit.message,\n",
    "        'committed_at': commit.committed_at,\n",
    "        'author_name': commit.author_name,\n",
    "        'author_email': commit.author_email,\n",
    "        'commiter_name': commit.committer_name, # sic\n",
    "        'commiter_email': commit.committer_email, # sic\n",
    "        'compare_url': commit.compare_url,\n",
    "        'pull_request_number': None if not hasattr(commit, 'pull_request_number') else commit.pull_request_number\n",
    "    }\n",
    "\n",
    "\n",
    "    # jobs\n",
    "    # https://github.com/menegazzo/travispy/blob/v0.3.4/travispy/_tests/test_not_authenticated.py#L140\n",
    "    \n",
    " \n",
    "    jobs = travis.jobs(ids=build.job_ids)\n",
    "    job = travis.job(build.job_ids[0])\n",
    "    \n",
    "    settings['job'] = {\n",
    "        'count': len(jobs),\n",
    "        'build_id': job.build_id,\n",
    "        'repository_id': job.repository_id,\n",
    "        'number': job.number,\n",
    "        'config': job.config,\n",
    "        'queue': job.queue,\n",
    "        'allow_failure': job.allow_failure,\n",
    "        'annotation_ids': job.annotation_ids\n",
    "        \n",
    "    }\n",
    "    \n",
    "    # repo\n",
    "    # https://github.com/menegazzo/travispy/blob/v0.3.4/travispy/_tests/test_not_authenticated.py#L252\n",
    "    # let's add fake stuff for now\n",
    "    \n",
    "    settings['repo'] =  {\n",
    "        \"public_count\": 25,\n",
    "        \"member_count\": 5,\n",
    "        \"owner_count\": 7,\n",
    "        \"github_language\": \"Python\",\n",
    "        \"id\": 2598876,\n",
    "        \"description\": \"TravisPy test project for Python 2.7\",\n",
    "        \"active\": True\n",
    "  }\n",
    "\n",
    "    \n",
    "    return json.dumps(settings, indent=2)"
   ]
  },
  {
   "cell_type": "code",
   "execution_count": null,
   "metadata": {
    "collapsed": false
   },
   "outputs": [],
   "source": [
    "print(create_travispy_test_settings(RDHYEE_GITHUB_TOKEN, 'rdhyee/hello-travis-ci'))"
   ]
  },
  {
   "cell_type": "code",
   "execution_count": null,
   "metadata": {
    "collapsed": true
   },
   "outputs": [],
   "source": []
  }
 ],
 "metadata": {
  "kernelspec": {
   "display_name": "Python 2",
   "language": "python",
   "name": "python2"
  },
  "language_info": {
   "codemirror_mode": {
    "name": "ipython",
    "version": 2
   },
   "file_extension": ".py",
   "mimetype": "text/x-python",
   "name": "python",
   "nbconvert_exporter": "python",
   "pygments_lexer": "ipython2",
   "version": "2.7.11"
  },
  "widgets": {
   "state": {},
   "version": "1.1.2"
  }
 },
 "nbformat": 4,
 "nbformat_minor": 0
}
