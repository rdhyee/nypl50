{
 "cells": [
  {
   "cell_type": "markdown",
   "metadata": {},
   "source": [
    "# Stepping stone:  fork and build GITenberg repos"
   ]
  },
  {
   "cell_type": "markdown",
   "metadata": {},
   "source": [
    "Need to step back to define terms carefully -- lots of tokens:\n",
    "\n",
    "need to pass in github username, password\n",
    "\n",
    "need to pass in or generate:\n",
    "\n",
    "* repo token, which gets encrypted\n",
    "* travis token to use \n",
    "\n",
    "\n",
    "[The Travis CI Blog: Token, Token, Token](https://blog.travis-ci.com/2013-01-28-token-token-token/)\n",
    "\n",
    "* you can often use a personal GitHub access token ([Personal Access Tokens](https://github.com/settings/tokens)) to do a lot of work....but to create other tokens, you need the GitHub password itself.\n",
    "\n",
    "[Authorizations | GitHub Developer Guide](https://developer.github.com/v3/oauth_authorizations/):\n",
    "\n",
    "> You can use this API to manage your OAuth applications. You can only access this API via Basic Authentication using your username and password, not tokens."
   ]
  },
  {
   "cell_type": "code",
   "execution_count": null,
   "metadata": {
    "code_folding": [
     27,
     58,
     133
    ],
    "collapsed": false
   },
   "outputs": [],
   "source": [
    "from github3 import login\n",
    "from github_settings import (ry_username, ry_password,\n",
    "                             username, password,\n",
    "                             token, \n",
    "                             GITENBERG_TRAVIS_TOKEN,\n",
    "                             RDHYEE_TRAVIS_TOKEN, \n",
    "                             RDHYEE_DON_QUIXOTE_TOKEN)\n",
    "\n",
    "from travispy import TravisPy\n",
    "\n",
    "\n",
    "from itertools import islice\n",
    "import requests\n",
    "\n",
    "\n",
    "import base64\n",
    "import datetime\n",
    "import time\n",
    "\n",
    "\n",
    "from cryptography.hazmat.primitives import serialization\n",
    "from cryptography.hazmat.primitives.asymmetric import padding\n",
    "from cryptography.hazmat.backends import default_backend\n",
    "\n",
    "from gitenberg_utils import GitenbergJob\n",
    "\n",
    "\n",
    "class GitenbergTravisJob(GitenbergJob):\n",
    "    def __init__(self, username, password, repo_name, repo_owner,\n",
    "               update_travis_commit_msg,\n",
    "               tag_commit_message, travis_token=None, repo_token=None):\n",
    "        \n",
    "        super(GitenbergTravisJob, self).__init__(username, password, repo_name, repo_owner,\n",
    "               update_travis_commit_msg,\n",
    "               tag_commit_message)\n",
    "        \n",
    "        self.username = username\n",
    "        self.password = password\n",
    "        \n",
    "        self._travis_token = travis_token\n",
    "        if travis_token is None:\n",
    "            self._travis_token = self.travis_token()\n",
    "            \n",
    "        self._repo_token = repo_token    \n",
    "        self._travis_repo_public_key = None\n",
    " \n",
    "        self.travis = TravisPy.github_auth(self.travis_token())\n",
    "        if self.gh_repo is not None:\n",
    "            self.travis_repo = self.travis.repo(self.repo_slug)\n",
    "       \n",
    "        \n",
    "    def public_key_for_travis_repo(self):\n",
    "        if self._travis_repo_public_key is None:\n",
    "            self._travis_repo_public_key =  requests.get(\"https://api.travis-ci.org/repos/{}/{}/key\".format(self.repo_owner,\n",
    "                                        self.repo_name)).json()['key']\n",
    "        return self._travis_repo_public_key\n",
    "\n",
    "\n",
    "    def travis_token(self):\n",
    "\n",
    "        if self._travis_token is not None:\n",
    "            return self._travis_token\n",
    "        \n",
    "        token_note = \"token for travis {}\".format(datetime.datetime.utcnow().isoformat())\n",
    "        token = self.gh.authorize(self.username, self.password, \n",
    "                             scopes=('read:org', 'user:email', 'repo_deployment', \n",
    "                                     'repo:status', 'write:repo_hook'), note=token_note)\n",
    "\n",
    "        return token.token\n",
    "    \n",
    "    def repo_token(self, from_repo_owner='GITenberg', create_duplicate=False):\n",
    "        \"\"\"\n",
    "       \n",
    "        \"\"\"\n",
    "\n",
    "        if self._repo_token is not None:\n",
    "            return self._repo_token\n",
    "        \n",
    "        token_note = \"automatic releases for {}/{}\".format(self.repo_owner, self.repo_name)\n",
    "\n",
    "        try:\n",
    "            token = self.gh.authorize(username, password, scopes=('public_repo'), note=token_note)\n",
    "        except Exception as e:\n",
    "            if self._authorization_description_already_exists(e):\n",
    "                # try again with a new description\n",
    "                if create_duplicate:\n",
    "                    token_note += \" \" + datetime.datetime.utcnow().isoformat()\n",
    "                    token = self.gh.authorize(username, password, scopes=('public_repo'), note=token_note)\n",
    "                else:\n",
    "                    raise Exception('repo token already exists for {}'.format(self.repo_slug))\n",
    "            else:\n",
    "                raise e\n",
    "\n",
    "        self._repo_token = token.token\n",
    "        return self._repo_token\n",
    "    \n",
    "    def travis_encrypt(self, token_to_encrypt):\n",
    "        \"\"\"\n",
    "        return encrypted version of token_to_encrypt \n",
    "        \"\"\"\n",
    "        \n",
    "        # token_to_encrypt has to be string\n",
    "        # if's not, assume it's unicode and enconde in utf-8\n",
    "        \n",
    "        if isinstance(token_to_encrypt, unicode):\n",
    "            token_string = token_to_encrypt.encode('utf-8')\n",
    "        else:\n",
    "            token_string = token_to_encrypt\n",
    "        \n",
    "        repo_public_key_text = self.public_key_for_travis_repo() \n",
    "        repo_public_key = serialization.load_pem_public_key(repo_public_key_text.encode('utf-8'),\n",
    "                                                            backend=default_backend())\n",
    "\n",
    "        ciphertext = repo_public_key.encrypt(\n",
    "         token_string,\n",
    "         padding.PKCS1v15()\n",
    "        )\n",
    "\n",
    "        return base64.b64encode(ciphertext)\n",
    "    \n",
    "    \n",
    "    @staticmethod\n",
    "    def _authorization_description_already_exists(e):\n",
    "        \"\"\"\n",
    "        Given an exception e when trying to create a token, is the exception the result of a duplicate description\n",
    "        \"\"\"\n",
    "        if (e.code == 422 and \n",
    "            e.message == u'Validation Failed' and \n",
    "            (u'already_exists', u'description') in [(error['code'], error['field']) for error in e.errors]):\n",
    "            return True\n",
    "        else:\n",
    "            return False\n",
    "\n",
    "class ForkBuildRepo(GitenbergTravisJob):\n",
    "    def fork_and_build_gitenberg_repo(self, from_repo_owner='GITenberg', \n",
    "                                      create_duplicate_token=False,\n",
    "                                      update_repo_token_file=True):\n",
    "        \"\"\"\n",
    "\n",
    "        \"\"\"\n",
    "\n",
    "        from_repo = self.gh.repository(from_repo_owner, self.repo_name)\n",
    "        \n",
    "        # fork if necessary\n",
    "        if self.gh_repo is None:\n",
    "            self.gh_repo = from_repo.create_fork()\n",
    "            # instantiate self.travis_repo\n",
    "            self.travis.user().sync()\n",
    "            \n",
    "            self.travis_repo = self.travis.repo(self.repo_slug)\n",
    "           \n",
    "        \n",
    "        # make sure it's active\n",
    "        if not self.travis_repo.enable():\n",
    "            raise Exception(\"unable to enable travis repo:{}\".format(self.repo_slug))\n",
    "    \n",
    "        encrypted_key = self.travis_encrypt(self.repo_token())\n",
    "        \n",
    "        # update .travis.deploy.api_key.txt if requested\n",
    "        if update_repo_token_file:\n",
    "            self.create_or_update_file(\n",
    "                 path = \".travis.deploy.api_key.txt\", \n",
    "                 message = \"update .travis.deploy.api_key.txt with new encrypted token\",\n",
    "                 content = encrypted_key,\n",
    "                 ci_skip = True)\n",
    "            \n",
    "        #  update .travis.yml\n",
    "        \n",
    "        self.create_or_update_file(\n",
    "            path = \".travis.yml\",\n",
    "            message = \"update .travis.yml with new token and repo_owner\",\n",
    "            content = self.update_travis_template(write_changes=False, \n",
    "                                encrypted_key=encrypted_key)[0].encode('utf-8'),\n",
    "            ci_skip = True\n",
    "        )\n",
    "\n",
    "        # update version and tag commit -- should fire off a travis build\n",
    "        tag_result = self.tag_commit(version_type='patch', write_changes=True)\n",
    "        return tag_result\n",
    "        \n"
   ]
  },
  {
   "cell_type": "markdown",
   "metadata": {},
   "source": [
    "# rest of second folio"
   ]
  },
  {
   "cell_type": "code",
   "execution_count": null,
   "metadata": {
    "collapsed": false
   },
   "outputs": [],
   "source": [
    "from second_folio import (all_repos)\n",
    "\n",
    "all_repos[:5]"
   ]
  },
  {
   "cell_type": "code",
   "execution_count": null,
   "metadata": {
    "code_folding": [],
    "collapsed": true
   },
   "outputs": [],
   "source": [
    "class BuildRepo(GitenbergTravisJob):\n",
    "        \n",
    "    def run(self, from_repo_owner='GITenberg', \n",
    "                                      create_duplicate_token=False,\n",
    "                                      update_repo_token_file=True,\n",
    "                                      load_repo_token=True):\n",
    "        \"\"\"\n",
    "\n",
    "        \"\"\"\n",
    "\n",
    "        \n",
    "        # make sure it's active\n",
    "        if not self.travis_repo.enable():\n",
    "            raise Exception(\"unable to enable travis repo:{}\".format(self.repo_slug))\n",
    "    \n",
    "        if load_repo_token:\n",
    "            try:\n",
    "                encrypted_key = self.gh_repo.contents(\".travis.deploy.api_key.txt\").decoded\n",
    "            except:\n",
    "                encrypted_key = self.travis_encrypt(self.repo_token())\n",
    "        else:\n",
    "            encrypted_key = self.travis_encrypt(self.repo_token())\n",
    "        \n",
    "        # update .travis.deploy.api_key.txt if requested\n",
    "        if update_repo_token_file:\n",
    "            self.create_or_update_file(\n",
    "                 path = \".travis.deploy.api_key.txt\", \n",
    "                 message = \"update .travis.deploy.api_key.txt with new encrypted token\",\n",
    "                 content = encrypted_key,\n",
    "                 ci_skip = True)\n",
    "            \n",
    "        #  update .travis.yml\n",
    "        \n",
    "        self.create_or_update_file(\n",
    "            path = \".travis.yml\",\n",
    "            message = \"update .travis.yml with new token and repo_owner\",\n",
    "            content = self.update_travis_template(write_changes=False, \n",
    "                                encrypted_key=encrypted_key)[0].encode('utf-8'),\n",
    "            ci_skip = True\n",
    "        )\n",
    "\n",
    "        # update version and tag commit -- should fire off a travis build\n",
    "        tag_result = self.tag_commit(version_type='patch', write_changes=True)\n",
    "        return tag_result\n",
    "    \n",
    "class BuildRepo2(BuildRepo):\n",
    "    def next_version(self, version_type='patch'):\n",
    "        \"\"\"\n",
    "        can be overriden -- by default next patch\n",
    "        \"\"\"\n",
    "\n",
    "        assert version_type in ('patch', 'minor', 'major')\n",
    "\n",
    "        import semantic_version\n",
    "        \n",
    "        _version = self.version()\n",
    "        if _version < semantic_version.Version('0.1.0'):\n",
    "            return semantic_version.Version('0.1.0')\n",
    "        else:\n",
    "            next_func = getattr(_version, \"next_{}\".format(version_type))\n",
    "            return next_func()"
   ]
  },
  {
   "cell_type": "code",
   "execution_count": null,
   "metadata": {
    "collapsed": false
   },
   "outputs": [],
   "source": [
    "bj = BuildRepo(username=username, password=password, repo_name='Bleak-House_1023',\n",
    "              repo_owner='GITenberg', \n",
    "              update_travis_commit_msg='update travis',\n",
    "              tag_commit_message='update travis',\n",
    "              travis_token=GITENBERG_TRAVIS_TOKEN)"
   ]
  },
  {
   "cell_type": "code",
   "execution_count": null,
   "metadata": {
    "collapsed": false
   },
   "outputs": [],
   "source": [
    "bj.next_version()"
   ]
  },
  {
   "cell_type": "code",
   "execution_count": null,
   "metadata": {
    "collapsed": false
   },
   "outputs": [],
   "source": [
    "bj.run()"
   ]
  },
  {
   "cell_type": "code",
   "execution_count": null,
   "metadata": {
    "collapsed": true
   },
   "outputs": [],
   "source": [
    "repos_to_build = [\n",
    "    'Notre-Dame-De-Paris_2610',\n",
    "    'Ulysses_4300',\n",
    "    'Great-Expectations_1400',\n",
    "    'The-Good-Soldier_2775'\n",
    "]"
   ]
  },
  {
   "cell_type": "code",
   "execution_count": null,
   "metadata": {
    "collapsed": true
   },
   "outputs": [],
   "source": [
    "repos2_to_build = [\n",
    "    'Great-Expectations_1400',\n",
    "    'The-Good-Soldier_2775'\n",
    "]"
   ]
  },
  {
   "cell_type": "code",
   "execution_count": null,
   "metadata": {
    "collapsed": false
   },
   "outputs": [],
   "source": [
    "repos_to_build[0:1]"
   ]
  },
  {
   "cell_type": "code",
   "execution_count": null,
   "metadata": {
    "collapsed": false
   },
   "outputs": [],
   "source": [
    "for repo in repos2_to_build[:]:\n",
    "    try:\n",
    "        bj = BuildRepo2(username=username, password=password, repo_name=repo,\n",
    "              repo_owner='GITenberg', \n",
    "              update_travis_commit_msg='update travis',\n",
    "              tag_commit_message='update travis',\n",
    "              travis_token=GITENBERG_TRAVIS_TOKEN)\n",
    "    \n",
    "        bj.run()\n",
    "    except Exception as e:\n",
    "        print (repo, e)"
   ]
  },
  {
   "cell_type": "code",
   "execution_count": null,
   "metadata": {
    "collapsed": false
   },
   "outputs": [],
   "source": [
    "from gitenberg import metadata\n",
    "import os\n",
    "\n",
    "def local_yaml_file(id_):\n",
    "    \n",
    "    fname = \"/Users/raymondyee/C/src/gitenberg-dev/giten_site/metadata/{}.yaml\".format(id_)\n",
    "    if os.path.exists(fname):\n",
    "        md = metadata.pandata.Pandata(fname)\n",
    "        return md\n",
    "    else:\n",
    "        return None\n",
    "    \n"
   ]
  },
  {
   "cell_type": "code",
   "execution_count": null,
   "metadata": {
    "collapsed": false
   },
   "outputs": [],
   "source": [
    "for repo in all_repos[50:60]:\n",
    "    id_ = repo.split(\"_\")[-1]\n",
    "    print repo, local_yaml_file(id_)"
   ]
  },
  {
   "cell_type": "markdown",
   "metadata": {},
   "source": [
    "# changes to make in metadata file to initialize it\n",
    "\n",
    "* _version 0.0.1\n",
    "\n",
    "```\n",
    "covers:\t\t\t\t\t\t\t      \n",
    "- attribution: Ed Gaither - Modern Electrographic, 2015\t      \n",
    "  cover_type: original\t\t\t\t\t      \n",
    "  image_path: cover.jpg\t\t\t\t\t      \n",
    "  rights: Attribution-NonCommercial 4.0 International (CC BY- \n",
    "  rights_url: https://creativecommons.org/licenses/by-nc/4.0/ \n",
    "```\n",
    "\n",
    "```\n",
    "publication_date \n",
    "publisher: Recovering the Classics\t\n",
    "rights: CC BY-NC\n",
    "rights_url http://creativecommons.org/licenses/by-nc/4.0/\n",
    "```\n",
    "\n",
    "\n",
    "* add GITenberg subject"
   ]
  },
  {
   "cell_type": "code",
   "execution_count": null,
   "metadata": {
    "collapsed": false
   },
   "outputs": [],
   "source": [
    "gj.travis_encrypt(RDHYEE_DON_QUIXOTE_TOKEN)"
   ]
  },
  {
   "cell_type": "code",
   "execution_count": null,
   "metadata": {
    "collapsed": false
   },
   "outputs": [],
   "source": [
    "u = gj.gh.user()\n",
    "u.email"
   ]
  },
  {
   "cell_type": "code",
   "execution_count": null,
   "metadata": {
    "collapsed": false
   },
   "outputs": [],
   "source": [
    "gj.fork_and_build_gitenberg_repo()"
   ]
  },
  {
   "cell_type": "code",
   "execution_count": null,
   "metadata": {
    "collapsed": false
   },
   "outputs": [],
   "source": [
    "gj.create_or_update_file(path='JUNK.md', message=b'updated junk.md', content=u'hello'.encode('utf-8'))"
   ]
  },
  {
   "cell_type": "code",
   "execution_count": null,
   "metadata": {
    "collapsed": false
   },
   "outputs": [],
   "source": [
    "print(gj.update_travis_template(write_changes=False, \n",
    "                                encrypted_key=gj.travis_encrypt(gj.repo_token()))[0])"
   ]
  },
  {
   "cell_type": "markdown",
   "metadata": {},
   "source": [
    "## next step\n",
    "\n",
    "* make sure travis_repo is active\n",
    "* check on existence of metadata.yaml in the the new github repo\n",
    "* write .travis.deploy.api_key.txt to the github repo\n",
    "* compute new .travis.yml and write to github repo\n",
    "* tag repo "
   ]
  },
  {
   "cell_type": "code",
   "execution_count": null,
   "metadata": {
    "collapsed": true
   },
   "outputs": [],
   "source": [
    "from travispy import TravisPy\n",
    "\n",
    "\n",
    "travis = TravisPy.github_auth(RDHYEE_TRAVIS_TOKEN)\n",
    "\n",
    "t_user = travis.user()\n",
    "t_user.login"
   ]
  },
  {
   "cell_type": "code",
   "execution_count": null,
   "metadata": {
    "code_folding": [],
    "collapsed": false
   },
   "outputs": [],
   "source": [
    "travis_repo = travis.repo('rdhyee/Don-Quixote_996')\n",
    "travis_repo.active\n",
    "\n",
    "travis_repo.enable()"
   ]
  },
  {
   "cell_type": "code",
   "execution_count": null,
   "metadata": {
    "collapsed": false
   },
   "outputs": [],
   "source": [
    "travis_encrypt(token_to_encrypt=token.token.encode('utf-8'),\n",
    "               repo_slug=\"rdhyee/Don-Quixote_996\")"
   ]
  },
  {
   "cell_type": "markdown",
   "metadata": {},
   "source": [
    "# travispy\n",
    "\n",
    "```\n",
    "pip install travispy\n",
    "```\n",
    "\n",
    "[menegazzo/travispy: Travis CI API for Python](https://github.com/menegazzo/travispy)\n"
   ]
  },
  {
   "cell_type": "code",
   "execution_count": null,
   "metadata": {
    "collapsed": true
   },
   "outputs": [],
   "source": [
    "# let's create Github tokens for use with travispy\n",
    "\n",
    "\"\"\"\n",
    "read:org\n",
    "user:email\n",
    "repo_deployment\n",
    "repo:status\n",
    "write:repo_hook\n",
    "\"\"\"\n",
    "\n",
    "from github3 import (login)\n",
    "import datetime\n",
    "\n",
    "\n",
    "def create_github_token_for_travis(username, password):\n",
    "    gh = login(username, password)\n",
    "    \n",
    "    token_note = \"token for travis {}\".format(datetime.datetime.utcnow().isoformat())\n",
    "    token = gh.authorize(username, password, \n",
    "                         scopes=('read:org', 'user:email', 'repo_deployment', \n",
    "                                 'repo:status', 'write:repo_hook'), note=token_note)\n",
    "            \n",
    "    return token\n",
    "    "
   ]
  },
  {
   "cell_type": "code",
   "execution_count": null,
   "metadata": {
    "collapsed": false
   },
   "outputs": [],
   "source": [
    "travis_token = create_github_token_for_travis(ry_username, ry_password)\n",
    "travis_token"
   ]
  },
  {
   "cell_type": "code",
   "execution_count": null,
   "metadata": {
    "collapsed": false
   },
   "outputs": [],
   "source": [
    "travis_token.token"
   ]
  },
  {
   "cell_type": "code",
   "execution_count": null,
   "metadata": {
    "collapsed": false
   },
   "outputs": [],
   "source": [
    "from travispy import TravisPy\n",
    "from github_settings import (ry_username, ry_password, RDHYEE_TRAVIS_TOKEN)\n",
    "\n",
    "# travis_token = create_github_token_for_travis(ry_username, ry_password)\n",
    "\n",
    "t = TravisPy.github_auth(RDHYEE_TRAVIS_TOKEN)\n",
    "\n",
    "t_user = t.user()\n",
    "t_user"
   ]
  },
  {
   "cell_type": "markdown",
   "metadata": {},
   "source": [
    "# create test parameters for travispy\n",
    "\n",
    "https://github.com/menegazzo/travispy/blob/v0.3.4/travispy/_tests/test_settings.example.json"
   ]
  },
  {
   "cell_type": "code",
   "execution_count": null,
   "metadata": {
    "code_folding": [
     3
    ],
    "collapsed": false
   },
   "outputs": [],
   "source": [
    "import json\n",
    "from travispy import TravisPy\n",
    "\n",
    "def create_travispy_test_settings(github_token, repo_slug):\n",
    "    settings = {}\n",
    "    \n",
    "    travis = TravisPy.github_auth(github_token)\n",
    "    \n",
    "    settings['github_token'] = github_token\n",
    "    settings['repo_slug'] = repo_slug\n",
    "    \n",
    "    # account\n",
    "    # https://github.com/menegazzo/travispy/blob/v0.3.4/travispy/_tests/test_authenticated.py#L31\n",
    "    \n",
    "    accounts = travis.accounts()\n",
    "    account = travis.account(accounts[0].id)\n",
    "    \n",
    "    settings['account'] = {\n",
    "        'count': len(accounts),\n",
    "        'id': account.id,\n",
    "        'name': account.name,\n",
    "        'login': account.login,\n",
    "        'type': account.type,\n",
    "        'repos_count': account.repos_count,\n",
    "        'subscribed': hasattr(account, 'subscribed')\n",
    "    }\n",
    "    \n",
    "    # hook\n",
    "    # https://github.com/menegazzo/travispy/blob/v0.3.4/travispy/_tests/test_authenticated.py#L73\n",
    "    \n",
    "    hooks = travis.hooks()\n",
    "    hook = hooks[0]\n",
    "\n",
    "    settings['hook'] = {\n",
    "        'count': len(hooks),\n",
    "        'name': hook.name,\n",
    "        'description': hook.description,\n",
    "        'owner_name': hook.owner_name,\n",
    "        'active': hook.active,\n",
    "        'private': hook.private,\n",
    "        'admin': hook.admin\n",
    "    }\n",
    "    \n",
    "    # user\n",
    "    # https://github.com/menegazzo/travispy/blob/v0.3.4/travispy/_tests/test_authenticated.py#L110\n",
    "    \n",
    "    user = travis.user()\n",
    "\n",
    "    settings['user'] = {\n",
    "        'login': user['login'],\n",
    "        'name': user['name']\n",
    "    }\n",
    "    \n",
    "    # branch\n",
    "    # https://github.com/menegazzo/travispy/blob/v0.3.4/travispy/_tests/test_not_authenticated.py#L19\n",
    "    branches = travis.branches(slug=repo_slug)\n",
    "    branch = travis.branch('master', repo_slug)\n",
    "    \n",
    "    settings['branch'] = {\n",
    "        'count': len(branches),\n",
    "        'id': branch.id,\n",
    "        'repository_id': branch.repository_id,\n",
    "        'pull_request': branch.pull_request,\n",
    "        'config': branch.config,\n",
    "        'number': branch.number\n",
    "    }\n",
    "    \n",
    "    # build\n",
    "    # https://github.com/menegazzo/travispy/blob/v0.3.4/travispy/_tests/test_not_authenticated.py#L66\n",
    "\n",
    "    builds = travis.builds(slug=repo_slug)\n",
    "    build = travis.build(builds[0].id)\n",
    "    build_id = builds[0].id\n",
    "    \n",
    "    settings['build'] = {\n",
    "        'count': len(builds),\n",
    "        'id': build.id,\n",
    "        'repository_id': build.repository_id,\n",
    "        'number': build.number,\n",
    "        'pull_request': build.pull_request,\n",
    "        'pull_request_title': build.pull_request_title,\n",
    "        'pull_request_number': build.pull_request_number,\n",
    "        'config': build.config\n",
    "    }\n",
    "    \n",
    "    # commit\n",
    "    # https://github.com/menegazzo/travispy/blob/v0.3.4/travispy/_tests/test_not_authenticated.py#L115\n",
    "    \n",
    "    commit = build.commit\n",
    "    \n",
    "    settings['commit'] = {\n",
    "        'count': len(builds),\n",
    "        'id': commit.id,\n",
    "        'sha': commit.sha,\n",
    "        'branch': commit.branch,\n",
    "        'message': commit.message,\n",
    "        'committed_at': commit.committed_at,\n",
    "        'author_name': commit.author_name,\n",
    "        'author_email': commit.author_email,\n",
    "        'commiter_name': commit.committer_name, # sic\n",
    "        'commiter_email': commit.committer_email, # sic\n",
    "        'compare_url': commit.compare_url,\n",
    "        'pull_request_number': None if not hasattr(commit, 'pull_request_number') else commit.pull_request_number\n",
    "    }\n",
    "\n",
    "\n",
    "    # jobs\n",
    "    # https://github.com/menegazzo/travispy/blob/v0.3.4/travispy/_tests/test_not_authenticated.py#L140\n",
    "    \n",
    " \n",
    "    jobs = travis.jobs(ids=build.job_ids)\n",
    "    job = travis.job(build.job_ids[0])\n",
    "    \n",
    "    settings['job'] = {\n",
    "        'count': len(jobs),\n",
    "        'build_id': job.build_id,\n",
    "        'repository_id': job.repository_id,\n",
    "        'number': job.number,\n",
    "        'config': job.config,\n",
    "        'queue': job.queue,\n",
    "        'allow_failure': job.allow_failure,\n",
    "        'annotation_ids': job.annotation_ids\n",
    "        \n",
    "    }\n",
    "    \n",
    "    # repo\n",
    "    # https://github.com/menegazzo/travispy/blob/v0.3.4/travispy/_tests/test_not_authenticated.py#L252\n",
    "    # let's add fake stuff for now\n",
    "    \n",
    "    settings['repo'] =  {\n",
    "        \"public_count\": 25,\n",
    "        \"member_count\": 5,\n",
    "        \"owner_count\": 7,\n",
    "        \"github_language\": \"Python\",\n",
    "        \"id\": 2598876,\n",
    "        \"description\": \"TravisPy test project for Python 2.7\",\n",
    "        \"active\": True\n",
    "  }\n",
    "\n",
    "    \n",
    "    return json.dumps(settings, indent=2)"
   ]
  },
  {
   "cell_type": "code",
   "execution_count": null,
   "metadata": {
    "collapsed": false
   },
   "outputs": [],
   "source": [
    "print(create_travispy_test_settings(RDHYEE_TRAVIS_TOKEN, 'rdhyee/hello-travis-ci'))"
   ]
  },
  {
   "cell_type": "code",
   "execution_count": null,
   "metadata": {
    "collapsed": true
   },
   "outputs": [],
   "source": []
  }
 ],
 "metadata": {
  "kernelspec": {
   "display_name": "Python 2",
   "language": "python",
   "name": "python2"
  },
  "language_info": {
   "codemirror_mode": {
    "name": "ipython",
    "version": 2
   },
   "file_extension": ".py",
   "mimetype": "text/x-python",
   "name": "python",
   "nbconvert_exporter": "python",
   "pygments_lexer": "ipython2",
   "version": "2.7.11"
  }
 },
 "nbformat": 4,
 "nbformat_minor": 0
}
