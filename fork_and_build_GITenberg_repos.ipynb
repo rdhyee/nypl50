{
 "cells": [
  {
   "cell_type": "code",
   "execution_count": 1,
   "metadata": {
    "code_folding": [],
    "collapsed": false
   },
   "outputs": [],
   "source": [
    "from github_settings import (ry_username, ry_password,\n",
    "                             username, password,\n",
    "                             token, \n",
    "                             GITENBERG_TRAVIS_TOKEN,\n",
    "                             RDHYEE_TRAVIS_TOKEN, \n",
    "                             RDHYEE_DON_QUIXOTE_TOKEN)\n",
    "\n",
    "\n",
    "from itertools import islice\n",
    "import requests\n",
    "\n",
    "\n",
    "from gitenberg_utils import (GitenbergJob,\n",
    "                             GitenbergTravisJob,\n",
    "                             ForkBuildRepo,\n",
    "                             BuildRepo,\n",
    "                             BuildRepo2)"
   ]
  },
  {
   "cell_type": "markdown",
   "metadata": {},
   "source": [
    "# status of second folio"
   ]
  },
  {
   "cell_type": "code",
   "execution_count": 2,
   "metadata": {
    "collapsed": false
   },
   "outputs": [
    {
     "data": {
      "text/plain": [
       "['Adventures-of-Huckleberry-Finn_76',\n",
       " 'Don-Quixote_996',\n",
       " 'Dubliners_2814',\n",
       " 'Jane-Eyre_1260',\n",
       " 'Moby-Dick--Or-The-Whale_2701']"
      ]
     },
     "execution_count": 2,
     "metadata": {},
     "output_type": "execute_result"
    }
   ],
   "source": [
    "from second_folio import (all_repos)\n",
    "\n",
    "all_repos[:5]"
   ]
  },
  {
   "cell_type": "code",
   "execution_count": 3,
   "metadata": {
    "collapsed": false
   },
   "outputs": [
    {
     "data": {
      "text/plain": [
       "152"
      ]
     },
     "execution_count": 3,
     "metadata": {},
     "output_type": "execute_result"
    }
   ],
   "source": [
    "len(all_repos)"
   ]
  },
  {
   "cell_type": "code",
   "execution_count": 4,
   "metadata": {
    "collapsed": true
   },
   "outputs": [],
   "source": [
    "repo_name = all_repos[0]"
   ]
  },
  {
   "cell_type": "markdown",
   "metadata": {},
   "source": [
    "## RepoStatus: how to calculate status of a repo\n",
    "\n",
    "has the following files:\n",
    "\n",
    "* metadata.yaml\n",
    "* book.asciidoc \n",
    "* [other .asciidoc]\n",
    "* cover.jpg\n",
    "* .travis.yml\n",
    "* .api...\n",
    "* version (if any)\n",
    "* books in latest release (if any)"
   ]
  },
  {
   "cell_type": "code",
   "execution_count": 5,
   "metadata": {
    "collapsed": true
   },
   "outputs": [],
   "source": [
    "class RepoStatus(GitenbergJob):\n",
    "    \n",
    "    def __init__(self, username, password, repo_name, repo_owner,\n",
    "               update_travis_commit_msg,\n",
    "               tag_commit_message):\n",
    "        \n",
    "        super(RepoStatus, self).__init__(username, password, repo_name, repo_owner,\n",
    "               update_travis_commit_msg,\n",
    "               tag_commit_message)\n",
    "        \n",
    "        self._root_tree = None\n",
    "    \n",
    "    def root_tree (self, branch='master'):\n",
    "        \n",
    "        if self._root_tree is None:\n",
    "            repo = self.gh_repo\n",
    "            repo_branch = repo.branch(branch)\n",
    "            tree = repo.tree(repo_branch.commit.sha)\n",
    "            self._root_tree = tree.tree\n",
    "\n",
    "        return self._root_tree\n",
    "        \n",
    "    def asciidoc_in_repo_root(self, branch ='master'):\n",
    "        \"\"\"return list of asciidocs in the root of repo\"\"\"\n",
    " \n",
    "        return [hash_.path \n",
    "                for hash_ in self.root_tree(branch)\n",
    "                if hash_.path.endswith('.asciidoc')]\n",
    "\n",
    "    def status (self):\n",
    "        \n",
    "        _status = {\n",
    "            'has_metadata_yaml': 'metadata.yaml' in [hash_.path for hash_ in self.root_tree()],\n",
    "            'has_book_asciidoc': 'book.asciidoc' in [hash_.path for hash_ in self.root_tree()]\n",
    "        }\n",
    "        return _status\n",
    "    \n",
    " "
   ]
  },
  {
   "cell_type": "code",
   "execution_count": 6,
   "metadata": {
    "collapsed": false
   },
   "outputs": [],
   "source": [
    "rs = RepoStatus(username=username, password=password, repo_name=repo_name,\n",
    "              repo_owner='GITenberg', \n",
    "              update_travis_commit_msg='update travis',\n",
    "              tag_commit_message='update travis')"
   ]
  },
  {
   "cell_type": "code",
   "execution_count": 7,
   "metadata": {
    "collapsed": false
   },
   "outputs": [
    {
     "data": {
      "text/plain": [
       "[('epub', u'Adventures-of-Huckleberry-Finn.epub'),\n",
       " ('mobi', u'Adventures-of-Huckleberry-Finn.mobi'),\n",
       " ('pdf', u'Adventures-of-Huckleberry-Finn.pdf')]"
      ]
     },
     "execution_count": 7,
     "metadata": {},
     "output_type": "execute_result"
    }
   ],
   "source": [
    "rs.ebooks_in_github_release(tag=unicode(rs.version()))"
   ]
  },
  {
   "cell_type": "code",
   "execution_count": 8,
   "metadata": {
    "collapsed": false
   },
   "outputs": [
    {
     "data": {
      "text/plain": [
       "{'has_book_asciidoc': True, 'has_metadata_yaml': True}"
      ]
     },
     "execution_count": 8,
     "metadata": {},
     "output_type": "execute_result"
    }
   ],
   "source": [
    "rs.status()"
   ]
  },
  {
   "cell_type": "code",
   "execution_count": 9,
   "metadata": {
    "collapsed": false
   },
   "outputs": [
    {
     "data": {
      "text/plain": [
       "[u'book.asciidoc']"
      ]
     },
     "execution_count": 9,
     "metadata": {},
     "output_type": "execute_result"
    }
   ],
   "source": [
    "rs.asciidoc_in_repo_root()"
   ]
  },
  {
   "cell_type": "markdown",
   "metadata": {},
   "source": [
    "# Archival"
   ]
  },
  {
   "cell_type": "code",
   "execution_count": null,
   "metadata": {
    "collapsed": false
   },
   "outputs": [],
   "source": [
    "for repo in repos2_to_build[:]:\n",
    "    try:\n",
    "        bj = BuildRepo2(username=username, password=password, repo_name=repo,\n",
    "              repo_owner='GITenberg', \n",
    "              update_travis_commit_msg='update travis',\n",
    "              tag_commit_message='update travis',\n",
    "              travis_token=GITENBERG_TRAVIS_TOKEN)\n",
    "    \n",
    "        bj.run()\n",
    "    except Exception as e:\n",
    "        print (repo, e)"
   ]
  },
  {
   "cell_type": "code",
   "execution_count": null,
   "metadata": {
    "collapsed": false
   },
   "outputs": [],
   "source": [
    "from gitenberg import metadata\n",
    "import os\n",
    "\n",
    "def local_yaml_file(id_):\n",
    "    \n",
    "    fname = \"/Users/raymondyee/C/src/gitenberg-dev/giten_site/metadata/{}.yaml\".format(id_)\n",
    "    if os.path.exists(fname):\n",
    "        md = metadata.pandata.Pandata(fname)\n",
    "        return md\n",
    "    else:\n",
    "        return None\n"
   ]
  },
  {
   "cell_type": "code",
   "execution_count": null,
   "metadata": {
    "collapsed": false
   },
   "outputs": [],
   "source": [
    "for repo in all_repos[50:60]:\n",
    "    id_ = repo.split(\"_\")[-1]\n",
    "    print repo, local_yaml_file(id_)"
   ]
  },
  {
   "cell_type": "markdown",
   "metadata": {},
   "source": [
    "# changes to make in metadata file to initialize it\n",
    "\n",
    "* _version 0.0.1\n",
    "\n",
    "```\n",
    "covers:\t\t\t\t\t\t\t      \n",
    "- attribution: Ed Gaither - Modern Electrographic, 2015\t      \n",
    "  cover_type: original\t\t\t\t\t      \n",
    "  image_path: cover.jpg\t\t\t\t\t      \n",
    "  rights: Attribution-NonCommercial 4.0 International (CC BY- \n",
    "  rights_url: https://creativecommons.org/licenses/by-nc/4.0/ \n",
    "```\n",
    "\n",
    "```\n",
    "publication_date \n",
    "publisher: Recovering the Classics\t\n",
    "rights: CC BY-NC\n",
    "rights_url http://creativecommons.org/licenses/by-nc/4.0/\n",
    "```\n",
    "\n",
    "\n",
    "* add GITenberg subject"
   ]
  },
  {
   "cell_type": "code",
   "execution_count": null,
   "metadata": {
    "collapsed": false
   },
   "outputs": [],
   "source": [
    "gj.travis_encrypt(RDHYEE_DON_QUIXOTE_TOKEN)"
   ]
  },
  {
   "cell_type": "code",
   "execution_count": null,
   "metadata": {
    "collapsed": false
   },
   "outputs": [],
   "source": [
    "u = gj.gh.user()\n",
    "u.email"
   ]
  },
  {
   "cell_type": "code",
   "execution_count": null,
   "metadata": {
    "collapsed": false
   },
   "outputs": [],
   "source": [
    "gj.fork_and_build_gitenberg_repo()"
   ]
  },
  {
   "cell_type": "code",
   "execution_count": null,
   "metadata": {
    "collapsed": false
   },
   "outputs": [],
   "source": [
    "gj.create_or_update_file(path='JUNK.md', message=b'updated junk.md', content=u'hello'.encode('utf-8'))"
   ]
  },
  {
   "cell_type": "code",
   "execution_count": null,
   "metadata": {
    "collapsed": false
   },
   "outputs": [],
   "source": [
    "print(gj.update_travis_template(write_changes=False, \n",
    "                                encrypted_key=gj.travis_encrypt(gj.repo_token()))[0])"
   ]
  },
  {
   "cell_type": "markdown",
   "metadata": {},
   "source": [
    "## next step\n",
    "\n",
    "* make sure travis_repo is active\n",
    "* check on existence of metadata.yaml in the the new github repo\n",
    "* write .travis.deploy.api_key.txt to the github repo\n",
    "* compute new .travis.yml and write to github repo\n",
    "* tag repo "
   ]
  },
  {
   "cell_type": "code",
   "execution_count": null,
   "metadata": {
    "collapsed": true
   },
   "outputs": [],
   "source": [
    "from travispy import TravisPy\n",
    "\n",
    "\n",
    "travis = TravisPy.github_auth(RDHYEE_TRAVIS_TOKEN)\n",
    "\n",
    "t_user = travis.user()\n",
    "t_user.login"
   ]
  },
  {
   "cell_type": "code",
   "execution_count": null,
   "metadata": {
    "code_folding": [],
    "collapsed": false
   },
   "outputs": [],
   "source": [
    "travis_repo = travis.repo('rdhyee/Don-Quixote_996')\n",
    "travis_repo.active\n",
    "\n",
    "travis_repo.enable()"
   ]
  },
  {
   "cell_type": "code",
   "execution_count": null,
   "metadata": {
    "collapsed": false
   },
   "outputs": [],
   "source": [
    "travis_encrypt(token_to_encrypt=token.token.encode('utf-8'),\n",
    "               repo_slug=\"rdhyee/Don-Quixote_996\")"
   ]
  },
  {
   "cell_type": "markdown",
   "metadata": {},
   "source": [
    "# create test parameters for travispy\n",
    "\n",
    "https://github.com/menegazzo/travispy/blob/v0.3.4/travispy/_tests/test_settings.example.json"
   ]
  },
  {
   "cell_type": "code",
   "execution_count": null,
   "metadata": {
    "code_folding": [],
    "collapsed": false
   },
   "outputs": [],
   "source": [
    "import json\n",
    "from travispy import TravisPy\n",
    "\n",
    "def create_travispy_test_settings(github_token, repo_slug):\n",
    "    settings = {}\n",
    "    \n",
    "    travis = TravisPy.github_auth(github_token)\n",
    "    \n",
    "    settings['github_token'] = github_token\n",
    "    settings['repo_slug'] = repo_slug\n",
    "    \n",
    "    # account\n",
    "    # https://github.com/menegazzo/travispy/blob/v0.3.4/travispy/_tests/test_authenticated.py#L31\n",
    "    \n",
    "    accounts = travis.accounts()\n",
    "    account = travis.account(accounts[0].id)\n",
    "    \n",
    "    settings['account'] = {\n",
    "        'count': len(accounts),\n",
    "        'id': account.id,\n",
    "        'name': account.name,\n",
    "        'login': account.login,\n",
    "        'type': account.type,\n",
    "        'repos_count': account.repos_count,\n",
    "        'subscribed': hasattr(account, 'subscribed')\n",
    "    }\n",
    "    \n",
    "    # hook\n",
    "    # https://github.com/menegazzo/travispy/blob/v0.3.4/travispy/_tests/test_authenticated.py#L73\n",
    "    \n",
    "    hooks = travis.hooks()\n",
    "    hook = hooks[0]\n",
    "\n",
    "    settings['hook'] = {\n",
    "        'count': len(hooks),\n",
    "        'name': hook.name,\n",
    "        'description': hook.description,\n",
    "        'owner_name': hook.owner_name,\n",
    "        'active': hook.active,\n",
    "        'private': hook.private,\n",
    "        'admin': hook.admin\n",
    "    }\n",
    "    \n",
    "    # user\n",
    "    # https://github.com/menegazzo/travispy/blob/v0.3.4/travispy/_tests/test_authenticated.py#L110\n",
    "    \n",
    "    user = travis.user()\n",
    "\n",
    "    settings['user'] = {\n",
    "        'login': user['login'],\n",
    "        'name': user['name']\n",
    "    }\n",
    "    \n",
    "    # branch\n",
    "    # https://github.com/menegazzo/travispy/blob/v0.3.4/travispy/_tests/test_not_authenticated.py#L19\n",
    "    branches = travis.branches(slug=repo_slug)\n",
    "    branch = travis.branch('master', repo_slug)\n",
    "    \n",
    "    settings['branch'] = {\n",
    "        'count': len(branches),\n",
    "        'id': branch.id,\n",
    "        'repository_id': branch.repository_id,\n",
    "        'pull_request': branch.pull_request,\n",
    "        'config': branch.config,\n",
    "        'number': branch.number\n",
    "    }\n",
    "    \n",
    "    # build\n",
    "    # https://github.com/menegazzo/travispy/blob/v0.3.4/travispy/_tests/test_not_authenticated.py#L66\n",
    "\n",
    "    builds = travis.builds(slug=repo_slug)\n",
    "    build = travis.build(builds[0].id)\n",
    "    build_id = builds[0].id\n",
    "    \n",
    "    settings['build'] = {\n",
    "        'count': len(builds),\n",
    "        'id': build.id,\n",
    "        'repository_id': build.repository_id,\n",
    "        'number': build.number,\n",
    "        'pull_request': build.pull_request,\n",
    "        'pull_request_title': build.pull_request_title,\n",
    "        'pull_request_number': build.pull_request_number,\n",
    "        'config': build.config\n",
    "    }\n",
    "    \n",
    "    # commit\n",
    "    # https://github.com/menegazzo/travispy/blob/v0.3.4/travispy/_tests/test_not_authenticated.py#L115\n",
    "    \n",
    "    commit = build.commit\n",
    "    \n",
    "    settings['commit'] = {\n",
    "        'count': len(builds),\n",
    "        'id': commit.id,\n",
    "        'sha': commit.sha,\n",
    "        'branch': commit.branch,\n",
    "        'message': commit.message,\n",
    "        'committed_at': commit.committed_at,\n",
    "        'author_name': commit.author_name,\n",
    "        'author_email': commit.author_email,\n",
    "        'commiter_name': commit.committer_name, # sic\n",
    "        'commiter_email': commit.committer_email, # sic\n",
    "        'compare_url': commit.compare_url,\n",
    "        'pull_request_number': None if not hasattr(commit, 'pull_request_number') else commit.pull_request_number\n",
    "    }\n",
    "\n",
    "\n",
    "    # jobs\n",
    "    # https://github.com/menegazzo/travispy/blob/v0.3.4/travispy/_tests/test_not_authenticated.py#L140\n",
    "    \n",
    " \n",
    "    jobs = travis.jobs(ids=build.job_ids)\n",
    "    job = travis.job(build.job_ids[0])\n",
    "    \n",
    "    settings['job'] = {\n",
    "        'count': len(jobs),\n",
    "        'build_id': job.build_id,\n",
    "        'repository_id': job.repository_id,\n",
    "        'number': job.number,\n",
    "        'config': job.config,\n",
    "        'queue': job.queue,\n",
    "        'allow_failure': job.allow_failure,\n",
    "        'annotation_ids': job.annotation_ids\n",
    "        \n",
    "    }\n",
    "    \n",
    "    # repo\n",
    "    # https://github.com/menegazzo/travispy/blob/v0.3.4/travispy/_tests/test_not_authenticated.py#L252\n",
    "    # let's add fake stuff for now\n",
    "    \n",
    "    settings['repo'] =  {\n",
    "        \"public_count\": 25,\n",
    "        \"member_count\": 5,\n",
    "        \"owner_count\": 7,\n",
    "        \"github_language\": \"Python\",\n",
    "        \"id\": 2598876,\n",
    "        \"description\": \"TravisPy test project for Python 2.7\",\n",
    "        \"active\": True\n",
    "  }\n",
    "\n",
    "    \n",
    "    return json.dumps(settings, indent=2)"
   ]
  },
  {
   "cell_type": "code",
   "execution_count": null,
   "metadata": {
    "collapsed": false
   },
   "outputs": [],
   "source": [
    "print(create_travispy_test_settings(RDHYEE_TRAVIS_TOKEN, 'rdhyee/hello-travis-ci'))"
   ]
  }
 ],
 "metadata": {
  "kernelspec": {
   "display_name": "Python 2",
   "language": "python",
   "name": "python2"
  },
  "language_info": {
   "codemirror_mode": {
    "name": "ipython",
    "version": 2
   },
   "file_extension": ".py",
   "mimetype": "text/x-python",
   "name": "python",
   "nbconvert_exporter": "python",
   "pygments_lexer": "ipython2",
   "version": "2.7.11"
  }
 },
 "nbformat": 4,
 "nbformat_minor": 0
}
