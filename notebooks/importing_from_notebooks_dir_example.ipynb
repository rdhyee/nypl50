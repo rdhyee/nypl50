{
 "cells": [
  {
   "cell_type": "code",
   "execution_count": 1,
   "metadata": {
    "collapsed": false
   },
   "outputs": [],
   "source": [
    "import sys\n",
    "sys.path.append(\"..\")"
   ]
  },
  {
   "cell_type": "code",
   "execution_count": 2,
   "metadata": {
    "collapsed": false
   },
   "outputs": [
    {
     "name": "stdout",
     "output_type": "stream",
     "text": [
      "importing_from_notebooks_dir_example.ipynb\r\n"
     ]
    }
   ],
   "source": [
    "!ls"
   ]
  },
  {
   "cell_type": "code",
   "execution_count": 3,
   "metadata": {
    "collapsed": true
   },
   "outputs": [],
   "source": [
    "import second_folio"
   ]
  },
  {
   "cell_type": "code",
   "execution_count": 4,
   "metadata": {
    "collapsed": true
   },
   "outputs": [],
   "source": [
    "from __future__ import print_function\n",
    "\n",
    "import json\n",
    "import yaml\n",
    "from itertools import (islice, izip)\n",
    "\n",
    "import arrow\n",
    "from gitenberg import metadata\n",
    "import jinja2\n",
    "import semantic_version\n",
    "\n",
    "\n",
    "import requests\n",
    "from second_folio import (all_repos, \n",
    "                          apply_to_repos, \n",
    "                          git_pull,\n",
    "                          travis_template,\n",
    "                          repo_version,\n",
    "                          travis_template,\n",
    "                          slugify,\n",
    "                          TRAVIS_TEMPLATE_URL\n",
    "                          )\n",
    "\n",
    "from github_settings import (username, password, token)\n",
    "\n",
    "# import github3.py\n",
    "import github3\n",
    "\n",
    "GITenberg_ORG = \"GITenberg\"\n",
    "\n",
    "# https://github.com/sigmavirus24/github3.py/pull/368/files\n",
    "# for personal access tokens\n",
    "gh = github3.login(username, password=token)"
   ]
  },
  {
   "cell_type": "code",
   "execution_count": 5,
   "metadata": {
    "collapsed": false
   },
   "outputs": [
    {
     "data": {
      "text/plain": [
       "[('The-Picture-of-Dorian-Gray_174', ('0.0.1', u'0.1.0', False)),\n",
       " ('The-Hunchback-of-Notre-Dame_6539', ('0.0.1', u'0.1.0', False)),\n",
       " ('The-Works-of-Edgar-Allan-Poe-The-Raven-EditionTable-Of-Contents-And-Index-Of-The-Five-Volumes_25525',\n",
       "  ('0.0.1', u'0.1.0', False))]"
      ]
     },
     "execution_count": 5,
     "metadata": {},
     "output_type": "execute_result"
    }
   ],
   "source": [
    "[(repo, version_info) for (repo, version_info) in \n",
    "   izip(all_repos, apply_to_repos(repo_version, repos=all_repos, kwargs={'version_type':'minor', 'write_version':False}))\n",
    "   if version_info[0] == '0.0.1']"
   ]
  },
  {
   "cell_type": "code",
   "execution_count": null,
   "metadata": {
    "collapsed": true
   },
   "outputs": [],
   "source": []
  }
 ],
 "metadata": {
  "kernelspec": {
   "display_name": "Python 2",
   "language": "python",
   "name": "python2"
  },
  "language_info": {
   "codemirror_mode": {
    "name": "ipython",
    "version": 2
   },
   "file_extension": ".py",
   "mimetype": "text/x-python",
   "name": "python",
   "nbconvert_exporter": "python",
   "pygments_lexer": "ipython2",
   "version": "2.7.11"
  }
 },
 "nbformat": 4,
 "nbformat_minor": 0
}
