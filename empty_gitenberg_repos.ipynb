{
 "cells": [
  {
   "cell_type": "markdown",
   "metadata": {},
   "source": [
    "# Goal\n",
    "\n",
    "respond to [empty repos · Issue #103 · gitenberg-dev/gitberg](https://github.com/gitenberg-dev/gitberg/issues/103)"
   ]
  },
  {
   "cell_type": "code",
   "execution_count": 1,
   "metadata": {
    "collapsed": true
   },
   "outputs": [],
   "source": [
    "from github3 import (login, GitHub)\n",
    "from github_settings import (username, password, token)\n",
    "from itertools import islice\n",
    "\n",
    "#gh = login(username, password=password)\n",
    "gh = login(token=token)\n",
    "\n",
    "from github3 import (login, GitHub)\n",
    "from github_settings import (username, password, token)\n",
    "from itertools import islice\n",
    "\n",
    "#gh = login(username, password=password)\n",
    "gh = login(token=token)\n",
    "\n",
    "\n",
    "def repo_is_empty(repo_name, repo_owner='GITenberg', branch='master'):\n",
    "    try:\n",
    "        repo = gh.repository(repo_owner, repo_name)\n",
    "        repo_branch = repo.branch(branch)\n",
    "        # if there no branch\n",
    "        if repo_branch is None:\n",
    "            return True\n",
    "        # if there are no files in tree\n",
    "        tree = repo.tree(repo_branch.commit.sha)\n",
    "        return len(tree.tree) == 0    \n",
    "    except Exception as e:\n",
    "        return e\n"
   ]
  },
  {
   "cell_type": "code",
   "execution_count": 2,
   "metadata": {
    "collapsed": false
   },
   "outputs": [
    {
     "data": {
      "text/plain": [
       "True"
      ]
     },
     "execution_count": 2,
     "metadata": {},
     "output_type": "execute_result"
    }
   ],
   "source": [
    "repo_is_empty('United-States-Declaration-of-Independence_1')"
   ]
  },
  {
   "cell_type": "code",
   "execution_count": 3,
   "metadata": {
    "collapsed": false
   },
   "outputs": [
    {
     "data": {
      "text/plain": [
       "True"
      ]
     },
     "execution_count": 3,
     "metadata": {},
     "output_type": "execute_result"
    }
   ],
   "source": [
    "# no master branch at all\n",
    "repo = gh.repository('GITenberg', 'United-States-Declaration-of-Independence_1')\n",
    "repo.branch('master') is None"
   ]
  },
  {
   "cell_type": "code",
   "execution_count": null,
   "metadata": {
    "collapsed": true
   },
   "outputs": [],
   "source": []
  }
 ],
 "metadata": {
  "kernelspec": {
   "display_name": "Python 2",
   "language": "python",
   "name": "python2"
  },
  "language_info": {
   "codemirror_mode": {
    "name": "ipython",
    "version": 2
   },
   "file_extension": ".py",
   "mimetype": "text/x-python",
   "name": "python",
   "nbconvert_exporter": "python",
   "pygments_lexer": "ipython2",
   "version": "2.7.11"
  }
 },
 "nbformat": 4,
 "nbformat_minor": 0
}
