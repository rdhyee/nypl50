{
 "cells": [
  {
   "cell_type": "markdown",
   "metadata": {},
   "source": [
    "[Encryption keys - Travis CI](https://docs.travis-ci.com/user/encryption-keys/)"
   ]
  },
  {
   "cell_type": "code",
   "execution_count": null,
   "metadata": {
    "collapsed": true
   },
   "outputs": [],
   "source": [
    "from Crypto.PublicKey import RSA\n",
    "import base64\n",
    "\n",
    "from github_settings import SSH_KEY_PASSWORD\n",
    "\n",
    "my_public_key = RSA.importKey(\n",
    "    open('/Users/raymondyee/.ssh/id_rsa.pub', 'r').read())\n",
    "\n",
    "my_private_key =  RSA.importKey(open('/Users/raymondyee/.ssh/id_rsa','r').read(),  \n",
    "              passphrase=SSH_KEY_PASSWORD)\n",
    "\n",
    "\n",
    "message = \"abcdefgh\""
   ]
  },
  {
   "cell_type": "markdown",
   "metadata": {},
   "source": [
    "# converting between ssh and pem\n",
    "\n",
    "verify that my `id_rsa.pem` is actually equivalent to my `id_rsa.pub`"
   ]
  },
  {
   "cell_type": "code",
   "execution_count": null,
   "metadata": {
    "collapsed": false
   },
   "outputs": [],
   "source": [
    "print (my_public_key.exportKey(format='PEM'))"
   ]
  },
  {
   "cell_type": "code",
   "execution_count": null,
   "metadata": {
    "collapsed": false
   },
   "outputs": [],
   "source": [
    "print (open(\"/Users/raymondyee/.ssh/id_rsa.pem\").read())"
   ]
  },
  {
   "cell_type": "markdown",
   "metadata": {},
   "source": [
    "[Python and cryptography with pycrypto | Laurent Luce's Blog](http://www.laurentluce.com/posts/python-and-cryptography-with-pycrypto/)"
   ]
  },
  {
   "cell_type": "markdown",
   "metadata": {},
   "source": [
    "How to match the\n",
    "\n",
    "```ruby\n",
    "Base64.encode64\n",
    "```\n",
    "\n",
    "from [travis.rb/repository.rb at dcc9f20535c811068c4ff9788ae9bd026a116351 · travis-ci/travis.rb](https://github.com/travis-ci/travis.rb/blob/dcc9f20535c811068c4ff9788ae9bd026a116351/lib/travis/client/repository.rb#L17)  This docs: [Module: Base64 (Ruby 2_2_0)](http://ruby-doc.org/stdlib-2.2.0/libdoc/base64/rdoc/Base64.html#method-i-encode64):\n",
    "\n",
    "> Returns the Base64-encoded version of bin. This method complies with RFC 2045. Line feeds are added to every 60 encoded characters."
   ]
  },
  {
   "cell_type": "markdown",
   "metadata": {},
   "source": [
    "# pycrypto + my own id_rsa"
   ]
  },
  {
   "cell_type": "markdown",
   "metadata": {},
   "source": [
    "## padding\n",
    "\n",
    "[Class: OpenSSL::PKey::RSA (Ruby 2_2_4)](http://ruby-doc.org/stdlib-2.2.4/libdoc/openssl/rdoc/OpenSSL/PKey/RSA.html#method-i-private_encrypt):\n",
    "\n",
    "> Encrypt string with the public key. padding defaults to PKCS1_PADDING. The encrypted string output can be decrypted using private_decrypt.\n",
    "\n",
    "Also in the doc:\n",
    "\n",
    "> RSA is an asymmetric public key algorithm that has been formalized in RFC 3447.\n",
    "\n",
    "Look for how to do so in Python.\n",
    "\n",
    "possible values for padding (see source: [Ruby MRI/test/openssl/test_pkey_rsa.rb](http://rxr.whitequark.org/mri/source/test/openssl/test_pkey_rsa.rb)):\n",
    "\n",
    "* `OpenSSL::PKey::RSA::NO_PADDING`\n",
    "* `OpenSSL::PKey::RSA::PKCS1_PADDING`\n",
    "\n",
    "Looks like there is no standard library support in Ruby libs for \n",
    "\n",
    "Also:  don't know whether `PKCS1_PADDING` means:"
   ]
  },
  {
   "cell_type": "markdown",
   "metadata": {},
   "source": [
    "### pycrypto: Module PKCS1_v1_5\n",
    "\n",
    "[Crypto.Cipher.PKCS1_v1_5](https://www.dlitz.net/software/pycrypto/api/2.6/Crypto.Cipher.PKCS1_v1_5-module.html)"
   ]
  },
  {
   "cell_type": "markdown",
   "metadata": {},
   "source": [
    "### pycrypto: Module PKCS1_OAEP\n",
    "\n",
    "[Crypto.Cipher.PKCS1_OAEP](https://www.dlitz.net/software/pycrypto/api/2.6/Crypto.Cipher.PKCS1_OAEP-module.html)"
   ]
  },
  {
   "cell_type": "code",
   "execution_count": null,
   "metadata": {
    "collapsed": true
   },
   "outputs": [],
   "source": [
    "from Crypto.PublicKey import RSA\n",
    "from Crypto.Cipher import PKCS1_v1_5\n",
    "from Crypto.Cipher import PKCS1_OAEP\n",
    "\n",
    "from Crypto.Hash import SHA\n",
    "from Crypto import Random\n",
    "\n",
    "import base64\n",
    "\n",
    "def nopadding_encrypt(message, key):\n",
    "    ciphertext = key.encrypt(message, 0)[0]\n",
    "    return base64.b64encode(ciphertext)\n",
    "\n",
    "def nopadding_decrypt(ciphertextb64, key):\n",
    "    ciphertext = base64.b64decode(ciphertextb64)\n",
    "    return key.decrypt(ciphertext)\n",
    "\n",
    "def pkcs1v15_encrypt(message, key):\n",
    "\n",
    "    h = SHA.new(message)\n",
    "\n",
    "    cipher = PKCS1_v1_5.new(key)\n",
    "    ciphertext = cipher.encrypt(message+h.digest())\n",
    "\n",
    "    return base64.b64encode(ciphertext)\n",
    "\n",
    "def pkcs1v15_decrypt (ciphertextb64, key):\n",
    "\n",
    "    dsize = SHA.digest_size\n",
    "    sentinel = Random.new().read(15+dsize)      # Let's assume that average data length is 15\n",
    "\n",
    "    cipher = PKCS1_v1_5.new(key)\n",
    "\n",
    "    ciphertext = base64.b64decode(ciphertextb64)\n",
    "    message = cipher.decrypt(ciphertext, sentinel)\n",
    "\n",
    "    digest = SHA.new(message[:-dsize]).digest()\n",
    "    \n",
    "    print (\"len(message): {} sentinel: {} len(digest):{} dsize: {}\".format(len(message), sentinel, \n",
    "                                                                           len(digest), dsize))\n",
    "    if digest==message[-dsize:]:                # Note how we DO NOT look for the sentinel\n",
    "        return message[:-dsize]\n",
    "    else:\n",
    "        raise Exception ('encryption was done incorrectly:{}'.format(message))\n",
    "        \n",
    "\n",
    "def pkcs1oaep_encrypt(message, key):\n",
    "    cipher = PKCS1_OAEP.new(key)\n",
    "    ciphertext = cipher.encrypt(message)\n",
    "    \n",
    "    return base64.b64encode(ciphertext)\n",
    "\n",
    "def pkcs1oaep_decrypt(ciphertextb64, key):\n",
    "    \n",
    "    cipher = PKCS1_OAEP.new(key)\n",
    "    ciphertext = base64.b64decode(ciphertextb64)\n",
    "    \n",
    "    return cipher.decrypt(ciphertext)"
   ]
  },
  {
   "cell_type": "code",
   "execution_count": null,
   "metadata": {
    "collapsed": false
   },
   "outputs": [],
   "source": [
    "enc_data = nopadding_encrypt(message, my_public_key)\n",
    "print (enc_data, \n",
    "       nopadding_decrypt (enc_data, my_private_key)\n",
    "      )"
   ]
  },
  {
   "cell_type": "code",
   "execution_count": null,
   "metadata": {
    "collapsed": false
   },
   "outputs": [],
   "source": [
    "enc_data = pkcs1v15_encrypt(message, my_public_key)\n",
    "\n",
    "print (enc_data, pkcs1v15_decrypt(enc_data,\n",
    "    my_private_key\n",
    "))"
   ]
  },
  {
   "cell_type": "code",
   "execution_count": null,
   "metadata": {
    "collapsed": false
   },
   "outputs": [],
   "source": [
    "enc_data = pkcs1oaep_encrypt(message, my_public_key)\n",
    "\n",
    "print (enc_data, \n",
    "pkcs1oaep_decrypt( enc_data,\n",
    "    my_private_key\n",
    "))"
   ]
  },
  {
   "cell_type": "code",
   "execution_count": null,
   "metadata": {
    "collapsed": true
   },
   "outputs": [],
   "source": [
    "### try decrypting output from Ruby with pkcs1v15"
   ]
  },
  {
   "cell_type": "code",
   "execution_count": null,
   "metadata": {
    "collapsed": false
   },
   "outputs": [],
   "source": [
    "ruby_output = \"\"\"\n",
    "Upw4QQcNptfvd6t00mVLZaLMd965DqiiNOYmRStkcr1eX/v3ETkTNIqkc8WG\n",
    "ajrTYM20rYw3wfcMIjbCKXBSouTYqrJ4H4Uom3BbOI11Ykmf3Lf20QhB5r9K\n",
    "YwDLol3bKSqbTTNXhPm2ALSjsX5tha4jkc4VooGAA6grMMcTmS9cGgCC0Gm5\n",
    "oILJzzLb5WEEN2CiUk0JVvSvadYylDyuFou8iP6GVPpOrILDNHHZKb70irXb\n",
    "E846PrDg8x83fL3+OoYAtfup3fR2ZH2qVXvs4JAQqRH9ECQtUkinJ4sukKYU\n",
    "R/pULVPeWI/xgX0cQ3xxXg3V8m4IcqF1nTe8TkZ1RA==\n",
    "\"\"\".strip()\n",
    "\n",
    "assert base64.b64decode(ruby_output) == base64.b64decode(ruby_output.replace(\"\\n\",\"\"))\n",
    "\n",
    "pkcs1v15_decrypt(ruby_output, my_private_key)"
   ]
  },
  {
   "cell_type": "code",
   "execution_count": null,
   "metadata": {
    "collapsed": false
   },
   "outputs": [],
   "source": [
    "pkcs1oaep_decrypt(ruby_output, my_private_key)"
   ]
  },
  {
   "cell_type": "code",
   "execution_count": null,
   "metadata": {
    "collapsed": false
   },
   "outputs": [],
   "source": [
    "%%bash\n",
    "\n",
    "echo -n 'abcdefgh' \\\n",
    " | openssl rsautl \\\n",
    "     -encrypt \\\n",
    "     -pubin -inkey ~/.ssh/id_rsa.pem \\\n",
    "     > /Users/raymondyee/Downloads/cipher.txt\n"
   ]
  },
  {
   "cell_type": "code",
   "execution_count": null,
   "metadata": {
    "collapsed": false
   },
   "outputs": [],
   "source": [
    "pkcs1v15_decrypt(base64.b64encode(open(\"/Users/raymondyee/Downloads/cipher.txt\", \"rb\").read()), my_private_key)"
   ]
  },
  {
   "cell_type": "code",
   "execution_count": null,
   "metadata": {
    "collapsed": false
   },
   "outputs": [],
   "source": [
    "%%bash\n",
    "\n",
    "cat /Users/raymondyee/Downloads/test_message.txt \\\n",
    "  | base64 -D \\\n",
    "  | openssl rsautl \\\n",
    "      -decrypt \\\n",
    "      -inkey ~/.ssh/id_rsa"
   ]
  },
  {
   "cell_type": "code",
   "execution_count": null,
   "metadata": {
    "collapsed": false
   },
   "outputs": [],
   "source": [
    "pkcs1oaep_decrypt(base64.b64encode(open(\"/Users/raymondyee/Downloads/cipher.txt\", \"rb\").read()), my_private_key)"
   ]
  },
  {
   "cell_type": "code",
   "execution_count": null,
   "metadata": {
    "collapsed": false
   },
   "outputs": [],
   "source": [
    "%%bash\n",
    "# using openssl\n",
    "\n",
    "echo -n 'abcdefgh' | openssl rsautl -encrypt -pubin -inkey /Users/raymondyee/.ssh/id_rsa.pem | base64"
   ]
  },
  {
   "cell_type": "code",
   "execution_count": null,
   "metadata": {
    "collapsed": false
   },
   "outputs": [],
   "source": [
    "openssl_output = \"\"\"\n",
    "yHkXsyDCj6eZJ7Ixf8vdXwOT7iCp9DHjVNcVmyMYR/fAsLzgLDeuNeS01hsMAVXtDiEJaMjxVaAqziRgeYB8Q36ZDGm9OUBkWahjQbvouXjS/YG5wLpW+PxnhYOIWS8La74dc50Kwqa5r6iqDJufBxJfD9g0eAngBTeIxIg1jq/r/ThNYcpb3qLVa4+h9sd4BocXxwvAwSjd0Wr1B4rogSUdxf11KU6K2tlQTjb/GHfOY7HjXaQH6jz8gRWJlNdDVaGSc+DCKiZfGrB62Ifuf94RBNjq0Y9T18PS+vVatcI2FJ8rSpV90cHYB3gTSLmBBwytW1SUt2rYR13Oi7aCUA==\n",
    "\"\"\".strip()\n",
    "\n",
    "pkcs1v15_decrypt(openssl_output, my_private_key)"
   ]
  },
  {
   "cell_type": "markdown",
   "metadata": {},
   "source": [
    "# python cryptography library\n",
    "\n",
    "Background for the library:\n",
    "\n",
    "[The state of crypto in Python [LWN.net]](https://lwn.net/Articles/595790/)\n",
    "\n",
    "[RSA — Cryptography 1.3.dev1 documentation](https://cryptography.io/en/latest/hazmat/primitives/asymmetric/rsa/#encryption)"
   ]
  },
  {
   "cell_type": "code",
   "execution_count": null,
   "metadata": {
    "collapsed": false
   },
   "outputs": [],
   "source": [
    "import base64\n",
    "from cryptography.hazmat.backends import default_backend\n",
    "from cryptography.hazmat.primitives import hashes\n",
    "\n",
    "digest = hashes.Hash(hashes.SHA256(), backend=default_backend())\n",
    "digest.update(b\"abc\")\n",
    "digest.update(b\"123\")\n",
    "digest.finalize()"
   ]
  },
  {
   "cell_type": "code",
   "execution_count": null,
   "metadata": {
    "collapsed": false
   },
   "outputs": [],
   "source": [
    "from cryptography.hazmat.backends import default_backend\n",
    "from cryptography.hazmat.primitives.asymmetric import rsa\n",
    "\n",
    "private_key = rsa.generate_private_key(\n",
    "     public_exponent=65537,\n",
    "     key_size=2048,\n",
    "     backend=default_backend()\n",
    " )\n",
    "\n",
    "private_key"
   ]
  },
  {
   "cell_type": "code",
   "execution_count": null,
   "metadata": {
    "collapsed": false
   },
   "outputs": [],
   "source": [
    "from github_settings import SSH_KEY_PASSWORD\n",
    "from cryptography.hazmat.primitives import serialization\n",
    "\n",
    "with open(\"/Users/raymondyee/.ssh/id_rsa\", \"rb\") as key_file:\n",
    "     private_key = serialization.load_pem_private_key(\n",
    "         key_file.read(),\n",
    "         password=SSH_KEY_PASSWORD,\n",
    "         backend=default_backend()\n",
    "     )"
   ]
  },
  {
   "cell_type": "code",
   "execution_count": null,
   "metadata": {
    "collapsed": false
   },
   "outputs": [],
   "source": [
    "from cryptography.hazmat.primitives import serialization\n",
    "from cryptography.hazmat.primitives.asymmetric import padding\n",
    "\n",
    "\n",
    "public_key = private_key.public_key()\n",
    "pem = public_key.public_bytes(\n",
    "    encoding=serialization.Encoding.PEM,\n",
    "    format=serialization.PublicFormat.SubjectPublicKeyInfo\n",
    " )\n",
    "pem.splitlines()"
   ]
  },
  {
   "cell_type": "code",
   "execution_count": null,
   "metadata": {
    "collapsed": false
   },
   "outputs": [],
   "source": [
    "message = b\"abcdefgh\"\n",
    "\n",
    "#OAEP\n",
    "\n",
    "ciphertext = public_key.encrypt(\n",
    "     message,\n",
    "     padding.OAEP(\n",
    "         mgf=padding.MGF1(algorithm=hashes.SHA1()),\n",
    "         algorithm=hashes.SHA1(),\n",
    "         label=None\n",
    "     )\n",
    ")\n",
    "\n",
    "ciphertext"
   ]
  },
  {
   "cell_type": "code",
   "execution_count": null,
   "metadata": {
    "collapsed": false
   },
   "outputs": [],
   "source": [
    "message = b\"abcdefgh\"\n",
    "\n",
    "#PKCS1v15\n",
    "\n",
    "ciphertext = public_key.encrypt(\n",
    "     message,\n",
    "     padding.PKCS1v15()\n",
    ")\n",
    "\n",
    "ciphertext"
   ]
  },
  {
   "cell_type": "code",
   "execution_count": null,
   "metadata": {
    "collapsed": false
   },
   "outputs": [],
   "source": [
    "plaintext = private_key.decrypt(\n",
    "     ciphertext,\n",
    "     padding.PKCS1v15()\n",
    ")\n",
    "\n",
    "plaintext == message\n"
   ]
  },
  {
   "cell_type": "code",
   "execution_count": null,
   "metadata": {
    "collapsed": false
   },
   "outputs": [],
   "source": [
    "private_key.decrypt(\n",
    "    base64.b64decode(openssl_output),\n",
    "    padding.PKCS1v15()\n",
    ")"
   ]
  },
  {
   "cell_type": "code",
   "execution_count": null,
   "metadata": {
    "collapsed": false
   },
   "outputs": [],
   "source": [
    "private_key.decrypt(\n",
    "    base64.b64decode(ruby_output),\n",
    "    padding.PKCS1v15()\n",
    ")"
   ]
  },
  {
   "cell_type": "markdown",
   "metadata": {},
   "source": [
    "Conclusion:  use the `cryptography` lib"
   ]
  }
 ],
 "metadata": {
  "kernelspec": {
   "display_name": "Python [default]",
   "language": "python",
   "name": "python2"
  },
  "language_info": {
   "codemirror_mode": {
    "name": "ipython",
    "version": 2
   },
   "file_extension": ".py",
   "mimetype": "text/x-python",
   "name": "python",
   "nbconvert_exporter": "python",
   "pygments_lexer": "ipython2",
   "version": "2.7.12"
  }
 },
 "nbformat": 4,
 "nbformat_minor": 0
}
