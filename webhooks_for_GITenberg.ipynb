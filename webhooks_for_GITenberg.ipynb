{
 "cells": [
  {
   "cell_type": "code",
   "execution_count": null,
   "metadata": {
    "collapsed": true
   },
   "outputs": [],
   "source": [
    "from __future__ import print_function\n",
    "\n",
    "import os\n",
    "import json\n",
    "import shutil\n",
    "import sh\n",
    "import yaml\n",
    "from itertools import islice\n",
    "\n",
    "import os\n",
    "import glob\n",
    "import sh\n",
    "import yaml\n",
    "\n",
    "from gitenberg import metadata\n",
    "import jinja2\n",
    "\n",
    "from second_folio import (GITENBERG_DIR, \n",
    "                          all_repos, \n",
    "                          apply_to_repos, \n",
    "                          travis_template, \n",
    "                          latest_epub,\n",
    "                          new_travis_template,\n",
    "                          repo_version,\n",
    "                          )\n",
    "\n",
    "from github_settings import (username, password)\n",
    "\n",
    "REPOS_LIST = \"/Users/raymondyee/C/src/gitenberg/Second-Folio/list_of_repos.txt\"\n",
    "GITENBERG_DIR = \"/Users/raymondyee/C/src/gitenberg/\"\n",
    "\n",
    "METADATA_DIR = \"/Users/raymondyee/C/src/gitenberg-dev/giten_site/metadata\"\n",
    "COVERS_DATA = \"/Users/raymondyee/C/src/gitenberg/Second-Folio/covers_data.json\""
   ]
  },
  {
   "cell_type": "code",
   "execution_count": null,
   "metadata": {
    "collapsed": false
   },
   "outputs": [],
   "source": [
    "repos = all_repos\n",
    "repos"
   ]
  },
  {
   "cell_type": "code",
   "execution_count": null,
   "metadata": {
    "collapsed": false
   },
   "outputs": [],
   "source": [
    "list(apply_to_repos(latest_epub, repos=repos))"
   ]
  },
  {
   "cell_type": "markdown",
   "metadata": {},
   "source": [
    "# robobrowser"
   ]
  },
  {
   "cell_type": "code",
   "execution_count": null,
   "metadata": {
    "collapsed": false
   },
   "outputs": [],
   "source": [
    "from robobrowser import RoboBrowser\n",
    "\n",
    "def post_to_yaml_loader(url, unglue_url=\"https://unglue.it/api/loader/yaml\"):\n",
    "        \n",
    "    browser = RoboBrowser(history=True)\n",
    "    browser.open(unglue_url)\n",
    "\n",
    "    form = browser.get_forms()[0]\n",
    "    form['repo_url'] = url\n",
    "    # weird I have to manually set referer\n",
    "    browser.session.headers['referer'] = unglue_url\n",
    "    browser.submit_form(form)\n",
    "    \n",
    "    return browser"
   ]
  },
  {
   "cell_type": "code",
   "execution_count": null,
   "metadata": {
    "collapsed": false
   },
   "outputs": [],
   "source": [
    "b = post_to_yaml_loader('https://github.com/GITenberg/Adventures-of-Huckleberry-Finn_76/raw/master/metadata.yaml')\n",
    "(b.url, b.response)"
   ]
  },
  {
   "cell_type": "markdown",
   "metadata": {},
   "source": [
    "# opds"
   ]
  },
  {
   "cell_type": "code",
   "execution_count": null,
   "metadata": {
    "collapsed": false
   },
   "outputs": [],
   "source": [
    "from lxml import etree\n",
    "import requests\n",
    "\n",
    "opds_url = \"https://unglue.it/api/opds/\"\n",
    "doc = etree.fromstring(requests.get(opds_url).content)\n",
    "doc"
   ]
  },
  {
   "cell_type": "markdown",
   "metadata": {},
   "source": [
    "# Failed attempt with requests to submit to yaml loader"
   ]
  },
  {
   "cell_type": "code",
   "execution_count": null,
   "metadata": {
    "collapsed": false
   },
   "outputs": [],
   "source": [
    "import requests\n",
    "\n",
    "from lxml import etree\n",
    "from lxml.cssselect import CSSSelector\n",
    "\n",
    "unglue_url = \"https://unglue.it/api/loader/yaml\"\n",
    "\n",
    "r = requests.get(unglue_url)\n",
    "doc = etree.HTML(r.content)\n",
    "\n",
    "sel = CSSSelector('input[name=\"csrfmiddlewaretoken\"]')\n",
    "csrftoken = sel(doc)[0].attrib.get('value')\n",
    "csrftoken"
   ]
  },
  {
   "cell_type": "code",
   "execution_count": null,
   "metadata": {
    "collapsed": false
   },
   "outputs": [],
   "source": [
    "r = requests.post(unglue_url, \n",
    "                  data={'repo_url':\n",
    "                          'https://github.com/GITenberg/Adventures-of-Huckleberry-Finn_76/raw/master/metadata.yaml',\n",
    "                         'csrfmiddlewaretoken':csrftoken\n",
    "                         },\n",
    "                  headers={'referer':unglue_url})"
   ]
  },
  {
   "cell_type": "code",
   "execution_count": null,
   "metadata": {
    "collapsed": false,
    "scrolled": true
   },
   "outputs": [],
   "source": [
    "(r.status_code, r.content)"
   ]
  },
  {
   "cell_type": "markdown",
   "metadata": {},
   "source": [
    "# travis webhooks\n",
    "\n",
    "For https://travis-ci.org/GITenberg/Adventures-of-Huckleberry-Finn_76/builds/109712115 -- 2 webhooks were sent to <http://requestb.in/wrr6l3wr?inspect>:\n",
    "\n",
    "* [Travis webhook #1 for https://travis-ci.org/GITenberg/Adventures-of-Huckleberry-Finn_76/builds/109712115](https://gist.github.com/rdhyee/7f33050732a09dfa93f3)\n",
    "* [second webhook for https://travis-ci.org/GITenberg/Adventures-of-Huckleberry-Finn_76/builds/109712115](https://gist.github.com/rdhyee/8dc04b8fe52a9fefe3c2)"
   ]
  },
  {
   "cell_type": "code",
   "execution_count": null,
   "metadata": {
    "collapsed": true
   },
   "outputs": [],
   "source": [
    "import requests\n",
    "\n",
    "raw_url_1 = (\n",
    " \"https://gist.githubusercontent.com/rdhyee/7f33050732a09dfa93f3/raw/8abf5661911e7aedf434d464dd1a28b3d24d6f83/travis_webhook_1.json\"\n",
    ")\n",
    "\n",
    "raw_url_2 = (\n",
    " \"https://gist.githubusercontent.com/rdhyee/8dc04b8fe52a9fefe3c2/raw/8f9968f481df3f4d4ecd44624c2dc1b0a8e02a17/travis_webhook_2.json\"\n",
    ")"
   ]
  },
  {
   "cell_type": "code",
   "execution_count": null,
   "metadata": {
    "collapsed": false
   },
   "outputs": [],
   "source": [
    "r1 = requests.get(raw_url_1).json()\n",
    "r2 = requests.get(raw_url_2).json()"
   ]
  },
  {
   "cell_type": "code",
   "execution_count": null,
   "metadata": {
    "collapsed": true
   },
   "outputs": [],
   "source": [
    "# url of metadata.yaml to load: \n",
    "# https://github.com/GITenberg/Adventures-of-Huckleberry-Finn_76/raw/master/metadata.yaml "
   ]
  },
  {
   "cell_type": "code",
   "execution_count": null,
   "metadata": {
    "collapsed": false
   },
   "outputs": [],
   "source": [
    "r1.get('commit'), r1.get('repository', {}).get('name')\n"
   ]
  },
  {
   "cell_type": "code",
   "execution_count": null,
   "metadata": {
    "collapsed": false
   },
   "outputs": [],
   "source": [
    "r1"
   ]
  },
  {
   "cell_type": "code",
   "execution_count": null,
   "metadata": {
    "collapsed": false
   },
   "outputs": [],
   "source": [
    "r1.get('type'), r1['state'], r1['result'], r1.get('status_message')"
   ]
  },
  {
   "cell_type": "code",
   "execution_count": null,
   "metadata": {
    "collapsed": false
   },
   "outputs": [],
   "source": [
    "r2.get('type'), r2['state'], r2['result'], r2.get('status_message')"
   ]
  },
  {
   "cell_type": "markdown",
   "metadata": {},
   "source": [
    "## travis webhook authentication\n",
    "\n",
    "I think the documention is incorrect.  Instead of 'username/repository', just use the header `Travis-Repo-Slug`, which, I think, is just the full name of the repo -- e.g., `GITenberg/Adventures-of-Huckleberry-Finn_76`\n",
    "\n",
    "When Travis CI makes the POST request, a header named Authorization is included. Its value is the SHA2 hash of the GitHub username (see below), the name of the repository, and your Travis CI token.\n",
    "\n",
    "For instance, in Python, use this snippet:\n",
    "\n",
    "```Python\n",
    "from hashlib import sha256\n",
    "sha256('username/repository' + TRAVIS_TOKEN).hexdigest()\n",
    "```\n",
    "\n",
    "Use this to ensure Travis CI is the one making requests to your webhook.\n",
    "\n",
    "How to find `TRAVIS_TOKEN`?  You have to go your profile  (I thought you can use the travis CLI: `travis token` -- but that's for the \"access token\".  There are 3 different types of tokens in play for travis: [The Travis CI Blog: Token, Token, Token](https://blog.travis-ci.com/2013-01-28-token-token-token/))\n",
    "\n",
    "So I'm waiting for <https://travis-ci.org/profile/rdhyee-GITenberg> to load up -- very slow on Chrome but fast on Firefox?\n",
    "\n"
   ]
  },
  {
   "cell_type": "code",
   "execution_count": null,
   "metadata": {
    "collapsed": false
   },
   "outputs": [],
   "source": [
    "sent_token = \"6fba7d2102f66b16139a54e1b434471f6fb64d20c0787ec773e92a5155fad4a9\"\n",
    "\n",
    "from github_settings import TRAVIS_TOKEN, username\n",
    "from hashlib import sha256\n",
    "\n",
    "\n",
    "sha256('GITenberg/Adventures-of-Huckleberry-Finn_76' + TRAVIS_TOKEN).hexdigest()"
   ]
  },
  {
   "cell_type": "markdown",
   "metadata": {},
   "source": [
    "# testing my webhook implementation"
   ]
  },
  {
   "cell_type": "code",
   "execution_count": null,
   "metadata": {
    "collapsed": false
   },
   "outputs": [],
   "source": [
    "import requests\n",
    "\n",
    "url = \"http://127.0.0.1:8000/api/travisci/webhook\"\n",
    "\n",
    "test_headers_url = \\\n",
    "   \"https://gist.githubusercontent.com/rdhyee/a9242f60b568b5a9e8fa/raw/e5d71c9a17964e0d43f6a35bbf03efe3f8a7d752/webhook_headers.txt\"\n",
    "\n",
    "test_body_url = \\\n",
    "  \"https://gist.githubusercontent.com/rdhyee/a9242f60b568b5a9e8fa/raw/e5d71c9a17964e0d43f6a35bbf03efe3f8a7d752/webook_body.json\"\n",
    "    \n",
    "payload = requests.get(test_body_url).content\n",
    "\n",
    "headers = dict([(k,v.strip()) for (k,v) in [line.split(\":\") for line in requests.get(test_headers_url).content.split('\\n')]])\n",
    "\n",
    "r = requests.post(url, data={'payload':payload}, headers=headers, allow_redirects=True)\n",
    "\n",
    "(r.status_code, r.content)"
   ]
  },
  {
   "cell_type": "code",
   "execution_count": null,
   "metadata": {
    "collapsed": false
   },
   "outputs": [],
   "source": [
    "# example of a request to exercise exception\n",
    "\n",
    "import json\n",
    "payload = json.dumps({\n",
    "  \"repository\":{  \n",
    "      \"id\":4651401,\n",
    "      \"name\":\"Adventures-of-Huckleberry-Finn_76\",\n",
    "      \"owner_name\":\"GITenberg\",\n",
    "      \"url\":\"http://GITenberg.github.com/\"\n",
    "   },\n",
    "  \"status_message\": \"Passed\",\n",
    "  \"type\": \"push\"\n",
    "})\n",
    "\n",
    "r = requests.post(url, data={'payload':payload}, headers={}, allow_redirects=True)\n",
    "(r.status_code, r.content)"
   ]
  },
  {
   "cell_type": "code",
   "execution_count": null,
   "metadata": {
    "collapsed": false
   },
   "outputs": [],
   "source": [
    "r = requests.get(url, allow_redirects=True)\n",
    "(r.status_code, r.content)"
   ]
  },
  {
   "cell_type": "code",
   "execution_count": null,
   "metadata": {
    "collapsed": true
   },
   "outputs": [],
   "source": []
  }
 ],
 "metadata": {
  "kernelspec": {
   "display_name": "Python 2",
   "language": "python",
   "name": "python2"
  },
  "language_info": {
   "codemirror_mode": {
    "name": "ipython",
    "version": 2
   },
   "file_extension": ".py",
   "mimetype": "text/x-python",
   "name": "python",
   "nbconvert_exporter": "python",
   "pygments_lexer": "ipython2",
   "version": "2.7.11"
  }
 },
 "nbformat": 4,
 "nbformat_minor": 0
}
