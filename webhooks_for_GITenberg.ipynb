{
 "cells": [
  {
   "cell_type": "code",
   "execution_count": 1,
   "metadata": {
    "collapsed": true
   },
   "outputs": [],
   "source": [
    "from __future__ import print_function\n",
    "\n",
    "import os\n",
    "import json\n",
    "import shutil\n",
    "import sh\n",
    "import yaml\n",
    "from itertools import islice\n",
    "\n",
    "import os\n",
    "import glob\n",
    "import sh\n",
    "import yaml\n",
    "\n",
    "from gitenberg import metadata\n",
    "import jinja2\n",
    "\n",
    "from second_folio import (GITENBERG_DIR, \n",
    "                          all_repos, \n",
    "                          apply_to_repos, \n",
    "                          travis_template, \n",
    "                          latest_epub,\n",
    "                          new_travis_template,\n",
    "                          repo_version,\n",
    "                          )\n",
    "\n",
    "from github_settings import (username, password)\n",
    "\n",
    "REPOS_LIST = \"/Users/raymondyee/C/src/gitenberg/Second-Folio/list_of_repos.txt\"\n",
    "GITENBERG_DIR = \"/Users/raymondyee/C/src/gitenberg/\"\n",
    "\n",
    "METADATA_DIR = \"/Users/raymondyee/C/src/gitenberg-dev/giten_site/metadata\"\n",
    "COVERS_DATA = \"/Users/raymondyee/C/src/gitenberg/Second-Folio/covers_data.json\""
   ]
  },
  {
   "cell_type": "code",
   "execution_count": 3,
   "metadata": {
    "collapsed": false
   },
   "outputs": [
    {
     "data": {
      "text/plain": [
       "['Adventures-of-Huckleberry-Finn_76',\n",
       " 'Don-Quixote_996',\n",
       " 'Dubliners_2814',\n",
       " 'Jane-Eyre_1260',\n",
       " 'Moby-Dick--Or-The-Whale_2701',\n",
       " 'Narrative-of-the-Life-of-Frederick-Douglass-an-American-Slave_23',\n",
       " 'Pride-and-Prejudice_1342',\n",
       " 'The-Adventures-of-Sherlock-Holmes_1661',\n",
       " 'The-Brothers-Karamazov_28054',\n",
       " 'The-Time-Machine_35',\n",
       " 'Frankenstein_84',\n",
       " 'Middlemarch_145',\n",
       " 'A-Tale-of-Two-Cities_98',\n",
       " 'The-Call-of-the-Wild_215',\n",
       " 'Crime-and-Punishment_2554',\n",
       " 'The-Strange-Case-of-Dr.-Jekyll-and-Mr.-Hyde_42',\n",
       " 'Dracula_345',\n",
       " 'Flatland--A-Romance-of-Many-Dimensions--Illustrated-_201',\n",
       " 'Household-Stories-by-the-Brothers-Grimm_19068',\n",
       " 'Heart-of-Darkness_219',\n",
       " 'A-Journey-into-the-Interior-of-the-Earth_3748',\n",
       " 'Jude-the-Obscure_153',\n",
       " 'King-Solomon-s-Mines_2166',\n",
       " 'Little-Women_514',\n",
       " 'Madame-Bovary_2413',\n",
       " 'The-Life-and-Adventures-of-Robinson-Crusoe_521',\n",
       " 'The-Awakening-and-Selected-Short-Stories_160',\n",
       " 'The-Jungle_140',\n",
       " 'The-Jungle-Book_236',\n",
       " 'Metamorphosis_5200',\n",
       " 'The-Picture-of-Dorian-Gray_174',\n",
       " 'The-Red-Badge-of-Courage_73',\n",
       " 'The-Scarlet-Letter_33',\n",
       " 'The-War-of-the-Worlds_36',\n",
       " 'The-Wonderful-Wizard-of-Oz_55',\n",
       " 'This-Side-of-Paradise_805',\n",
       " 'Anna-Karenina_1399',\n",
       " 'Gulliver-s-Travels_829',\n",
       " 'Les-Mis-rables_135',\n",
       " 'Swann-s-Way_7178',\n",
       " 'The-Count-of-Monte-Cristo_1184',\n",
       " 'The-Hunchback-of-Notre-Dame_6539',\n",
       " 'The-Three-Musketeers_1257',\n",
       " 'Through-the-Looking-Glass_12',\n",
       " 'Twenty-Thousand-Leagues-under-the-Sea_164',\n",
       " 'War-and-Peace_2600',\n",
       " 'Winesburg-Ohio--A-Group-of-Tales-of-Ohio-Small-Town-Life_416',\n",
       " 'My-Antonia_242',\n",
       " 'Divine-Comedy-Longfellow-s-Translation-Hell_1001',\n",
       " 'The-Works-of-Edgar-Allan-Poe-The-Raven-EditionTable-Of-Contents-And-Index-Of-The-Five-Volumes_25525']"
      ]
     },
     "execution_count": 3,
     "metadata": {},
     "output_type": "execute_result"
    }
   ],
   "source": [
    "repos = all_repos\n",
    "repos"
   ]
  },
  {
   "cell_type": "code",
   "execution_count": 5,
   "metadata": {
    "collapsed": false
   },
   "outputs": [
    {
     "data": {
      "text/plain": [
       "['https://github.com/GITenberg/Adventures-of-Huckleberry-Finn_76/releases/download/0.1.0/Adventures-of-Huckleberry-Finn.epub',\n",
       " 'https://github.com/GITenberg/Don-Quixote_996/releases/download/0.0.12/Don-Quixote.epub',\n",
       " 'https://github.com/GITenberg/Dubliners_2814/releases/download/0.0.3/Dubliners.epub',\n",
       " 'https://github.com/GITenberg/Jane-Eyre_1260/releases/download/0.0.4/Jane-Eyre-An-Autobiography.epub',\n",
       " 'https://github.com/GITenberg/Moby-Dick--Or-The-Whale_2701/releases/download/0.0.3/Moby-Dick-Or-The-Whale.epub',\n",
       " 'https://github.com/GITenberg/Narrative-of-the-Life-of-Frederick-Douglass-an-American-Slave_23/releases/download/0.0.3/Narrative-of-the-Life-of-Frederick-Douglass-an-American-Slave.epub',\n",
       " 'https://github.com/GITenberg/Pride-and-Prejudice_1342/releases/download/0.0.2/Pride-and-Prejudice.epub',\n",
       " 'https://github.com/GITenberg/The-Adventures-of-Sherlock-Holmes_1661/releases/download/0.0.2/The-Adventures-of-Sherlock-Holmes.epub',\n",
       " 'https://github.com/GITenberg/The-Brothers-Karamazov_28054/releases/download/0.0.3/The-Brothers-Karamazov.epub',\n",
       " 'https://github.com/GITenberg/The-Time-Machine_35/releases/download/0.0.2/The-Time-Machine.epub',\n",
       " 'https://github.com/GITenberg/Frankenstein_84/releases/download/0.0.2/Frankenstein-Or-The-Modern-Prometheus.epub',\n",
       " 'https://github.com/GITenberg/Middlemarch_145/releases/download/0.0.2/Middlemarch.epub',\n",
       " 'https://github.com/GITenberg/A-Tale-of-Two-Cities_98/releases/download/0.0.3/A-Tale-of-Two-Cities.epub',\n",
       " 'https://github.com/GITenberg/The-Call-of-the-Wild_215/releases/download/0.0.2/The-Call-of-the-Wild.epub',\n",
       " 'https://github.com/GITenberg/Crime-and-Punishment_2554/releases/download/0.0.2/Crime-and-Punishment.epub',\n",
       " 'https://github.com/GITenberg/The-Strange-Case-of-Dr.-Jekyll-and-Mr.-Hyde_42/releases/download/0.0.2/The-Strange-Case-of-Dr-Jekyll-and-Mr-Hyde.epub',\n",
       " 'https://github.com/GITenberg/Dracula_345/releases/download/0.0.3/Dracula.epub',\n",
       " 'https://github.com/GITenberg/Flatland--A-Romance-of-Many-Dimensions--Illustrated-_201/releases/download/0.0.5/Flatland-A-Romance-of-Many-Dimensions-Illustrated.epub',\n",
       " 'https://github.com/GITenberg/Household-Stories-by-the-Brothers-Grimm_19068/releases/download/0.0.8/Household-Stories-by-the-Brothers-Grimm.epub',\n",
       " 'https://github.com/GITenberg/Heart-of-Darkness_219/releases/download/0.0.2/Heart-of-Darkness.epub',\n",
       " 'https://github.com/GITenberg/A-Journey-into-the-Interior-of-the-Earth_3748/releases/download/0.0.2/A-Journey-into-the-Interior-of-the-Earth.epub',\n",
       " 'https://github.com/GITenberg/Jude-the-Obscure_153/releases/download/0.0.3/Jude-the-Obscure.epub',\n",
       " 'https://github.com/GITenberg/King-Solomon-s-Mines_2166/releases/download/0.0.3/King-Solomons-Mines.epub',\n",
       " 'https://github.com/GITenberg/Little-Women_514/releases/download/0.0.2/Little-Women.epub',\n",
       " 'https://github.com/GITenberg/Madame-Bovary_2413/releases/download/0.0.2/Madame-Bovary.epub',\n",
       " 'https://github.com/GITenberg/The-Life-and-Adventures-of-Robinson-Crusoe_521/releases/download/0.0.2/The-Life-and-Adventures-of-Robinson-Crusoe.epub',\n",
       " 'https://github.com/GITenberg/The-Awakening-and-Selected-Short-Stories_160/releases/download/0.0.2/The-Awakening-and-Selected-Short-Stories.epub',\n",
       " 'https://github.com/GITenberg/The-Jungle_140/releases/download/0.0.2/The-Jungle.epub',\n",
       " 'https://github.com/GITenberg/The-Jungle-Book_236/releases/download/0.0.2/The-Jungle-Book.epub',\n",
       " 'https://github.com/GITenberg/Metamorphosis_5200/releases/download/0.0.2/Metamorphosis.epub',\n",
       " 'https://github.com/GITenberg/The-Picture-of-Dorian-Gray_174/releases/download/0.0.1/The-Picture-of-Dorian-Gray.epub',\n",
       " 'https://github.com/GITenberg/The-Red-Badge-of-Courage_73/releases/download/0.0.2/The-Red-Badge-of-Courage-An-Episode-of-the-American-Civil-War.epub',\n",
       " 'https://github.com/GITenberg/The-Scarlet-Letter_33/releases/download/0.0.2/The-Scarlet-Letter.epub',\n",
       " 'https://github.com/GITenberg/The-War-of-the-Worlds_36/releases/download/0.0.2/The-War-of-the-Worlds.epub',\n",
       " 'https://github.com/GITenberg/The-Wonderful-Wizard-of-Oz_55/releases/download/0.0.2/The-Wonderful-Wizard-of-Oz.epub',\n",
       " 'https://github.com/GITenberg/This-Side-of-Paradise_805/releases/download/0.0.2/This-Side-of-Paradise.epub',\n",
       " 'https://github.com/GITenberg/Anna-Karenina_1399/releases/download/0.0.2/Anna-Karenina.epub',\n",
       " 'https://github.com/GITenberg/Gulliver-s-Travels_829/releases/download/0.0.3/Gullivers-Travels.epub',\n",
       " 'https://github.com/GITenberg/Les-Mis-rables_135/releases/download/0.0.3/Les-Miserables.epub',\n",
       " 'https://github.com/GITenberg/Swann-s-Way_7178/releases/download/0.0.2/Swanns-Way.epub',\n",
       " 'https://github.com/GITenberg/The-Count-of-Monte-Cristo_1184/releases/download/0.0.2/The-Count-of-Monte-Cristo-Illustrated.epub',\n",
       " 'https://github.com/GITenberg/The-Hunchback-of-Notre-Dame_6539/releases/download/0.0.1/The-Hunchback-of-Notre-Dame.epub',\n",
       " 'https://github.com/GITenberg/The-Three-Musketeers_1257/releases/download/0.0.2/The-Three-Musketeers.epub',\n",
       " 'https://github.com/GITenberg/Through-the-Looking-Glass_12/releases/download/0.0.2/Through-the-Looking-Glass.epub',\n",
       " 'https://github.com/GITenberg/Twenty-Thousand-Leagues-under-the-Sea_164/releases/download/0.0.2/Twenty-Thousand-Leagues-under-the-Sea.epub',\n",
       " 'https://github.com/GITenberg/War-and-Peace_2600/releases/download/0.0.2/War-and-Peace.epub',\n",
       " 'https://github.com/GITenberg/Winesburg-Ohio--A-Group-of-Tales-of-Ohio-Small-Town-Life_416/releases/download/0.0.2/Winesburg-Ohio-A-Group-of-Tales-of-Ohio-Small-Town-Life.epub',\n",
       " 'https://github.com/GITenberg/My-Antonia_242/releases/download/0.0.2/My-Antonia.epub',\n",
       " 'https://github.com/GITenberg/Divine-Comedy-Longfellow-s-Translation-Hell_1001/releases/download/0.0.2/Divine-Comedy-Longfellows-Translation-Hell.epub',\n",
       " 'https://github.com/GITenberg/The-Works-of-Edgar-Allan-Poe-The-Raven-EditionTable-Of-Contents-And-Index-Of-The-Five-Volumes_25525/releases/download/0.0.1/The-Works-of-Edgar-Allan-Poe-The-Raven-Edition-Table-Of-Contents-And-Index-Of-The-Five-Volumes.epub']"
      ]
     },
     "execution_count": 5,
     "metadata": {},
     "output_type": "execute_result"
    }
   ],
   "source": [
    "list(apply_to_repos(latest_epub, repos=repos))"
   ]
  },
  {
   "cell_type": "markdown",
   "metadata": {},
   "source": [
    "# robobrowser"
   ]
  },
  {
   "cell_type": "code",
   "execution_count": 76,
   "metadata": {
    "collapsed": false
   },
   "outputs": [],
   "source": [
    "from robobrowser import RoboBrowser\n",
    "\n",
    "def post_to_yaml_loader(url, unglue_url=\"https://unglue.it/api/loader/yaml\"):\n",
    "        \n",
    "    browser = RoboBrowser(history=True)\n",
    "    browser.open(unglue_url)\n",
    "\n",
    "    form = browser.get_forms()[0]\n",
    "    form['repo_url'] = url\n",
    "    # weird I have to manually set referer\n",
    "    browser.session.headers['referer'] = unglue_url\n",
    "    browser.submit_form(form)\n",
    "    \n",
    "    return browser"
   ]
  },
  {
   "cell_type": "code",
   "execution_count": 79,
   "metadata": {
    "collapsed": false
   },
   "outputs": [
    {
     "data": {
      "text/plain": [
       "(u'https://unglue.it/work/155766/', <Response [200]>)"
      ]
     },
     "execution_count": 79,
     "metadata": {},
     "output_type": "execute_result"
    }
   ],
   "source": [
    "b = post_to_yaml_loader('https://github.com/GITenberg/Adventures-of-Huckleberry-Finn_76/raw/master/metadata.yaml')\n",
    "(b.url, b.response)"
   ]
  },
  {
   "cell_type": "markdown",
   "metadata": {},
   "source": [
    "# opds"
   ]
  },
  {
   "cell_type": "code",
   "execution_count": 83,
   "metadata": {
    "collapsed": false
   },
   "outputs": [
    {
     "data": {
      "text/plain": [
       "<Element {http://www.w3.org/2005/Atom}feed at 0x109dc3e60>"
      ]
     },
     "execution_count": 83,
     "metadata": {},
     "output_type": "execute_result"
    }
   ],
   "source": [
    "from lxml import etree\n",
    "import requests\n",
    "\n",
    "opds_url = \"https://unglue.it/api/opds/\"\n",
    "doc = etree.fromstring(requests.get(opds_url).content)\n",
    "doc"
   ]
  },
  {
   "cell_type": "markdown",
   "metadata": {},
   "source": [
    "# Failed attempt with requests to submit to yaml loader"
   ]
  },
  {
   "cell_type": "code",
   "execution_count": 39,
   "metadata": {
    "collapsed": false
   },
   "outputs": [
    {
     "data": {
      "text/plain": [
       "'HegKNWTMjkRV6Wiv3OzPnq5UuTNqvjbW'"
      ]
     },
     "execution_count": 39,
     "metadata": {},
     "output_type": "execute_result"
    }
   ],
   "source": [
    "import requests\n",
    "\n",
    "from lxml import etree\n",
    "from lxml.cssselect import CSSSelector\n",
    "\n",
    "unglue_url = \"https://unglue.it/api/loader/yaml\"\n",
    "\n",
    "r = requests.get(unglue_url)\n",
    "doc = etree.HTML(r.content)\n",
    "\n",
    "sel = CSSSelector('input[name=\"csrfmiddlewaretoken\"]')\n",
    "csrftoken = sel(doc)[0].attrib.get('value')\n",
    "csrftoken"
   ]
  },
  {
   "cell_type": "code",
   "execution_count": 40,
   "metadata": {
    "collapsed": false
   },
   "outputs": [],
   "source": [
    "r = requests.post(unglue_url, \n",
    "                  data={'repo_url':\n",
    "                          'https://github.com/GITenberg/Adventures-of-Huckleberry-Finn_76/raw/master/metadata.yaml',\n",
    "                         'csrfmiddlewaretoken':csrftoken\n",
    "                         },\n",
    "                  headers={'referer':unglue_url})"
   ]
  },
  {
   "cell_type": "code",
   "execution_count": 41,
   "metadata": {
    "collapsed": false,
    "scrolled": true
   },
   "outputs": [
    {
     "data": {
      "text/plain": [
       "(403,\n",
       " '\\n<!DOCTYPE html>\\n<html lang=\"en\">\\n<head>\\n  <meta http-equiv=\"content-type\" content=\"text/html; charset=utf-8\">\\n  <meta name=\"robots\" content=\"NONE,NOARCHIVE\">\\n  <title>403 Forbidden</title>\\n  <style type=\"text/css\">\\n    html * { padding:0; margin:0; }\\n    body * { padding:10px 20px; }\\n    body * * { padding:0; }\\n    body { font:small sans-serif; background:#eee; }\\n    body>div { border-bottom:1px solid #ddd; }\\n    h1 { font-weight:normal; margin-bottom:.4em; }\\n    h1 span { font-size:60%; color:#666; font-weight:normal; }\\n    #info { background:#f6f6f6; }\\n    #info ul { margin: 0.5em 4em; }\\n    #info p, #summary p { padding-top:10px; }\\n    #summary { background: #ffc; }\\n    #explanation { background:#eee; border-bottom: 0px none; }\\n  </style>\\n</head>\\n<body>\\n<div id=\"summary\">\\n  <h1>Forbidden <span>(403)</span></h1>\\n  <p>CSRF verification failed. Request aborted.</p>\\n\\n</div>\\n\\n<div id=\"explanation\">\\n  <p><small>More information is available with DEBUG=True.</small></p>\\n</div>\\n\\n</body>\\n</html>\\n')"
      ]
     },
     "execution_count": 41,
     "metadata": {},
     "output_type": "execute_result"
    }
   ],
   "source": [
    "(r.status_code, r.content)"
   ]
  }
 ],
 "metadata": {
  "kernelspec": {
   "display_name": "Python 2",
   "language": "python",
   "name": "python2"
  },
  "language_info": {
   "codemirror_mode": {
    "name": "ipython",
    "version": 2
   },
   "file_extension": ".py",
   "mimetype": "text/x-python",
   "name": "python",
   "nbconvert_exporter": "python",
   "pygments_lexer": "ipython2",
   "version": "2.7.11"
  }
 },
 "nbformat": 4,
 "nbformat_minor": 0
}
