{
 "cells": [
  {
   "cell_type": "code",
   "execution_count": null,
   "metadata": {
    "collapsed": true
   },
   "outputs": [],
   "source": [
    "from __future__ import print_function\n",
    "\n",
    "import os\n",
    "import json\n",
    "import shutil\n",
    "import sh\n",
    "import yaml\n",
    "from itertools import islice\n",
    "\n",
    "REPOS_LIST = \"/Users/raymondyee/C/src/gitenberg/Second-Folio/list_of_repos.txt\"\n",
    "GITENBERG_DIR = \"/Users/raymondyee/C/src/gitenberg/\"\n",
    "\n",
    "METADATA_DIR = \"/Users/raymondyee/C/src/gitenberg-dev/giten_site/metadata\"\n",
    "COVERS_DATA = \"/Users/raymondyee/C/src/gitenberg/Second-Folio/covers_data.json\""
   ]
  },
  {
   "cell_type": "code",
   "execution_count": null,
   "metadata": {
    "collapsed": true
   },
   "outputs": [],
   "source": [
    "import os\n",
    "import glob\n",
    "import sh\n",
    "import yaml\n",
    "\n",
    "from gitenberg import metadata\n",
    "import jinja2\n",
    "\n",
    "from second_folio import (GITENBERG_DIR, \n",
    "                          all_repos, \n",
    "                          apply_to_repos, \n",
    "                          travis_template, \n",
    "                          latest_epub,\n",
    "                          new_travis_template,\n",
    "                          repo_version,\n",
    "                          )\n",
    "\n",
    "from github_settings import (username, password)"
   ]
  },
  {
   "cell_type": "code",
   "execution_count": null,
   "metadata": {
    "collapsed": true
   },
   "outputs": [],
   "source": [
    "repos_with_images = ['Adventures-of-Huckleberry-Finn_76',\n",
    "'Dracula_345',\n",
    "'Gulliver-s-Travels_829',\n",
    "'Jane-Eyre_1260',\n",
    "'Jude-the-Obscure_153',\n",
    "'King-Solomon-s-Mines_2166',\n",
    "'Les-Mis-rables_135']"
   ]
  },
  {
   "cell_type": "code",
   "execution_count": null,
   "metadata": {
    "collapsed": false
   },
   "outputs": [],
   "source": [
    "repos = repos_with_images[1:]\n",
    "repos"
   ]
  },
  {
   "cell_type": "code",
   "execution_count": null,
   "metadata": {
    "collapsed": false
   },
   "outputs": [],
   "source": [
    "list(apply_to_repos(latest_epub, repos=repos))"
   ]
  },
  {
   "cell_type": "code",
   "execution_count": null,
   "metadata": {
    "collapsed": true
   },
   "outputs": [],
   "source": [
    "import os\n",
    "import yaml\n",
    "import pdb\n",
    "\n",
    "def update_travis_for_locating_images_dir(repo, template, write_updates=False):\n",
    "    \"\"\"\n",
    "    apply https://github.com/gitenberg-dev/templates/commit/c6d1deaaeba617b0f74ce4ed228c3ea6b19a4127\n",
    "    \n",
    "    \"\"\"\n",
    "    sh.cd(os.path.join(GITENBERG_DIR, repo))\n",
    "\n",
    "    metadata_path = os.path.join(GITENBERG_DIR, repo, \"metadata.yaml\")\n",
    "    travis_path = os.path.join(GITENBERG_DIR, repo, \".travis.yml\")\n",
    "    travis_api_key_path = os.path.join(GITENBERG_DIR, repo, \".travis.deploy.api_key.txt\") \n",
    "\n",
    "    # read the current metadata file and replace current_ver with next_ver\n",
    "\n",
    "    (v0, v1, v_updated) = repo_version(repo, version_type='patch', write_version=write_updates)\n",
    "    if v_updated:\n",
    "        sh.git.add(metadata_path)\n",
    "        \n",
    "    # write new .travis.yml\n",
    "    (new_template, template_written) = new_travis_template(repo, template, write_template=write_updates)\n",
    "    if template_written:\n",
    "        sh.git.add(travis_path)\n",
    "    \n",
    "    if write_updates:\n",
    "        sh.git.commit(\"-m\", \"updated .travis.yml to find images directory\")\n",
    "    \n",
    "    # add tag\n",
    "    if v_updated:\n",
    "        sh.git.tag(v1)\n",
    "        sh.git.push(\"origin\", \"master\", \"--tags\")\n",
    "\n",
    "        return True\n",
    "\n",
    "    else:\n",
    "        return False\n",
    "    "
   ]
  },
  {
   "cell_type": "code",
   "execution_count": null,
   "metadata": {
    "collapsed": false
   },
   "outputs": [],
   "source": [
    "from itertools import izip\n",
    "\n",
    "template = template = travis_template()\n",
    "\n",
    "results = list(apply_to_repos(update_travis_for_locating_images_dir, \n",
    "               kwargs={'template':template,\n",
    "                        'write_updates':True},\n",
    "               repos=repos))\n",
    "results"
   ]
  },
  {
   "cell_type": "code",
   "execution_count": null,
   "metadata": {
    "collapsed": true
   },
   "outputs": [],
   "source": [
    "import requests\n",
    "\n",
    "def url_status(url):\n",
    "    r = requests.get(url, allow_redirects=True, stream=True)\n",
    "    return r.status_code\n",
    "\n",
    "def repo_epub_status(repo):\n",
    "    return url_status(latest_epub(repo))"
   ]
  },
  {
   "cell_type": "code",
   "execution_count": null,
   "metadata": {
    "collapsed": false
   },
   "outputs": [],
   "source": [
    "results = list(izip(repos, apply_to_repos(repo_epub_status, \n",
    "               repos=repos)))\n",
    "results"
   ]
  },
  {
   "cell_type": "code",
   "execution_count": null,
   "metadata": {
    "collapsed": true
   },
   "outputs": [],
   "source": []
  }
 ],
 "metadata": {
  "kernelspec": {
   "display_name": "Python 2",
   "language": "python",
   "name": "python2"
  },
  "language_info": {
   "codemirror_mode": {
    "name": "ipython",
    "version": 2
   },
   "file_extension": ".py",
   "mimetype": "text/x-python",
   "name": "python",
   "nbconvert_exporter": "python",
   "pygments_lexer": "ipython2",
   "version": "2.7.11"
  }
 },
 "nbformat": 4,
 "nbformat_minor": 0
}
