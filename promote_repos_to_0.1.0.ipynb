{
 "cells": [
  {
   "cell_type": "markdown",
   "metadata": {},
   "source": [
    "# Goals\n",
    "\n",
    "[Promote repositories to 0.1.x · Issue #24 · gitenberg-dev/Second-Folio](https://github.com/gitenberg-dev/Second-Folio/issues/24)\n",
    "\n",
    "Our process for generating epub for almost all of the Second Folio books is good enough to now promote version to 0.1.x.  Specifically:\n",
    "\n",
    "* mark version in `metadata.yaml` to 0.1.0 (or 0.1.x)\n",
    "* include the `GITenberg` keyword\n",
    "* add a webhook notification to https://unglue.it/api/travisci/webhook in each `.travis.yml` so the repos get loaded to unglue.it"
   ]
  },
  {
   "cell_type": "code",
   "execution_count": null,
   "metadata": {
    "collapsed": false
   },
   "outputs": [],
   "source": [
    "from __future__ import print_function\n",
    "\n",
    "import json\n",
    "import yaml\n",
    "from itertools import (islice, izip)\n",
    "\n",
    "from gitenberg import metadata\n",
    "import jinja2\n",
    "\n",
    "\n",
    "from second_folio import (all_repos, \n",
    "                          apply_to_repos, \n",
    "                          git_pull,\n",
    "                          travis_template,\n",
    "                          repo_version,\n",
    "                          TRAVIS_TEMPLATE_URL\n",
    "                          )\n",
    "\n",
    "from github_settings import (username, password, token)\n",
    "\n",
    "# import github3.py\n",
    "import github3\n",
    "\n",
    "GITenberg_ORG = \"GITenberg\"\n",
    "\n",
    "# https://github.com/sigmavirus24/github3.py/pull/368/files\n",
    "# for personal access tokens\n",
    "gh = github3.login(username, password=token)\n"
   ]
  },
  {
   "cell_type": "code",
   "execution_count": null,
   "metadata": {
    "collapsed": false
   },
   "outputs": [],
   "source": [
    "repos = list(islice(all_repos,0,None))\n",
    "repos"
   ]
  },
  {
   "cell_type": "code",
   "execution_count": null,
   "metadata": {
    "collapsed": false
   },
   "outputs": [],
   "source": [
    "# git pull to get updated \n",
    "\n",
    "results = list(izip(repos, apply_to_repos(git_pull,\n",
    "                                        repos=repos)))\n",
    "[result for result in results if isinstance(result[1], Exception) ]"
   ]
  },
  {
   "cell_type": "code",
   "execution_count": null,
   "metadata": {
    "collapsed": false
   },
   "outputs": [],
   "source": [
    "# loop over repos and see which ones need to be updated to 0.1.0\n",
    "\n",
    "list(apply_to_repos(repo_version, repos=repos, kwargs={'version_type':'minor', 'write_version':False}))\n"
   ]
  },
  {
   "cell_type": "markdown",
   "metadata": {},
   "source": [
    "# Using github3.py to make changes"
   ]
  },
  {
   "cell_type": "code",
   "execution_count": null,
   "metadata": {
    "collapsed": false
   },
   "outputs": [],
   "source": [
    "repo_name = repos[1]\n",
    "repo = gh.repository('GITenberg', repo_name)"
   ]
  },
  {
   "cell_type": "markdown",
   "metadata": {},
   "source": [
    "Different ways to work with .travis.yml:\n",
    "\n",
    "* use the template\n",
    "* manipulate directly as a yaml file"
   ]
  },
  {
   "cell_type": "code",
   "execution_count": null,
   "metadata": {
    "collapsed": true
   },
   "outputs": [],
   "source": [
    "# rewrite function without assuming that there is a local copy of the repo\n",
    "\n",
    "from gitenberg import metadata\n",
    "\n",
    "template = travis_template()\n",
    "\n",
    "class GITenbergPromoter(object):\n",
    "    def __init__(self, username, token)\n",
    "        self.gh = github3.login(username, password=token)\n",
    "    def promote(self, repo_name, write_changes=False, owner_name='GITenberg'):\n",
    "        self.repo = self.gh.repository(owner_name, repo_name)\n",
    "        \n",
    "    \n",
    "\n",
    "def new_travis_template_2(repo, template=None, write_template=False):\n",
    "    \"\"\"\n",
    "    compute (and optionally write) .travis.yml based on the template and current metadata.yaml \n",
    "    \n",
    "    repo: github3.py representation of repository\n",
    "    \"\"\"\n",
    "    template_written = False\n",
    "    \n",
    "    if template is None:\n",
    "        template = travis_template()\n",
    "    \n",
    "    metadata_url = \"https://raw.githubusercontent.com/{owner}/{repo_name}/master/metadata.yaml\".format(owner='GITenberg',\n",
    "                                                                            repo_name=repo.name)\n",
    "\n",
    "    md = metadata.pandata.Pandata(metadata_url)\n",
    "    epub_title = slugify(md.metadata.get(\"title\"))\n",
    "    \n",
    "    # pick from rep\n",
    "    encrypted_key = repo.contents(\".travis.deploy.api_key.txt\", ref='master').decoded.decode('utf-8')\n",
    "    \n",
    "    repo_name = md.metadata.get(\"_repo\")\n",
    "    \n",
    "    template_vars =  {\n",
    "        'epub_title': epub_title,\n",
    "        'encrypted_key': encrypted_key,\n",
    "        'repo_name': repo_name\n",
    "    }\n",
    "    \n",
    "    template_result = template.render(**template_vars)\n",
    "    \n",
    "    if write_template:\n",
    "        # how to write to file \n",
    "        content = repo.contents('.travis.yml', ref='master')\n",
    "        data = {\n",
    "            'message': 'updated .travis.yml',\n",
    "            'content': template_result.encode('utf-8'),\n",
    "        }\n",
    "\n",
    "        commit = content.update(**data)\n",
    "    else:\n",
    "        commit = None\n",
    "\n",
    "    \n",
    "    return (template_result, template_written, commit)"
   ]
  },
  {
   "cell_type": "code",
   "execution_count": null,
   "metadata": {
    "collapsed": false
   },
   "outputs": [],
   "source": [
    "(template_result, template_written, commit) = new_travis_template_2(repo=repo, template=template, write_template=True)\n",
    "(template_result, template_written, commit)"
   ]
  },
  {
   "cell_type": "code",
   "execution_count": null,
   "metadata": {
    "collapsed": false
   },
   "outputs": [],
   "source": [
    "(template_result, template_written, commit)"
   ]
  },
  {
   "cell_type": "markdown",
   "metadata": {
    "collapsed": true
   },
   "source": [
    "# update metadata.yml"
   ]
  },
  {
   "cell_type": "code",
   "execution_count": null,
   "metadata": {
    "collapsed": true
   },
   "outputs": [],
   "source": [
    "import semantic_version\n",
    "from gitenberg import metadata\n",
    "\n",
    "def repo_version_2(repo, version_type='patch', write_version=False):\n",
    "    \"\"\"\n",
    "    github3.py representation of repository\n",
    "    returns current version, next version, whether metadata updated, commit\n",
    "    \"\"\"\n",
    "    \n",
    "    assert version_type in ('patch', 'minor', 'major')\n",
    "    \n",
    "    metadata_updated = False\n",
    "    metadata_url = \"https://raw.githubusercontent.com/{owner}/{repo_name}/master/metadata.yaml\".format(owner='GITenberg',\n",
    "                                                                            repo_name=repo.name)\n",
    "\n",
    "    md = metadata.pandata.Pandata(metadata_url)\n",
    "    \n",
    "    _version = md.metadata.get(\"_version\")\n",
    "    next_func = getattr(semantic_version.Version(_version), \"next_{}\".format(version_type))\n",
    "    _next_version = unicode(next_func())\n",
    "\n",
    "    if write_version:\n",
    "        \n",
    "        # how to write to file \n",
    "        content = repo.contents('metadata.yaml', ref='master')\n",
    "        md.metadata[\"_version\"] =  _next_version\n",
    "        data = {\n",
    "            'message': 'updated metadata.yaml',\n",
    "            'content': yaml.safe_dump(md.metadata,default_flow_style=False,allow_unicode=True)\n",
    "        }\n",
    "        commit = content.update(**data)\n",
    "        metadata_updated = True\n",
    "    else:\n",
    "        commit = None\n",
    "\n",
    "    return (_version, _next_version, metadata_updated, commit)\n",
    "    \n"
   ]
  },
  {
   "cell_type": "code",
   "execution_count": null,
   "metadata": {
    "collapsed": false
   },
   "outputs": [],
   "source": [
    "import arrow\n",
    "\n",
    "def promote_repo_to_minor_add_kw(repo, user_name, user_email, commit_message,\n",
    "                                 keywords=('GITenberg',), write_version=False):\n",
    "    \"\"\"\n",
    "    github3.py representation of repository\n",
    "    returns current version, next version, whether metadata updated, commit\n",
    "    \"\"\"\n",
    "        \n",
    "    metadata_updated = False\n",
    "    metadata_url = \"https://raw.githubusercontent.com/{owner}/{repo_name}/master/metadata.yaml\".format(owner='GITenberg',\n",
    "                                                                            repo_name=repo.name)\n",
    "\n",
    "    md = metadata.pandata.Pandata(metadata_url)\n",
    "    \n",
    "    # promote to 0.1.0 or next patch if current version is at least a minor version\n",
    "    \n",
    "    _version = semantic_version.Version(md.metadata.get(\"_version\"))\n",
    "    if _version >= semantic_version.Version(\"0.1.0\"):\n",
    "        _next_version = unicode(_version.next_patch())\n",
    "    else:\n",
    "         _next_version = u\"0.1.0\"\n",
    "            \n",
    "    # add keywords \n",
    "    subjects = md.metadata.get(\"subjects\")\n",
    "    for keyword in keywords:\n",
    "        if keyword not in subjects:\n",
    "            subjects.append(keyword)\n",
    "    md.metadata[\"subjects\"] = subjects\n",
    "            \n",
    "    if write_version:\n",
    "        \n",
    "        # how to write to file \n",
    "        content = repo.contents('metadata.yaml', ref='master')\n",
    "        md.metadata[\"_version\"] =  _next_version\n",
    "        data = {\n",
    "            'message': commit_message,\n",
    "            'content': yaml.safe_dump(md.metadata,default_flow_style=False,allow_unicode=True)\n",
    "        }\n",
    "        commit = content.update(**data)\n",
    "        \n",
    "        # also tag the commit\n",
    "        tag_data =  {\n",
    "            'tag': _next_version,\n",
    "            'message': _next_version,\n",
    "            'sha': commit.sha,\n",
    "            'obj_type': 'commit',\n",
    "            'tagger': {\n",
    "                'name': user_name,\n",
    "                'email': user_email,\n",
    "                'date': arrow.utcnow().isoformat()\n",
    "            },\n",
    "            'lightweight': False\n",
    "        }\n",
    "\n",
    "        tag = repo.create_tag(**tag_data)\n",
    "        \n",
    "        metadata_updated = True\n",
    "    else:\n",
    "        commit = None\n",
    "        tag = None\n",
    "\n",
    "    return (_version, _next_version, metadata_updated, commit, tag)"
   ]
  },
  {
   "cell_type": "code",
   "execution_count": null,
   "metadata": {
    "collapsed": false
   },
   "outputs": [],
   "source": [
    "user = gh.user()\n",
    "\n",
    "\n",
    "(_version, _next_version, metadata_updated, commit, tag) = promote_repo_to_minor_add_kw(repo=repo,\n",
    "                                                                user_name=user.name, \n",
    "                                                                user_email=user.email,\n",
    "                                                                write_version=False,\n",
    "                                                                commit_message=\"promote to 0.1.x; add GITenberg keyword\")\n",
    "(_version, _next_version, metadata_updated, commit, tag)"
   ]
  },
  {
   "cell_type": "code",
   "execution_count": null,
   "metadata": {
    "collapsed": true
   },
   "outputs": [],
   "source": [
    "def latest_epub_2(repo):\n",
    "    \"\"\"\n",
    "    repo is a github3.py repo\n",
    "    \"\"\"\n",
    "    metadata_url = \"https://raw.githubusercontent.com/{owner}/{repo_name}/master/metadata.yaml\".format(owner='GITenberg',\n",
    "                                                                            repo_name=repo.name)\n",
    "\n",
    "    md = metadata.pandata.Pandata(metadata_url)\n",
    "    #repo_name = md.metadata.get(\"_repo\")\n",
    "    epub_title = slugify(md.metadata.get(\"title\"))\n",
    "    tag = md.metadata.get(\"_version\")\n",
    "    url = \"https://github.com/GITenberg/{}/releases/download/{}/{}.epub\".format(repo, tag, epub_title)\n",
    "    return url\n"
   ]
  },
  {
   "cell_type": "code",
   "execution_count": null,
   "metadata": {
    "collapsed": false
   },
   "outputs": [],
   "source": [
    "import requests\n",
    "requests.head(latest_epub_2(repo)).status_code"
   ]
  },
  {
   "cell_type": "code",
   "execution_count": null,
   "metadata": {
    "collapsed": true
   },
   "outputs": [],
   "source": []
  }
 ],
 "metadata": {
  "kernelspec": {
   "display_name": "Python 2",
   "language": "python",
   "name": "python2"
  },
  "language_info": {
   "codemirror_mode": {
    "name": "ipython",
    "version": 2
   },
   "file_extension": ".py",
   "mimetype": "text/x-python",
   "name": "python",
   "nbconvert_exporter": "python",
   "pygments_lexer": "ipython2",
   "version": "2.7.11"
  }
 },
 "nbformat": 4,
 "nbformat_minor": 0
}
