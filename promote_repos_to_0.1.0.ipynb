{
 "cells": [
  {
   "cell_type": "markdown",
   "metadata": {},
   "source": [
    "# Goals\n",
    "\n",
    "[Promote repositories to 0.1.x · Issue #24 · gitenberg-dev/Second-Folio](https://github.com/gitenberg-dev/Second-Folio/issues/24)\n",
    "\n",
    "Our process for generating epub for almost all of the Second Folio books is good enough to now promote version to 0.1.x.  Specifically:\n",
    "\n",
    "* mark version in `metadata.yaml` to 0.1.0 (or 0.1.x)\n",
    "* include the `GITenberg` keyword\n",
    "* add a webhook notification to https://unglue.it/api/travisci/webhook in each `.travis.yml` so the repos get loaded to unglue.it"
   ]
  },
  {
   "cell_type": "code",
   "execution_count": 1,
   "metadata": {
    "code_folding": [
     11
    ],
    "collapsed": false
   },
   "outputs": [],
   "source": [
    "from __future__ import print_function\n",
    "\n",
    "import json\n",
    "import yaml\n",
    "from itertools import (islice, izip)\n",
    "\n",
    "import arrow\n",
    "from gitenberg import metadata\n",
    "import jinja2\n",
    "import semantic_version\n",
    "\n",
    "\n",
    "import requests\n",
    "from second_folio import (all_repos, \n",
    "                          apply_to_repos, \n",
    "                          git_pull,\n",
    "                          travis_template,\n",
    "                          repo_version,\n",
    "                          travis_template,\n",
    "                          slugify,\n",
    "                          TRAVIS_TEMPLATE_URL\n",
    "                          )\n",
    "\n",
    "from github_settings import (username, password, token)\n",
    "\n",
    "# import github3.py\n",
    "import github3\n",
    "\n",
    "GITenberg_ORG = \"GITenberg\"\n",
    "\n",
    "# https://github.com/sigmavirus24/github3.py/pull/368/files\n",
    "# for personal access tokens\n",
    "gh = github3.login(username, password=token)\n"
   ]
  },
  {
   "cell_type": "code",
   "execution_count": 2,
   "metadata": {
    "collapsed": false
   },
   "outputs": [
    {
     "data": {
      "text/plain": [
       "['Adventures-of-Huckleberry-Finn_76',\n",
       " 'Don-Quixote_996',\n",
       " 'Dubliners_2814',\n",
       " 'Jane-Eyre_1260',\n",
       " 'Moby-Dick--Or-The-Whale_2701',\n",
       " 'Narrative-of-the-Life-of-Frederick-Douglass-an-American-Slave_23',\n",
       " 'Pride-and-Prejudice_1342',\n",
       " 'The-Adventures-of-Sherlock-Holmes_1661',\n",
       " 'The-Brothers-Karamazov_28054',\n",
       " 'The-Time-Machine_35',\n",
       " 'Frankenstein_84',\n",
       " 'Middlemarch_145',\n",
       " 'A-Tale-of-Two-Cities_98',\n",
       " 'The-Call-of-the-Wild_215',\n",
       " 'Crime-and-Punishment_2554',\n",
       " 'The-Strange-Case-of-Dr.-Jekyll-and-Mr.-Hyde_42',\n",
       " 'Dracula_345',\n",
       " 'Flatland--A-Romance-of-Many-Dimensions--Illustrated-_201',\n",
       " 'Household-Stories-by-the-Brothers-Grimm_19068',\n",
       " 'Heart-of-Darkness_219',\n",
       " 'A-Journey-into-the-Interior-of-the-Earth_3748',\n",
       " 'Jude-the-Obscure_153',\n",
       " 'King-Solomon-s-Mines_2166',\n",
       " 'Little-Women_514',\n",
       " 'Madame-Bovary_2413',\n",
       " 'The-Life-and-Adventures-of-Robinson-Crusoe_521',\n",
       " 'The-Awakening-and-Selected-Short-Stories_160',\n",
       " 'The-Jungle_140',\n",
       " 'The-Jungle-Book_236',\n",
       " 'Metamorphosis_5200',\n",
       " 'The-Picture-of-Dorian-Gray_174',\n",
       " 'The-Red-Badge-of-Courage_73',\n",
       " 'The-Scarlet-Letter_33',\n",
       " 'The-War-of-the-Worlds_36',\n",
       " 'The-Wonderful-Wizard-of-Oz_55',\n",
       " 'This-Side-of-Paradise_805',\n",
       " 'Anna-Karenina_1399',\n",
       " 'Gulliver-s-Travels_829',\n",
       " 'Les-Mis-rables_135',\n",
       " 'Swann-s-Way_7178',\n",
       " 'The-Count-of-Monte-Cristo_1184',\n",
       " 'The-Hunchback-of-Notre-Dame_6539',\n",
       " 'The-Three-Musketeers_1257',\n",
       " 'Through-the-Looking-Glass_12',\n",
       " 'Twenty-Thousand-Leagues-under-the-Sea_164',\n",
       " 'War-and-Peace_2600',\n",
       " 'Winesburg-Ohio--A-Group-of-Tales-of-Ohio-Small-Town-Life_416',\n",
       " 'My-Antonia_242',\n",
       " 'Divine-Comedy-Longfellow-s-Translation-Hell_1001',\n",
       " 'The-Works-of-Edgar-Allan-Poe-The-Raven-EditionTable-Of-Contents-And-Index-Of-The-Five-Volumes_25525']"
      ]
     },
     "execution_count": 2,
     "metadata": {},
     "output_type": "execute_result"
    }
   ],
   "source": [
    "repos = list(islice(all_repos,0,None))\n",
    "repos"
   ]
  },
  {
   "cell_type": "code",
   "execution_count": 3,
   "metadata": {
    "collapsed": false
   },
   "outputs": [
    {
     "data": {
      "text/plain": [
       "[]"
      ]
     },
     "execution_count": 3,
     "metadata": {},
     "output_type": "execute_result"
    }
   ],
   "source": [
    "# git pull to get updated \n",
    "\n",
    "results = list(izip(repos, apply_to_repos(git_pull,\n",
    "                                        repos=repos)))\n",
    "[result for result in results if isinstance(result[1], Exception) ]"
   ]
  },
  {
   "cell_type": "code",
   "execution_count": 9,
   "metadata": {
    "collapsed": false
   },
   "outputs": [
    {
     "data": {
      "text/plain": [
       "[('The-Picture-of-Dorian-Gray_174', ('0.0.1', u'0.1.0', False)),\n",
       " ('The-Hunchback-of-Notre-Dame_6539', ('0.0.1', u'0.1.0', False)),\n",
       " ('The-Works-of-Edgar-Allan-Poe-The-Raven-EditionTable-Of-Contents-And-Index-Of-The-Five-Volumes_25525',\n",
       "  ('0.0.1', u'0.1.0', False))]"
      ]
     },
     "execution_count": 9,
     "metadata": {},
     "output_type": "execute_result"
    }
   ],
   "source": [
    "# which books still at 0.0.1\n",
    "\n",
    "[(repo, version_info) for (repo, version_info) in \n",
    "   izip(repos, apply_to_repos(repo_version, repos=repos, kwargs={'version_type':'minor', 'write_version':False}))\n",
    "   if version_info[0] == '0.0.1']"
   ]
  },
  {
   "cell_type": "code",
   "execution_count": 4,
   "metadata": {
    "collapsed": false
   },
   "outputs": [
    {
     "data": {
      "text/plain": [
       "[('0.1.7', u'0.2.0', False),\n",
       " ('0.1.0', u'0.2.0', False),\n",
       " ('0.1.0', u'0.2.0', False),\n",
       " ('0.1.0', u'0.2.0', False),\n",
       " ('0.1.0', u'0.2.0', False),\n",
       " ('0.1.0', u'0.2.0', False),\n",
       " ('0.1.0', u'0.2.0', False),\n",
       " ('0.1.0', u'0.2.0', False),\n",
       " ('0.1.0', u'0.2.0', False),\n",
       " ('0.1.0', u'0.2.0', False),\n",
       " ('0.1.0', u'0.2.0', False),\n",
       " ('0.1.0', u'0.2.0', False),\n",
       " ('0.1.0', u'0.2.0', False),\n",
       " ('0.1.0', u'0.2.0', False),\n",
       " ('0.1.0', u'0.2.0', False),\n",
       " ('0.1.0', u'0.2.0', False),\n",
       " ('0.1.0', u'0.2.0', False),\n",
       " ('0.1.0', u'0.2.0', False),\n",
       " ('0.1.0', u'0.2.0', False),\n",
       " ('0.1.0', u'0.2.0', False),\n",
       " ('0.1.0', u'0.2.0', False),\n",
       " ('0.1.0', u'0.2.0', False),\n",
       " ('0.1.0', u'0.2.0', False),\n",
       " ('0.1.0', u'0.2.0', False),\n",
       " ('0.1.0', u'0.2.0', False),\n",
       " ('0.1.0', u'0.2.0', False),\n",
       " ('0.1.0', u'0.2.0', False),\n",
       " ('0.1.0', u'0.2.0', False),\n",
       " ('0.1.0', u'0.2.0', False),\n",
       " ('0.1.0', u'0.2.0', False),\n",
       " ('0.0.1', u'0.1.0', False),\n",
       " ('0.1.0', u'0.2.0', False),\n",
       " ('0.1.0', u'0.2.0', False),\n",
       " ('0.1.0', u'0.2.0', False),\n",
       " ('0.1.0', u'0.2.0', False),\n",
       " ('0.1.0', u'0.2.0', False),\n",
       " ('0.1.0', u'0.2.0', False),\n",
       " ('0.1.0', u'0.2.0', False),\n",
       " ('0.1.0', u'0.2.0', False),\n",
       " ('0.1.0', u'0.2.0', False),\n",
       " ('0.1.0', u'0.2.0', False),\n",
       " ('0.0.1', u'0.1.0', False),\n",
       " ('0.1.0', u'0.2.0', False),\n",
       " ('0.1.0', u'0.2.0', False),\n",
       " ('0.1.0', u'0.2.0', False),\n",
       " ('0.1.0', u'0.2.0', False),\n",
       " ('0.1.0', u'0.2.0', False),\n",
       " ('0.1.0', u'0.2.0', False),\n",
       " ('0.1.0', u'0.2.0', False),\n",
       " ('0.0.1', u'0.1.0', False)]"
      ]
     },
     "execution_count": 4,
     "metadata": {},
     "output_type": "execute_result"
    }
   ],
   "source": [
    "# loop over repos and see which ones need to be updated to 0.1.0\n",
    "\n",
    "list(apply_to_repos(repo_version, repos=repos, kwargs={'version_type':'minor', 'write_version':False}))\n"
   ]
  },
  {
   "cell_type": "markdown",
   "metadata": {},
   "source": [
    "# Using github3.py to make changes"
   ]
  },
  {
   "cell_type": "code",
   "execution_count": 10,
   "metadata": {
    "collapsed": false
   },
   "outputs": [
    {
     "data": {
      "text/plain": [
       "(u'Raymond Yee (GITenberg)', u'raymond.yee+GITenberg@gmail.com')"
      ]
     },
     "execution_count": 10,
     "metadata": {},
     "output_type": "execute_result"
    }
   ],
   "source": [
    "gh = github3.login(username, password=token)\n",
    "gh.user().name, gh.user().email"
   ]
  },
  {
   "cell_type": "markdown",
   "metadata": {},
   "source": [
    "Different ways to work with .travis.yml:\n",
    "\n",
    "* use the template\n",
    "* manipulate directly as a yaml file"
   ]
  },
  {
   "cell_type": "code",
   "execution_count": 11,
   "metadata": {
    "code_folding": [
     42
    ],
    "collapsed": false
   },
   "outputs": [],
   "source": [
    "# rewrite function without assuming that there is a local copy of the repo\n",
    "\n",
    "\n",
    "class GITenbergPromoter(object):\n",
    "    def __init__(self, username, token, repo_name, owner_name='GITenberg',\n",
    "               update_travis_commit_msg = \"updated .travis.yml\",\n",
    "               promote_commit_message = \"promote to 0.1.x; add GITenberg keyword\",\n",
    "               keywords=('GITenberg',)):\n",
    "        \n",
    "        self.gh = github3.login(username, password=token)\n",
    "        self.repo = self.gh.repository(owner_name, repo_name)\n",
    "        self.repo_name = repo_name\n",
    "        self.owner_name = owner_name\n",
    "        self.update_travis_commit_msg = update_travis_commit_msg\n",
    "        self.promote_commit_message = promote_commit_message\n",
    "        self.keywords = keywords\n",
    "        \n",
    "    def promote(self, write_changes=True, update_travis=True, promote_repo=True):\n",
    "        if update_travis:\n",
    "            (template_result, template_written, commit) =  self.update_travis_template(write_changes=write_changes)\n",
    "        else:\n",
    "            (template_result, template_written, commit)  = (None, None, None)\n",
    "        \n",
    "        if promote_repo:\n",
    "            (_version, _next_version, metadata_updated, commit, tag) = self.promote_repo_to_minor_add_kw(write_changes=write_changes)\n",
    "        else:\n",
    "            (_version, _next_version, metadata_updated, commit, tag) = (None, None, None, None, None)\n",
    "        \n",
    "        return [(template_result, template_written, commit),\n",
    "               (_version, _next_version, metadata_updated, commit, tag)]\n",
    "        \n",
    "    def metadata(self):\n",
    "        \"\"\"\n",
    "        returns a metadata.pandata.Pandata object for repo\n",
    "        \"\"\"\n",
    "        metadata_url = \"https://raw.githubusercontent.com/{owner}/{repo_name}/master/metadata.yaml\".format(owner=self.owner_name,\n",
    "                                                                               repo_name=self.repo_name)\n",
    "\n",
    "        md = metadata.pandata.Pandata(metadata_url)\n",
    "        return md\n",
    "\n",
    "        \n",
    "    def update_travis_template(self, write_changes=True, template=None):\n",
    "        \"\"\"\n",
    "        compute (and optionally write) .travis.yml based on the template and current metadata.yaml \n",
    "\n",
    "        repo: github3.py representation of repository\n",
    "        \"\"\"\n",
    "        template_written = False\n",
    "\n",
    "        if template is None:\n",
    "            template = travis_template()\n",
    "        \n",
    "        md = self.metadata()\n",
    "        repo_name = md.metadata.get(\"_repo\")\n",
    "        epub_title = slugify(md.metadata.get(\"title\"))\n",
    "\n",
    "        # pick from rep\n",
    "        encrypted_key = self.repo.contents(\".travis.deploy.api_key.txt\", ref='master').decoded.decode('utf-8')\n",
    "\n",
    "        template_vars =  {\n",
    "            'epub_title': epub_title,\n",
    "            'encrypted_key': encrypted_key,\n",
    "            'repo_name': repo_name\n",
    "        }\n",
    "\n",
    "        template_result = template.render(**template_vars)\n",
    "\n",
    "        if write_changes:\n",
    "            # how to write to file \n",
    "            content = self.repo.contents('.travis.yml', ref='master')\n",
    "            data = {\n",
    "                'message': self.update_travis_commit_msg,\n",
    "                'content': template_result.encode('utf-8'),\n",
    "            }\n",
    "\n",
    "            commit = content.update(**data)\n",
    "        else:\n",
    "            commit = None\n",
    "\n",
    "        return (template_result, template_written, commit)\n",
    "    def promote_repo_to_minor_add_kw(self, write_changes=True):\n",
    "        \"\"\"\n",
    "        github3.py representation of repository\n",
    "        returns current version, next version, whether metadata updated, commit\n",
    "        \"\"\"\n",
    "\n",
    "        md = self.metadata()\n",
    "\n",
    "        # promote to 0.1.0 or next patch if current version is at least a minor version\n",
    "\n",
    "        _version = semantic_version.Version(md.metadata.get(\"_version\"))\n",
    "        if _version >= semantic_version.Version(\"0.1.0\"):\n",
    "            _next_version = unicode(_version.next_patch())\n",
    "        else:\n",
    "             _next_version = u\"0.1.0\"\n",
    "\n",
    "        # add keywords \n",
    "        subjects = md.metadata.get(\"subjects\")\n",
    "        for keyword in self.keywords:\n",
    "            if keyword not in subjects:\n",
    "                subjects.append(keyword)\n",
    "        md.metadata[\"subjects\"] = subjects\n",
    "\n",
    "        if write_changes:\n",
    "\n",
    "            # how to write to file \n",
    "            content = self.repo.contents('metadata.yaml', ref='master')\n",
    "            md.metadata[\"_version\"] =  _next_version\n",
    "            data = {\n",
    "                'message': self.promote_commit_message,\n",
    "                'content': yaml.safe_dump(md.metadata,default_flow_style=False,allow_unicode=True)\n",
    "            }\n",
    "            commit = content.update(**data)\n",
    "\n",
    "            # also tag the commit\n",
    "            tag_data =  {\n",
    "                'tag': _next_version,\n",
    "                'message': _next_version,\n",
    "                'sha': commit.sha,\n",
    "                'obj_type': 'commit',\n",
    "                'tagger': {\n",
    "                    'name': self.gh.user().name,\n",
    "                    'email': gh.user().email,\n",
    "                    'date': arrow.utcnow().isoformat()\n",
    "                },\n",
    "                'lightweight': False\n",
    "            }\n",
    "\n",
    "            tag = self.repo.create_tag(**tag_data)\n",
    "\n",
    "            metadata_updated = True\n",
    "        else:\n",
    "            commit = None\n",
    "            tag = None\n",
    "            metadata_updated = False\n",
    "\n",
    "        return (_version, _next_version, metadata_updated, commit, tag)\n",
    "    \n",
    "    def url_latest_epub(self):\n",
    "        \"\"\"\n",
    "        repo is a github3.py repo\n",
    "        \"\"\"\n",
    "        \n",
    "        md = self.metadata()\n",
    "        epub_title = slugify(md.metadata.get(\"title\"))\n",
    "        tag = md.metadata.get(\"_version\")\n",
    "        url = \"https://github.com/GITenberg/{}/releases/download/{}/{}.epub\".format(self.repo_name, tag, epub_title)\n",
    "        return url\n",
    "    \n",
    "    def status_latest_epub(self):\n",
    "        return requests.head(self.url_latest_epub()).status_code"
   ]
  },
  {
   "cell_type": "code",
   "execution_count": 12,
   "metadata": {
    "collapsed": true
   },
   "outputs": [],
   "source": [
    "def promote_repo(repo_name):\n",
    "    gp = GITenbergPromoter(username, token, repo_name)\n",
    "    try:\n",
    "        result = gp.promote(write_changes=True, update_travis=True, promote_repo=True)\n",
    "    except Exception as e:\n",
    "        result = e\n",
    "    return (result, gp)\n",
    "    \n",
    "def epub_status(repo_name):\n",
    "    gp = GITenbergPromoter(username, token, repo_name)\n",
    "    return gp.status_latest_epub()"
   ]
  },
  {
   "cell_type": "code",
   "execution_count": 13,
   "metadata": {
    "collapsed": false
   },
   "outputs": [
    {
     "name": "stdout",
     "output_type": "stream",
     "text": [
      "Adventures-of-Huckleberry-Finn_76 302\n",
      "Don-Quixote_996 302\n",
      "Dubliners_2814 302\n",
      "Jane-Eyre_1260 302\n",
      "Moby-Dick--Or-The-Whale_2701 302\n",
      "Narrative-of-the-Life-of-Frederick-Douglass-an-American-Slave_23 302\n",
      "Pride-and-Prejudice_1342 302\n",
      "The-Adventures-of-Sherlock-Holmes_1661 302\n",
      "The-Brothers-Karamazov_28054 302\n",
      "The-Time-Machine_35 302\n",
      "Frankenstein_84 302\n",
      "Middlemarch_145 302\n",
      "A-Tale-of-Two-Cities_98 302\n",
      "The-Call-of-the-Wild_215 302\n",
      "Crime-and-Punishment_2554 302\n",
      "The-Strange-Case-of-Dr.-Jekyll-and-Mr.-Hyde_42 302\n",
      "Dracula_345 302\n",
      "Flatland--A-Romance-of-Many-Dimensions--Illustrated-_201 302\n",
      "Household-Stories-by-the-Brothers-Grimm_19068 302\n",
      "Heart-of-Darkness_219 302\n",
      "A-Journey-into-the-Interior-of-the-Earth_3748 302\n",
      "Jude-the-Obscure_153 302\n",
      "King-Solomon-s-Mines_2166 302\n",
      "Little-Women_514 302\n",
      "Madame-Bovary_2413 302\n",
      "The-Life-and-Adventures-of-Robinson-Crusoe_521 302\n",
      "The-Awakening-and-Selected-Short-Stories_160 302\n",
      "The-Jungle_140 302\n",
      "The-Jungle-Book_236 302\n",
      "Metamorphosis_5200 302\n",
      "The-Picture-of-Dorian-Gray_174 404\n",
      "The-Red-Badge-of-Courage_73 302\n",
      "The-Scarlet-Letter_33 302\n",
      "The-War-of-the-Worlds_36 302\n",
      "The-Wonderful-Wizard-of-Oz_55 302\n",
      "This-Side-of-Paradise_805 302\n",
      "Anna-Karenina_1399 302\n",
      "Gulliver-s-Travels_829 302\n",
      "Les-Mis-rables_135 302\n",
      "Swann-s-Way_7178 302\n",
      "The-Count-of-Monte-Cristo_1184 302\n",
      "The-Hunchback-of-Notre-Dame_6539 404\n",
      "The-Three-Musketeers_1257 302\n",
      "Through-the-Looking-Glass_12 302\n",
      "Twenty-Thousand-Leagues-under-the-Sea_164 302\n",
      "War-and-Peace_2600 302\n",
      "Winesburg-Ohio--A-Group-of-Tales-of-Ohio-Small-Town-Life_416 302\n",
      "My-Antonia_242 302\n",
      "Divine-Comedy-Longfellow-s-Translation-Hell_1001 404\n",
      "The-Works-of-Edgar-Allan-Poe-The-Raven-EditionTable-Of-Contents-And-Index-Of-The-Five-Volumes_25525 404\n"
     ]
    }
   ],
   "source": [
    "repos = all_repos\n",
    "\n",
    "for (repo, status) in izip(repos, apply_to_repos(epub_status, repos=repos)):\n",
    "    print (repo, status)"
   ]
  },
  {
   "cell_type": "code",
   "execution_count": null,
   "metadata": {
    "collapsed": false
   },
   "outputs": [],
   "source": [
    "all_repos[7:10]"
   ]
  },
  {
   "cell_type": "code",
   "execution_count": null,
   "metadata": {
    "collapsed": false
   },
   "outputs": [],
   "source": [
    "results = list(apply_to_repos(promote_repo, repos=all_repos[10:]))\n",
    "list(results)"
   ]
  },
  {
   "cell_type": "code",
   "execution_count": null,
   "metadata": {
    "collapsed": false
   },
   "outputs": [],
   "source": [
    "gp = results[0][-1]\n",
    "gp.status_latest_epub()"
   ]
  },
  {
   "cell_type": "code",
   "execution_count": null,
   "metadata": {
    "collapsed": false
   },
   "outputs": [],
   "source": [
    "gp = GITenbergPromoter(username, token, repo_name)\n",
    "gp.status_latest_epub()"
   ]
  },
  {
   "cell_type": "code",
   "execution_count": null,
   "metadata": {
    "collapsed": false
   },
   "outputs": [],
   "source": [
    "(template_result, template_written, commit) = new_travis_template_2(repo=repo, template=template, write_template=True)\n",
    "(template_result, template_written, commit)"
   ]
  },
  {
   "cell_type": "code",
   "execution_count": null,
   "metadata": {
    "collapsed": false
   },
   "outputs": [],
   "source": [
    "(template_result, template_written, commit)"
   ]
  },
  {
   "cell_type": "markdown",
   "metadata": {
    "collapsed": true
   },
   "source": [
    "# update metadata.yml"
   ]
  },
  {
   "cell_type": "code",
   "execution_count": null,
   "metadata": {
    "code_folding": [
     1
    ],
    "collapsed": true
   },
   "outputs": [],
   "source": [
    "\n",
    "def repo_version_2(repo, version_type='patch', write_version=False):\n",
    "    \"\"\"\n",
    "    github3.py representation of repository\n",
    "    returns current version, next version, whether metadata updated, commit\n",
    "    \"\"\"\n",
    "    \n",
    "    assert version_type in ('patch', 'minor', 'major')\n",
    "    \n",
    "    metadata_updated = False\n",
    "    metadata_url = \"https://raw.githubusercontent.com/{owner}/{repo_name}/master/metadata.yaml\".format(owner='GITenberg',\n",
    "                                                                            repo_name=repo.name)\n",
    "\n",
    "    md = metadata.pandata.Pandata(metadata_url)\n",
    "    \n",
    "    _version = md.metadata.get(\"_version\")\n",
    "    next_func = getattr(semantic_version.Version(_version), \"next_{}\".format(version_type))\n",
    "    _next_version = unicode(next_func())\n",
    "\n",
    "    if write_version:\n",
    "        \n",
    "        # how to write to file \n",
    "        content = repo.contents('metadata.yaml', ref='master')\n",
    "        md.metadata[\"_version\"] =  _next_version\n",
    "        data = {\n",
    "            'message': 'updated metadata.yaml',\n",
    "            'content': yaml.safe_dump(md.metadata,default_flow_style=False,allow_unicode=True)\n",
    "        }\n",
    "        commit = content.update(**data)\n",
    "        metadata_updated = True\n",
    "    else:\n",
    "        commit = None\n",
    "\n",
    "    return (_version, _next_version, metadata_updated, commit)\n",
    "    \n"
   ]
  },
  {
   "cell_type": "code",
   "execution_count": null,
   "metadata": {
    "code_folding": [
     2
    ],
    "collapsed": false
   },
   "outputs": [],
   "source": [
    "import arrow\n",
    "\n",
    "def promote_repo_to_minor_add_kw(repo, user_name, user_email, commit_message,\n",
    "                                 keywords=('GITenberg',), write_version=False):\n",
    "    \"\"\"\n",
    "    github3.py representation of repository\n",
    "    returns current version, next version, whether metadata updated, commit\n",
    "    \"\"\"\n",
    "        \n",
    "    metadata_updated = False\n",
    "    metadata_url = \"https://raw.githubusercontent.com/{owner}/{repo_name}/master/metadata.yaml\".format(owner='GITenberg',\n",
    "                                                                            repo_name=repo.name)\n",
    "\n",
    "    md = metadata.pandata.Pandata(metadata_url)\n",
    "    \n",
    "    # promote to 0.1.0 or next patch if current version is at least a minor version\n",
    "    \n",
    "    _version = semantic_version.Version(md.metadata.get(\"_version\"))\n",
    "    if _version >= semantic_version.Version(\"0.1.0\"):\n",
    "        _next_version = unicode(_version.next_patch())\n",
    "    else:\n",
    "         _next_version = u\"0.1.0\"\n",
    "            \n",
    "    # add keywords \n",
    "    subjects = md.metadata.get(\"subjects\")\n",
    "    for keyword in keywords:\n",
    "        if keyword not in subjects:\n",
    "            subjects.append(keyword)\n",
    "    md.metadata[\"subjects\"] = subjects\n",
    "            \n",
    "    if write_version:\n",
    "        \n",
    "        # how to write to file \n",
    "        content = repo.contents('metadata.yaml', ref='master')\n",
    "        md.metadata[\"_version\"] =  _next_version\n",
    "        data = {\n",
    "            'message': commit_message,\n",
    "            'content': yaml.safe_dump(md.metadata,default_flow_style=False,allow_unicode=True)\n",
    "        }\n",
    "        commit = content.update(**data)\n",
    "        \n",
    "        # also tag the commit\n",
    "        tag_data =  {\n",
    "            'tag': _next_version,\n",
    "            'message': _next_version,\n",
    "            'sha': commit.sha,\n",
    "            'obj_type': 'commit',\n",
    "            'tagger': {\n",
    "                'name': user_name,\n",
    "                'email': user_email,\n",
    "                'date': arrow.utcnow().isoformat()\n",
    "            },\n",
    "            'lightweight': False\n",
    "        }\n",
    "\n",
    "        tag = repo.create_tag(**tag_data)\n",
    "        \n",
    "        metadata_updated = True\n",
    "    else:\n",
    "        commit = None\n",
    "        tag = None\n",
    "\n",
    "    return (_version, _next_version, metadata_updated, commit, tag)"
   ]
  },
  {
   "cell_type": "code",
   "execution_count": null,
   "metadata": {
    "collapsed": false
   },
   "outputs": [],
   "source": [
    "user = gh.user()\n",
    "\n",
    "\n",
    "(_version, _next_version, metadata_updated, commit, tag) = promote_repo_to_minor_add_kw(repo=repo,\n",
    "                                                                user_name=user.name, \n",
    "                                                                user_email=user.email,\n",
    "                                                                write_version=False,\n",
    "                                                                commit_message=\"promote to 0.1.x; add GITenberg keyword\")\n",
    "(_version, _next_version, metadata_updated, commit, tag)"
   ]
  },
  {
   "cell_type": "code",
   "execution_count": null,
   "metadata": {
    "collapsed": true
   },
   "outputs": [],
   "source": [
    "def latest_epub_2(repo):\n",
    "    \"\"\"\n",
    "    repo is a github3.py repo\n",
    "    \"\"\"\n",
    "    metadata_url = \"https://raw.githubusercontent.com/{owner}/{repo_name}/master/metadata.yaml\".format(owner='GITenberg',\n",
    "                                                                            repo_name=repo.name)\n",
    "\n",
    "    md = metadata.pandata.Pandata(metadata_url)\n",
    "    #repo_name = md.metadata.get(\"_repo\")\n",
    "    epub_title = slugify(md.metadata.get(\"title\"))\n",
    "    tag = md.metadata.get(\"_version\")\n",
    "    url = \"https://github.com/GITenberg/{}/releases/download/{}/{}.epub\".format(repo, tag, epub_title)\n",
    "    return url\n"
   ]
  },
  {
   "cell_type": "code",
   "execution_count": null,
   "metadata": {
    "collapsed": false
   },
   "outputs": [],
   "source": [
    "import requests\n",
    "requests.head(latest_epub_2(repo)).status_code"
   ]
  }
 ],
 "metadata": {
  "kernelspec": {
   "display_name": "Python 2",
   "language": "python",
   "name": "python2"
  },
  "language_info": {
   "codemirror_mode": {
    "name": "ipython",
    "version": 2
   },
   "file_extension": ".py",
   "mimetype": "text/x-python",
   "name": "python",
   "nbconvert_exporter": "python",
   "pygments_lexer": "ipython2",
   "version": "2.7.11"
  }
 },
 "nbformat": 4,
 "nbformat_minor": 0
}
