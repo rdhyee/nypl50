{
 "cells": [
  {
   "cell_type": "markdown",
   "metadata": {},
   "source": [
    "# New Goals\n",
    "\n",
    "update to [update .travis.yml to use calibre to build mobi and pdf · gitenberg-dev/templates@497ef47](https://github.com/gitenberg-dev/templates/commit/497ef4751222940f06125208fc3d4e873efa1325)"
   ]
  },
  {
   "cell_type": "code",
   "execution_count": null,
   "metadata": {
    "code_folding": [
     11
    ],
    "collapsed": false
   },
   "outputs": [],
   "source": [
    "from __future__ import print_function\n",
    "\n",
    "import json\n",
    "import yaml\n",
    "from itertools import (islice, izip)\n",
    "\n",
    "import arrow\n",
    "from gitenberg import metadata\n",
    "import jinja2\n",
    "import semantic_version\n",
    "\n",
    "\n",
    "import requests\n",
    "from second_folio import (all_repos, \n",
    "                          apply_to_repos, \n",
    "                          git_pull,\n",
    "                          travis_template,\n",
    "                          repo_version,\n",
    "                          travis_template,\n",
    "                          slugify,\n",
    "                          TRAVIS_TEMPLATE_URL\n",
    "                          )\n",
    "\n",
    "from github_settings import (username, password, token)\n",
    "\n",
    "# import github3.py\n",
    "import github3\n",
    "\n",
    "GITenberg_ORG = \"GITenberg\"\n",
    "\n",
    "# https://github.com/sigmavirus24/github3.py/pull/368/files\n",
    "# for personal access tokens\n",
    "gh = github3.login(username, password=token)\n"
   ]
  },
  {
   "cell_type": "code",
   "execution_count": null,
   "metadata": {
    "collapsed": false
   },
   "outputs": [],
   "source": [
    "repos = list(islice(all_repos,0,None))\n",
    "repos"
   ]
  },
  {
   "cell_type": "code",
   "execution_count": null,
   "metadata": {
    "collapsed": false
   },
   "outputs": [],
   "source": [
    "# git pull to get updated \n",
    "\n",
    "results = list(izip(repos, apply_to_repos(git_pull,\n",
    "                                        repos=repos)))\n",
    "[result for result in results if isinstance(result[1], Exception) ]"
   ]
  },
  {
   "cell_type": "code",
   "execution_count": null,
   "metadata": {
    "collapsed": false
   },
   "outputs": [],
   "source": [
    "# which books still at 0.0.1\n",
    "\n",
    "[(repo, version_info) for (repo, version_info) in \n",
    "   izip(repos, apply_to_repos(repo_version, repos=repos, kwargs={'version_type':'minor', 'write_version':False}))\n",
    "   if version_info[0] == '0.0.1']"
   ]
  },
  {
   "cell_type": "code",
   "execution_count": null,
   "metadata": {
    "collapsed": false
   },
   "outputs": [],
   "source": [
    "# loop over repos and see which ones need to be updated to 0.1.0\n",
    "\n",
    "list(apply_to_repos(repo_version, repos=repos, kwargs={'version_type':'minor', 'write_version':False}))\n"
   ]
  },
  {
   "cell_type": "markdown",
   "metadata": {},
   "source": [
    "# Using github3.py to make changes"
   ]
  },
  {
   "cell_type": "code",
   "execution_count": null,
   "metadata": {
    "collapsed": false
   },
   "outputs": [],
   "source": [
    "gh = github3.login(username, password=token)\n",
    "gh.user().name, gh.user().email"
   ]
  },
  {
   "cell_type": "markdown",
   "metadata": {},
   "source": [
    "Different ways to work with .travis.yml:\n",
    "\n",
    "* use the template\n",
    "* manipulate directly as a yaml file"
   ]
  },
  {
   "cell_type": "code",
   "execution_count": null,
   "metadata": {
    "code_folding": [
     130
    ],
    "collapsed": false
   },
   "outputs": [],
   "source": [
    "# rewrite function without assuming that there is a local copy of the repo\n",
    "\n",
    "\n",
    "class MobiPdfBuilder(object):\n",
    "    def __init__(self, username, token, repo_name, owner_name='GITenberg',\n",
    "               update_travis_commit_msg = \"updated .travis.yml [ci skip]\",\n",
    "               tag_commit_message = \"build mobi and pdf\"):\n",
    "        \n",
    "        self.gh = github3.login(username, password=token)\n",
    "        self.repo = self.gh.repository(owner_name, repo_name)\n",
    "        self.repo_name = repo_name\n",
    "        self.owner_name = owner_name\n",
    "        self.update_travis_commit_msg = update_travis_commit_msg\n",
    "        self.tag_commit_message = tag_commit_message\n",
    "        \n",
    "    def go (self, write_changes=True, update_travis=True, tag_commit=True):\n",
    "        if update_travis:\n",
    "            (template_result, template_written, commit) =  self.update_travis_template(write_changes=write_changes)\n",
    "        else:\n",
    "            (template_result, template_written, commit)  = (None, None, None)\n",
    "        \n",
    "        if tag_commit:\n",
    "            (_version, _next_version, metadata_updated, commit, tag) = self.tag_commit(write_changes=write_changes)\n",
    "        else:\n",
    "            (_version, _next_version, metadata_updated, commit, tag) = (None, None, None, None, None)\n",
    "        \n",
    "        return [(template_result, template_written, commit),\n",
    "               (_version, _next_version, metadata_updated, commit, tag)]\n",
    "        \n",
    "    def metadata(self):\n",
    "        \"\"\"\n",
    "        returns a metadata.pandata.Pandata object for repo\n",
    "        \"\"\"\n",
    "        metadata_url = \"https://raw.githubusercontent.com/{owner}/{repo_name}/master/metadata.yaml\".format(owner=self.owner_name,\n",
    "                                                                               repo_name=self.repo_name)\n",
    "\n",
    "        md = metadata.pandata.Pandata(metadata_url)\n",
    "        return md\n",
    "\n",
    "        \n",
    "    def update_travis_template(self, write_changes=True, template=None):\n",
    "        \"\"\"\n",
    "        compute (and optionally write) .travis.yml based on the template and current metadata.yaml \n",
    "\n",
    "        repo: github3.py representation of repository\n",
    "        \"\"\"\n",
    "        template_written = False\n",
    "\n",
    "        if template is None:\n",
    "            template = travis_template()\n",
    "        \n",
    "        md = self.metadata()\n",
    "        repo_name = md.metadata.get(\"_repo\")\n",
    "        epub_title = slugify(md.metadata.get(\"title\"))\n",
    "\n",
    "        # pick from rep\n",
    "        encrypted_key = self.repo.contents(\".travis.deploy.api_key.txt\", ref='master').decoded.decode('utf-8')\n",
    "\n",
    "        template_vars =  {\n",
    "            'epub_title': epub_title,\n",
    "            'encrypted_key': encrypted_key,\n",
    "            'repo_name': repo_name\n",
    "        }\n",
    "\n",
    "        template_result = template.render(**template_vars)\n",
    "\n",
    "        if write_changes:\n",
    "            # how to write to file \n",
    "            content = self.repo.contents('.travis.yml', ref='master')\n",
    "            data = {\n",
    "                'message': self.update_travis_commit_msg,\n",
    "                'content': template_result.encode('utf-8'),\n",
    "            }\n",
    "\n",
    "            commit = content.update(**data)\n",
    "        else:\n",
    "            commit = None\n",
    "\n",
    "        return (template_result, template_written, commit)\n",
    "    def tag_commit(self, write_changes=True):\n",
    "        \"\"\"\n",
    "        github3.py representation of repository\n",
    "        returns current version, next version, whether metadata updated, commit\n",
    "        \"\"\"\n",
    "\n",
    "        md = self.metadata()\n",
    "\n",
    "        # promote to 0.2.0 or next patch if current version is at least a minor version\n",
    "\n",
    "        _version = semantic_version.Version(md.metadata.get(\"_version\"))\n",
    "        if _version >= semantic_version.Version(\"0.2.0\"):\n",
    "            _next_version = unicode(_version.next_patch())\n",
    "        else:\n",
    "             _next_version = u\"0.2.0\"\n",
    "\n",
    "        if write_changes:\n",
    "\n",
    "            # how to write to file \n",
    "            content = self.repo.contents('metadata.yaml', ref='master')\n",
    "            md.metadata[\"_version\"] =  _next_version\n",
    "            data = {\n",
    "                'message': self.tag_commit_message,\n",
    "                'content': yaml.safe_dump(md.metadata,default_flow_style=False,allow_unicode=True)\n",
    "            }\n",
    "            commit = content.update(**data)\n",
    "\n",
    "            # also tag the commit\n",
    "            tag_data =  {\n",
    "                'tag': _next_version,\n",
    "                'message': _next_version,\n",
    "                'sha': commit.sha,\n",
    "                'obj_type': 'commit',\n",
    "                'tagger': {\n",
    "                    'name': self.gh.user().name,\n",
    "                    'email': gh.user().email,\n",
    "                    'date': arrow.utcnow().isoformat()\n",
    "                },\n",
    "                'lightweight': False\n",
    "            }\n",
    "\n",
    "            tag = self.repo.create_tag(**tag_data)\n",
    "\n",
    "            metadata_updated = True\n",
    "        else:\n",
    "            commit = None\n",
    "            tag = None\n",
    "            metadata_updated = False\n",
    "\n",
    "        return (_version, _next_version, metadata_updated, commit, tag)\n",
    "    \n",
    "    def url_latest_epub(self):\n",
    "        \"\"\"\n",
    "        repo is a github3.py repo\n",
    "        \"\"\"\n",
    "        \n",
    "        md = self.metadata()\n",
    "        epub_title = slugify(md.metadata.get(\"title\"))\n",
    "        tag = md.metadata.get(\"_version\")\n",
    "        url = \"https://github.com/GITenberg/{}/releases/download/{}/{}.epub\".format(self.repo_name, tag, epub_title)\n",
    "        return url\n",
    "    \n",
    "    def status_latest_epub(self):\n",
    "        return requests.head(self.url_latest_epub()).status_code"
   ]
  },
  {
   "cell_type": "code",
   "execution_count": null,
   "metadata": {
    "collapsed": true
   },
   "outputs": [],
   "source": [
    "def build_repo(repo_name):\n",
    "    builder = MobiPdfBuilder(username, token, repo_name)\n",
    "    try:\n",
    "        result = builder.go(write_changes=True, update_travis=True, tag_commit=True)\n",
    "    except Exception as e:\n",
    "        result = e\n",
    "    return (result, builder)\n",
    "    \n",
    "def epub_status(repo_name):\n",
    "    builder = MobiPdfBuilder(username, token, repo_name)\n",
    "    return builder.status_latest_epub()"
   ]
  },
  {
   "cell_type": "code",
   "execution_count": null,
   "metadata": {
    "collapsed": false
   },
   "outputs": [],
   "source": [
    "all_repos"
   ]
  },
  {
   "cell_type": "code",
   "execution_count": null,
   "metadata": {
    "collapsed": false
   },
   "outputs": [],
   "source": [
    "repos = all_repos[1:2]\n",
    "repos"
   ]
  },
  {
   "cell_type": "code",
   "execution_count": null,
   "metadata": {
    "collapsed": false
   },
   "outputs": [],
   "source": [
    "for (repo, status) in izip(repos, apply_to_repos(epub_status, repos=repos)):\n",
    "    print (repo, status)"
   ]
  },
  {
   "cell_type": "code",
   "execution_count": null,
   "metadata": {
    "collapsed": false
   },
   "outputs": [],
   "source": [
    "results = list(apply_to_repos(build_repo, repos=all_repos[2:]))\n",
    "list(results)"
   ]
  },
  {
   "cell_type": "code",
   "execution_count": null,
   "metadata": {
    "collapsed": false
   },
   "outputs": [],
   "source": [
    "gp = results[0][-1]\n",
    "gp.status_latest_epub()"
   ]
  },
  {
   "cell_type": "code",
   "execution_count": null,
   "metadata": {
    "collapsed": false
   },
   "outputs": [],
   "source": [
    "gp = GITenbergPromoter(username, token, repo_name)\n",
    "gp.status_latest_epub()"
   ]
  }
 ],
 "metadata": {
  "kernelspec": {
   "display_name": "Python 2",
   "language": "python",
   "name": "python2"
  },
  "language_info": {
   "codemirror_mode": {
    "name": "ipython",
    "version": 2
   },
   "file_extension": ".py",
   "mimetype": "text/x-python",
   "name": "python",
   "nbconvert_exporter": "python",
   "pygments_lexer": "ipython2",
   "version": "2.7.11"
  }
 },
 "nbformat": 4,
 "nbformat_minor": 0
}
