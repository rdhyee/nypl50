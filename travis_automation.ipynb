{
 "cells": [
  {
   "cell_type": "markdown",
   "metadata": {},
   "source": [
    "[Getting started — TravisPy 0.3.3 documentation](https://travispy.readthedocs.org/en/stable/getting_started/)\n",
    "\n",
    "https://www.flowdock.com/app/gluejar/gitenberg/threads/deGKp69fBuLeOC0txIpcsA9mMvl?filter=search&query=travis --> discussion about `travis setup releases`\n",
    "\n",
    "```\n",
    "(gb_metadata)hyptyposis-2014:Frankenstein_84 raymondyee$ travis setup releases --force\n",
    "Username: rdhyee\n",
    "Password for rdhyee: ************\n",
    "File to Upload: Frankenstein.epub\n",
    "Deploy only from rdhyee/Frankenstein_84? |yes| \n",
    "Encrypt API key? |yes| \n",
    "```\n",
    "\n",
    "Will this deletion be a problem?\n",
    "```\n",
    "skip_cleanup: true\n",
    "```"
   ]
  },
  {
   "cell_type": "markdown",
   "metadata": {},
   "source": [
    "might be able to use https://github.com/travis-ci/travis.rb#encrypt to do encryption\n",
    "\n",
    "https://github.com/travis-ci/travis-ci/issues/2457#issuecomment-47113151:\n",
    "\n",
    "\n",
    "* Go to settings->applications in the GitHub UI. Create a new token, removing every permission except repo.\n",
    "* Copy the private key and run `travis encrypt <key> --add deploy.api-key` with the travis command line tool, which will encrypt and add the key."
   ]
  },
  {
   "cell_type": "markdown",
   "metadata": {},
   "source": [
    "# Huckleberry Finn\n",
    "\n",
    "https://github.com/rdhyee/Adventures-of-Huckleberry-Finn_76\n",
    "\n",
    "* forked repo and cloning: `git clone git@github.com:rdhyee/Adventures-of-Huckleberry-Finn_76.git`\n",
    "* `cd ~/C/src/Adventures-of-Huckleberry-Finn_76`\n",
    "* `travis sync`\n",
    "* `travis enable`"
   ]
  },
  {
   "cell_type": "markdown",
   "metadata": {},
   "source": [
    "## gitenberg\n",
    "\n",
    "* I cloned  `gitenberg/Adventures-of-Huckleberry-Finn_76` to\n",
    "\n",
    "`/Users/raymondyee/C/src/gitenberg/Adventures-of-Huckleberry-Finn_76`\n"
   ]
  },
  {
   "cell_type": "code",
   "execution_count": null,
   "metadata": {
    "collapsed": true
   },
   "outputs": [],
   "source": [
    "template for .travis.yml"
   ]
  }
 ],
 "metadata": {
  "kernelspec": {
   "display_name": "Python 2",
   "language": "python",
   "name": "python2"
  },
  "language_info": {
   "codemirror_mode": {
    "name": "ipython",
    "version": 2
   },
   "file_extension": ".py",
   "mimetype": "text/x-python",
   "name": "python",
   "nbconvert_exporter": "python",
   "pygments_lexer": "ipython2",
   "version": "2.7.10"
  }
 },
 "nbformat": 4,
 "nbformat_minor": 0
}
