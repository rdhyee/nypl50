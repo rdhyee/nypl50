{
 "cells": [
  {
   "cell_type": "markdown",
   "metadata": {},
   "source": [
    "# Goals\n",
    "\n",
    "* compute books that have been marked GITenberg in the OPDS feed"
   ]
  },
  {
   "cell_type": "code",
   "execution_count": null,
   "metadata": {
    "collapsed": true
   },
   "outputs": [],
   "source": [
    "\n",
    "opds_gitenberg_url = \"https://unglue.it/api/opds/kw.GITenberg/\"\n"
   ]
  },
  {
   "cell_type": "code",
   "execution_count": null,
   "metadata": {
    "collapsed": false
   },
   "outputs": [],
   "source": [
    "doc = etree.parse(StringIO(requests.get(opds_gitenberg_url).content))"
   ]
  },
  {
   "cell_type": "code",
   "execution_count": null,
   "metadata": {
    "collapsed": false
   },
   "outputs": [],
   "source": [
    "doc.findall(\"{http://www.w3.org/2005/Atom}entry\")"
   ]
  },
  {
   "cell_type": "code",
   "execution_count": null,
   "metadata": {
    "collapsed": false
   },
   "outputs": [],
   "source": [
    "from StringIO import StringIO\n",
    "from lxml import etree\n",
    "\n",
    "import requests\n",
    "\n",
    "ATOM_NS = \"http://www.w3.org/2005/Atom\"\n",
    "\n",
    "def elements_for_feed(url, starting_page=0):\n",
    "    \n",
    "    page = starting_page\n",
    "    \n",
    "    while True:\n",
    "        page_url = url + \"?page={}\".format(page)\n",
    "        doc = etree.parse(StringIO(requests.get(page_url).content))\n",
    "        entries = doc.findall(\"{{{}}}entry\".format(ATOM_NS))\n",
    "        if entries:\n",
    "            for entry in entries:\n",
    "                yield entry\n",
    "        else:\n",
    "            break\n",
    "        page += 1\n",
    "            \n",
    "\n"
   ]
  },
  {
   "cell_type": "code",
   "execution_count": null,
   "metadata": {
    "collapsed": false
   },
   "outputs": [],
   "source": [
    "for (i, entry) in enumerate(elements_for_feed(opds_gitenberg_url)):\n",
    "    title = entry.find(\"{{{}}}{}\".format(ATOM_NS, 'title')).text\n",
    "    print (i, entry.find(\"{{{}}}{}\".format(ATOM_NS, 'title')).text)"
   ]
  },
  {
   "cell_type": "code",
   "execution_count": null,
   "metadata": {
    "collapsed": true
   },
   "outputs": [],
   "source": []
  }
 ],
 "metadata": {
  "anaconda-cloud": {},
  "kernelspec": {
   "display_name": "Python [default]",
   "language": "python",
   "name": "python2"
  },
  "language_info": {
   "codemirror_mode": {
    "name": "ipython",
    "version": 2
   },
   "file_extension": ".py",
   "mimetype": "text/x-python",
   "name": "python",
   "nbconvert_exporter": "python",
   "pygments_lexer": "ipython2",
   "version": "2.7.12"
  }
 },
 "nbformat": 4,
 "nbformat_minor": 0
}
