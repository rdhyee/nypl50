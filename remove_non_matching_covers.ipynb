{
 "cells": [
  {
   "cell_type": "code",
   "execution_count": 19,
   "metadata": {
    "collapsed": false
   },
   "outputs": [],
   "source": [
    "import os\n",
    "import shutil\n",
    "import sh\n",
    "from pandas import DataFrame, Series\n",
    "from itertools import islice\n",
    "\n",
    "import yaml\n",
    "\n",
    "REPOS_LIST = \"/Users/raymondyee/C/src/gitenberg/Second-Folio/list_of_repos.txt\"\n",
    "GITENBERG_DIR = \"/Users/raymondyee/C/src/gitenberg/\"\n",
    "\n",
    "repos=open(REPOS_LIST).read().strip().split(\"\\n\")\n",
    "\n",
    "for (i,repo) in enumerate(islice(repos,None)):\n",
    "    pg_id = repo.split(\"_\")[-1]\n",
    "    dest = os.path.join(GITENBERG_DIR, repo, \"metadata.yaml\")\n",
    "    \n",
    "    if os.path.exists(dest):\n",
    "        with open(dest, \"r+\") as yfile: \n",
    "            y = yaml.load(yfile)\n",
    "            covers = y.get('covers', [])\n",
    "            #print (i, dest, len(covers))\n",
    "            \n",
    "            # check for existence of covers\n",
    "            covers1 = []\n",
    "            for cover in covers:\n",
    "                cover_path = cover.get(\"image_path\")\n",
    "                if cover_path is not None:\n",
    "                    if os.path.exists(os.path.join(GITENBERG_DIR, repo, cover_path)):\n",
    "                        covers1.append(cover)\n",
    "            \n",
    "            if len(covers1) < len(covers):\n",
    "                print (i, dest, len(covers), len(covers1))\n",
    "                y['covers'] = covers1\n",
    "                yfile.seek(0)\n",
    "                yfile.write(yaml.safe_dump(y,default_flow_style=False,allow_unicode=True))\n",
    "                yfile.truncate()\n",
    "            \n"
   ]
  },
  {
   "cell_type": "markdown",
   "metadata": {},
   "source": [
    "fixes:\n",
    "\n",
    "(0, '/Users/raymondyee/C/src/gitenberg/Adventures-of-Huckleberry-Finn_76/metadata.yaml', 6, 1)\n",
    "(16, '/Users/raymondyee/C/src/gitenberg/Dracula_345/metadata.yaml', 2, 1)\n",
    "(18, '/Users/raymondyee/C/src/gitenberg/Household-Stories-by-the-Brothers-Grimm_19068/metadata.yaml', 2, 1)\n",
    "(38, '/Users/raymondyee/C/src/gitenberg/Les-Mis-rables_135/metadata.yaml', 2, 1)\n",
    "(40, '/Users/raymondyee/C/src/gitenberg/The-Count-of-Monte-Cristo_1184/metadata.yaml', 2, 1)"
   ]
  },
  {
   "cell_type": "code",
   "execution_count": 20,
   "metadata": {
    "collapsed": true
   },
   "outputs": [],
   "source": [
    "def git_cover_metadata(repo):\n",
    "    metadata_path = os.path.join(GITENBERG_DIR, repo, \"metadata.yaml\")\n",
    "    \n",
    "    try:\n",
    "        if os.path.exists(metadata_path):\n",
    "            sh.cd(os.path.join(GITENBERG_DIR, repo))\n",
    "            print (\"add\")\n",
    "            sh.git(\"add\", \"metadata.yaml\")\n",
    "            print (\"commit\")\n",
    "            try:\n",
    "                sh.git(\"commit\", \"-m\", \"remove covers from metadata.yaml with bad paths\")\n",
    "            except:\n",
    "                pass\n",
    "            print (\"push\")\n",
    "            sh.git.push()\n",
    "        else:\n",
    "            return None\n",
    "    except Exception as e:\n",
    "        return e"
   ]
  },
  {
   "cell_type": "code",
   "execution_count": 21,
   "metadata": {
    "collapsed": true
   },
   "outputs": [],
   "source": [
    "repos_fixed = ['Adventures-of-Huckleberry-Finn_76', 'Dracula_345/metadata.yaml',\n",
    "              'Household-Stories-by-the-Brothers-Grimm_19068', 'Les-Mis-rables_135', 'The-Count-of-Monte-Cristo_1184']"
   ]
  },
  {
   "cell_type": "code",
   "execution_count": 23,
   "metadata": {
    "collapsed": false
   },
   "outputs": [
    {
     "name": "stdout",
     "output_type": "stream",
     "text": [
      "(0, 'Adventures-of-Huckleberry-Finn_76')\n",
      "add\n",
      "commit\n",
      "push\n",
      "None\n",
      "(1, 'Dracula_345/metadata.yaml')\n",
      "None\n",
      "(2, 'Household-Stories-by-the-Brothers-Grimm_19068')\n",
      "add\n",
      "commit\n",
      "push\n",
      "None\n",
      "(3, 'Les-Mis-rables_135')\n",
      "add\n",
      "commit\n",
      "push\n",
      "None\n",
      "(4, 'The-Count-of-Monte-Cristo_1184')\n",
      "add\n",
      "commit\n",
      "push\n",
      "None\n"
     ]
    }
   ],
   "source": [
    "for (i,repo) in enumerate(islice(repos_fixed,None)):\n",
    "    print (i, repo)\n",
    "    print (git_cover_metadata(repo))\n"
   ]
  },
  {
   "cell_type": "code",
   "execution_count": null,
   "metadata": {
    "collapsed": true
   },
   "outputs": [],
   "source": []
  }
 ],
 "metadata": {
  "kernelspec": {
   "display_name": "Python 2",
   "language": "python",
   "name": "python2"
  },
  "language_info": {
   "codemirror_mode": {
    "name": "ipython",
    "version": 2
   },
   "file_extension": ".py",
   "mimetype": "text/x-python",
   "name": "python",
   "nbconvert_exporter": "python",
   "pygments_lexer": "ipython2",
   "version": "2.7.10"
  }
 },
 "nbformat": 4,
 "nbformat_minor": 0
}
