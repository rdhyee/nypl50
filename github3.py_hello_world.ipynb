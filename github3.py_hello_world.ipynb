{
 "cells": [
  {
   "cell_type": "markdown",
   "metadata": {},
   "source": [
    "# Goals\n",
    "\n"
   ]
  },
  {
   "cell_type": "markdown",
   "metadata": {},
   "source": [
    "# hello world of github3"
   ]
  },
  {
   "cell_type": "code",
   "execution_count": 1,
   "metadata": {
    "collapsed": false
   },
   "outputs": [
    {
     "name": "stdout",
     "output_type": "stream",
     "text": [
      "Raymond Yee (GITenberg)\n",
      "rdhyee-GITenberg\n",
      "8\n",
      "deejf\n",
      "ghardin\n",
      "brodieaustin\n",
      "julescarbon\n",
      "whitten\n",
      "novotelituk\n",
      "davidjbrossard\n",
      "marcellmars\n",
      "Kenneth Reitz\n",
      "kennethreitz\n",
      "8824\n"
     ]
    }
   ],
   "source": [
    "from github3 import (login, GitHub)\n",
    "from github_settings import (username, password, token)\n",
    "from itertools import islice\n",
    "\n",
    "#gh = login(username, password=password)\n",
    "gh = login(token=token)\n",
    "\n",
    "# set up an anonymous user to see what can be done without authn\n",
    "anon = GitHub()\n",
    "\n",
    "#user = gh.user('rdhyee-GITenberg')\n",
    "user = gh.user()\n",
    "# <User [sigmavirus24:Ian Cordasco]>\n",
    "\n",
    "print(user.name)\n",
    "# Ian Cordasco\n",
    "print(user.login)\n",
    "# sigmavirus24\n",
    "print(user.followers)\n",
    "# 4\n",
    "\n",
    "for f in gh.iter_followers():\n",
    "    print(str(f))\n",
    "\n",
    "kennethreitz = gh.user('kennethreitz')\n",
    "# <User [kennethreitz:Kenneth Reitz]>\n",
    "\n",
    "print(kennethreitz.name)\n",
    "print(kennethreitz.login)\n",
    "print(kennethreitz.followers)\n",
    "\n",
    "# let's grab just a subset of the followers\n",
    "followers = [str(f) for f in islice(gh.iter_followers('kennethreitz'), 100)]"
   ]
  },
  {
   "cell_type": "markdown",
   "metadata": {},
   "source": [
    "# creating and deleting a gist"
   ]
  },
  {
   "cell_type": "code",
   "execution_count": 2,
   "metadata": {
    "collapsed": false
   },
   "outputs": [
    {
     "name": "stdout",
     "output_type": "stream",
     "text": [
      "https://gist.github.com/539f0c0af3740b209053\n"
     ]
    }
   ],
   "source": [
    "# let's use a token instead\n",
    "# create a gist https://github3py.readthedocs.org/en/master/examples/gist.html#creating-a-gist-after-authenticating\n",
    "\n",
    "files = {\n",
    "    'spam.txt' : {\n",
    "        'content': 'What... is the air-speed velocity of an unladen swallow?'\n",
    "        }\n",
    "    }\n",
    "gist = gh.create_gist('Answer this to cross the bridge', files, public=False)\n",
    "# gist == <Gist [gist-id]>\n",
    "print(gist.html_url)\n"
   ]
  },
  {
   "cell_type": "code",
   "execution_count": 3,
   "metadata": {
    "collapsed": false
   },
   "outputs": [
    {
     "data": {
      "text/plain": [
       "True"
      ]
     },
     "execution_count": 3,
     "metadata": {},
     "output_type": "execute_result"
    }
   ],
   "source": [
    "# delete gist?\n",
    "\n",
    "gist.delete()"
   ]
  },
  {
   "cell_type": "markdown",
   "metadata": {},
   "source": [
    "# authorizations"
   ]
  },
  {
   "cell_type": "code",
   "execution_count": null,
   "metadata": {
    "collapsed": true
   },
   "outputs": [],
   "source": [
    "# need to login with username, password"
   ]
  },
  {
   "cell_type": "code",
   "execution_count": 44,
   "metadata": {
    "collapsed": false
   },
   "outputs": [
    {
     "name": "stdout",
     "output_type": "stream",
     "text": [
      "duplicate key description\n"
     ]
    }
   ],
   "source": [
    "gh = login(username, password)\n",
    "\n",
    "def authorization_description_already_exists(e):\n",
    "    \"\"\"\n",
    "    Given an exception e when trying to create a token, is the exception the result of a duplicate description\n",
    "    \"\"\"\n",
    "    if (e.code == 422 and \n",
    "        e.message == u'Validation Failed' and \n",
    "        (u'already_exists', u'description') in [(error['code'], error['field']) for error in e.errors]):\n",
    "        return True\n",
    "    else:\n",
    "        return False\n",
    "    \n",
    "try:\n",
    "    token = gh.authorize(username, password, scopes=('public_repo'), note='test token 2016.03.17')\n",
    "except Exception as e:\n",
    "    if authorization_description_already_exists(e):\n",
    "        print (\"duplicate key description\")\n",
    "    else:\n",
    "        raise e\n"
   ]
  },
  {
   "cell_type": "code",
   "execution_count": 22,
   "metadata": {
    "collapsed": true
   },
   "outputs": [],
   "source": [
    "gh.authorization?"
   ]
  },
  {
   "cell_type": "code",
   "execution_count": 23,
   "metadata": {
    "collapsed": false
   },
   "outputs": [
    {
     "name": "stdout",
     "output_type": "stream",
     "text": [
      "(19521699, u'for Project GITenberg')\n",
      "(20426594, u'automatic releases for GITenberg/Adventures-of-Huckleberry-Finn_76')\n",
      "(21004405, u'automatic releases for GITenberg/Don-Quixote_996')\n",
      "(21006951, u'automatic releases for GITenberg/Dubliners_2814')\n",
      "(21008241, u'automatic releases for GITenberg/Moby-Dick--Or-The-Whale_2701')\n",
      "(21008348, u'automatic releases for GITenberg/Pride-and-Prejudice_1342')\n",
      "(21035224, u'automatic releases for GITenberg/The-Adventures-of-Sherlock-Holmes_1661')\n",
      "(21035544, u'automatic releases for GITenberg/The-Brothers-Karamazov_28054')\n",
      "(21035701, u'automatic releases for GITenberg/The-Time-Machine_35')\n",
      "(21035773, u'automatic releases for GITenberg/Frankenstein_84')\n",
      "(21035786, u'automatic releases for GITenberg/Middlemarch_145')\n",
      "(21035868, u'automatic releases for GITenberg/The-Call-of-the-Wild_215')\n",
      "(21035904, u'automatic releases for GITenberg/The-Strange-Case-of-Dr.-Jekyll-and-Mr.-Hyde_42')\n",
      "(21036020, u'automatic releases for GITenberg/A-Tale-of-Two-Cities_98')\n",
      "(21036211, u'automatic releases for GITenberg/Crime-and-Punishment_2554')\n",
      "(21036323, u'automatic releases for GITenberg/Dracula_345')\n",
      "(21036340, u'automatic releases for GITenberg/Flatland--A-Romance-of-Many-Dimensions--Illustrated-_201')\n",
      "(21036378, u'automatic releases for GITenberg/Household-Stories-by-the-Brothers-Grimm_19068')\n",
      "(21036391, u'automatic releases for GITenberg/Heart-of-Darkness_219')\n",
      "(21036410, u'automatic releases for GITenberg/A-Journey-into-the-Interior-of-the-Earth_3748')\n",
      "(21036428, u'automatic releases for GITenberg/Jude-the-Obscure_153')\n",
      "(21037542, u'automatic releases for GITenberg/King-Solomon-s-Mines_2166')\n",
      "(21037558, u'automatic releases for GITenberg/Little-Women_514')\n",
      "(21037574, u'automatic releases for GITenberg/Madame-Bovary_2413')\n",
      "(21037592, u'automatic releases for GITenberg/The-Life-and-Adventures-of-Robinson-Crusoe_521')\n",
      "(21037664, u'automatic releases for GITenberg/The-Jungle-Book_236')\n",
      "(21037692, u'automatic releases for GITenberg/The-Red-Badge-of-Courage_73')\n",
      "(21037703, u'automatic releases for GITenberg/The-Scarlet-Letter_33')\n",
      "(21037830, u'automatic releases for GITenberg/The-War-of-the-Worlds_36')\n",
      "(21037854, u'automatic releases for GITenberg/The-Wonderful-Wizard-of-Oz_55')\n",
      "(21037867, u'automatic releases for GITenberg/This-Side-of-Paradise_805')\n",
      "(21037940, u'automatic releases for GITenberg/Metamorphosis_5200')\n",
      "(21038253, u'automatic releases for GITenberg/Anna-Karenina_1399')\n",
      "(21038278, u'automatic releases for GITenberg/Gulliver-s-Travels_829')\n",
      "(21038298, u'automatic releases for GITenberg/Les-Mis-rables_135')\n",
      "(21038315, u'automatic releases for GITenberg/Swann-s-Way_7178')\n",
      "(21038441, u'automatic releases for GITenberg/The-Count-of-Monte-Cristo_1184')\n",
      "(21038459, u'automatic releases for GITenberg/The-Three-Musketeers_1257')\n",
      "(21038482, u'automatic releases for GITenberg/Through-the-Looking-Glass_12')\n",
      "(21038495, u'automatic releases for GITenberg/Twenty-Thousand-Leagues-under-the-Sea_164')\n",
      "(21038528, u'automatic releases for GITenberg/War-and-Peace_2600')\n",
      "(21038541, u'automatic releases for GITenberg/Winesburg-Ohio--A-Group-of-Tales-of-Ohio-Small-Town-Life_416')\n",
      "(21038566, u'automatic releases for GITenberg/My-Antonia_242')\n",
      "(21048772, u'automatic releases for GITenberg/Jane-Eyre_1260')\n",
      "(21049887, u'automatic releases for GITenberg/Narrative-of-the-Life-of-Frederick-Douglass-an-American-Slave_23')\n",
      "(21050097, u'automatic releases for GITenberg/The-Jungle_140')\n",
      "(22164821, u'automatic releases for GITenberg/The-Awakening-and-Selected-Short-Stories_160')\n",
      "(26999698, u'automatic releases for GITenberg/Divine-Comedy-Longfellow-s-Translation-Hell_1001')\n",
      "(27837347, u'github3.py hello world')\n",
      "(29095503, u'automatic releases for GITenberg/Notre-Dame-De-Paris_2610')\n",
      "(29158296, u'automatic releases for GITenberg/Alice-s-Adventures-in-Wonderland-HTML-Edition_928')\n",
      "(29251921, u'automatic releases for GITenberg/Bleak-House_1023')\n",
      "(29501323, u'test token 2016.03.17')\n",
      "(20409611, u'Travis CI')\n",
      "(27837641, u'Gist')\n"
     ]
    }
   ],
   "source": [
    "for auth in gh.iter_authorizations():\n",
    "    print (auth.id, auth.name)"
   ]
  },
  {
   "cell_type": "markdown",
   "metadata": {},
   "source": [
    "# releases\n",
    "\n",
    "Goal: can we read off list of files from a given release\n",
    "\n",
    "Example:  https://github.com/GITenberg/Adventures-of-Huckleberry-Finn_76/releases/tag/0.0.50\n",
    "\n",
    "Since we're currently using [github3.py/repo.py at 0.9.3](https://github.com/sigmavirus24/github3.py/blob/0.9.3/github3/repos/repo.py#L1712-L1722), which doesn't have `Repository.release_from_tag` , we borrow [Repository.release_from_tag in v 1.0.0a4](https://github.com/sigmavirus24/github3.py/blob/1.0.0a4/github3/repos/repo.py#L1781-L1793)"
   ]
  },
  {
   "cell_type": "code",
   "execution_count": null,
   "metadata": {
    "collapsed": false
   },
   "outputs": [],
   "source": [
    "# adapted from \n",
    "# https://github.com/sigmavirus24/github3.py/blob/38de787e465bffc63da73d23dc51f50d86dc903d/github3/repos/repo.py#L1781-L1793\n",
    "\n",
    "from github3.repos.release import Release\n",
    "\n",
    "def release_from_tag(repo, tag_name):\n",
    "    \"\"\"Get a release by tag name.\n",
    "    release_from_tag() returns a release with specified tag\n",
    "    while release() returns a release with specified release id\n",
    "    :param str tag_name: (required) name of tag\n",
    "    :returns: :class:`Release <github3.repos.release.Release>`\n",
    "    \"\"\"\n",
    "    url = repo._build_url('releases', 'tags', tag_name,\n",
    "                          base_url=repo._api)\n",
    "    json = repo._json(repo._get(url), 200)\n",
    "    return Release(json, repo) if json else None\n",
    "\n"
   ]
  },
  {
   "cell_type": "code",
   "execution_count": null,
   "metadata": {
    "collapsed": false
   },
   "outputs": [],
   "source": [
    "from itertools import islice\n",
    "\n",
    "# instantiate repo\n",
    "\n",
    "(repo_owner, repo_name) = ('GITenberg', 'Adventures-of-Huckleberry-Finn_76')\n",
    "\n",
    "repo = gh.repository(repo_owner, repo_name)\n",
    "repo_anon = anon.repository(repo_owner, repo_name)\n",
    "\n",
    "# can use either authenticated repo, or anonymous access repo_anon\n",
    "# loop through releases\n",
    "\n",
    "for (i, release) in enumerate(islice(repo_anon.iter_releases(),3)):\n",
    "    print (i, release.id, release.tag_name)\n",
    "    \n",
    "print \"\\n\"\n",
    "\n",
    "for (i, release) in enumerate(islice(repo.iter_releases(),3)):\n",
    "    print (i, release.id, release.tag_name)"
   ]
  },
  {
   "cell_type": "code",
   "execution_count": null,
   "metadata": {
    "collapsed": false
   },
   "outputs": [],
   "source": [
    "release = release_from_tag(repo, '0.0.50')\n",
    "(release.id, release.tag_name)\n",
    "\n",
    "for asset in release.iter_assets():\n",
    "    # pick out some of the attributes of Asset\n",
    "    # https://github.com/sigmavirus24/github3.py/blob/0.9.3/github3/repos/release.py#L145-L164\n",
    "    \n",
    "    print (asset.id, asset.name, asset.content_type, asset.download_url, asset.download_count)"
   ]
  },
  {
   "cell_type": "markdown",
   "metadata": {},
   "source": [
    "## consolidating code for releases"
   ]
  },
  {
   "cell_type": "code",
   "execution_count": null,
   "metadata": {
    "collapsed": false
   },
   "outputs": [],
   "source": [
    "# a function which given a repo and tag, returns which of epub, pdf, mobi are available\n",
    "\n",
    "from github3 import (login, GitHub)\n",
    "from github3.repos.release import Release\n",
    "\n",
    "# a token can generated at https://github.com/settings/tokens -- no private access needed\n",
    "from github_settings import GITHUB_PUBLIC_TOKEN\n",
    "\n",
    "# release_from_tag adapted from \n",
    "# https://github.com/sigmavirus24/github3.py/blob/38de787e465bffc63da73d23dc51f50d86dc903d/github3/repos/repo.py#L1781-L1793\n",
    "\n",
    "def release_from_tag(repo, tag_name):\n",
    "    \"\"\"Get a release by tag name.\n",
    "    release_from_tag() returns a release with specified tag\n",
    "    while release() returns a release with specified release id\n",
    "    :param str tag_name: (required) name of tag\n",
    "    :returns: :class:`Release <github3.repos.release.Release>`\n",
    "    \"\"\"\n",
    "    url = repo._build_url('releases', 'tags', tag_name,\n",
    "                          base_url=repo._api)\n",
    "    json = repo._json(repo._get(url), 200)\n",
    "    return Release(json, repo) if json else None\n",
    "\n",
    "\n",
    "def ebooks_in_github_release(repo_owner, repo_name, tag, token=None):\n",
    "    \"\"\"\n",
    "    returns a list of (book_type, book_name) for a given GitHub release (specified by \n",
    "    owner, name, tag).  token is a GitHub authorization token -- useful for accessing\n",
    "    higher rate limit in the GitHub API\n",
    "    \"\"\"\n",
    "    \n",
    "    # epub, mobi, pdf, html, text\n",
    "    # map mimetype to file extension\n",
    "    EBOOK_FORMATS = {'application/epub+zip':'epub',\n",
    "                 'application/x-mobipocket-ebook': 'mobi',\n",
    "                 'application/pdf': 'pdf',\n",
    "                 'text/plain': 'text',\n",
    "                 'text/html':'html'}\n",
    "    \n",
    "    if token is not None:\n",
    "        gh = login(token=token)\n",
    "    else:\n",
    "        # anonymous access\n",
    "        gh = GitHub()\n",
    "        \n",
    "    repo = gh.repository(repo_owner, repo_name)\n",
    "    release = release_from_tag(repo, tag)\n",
    "    \n",
    "    return [(EBOOK_FORMATS.get(asset.content_type), asset.name) \n",
    "            for asset in release.iter_assets() \n",
    "            if EBOOK_FORMATS.get(asset.content_type) is not None]\n",
    " \n",
    "\n",
    "# test out ebooks_in_github_release\n",
    "(repo_owner, repo_name) = ('GITenberg', 'Adventures-of-Huckleberry-Finn_76')\n",
    "ebooks_in_github_release(repo_owner, repo_name, '0.0.50', token=GITHUB_PUBLIC_TOKEN) "
   ]
  },
  {
   "cell_type": "code",
   "execution_count": null,
   "metadata": {
    "collapsed": false
   },
   "outputs": [],
   "source": [
    "# https://github.com/GITenberg/Adventures-of-Huckleberry-Finn_76/raw/master/metadata.yaml\n",
    "\n",
    "from urlparse import urlparse\n",
    "\n",
    "url = \"https://github.com/GITenberg/Adventures-of-Huckleberry-Finn_76/raw/master/metadata.yaml\"\n",
    "url_path = urlparse(url).path.split(\"/\")\n",
    "(repo_owner, repo_name) = (url_path[1], url_path[2])\n",
    "(repo_owner, repo_name) "
   ]
  },
  {
   "cell_type": "markdown",
   "metadata": {},
   "source": [
    "# looking for .asciidoc files in a given repo"
   ]
  },
  {
   "cell_type": "code",
   "execution_count": null,
   "metadata": {
    "collapsed": false
   },
   "outputs": [],
   "source": [
    "master_branch = repo.branch('master')\n",
    "master_branch.commit.sha\n",
    "\n",
    "master_tree = repo.tree(master_branch.commit.sha)\n",
    "for hash_ in master_tree.tree:\n",
    "    print (hash_.path, hash_.type)"
   ]
  },
  {
   "cell_type": "code",
   "execution_count": null,
   "metadata": {
    "collapsed": false
   },
   "outputs": [],
   "source": [
    "def asciidoc_in_repo_root(repo, branch ='master'):\n",
    "    \"\"\"return list of asciidocs in the root of repo\"\"\"\n",
    "    repo_branch = repo.branch(branch)\n",
    "    tree = repo.tree(repo_branch.commit.sha)\n",
    "    return [hash_.path \n",
    "            for hash_ in tree.tree\n",
    "            if hash_.path.endswith('.asciidoc')]\n",
    "\n",
    "\n",
    "asciidoc_in_repo_root(repo)    "
   ]
  },
  {
   "cell_type": "markdown",
   "metadata": {},
   "source": [
    "# create a repos\n",
    "\n",
    "[GitHub Examples — github3.py 0.9.3 documentation](http://github3py.readthedocs.org/en/master/examples/github.html#creating-a-new-repository)\n",
    "\n",
    "and code: [github3.py/github.py at 0.9.3 · sigmavirus24/github3.py](https://github.com/sigmavirus24/github3.py/blob/0.9.3/github3/github.py#L222-L259)"
   ]
  },
  {
   "cell_type": "code",
   "execution_count": null,
   "metadata": {
    "collapsed": false
   },
   "outputs": [],
   "source": [
    "try:\n",
    "    repo_data = {\n",
    "    'name': 'TEST REPO',\n",
    "    'description': 'can I create a repo using github3.py?',\n",
    "    'homepage': '',\n",
    "    'private': False,\n",
    "    'has_issues': True,\n",
    "    'has_wiki': True\n",
    "    }\n",
    "\n",
    "    if repo_data.get('name'):\n",
    "        r = gh.create_repo(repo_data.pop('name'), **repo_data)\n",
    "\n",
    "    if r:\n",
    "        print(\"Created {0} successfully.\".format(r.name))\n",
    "        \n",
    "except Exception as e:\n",
    "    \n",
    "    print (e)"
   ]
  },
  {
   "cell_type": "markdown",
   "metadata": {},
   "source": [
    "Now that I have an empty repo, how to do the equivalent of the following?\n",
    "\n",
    "```\n",
    "echo \"# TEST-REPO\" >> README.md\n",
    "git init\n",
    "git add README.md\n",
    "git commit -m \"first commit\"\n",
    "git remote add origin https://github.com/rdhyee-GITenberg/TEST-REPO.git\n",
    "git push -u origin master\n",
    "```"
   ]
  },
  {
   "cell_type": "code",
   "execution_count": null,
   "metadata": {
    "collapsed": false
   },
   "outputs": [],
   "source": [
    "# once we have a repo, we can instantiate it\n",
    "repo = gh.repository('rdhyee-GITenberg', 'TEST-REPO')\n",
    "repo"
   ]
  },
  {
   "cell_type": "markdown",
   "metadata": {
    "collapsed": true
   },
   "source": [
    "# challenges of using the GitHub API to do many things / simplification  \n",
    "\n",
    "[python - How to create a commit and push into repo with GitHub API v3? - Stack Overflow](https://stackoverflow.com/questions/11801983/how-to-create-a-commit-and-push-into-repo-with-github-api-v3)\n",
    "\n",
    "But there is a File CRUD API: [repo.create_file() in github3.py/repo.py at 0.9.3](https://github.com/sigmavirus24/github3.py/blob/0.9.3/github3/repos/repo.py#L538-L576)"
   ]
  },
  {
   "cell_type": "code",
   "execution_count": null,
   "metadata": {
    "collapsed": false
   },
   "outputs": [],
   "source": [
    "# now have r -- a repo\n",
    "\n",
    "# let's read off key parameters\n",
    "# latest commit\n",
    "\n",
    "# borrow code from https://github.com/sigmavirus24/github3.py/blob/d3552f77778c5f570cdd7efa5c80c0b88b8d9ad7/tests/integration/test_repos_repo.py#L239\n",
    "\n",
    "data = {\n",
    "    'path': 'README.md',\n",
    "    'message': 'first pass',\n",
    "    'content': b'Hello world',\n",
    "    'branch': 'master'\n",
    "}\n",
    "\n",
    "created_file = repo.create_file(**data)\n",
    "created_file"
   ]
  },
  {
   "cell_type": "code",
   "execution_count": null,
   "metadata": {
    "collapsed": false
   },
   "outputs": [],
   "source": [
    "# create a tag?\n",
    "\n",
    "import arrow\n",
    "\n",
    "commit = created_file['commit']\n",
    "commit.sha\n",
    "\n",
    "user = gh.user()\n",
    "\n",
    "tag_data =  {\n",
    "    'tag': '0.0.1',\n",
    "    'message': 'tag 0.0.1',\n",
    "    'sha': commit.sha,\n",
    "    'obj_type': 'commit',\n",
    "    'tagger': {\n",
    "        'name': user.name,\n",
    "        'email': user.email,\n",
    "        'date': arrow.utcnow().isoformat()\n",
    "    },\n",
    "    'lightweight': False\n",
    "}\n",
    "\n",
    "tag = repo.create_tag(**tag_data)\n",
    "tag  "
   ]
  },
  {
   "cell_type": "code",
   "execution_count": null,
   "metadata": {
    "collapsed": false
   },
   "outputs": [],
   "source": [
    "# get list of current tags\n",
    "\n",
    "list(repo.iter_tags())"
   ]
  },
  {
   "cell_type": "code",
   "execution_count": null,
   "metadata": {
    "collapsed": false
   },
   "outputs": [],
   "source": [
    "# directory_contents (in v 1+)\n",
    "# [github3.py/test_repos_repo.py at d3552f77778c5f570cdd7efa5c80c0b88b8d9ad7 · sigmavirus24/github3.py](https://github.com/sigmavirus24/github3.py/blob/d3552f77778c5f570cdd7efa5c80c0b88b8d9ad7/tests/integration/test_repos_repo.py#L475-L486)\n",
    "\n",
    "# \n",
    "repo.contents(\"\")"
   ]
  },
  {
   "cell_type": "code",
   "execution_count": null,
   "metadata": {
    "collapsed": true
   },
   "outputs": [],
   "source": [
    "# grab content\n",
    "content = repo.contents(\"README.md\", ref='master')"
   ]
  },
  {
   "cell_type": "code",
   "execution_count": null,
   "metadata": {
    "collapsed": false
   },
   "outputs": [],
   "source": [
    "new_content = content.decoded.decode('utf-8') + u\"\\n\" + u\"line 2\"\n",
    "\n",
    "data = {\n",
    "    'message': 'second pass',\n",
    "    'content': new_content.encode('utf-8'),\n",
    "}\n",
    "\n",
    "commit = content.update(**data)\n",
    "commit"
   ]
  },
  {
   "cell_type": "code",
   "execution_count": null,
   "metadata": {
    "collapsed": false
   },
   "outputs": [],
   "source": [
    "# tag again\n",
    "\n",
    "tag_data =  {\n",
    "    'tag': '0.0.2',\n",
    "    'message': 'tag 0.0.2',\n",
    "    'sha': commit.sha,\n",
    "    'obj_type': 'commit',\n",
    "    'tagger': {\n",
    "        'name': user.name,\n",
    "        'email': user.email,\n",
    "        'date': arrow.utcnow().isoformat()\n",
    "    },\n",
    "    'lightweight': False\n",
    "}\n",
    "\n",
    "tag = repo.create_tag(**tag_data)\n",
    "tag"
   ]
  },
  {
   "cell_type": "code",
   "execution_count": null,
   "metadata": {
    "collapsed": true
   },
   "outputs": [],
   "source": []
  }
 ],
 "metadata": {
  "kernelspec": {
   "display_name": "Python 2",
   "language": "python",
   "name": "python2"
  },
  "language_info": {
   "codemirror_mode": {
    "name": "ipython",
    "version": 2
   },
   "file_extension": ".py",
   "mimetype": "text/x-python",
   "name": "python",
   "nbconvert_exporter": "python",
   "pygments_lexer": "ipython2",
   "version": "2.7.11"
  }
 },
 "nbformat": 4,
 "nbformat_minor": 0
}
