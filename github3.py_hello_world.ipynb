{
 "cells": [
  {
   "cell_type": "code",
   "execution_count": null,
   "metadata": {
    "collapsed": false
   },
   "outputs": [],
   "source": [
    "from github3 import login\n",
    "from github_settings import (username, password, token)\n",
    "\n",
    "#gh = login(username, password=password)\n",
    "gh = login(token=token)\n",
    "\n",
    "#user = gh.user('rdhyee-GITenberg')\n",
    "user = gh.user()\n",
    "# <User [sigmavirus24:Ian Cordasco]>\n",
    "\n",
    "print(user.name)\n",
    "# Ian Cordasco\n",
    "print(user.login)\n",
    "# sigmavirus24\n",
    "print(user.followers)\n",
    "# 4\n",
    "\n",
    "for f in gh.iter_followers():\n",
    "    print(str(f))\n",
    "\n",
    "kennethreitz = gh.user('kennethreitz')\n",
    "# <User [kennethreitz:Kenneth Reitz]>\n",
    "\n",
    "print(kennethreitz.name)\n",
    "print(kennethreitz.login)\n",
    "print(kennethreitz.followers)\n",
    "\n",
    "followers = [str(f) for f in gh.iter_followers('kennethreitz')]"
   ]
  },
  {
   "cell_type": "code",
   "execution_count": null,
   "metadata": {
    "collapsed": false
   },
   "outputs": [],
   "source": [
    "# let's use a token instead\n",
    "# create a gist https://github3py.readthedocs.org/en/master/examples/gist.html#creating-a-gist-after-authenticating\n",
    "\n",
    "files = {\n",
    "    'spam.txt' : {\n",
    "        'content': 'What... is the air-speed velocity of an unladen swallow?'\n",
    "        }\n",
    "    }\n",
    "gist = gh.create_gist('Answer this to cross the bridge', files, public=False)\n",
    "# gist == <Gist [gist-id]>\n",
    "print(gist.html_url)\n"
   ]
  },
  {
   "cell_type": "code",
   "execution_count": null,
   "metadata": {
    "collapsed": false
   },
   "outputs": [],
   "source": [
    "# delete gist?\n",
    "\n",
    "gist.delete()"
   ]
  },
  {
   "cell_type": "markdown",
   "metadata": {},
   "source": [
    "# Learning how to create repos and commits\n",
    "\n",
    "[GitHub Examples — github3.py 0.9.3 documentation](http://github3py.readthedocs.org/en/master/examples/github.html#creating-a-new-repository)\n",
    "\n",
    "and code: [github3.py/github.py at 0.9.3 · sigmavirus24/github3.py](https://github.com/sigmavirus24/github3.py/blob/0.9.3/github3/github.py#L222-L259)"
   ]
  },
  {
   "cell_type": "code",
   "execution_count": null,
   "metadata": {
    "collapsed": false
   },
   "outputs": [],
   "source": [
    "repo = {\n",
    "'name': 'TEST REPO',\n",
    "'description': 'can I create a repo using github3.py?',\n",
    "'homepage': '',\n",
    "'private': False,\n",
    "'has_issues': True,\n",
    "'has_wiki': True\n",
    "}\n",
    "\n",
    "if repo.get('name'):\n",
    "    r = gh.create_repo(repo.pop('name'), **repo)\n",
    "\n",
    "if r:\n",
    "    print(\"Created {0} successfully.\".format(r.name))"
   ]
  },
  {
   "cell_type": "markdown",
   "metadata": {},
   "source": [
    "Now that I have an empty repo, how to do the equivalent of the following?\n",
    "\n",
    "```\n",
    "echo \"# TEST-REPO\" >> README.md\n",
    "git init\n",
    "git add README.md\n",
    "git commit -m \"first commit\"\n",
    "git remote add origin https://github.com/rdhyee-GITenberg/TEST-REPO.git\n",
    "git push -u origin master\n",
    "```"
   ]
  },
  {
   "cell_type": "code",
   "execution_count": null,
   "metadata": {
    "collapsed": false
   },
   "outputs": [],
   "source": [
    "# how to create repo\n",
    "repo = gh.repository('rdhyee-GITenberg', 'TEST-REPO')\n",
    "repo"
   ]
  },
  {
   "cell_type": "markdown",
   "metadata": {
    "collapsed": true
   },
   "source": [
    "# challenges of using the GitHub API to do many things / simplification  \n",
    "\n",
    "[python - How to create a commit and push into repo with GitHub API v3? - Stack Overflow](https://stackoverflow.com/questions/11801983/how-to-create-a-commit-and-push-into-repo-with-github-api-v3)\n",
    "\n",
    "But there is a File CRUD API: [repo.create_file() in github3.py/repo.py at 0.9.3](https://github.com/sigmavirus24/github3.py/blob/0.9.3/github3/repos/repo.py#L538-L576)"
   ]
  },
  {
   "cell_type": "code",
   "execution_count": null,
   "metadata": {
    "collapsed": false
   },
   "outputs": [],
   "source": [
    "# now have r -- a repo\n",
    "\n",
    "# let's read off key parameters\n",
    "# latest commit\n",
    "\n",
    "# borrow code from https://github.com/sigmavirus24/github3.py/blob/d3552f77778c5f570cdd7efa5c80c0b88b8d9ad7/tests/integration/test_repos_repo.py#L239\n",
    "\n",
    "data = {\n",
    "    'path': 'README.md',\n",
    "    'message': 'first pass',\n",
    "    'content': b'Hello world',\n",
    "    'branch': 'master'\n",
    "}\n",
    "\n",
    "created_file = repo.create_file(**data)\n",
    "created_file"
   ]
  },
  {
   "cell_type": "code",
   "execution_count": null,
   "metadata": {
    "collapsed": false
   },
   "outputs": [],
   "source": [
    "arrow.utcnow().isoformat()\n"
   ]
  },
  {
   "cell_type": "code",
   "execution_count": null,
   "metadata": {
    "collapsed": false
   },
   "outputs": [],
   "source": [
    "# create a tag?\n",
    "\n",
    "import arrow\n",
    "\n",
    "commit = created_file['commit']\n",
    "commit.sha\n",
    "\n",
    "user = gh.user()\n",
    "\n",
    "tag_data =  {\n",
    "    'tag': '0.0.1',\n",
    "    'message': 'tag 0.0.1',\n",
    "    'sha': commit.sha,\n",
    "    'obj_type': 'commit',\n",
    "    'tagger': {\n",
    "        'name': user.name,\n",
    "        'email': user.email,\n",
    "        'date': arrow.utcnow().isoformat()\n",
    "    },\n",
    "    'lightweight': False\n",
    "}\n",
    "\n",
    "tag = repo.create_tag(**tag_data)\n",
    "tag  "
   ]
  },
  {
   "cell_type": "code",
   "execution_count": null,
   "metadata": {
    "collapsed": false
   },
   "outputs": [],
   "source": [
    "# get list of current tags\n",
    "\n",
    "list(repo.iter_tags())"
   ]
  },
  {
   "cell_type": "code",
   "execution_count": null,
   "metadata": {
    "collapsed": false
   },
   "outputs": [],
   "source": [
    "# directory_contents (in v 1+)\n",
    "# [github3.py/test_repos_repo.py at d3552f77778c5f570cdd7efa5c80c0b88b8d9ad7 · sigmavirus24/github3.py](https://github.com/sigmavirus24/github3.py/blob/d3552f77778c5f570cdd7efa5c80c0b88b8d9ad7/tests/integration/test_repos_repo.py#L475-L486)\n",
    "\n",
    "# \n",
    "repo.contents(\"\")"
   ]
  },
  {
   "cell_type": "code",
   "execution_count": null,
   "metadata": {
    "collapsed": false
   },
   "outputs": [],
   "source": [
    "repo.upd"
   ]
  },
  {
   "cell_type": "code",
   "execution_count": null,
   "metadata": {
    "collapsed": true
   },
   "outputs": [],
   "source": [
    "# grab content\n",
    "content = repo.contents(\"README.md\", ref='master')"
   ]
  },
  {
   "cell_type": "code",
   "execution_count": null,
   "metadata": {
    "collapsed": false
   },
   "outputs": [],
   "source": []
  },
  {
   "cell_type": "code",
   "execution_count": null,
   "metadata": {
    "collapsed": false
   },
   "outputs": [],
   "source": [
    "new_content = content.decoded.decode('utf-8') + u\"\\n\" + u\"line 2\"\n",
    "\n",
    "data = {\n",
    "    'message': 'second pass',\n",
    "    'content': new_content.encode('utf-8'),\n",
    "}\n",
    "\n",
    "commit = content.update(**data)\n",
    "commit"
   ]
  },
  {
   "cell_type": "code",
   "execution_count": null,
   "metadata": {
    "collapsed": false
   },
   "outputs": [],
   "source": [
    "# tag again\n",
    "\n",
    "tag_data =  {\n",
    "    'tag': '0.0.2',\n",
    "    'message': 'tag 0.0.2',\n",
    "    'sha': commit.sha,\n",
    "    'obj_type': 'commit',\n",
    "    'tagger': {\n",
    "        'name': user.name,\n",
    "        'email': user.email,\n",
    "        'date': arrow.utcnow().isoformat()\n",
    "    },\n",
    "    'lightweight': False\n",
    "}\n",
    "\n",
    "tag = repo.create_tag(**tag_data)\n",
    "tag"
   ]
  },
  {
   "cell_type": "code",
   "execution_count": null,
   "metadata": {
    "collapsed": true
   },
   "outputs": [],
   "source": [
    "# delete file"
   ]
  },
  {
   "cell_type": "code",
   "execution_count": null,
   "metadata": {
    "collapsed": true
   },
   "outputs": [],
   "source": []
  }
 ],
 "metadata": {
  "kernelspec": {
   "display_name": "Python 2",
   "language": "python",
   "name": "python2"
  },
  "language_info": {
   "codemirror_mode": {
    "name": "ipython",
    "version": 2
   },
   "file_extension": ".py",
   "mimetype": "text/x-python",
   "name": "python",
   "nbconvert_exporter": "python",
   "pygments_lexer": "ipython2",
   "version": "2.7.11"
  }
 },
 "nbformat": 4,
 "nbformat_minor": 0
}
