{
 "cells": [
  {
   "cell_type": "markdown",
   "metadata": {},
   "source": [
    "# Goals\n",
    "\n"
   ]
  },
  {
   "cell_type": "markdown",
   "metadata": {},
   "source": [
    "# hello world of github3"
   ]
  },
  {
   "cell_type": "code",
   "execution_count": null,
   "metadata": {
    "collapsed": false
   },
   "outputs": [],
   "source": [
    "from github3 import (login, GitHub)\n",
    "from github_settings import (username, password, token)\n",
    "from itertools import islice\n",
    "\n",
    "#gh = login(username, password=password)\n",
    "gh = login(token=token)\n",
    "\n",
    "# set up an anonymous user to see what can be done without authn\n",
    "anon = GitHub()\n",
    "\n",
    "#user = gh.user('rdhyee-GITenberg')\n",
    "user = gh.user()\n",
    "# <User [sigmavirus24:Ian Cordasco]>\n",
    "\n",
    "print(user.name)\n",
    "# Ian Cordasco\n",
    "print(user.login)\n",
    "# sigmavirus24\n",
    "print(user.followers)\n",
    "# 4\n",
    "\n",
    "for f in gh.iter_followers():\n",
    "    print(str(f))\n",
    "\n",
    "kennethreitz = gh.user('kennethreitz')\n",
    "# <User [kennethreitz:Kenneth Reitz]>\n",
    "\n",
    "print(kennethreitz.name)\n",
    "print(kennethreitz.login)\n",
    "print(kennethreitz.followers)\n",
    "\n",
    "# let's grab just a subset of the followers\n",
    "followers = [str(f) for f in islice(gh.iter_followers('kennethreitz'), 100)]"
   ]
  },
  {
   "cell_type": "markdown",
   "metadata": {},
   "source": [
    "# creating and deleting a gist"
   ]
  },
  {
   "cell_type": "code",
   "execution_count": null,
   "metadata": {
    "collapsed": false
   },
   "outputs": [],
   "source": [
    "# let's use a token instead\n",
    "# create a gist https://github3py.readthedocs.org/en/master/examples/gist.html#creating-a-gist-after-authenticating\n",
    "\n",
    "files = {\n",
    "    'spam.txt' : {\n",
    "        'content': 'What... is the air-speed velocity of an unladen swallow?'\n",
    "        }\n",
    "    }\n",
    "gist = gh.create_gist('Answer this to cross the bridge', files, public=False)\n",
    "# gist == <Gist [gist-id]>\n",
    "print(gist.html_url)\n"
   ]
  },
  {
   "cell_type": "code",
   "execution_count": null,
   "metadata": {
    "collapsed": false
   },
   "outputs": [],
   "source": [
    "# delete gist?\n",
    "\n",
    "gist.delete()"
   ]
  },
  {
   "cell_type": "markdown",
   "metadata": {},
   "source": [
    "# releases\n",
    "\n",
    "Goal: can we read off list of files from a given release\n",
    "\n",
    "Example:  https://github.com/GITenberg/Adventures-of-Huckleberry-Finn_76/releases/tag/0.0.50\n",
    "\n",
    "Since we're currently using [github3.py/repo.py at 0.9.3](https://github.com/sigmavirus24/github3.py/blob/0.9.3/github3/repos/repo.py#L1712-L1722), which doesn't have `Repository.release_from_tag` , we borrow [Repository.release_from_tag in v 1.0.0a4](https://github.com/sigmavirus24/github3.py/blob/1.0.0a4/github3/repos/repo.py#L1781-L1793)"
   ]
  },
  {
   "cell_type": "code",
   "execution_count": null,
   "metadata": {
    "collapsed": false
   },
   "outputs": [],
   "source": [
    "# adapted from \n",
    "# https://github.com/sigmavirus24/github3.py/blob/38de787e465bffc63da73d23dc51f50d86dc903d/github3/repos/repo.py#L1781-L1793\n",
    "\n",
    "from github3.repos.release import Release\n",
    "\n",
    "def release_from_tag(repo, tag_name):\n",
    "    \"\"\"Get a release by tag name.\n",
    "    release_from_tag() returns a release with specified tag\n",
    "    while release() returns a release with specified release id\n",
    "    :param str tag_name: (required) name of tag\n",
    "    :returns: :class:`Release <github3.repos.release.Release>`\n",
    "    \"\"\"\n",
    "    url = repo._build_url('releases', 'tags', tag_name,\n",
    "                          base_url=repo._api)\n",
    "    json = repo._json(repo._get(url), 200)\n",
    "    return Release(json, repo) if json else None\n",
    "\n"
   ]
  },
  {
   "cell_type": "code",
   "execution_count": null,
   "metadata": {
    "collapsed": false
   },
   "outputs": [],
   "source": [
    "from itertools import islice\n",
    "\n",
    "# instantiate repo\n",
    "\n",
    "(repo_owner, repo_name) = ('GITenberg', 'Adventures-of-Huckleberry-Finn_76')\n",
    "\n",
    "repo = gh.repository(repo_owner, repo_name)\n",
    "repo_anon = anon.repository(repo_owner, repo_name)\n",
    "\n",
    "# can use either authenticated repo, or anonymous access repo_anon\n",
    "# loop through releases\n",
    "\n",
    "for (i, release) in enumerate(islice(repo_anon.iter_releases(),3)):\n",
    "    print (i, release.id, release.tag_name)\n",
    "    \n",
    "print \"\\n\"\n",
    "\n",
    "for (i, release) in enumerate(islice(repo.iter_releases(),3)):\n",
    "    print (i, release.id, release.tag_name)"
   ]
  },
  {
   "cell_type": "code",
   "execution_count": null,
   "metadata": {
    "collapsed": false
   },
   "outputs": [],
   "source": [
    "release = release_from_tag(repo, '0.0.50')\n",
    "(release.id, release.tag_name)\n",
    "\n",
    "for asset in release.iter_assets():\n",
    "    # pick out some of the attributes of Asset\n",
    "    # https://github.com/sigmavirus24/github3.py/blob/0.9.3/github3/repos/release.py#L145-L164\n",
    "    \n",
    "    print (asset.id, asset.name, asset.content_type, asset.download_url, asset.download_count)"
   ]
  },
  {
   "cell_type": "markdown",
   "metadata": {},
   "source": [
    "## consolidating code for releases"
   ]
  },
  {
   "cell_type": "code",
   "execution_count": 1,
   "metadata": {
    "collapsed": false
   },
   "outputs": [
    {
     "data": {
      "text/plain": [
       "[('epub', u'Adventures-of-Huckleberry-Finn.epub'),\n",
       " ('mobi', u'Adventures-of-Huckleberry-Finn.mobi'),\n",
       " ('pdf', u'Adventures-of-Huckleberry-Finn.pdf')]"
      ]
     },
     "execution_count": 1,
     "metadata": {},
     "output_type": "execute_result"
    }
   ],
   "source": [
    "# a function which given a repo and tag, returns which of epub, pdf, mobi are available\n",
    "\n",
    "from github3 import (login, GitHub)\n",
    "from github3.repos.release import Release\n",
    "\n",
    "# a token can generated at https://github.com/settings/tokens -- no private access needed\n",
    "from github_settings import GITHUB_PUBLIC_TOKEN\n",
    "\n",
    "# release_from_tag adapted from \n",
    "# https://github.com/sigmavirus24/github3.py/blob/38de787e465bffc63da73d23dc51f50d86dc903d/github3/repos/repo.py#L1781-L1793\n",
    "\n",
    "def release_from_tag(repo, tag_name):\n",
    "    \"\"\"Get a release by tag name.\n",
    "    release_from_tag() returns a release with specified tag\n",
    "    while release() returns a release with specified release id\n",
    "    :param str tag_name: (required) name of tag\n",
    "    :returns: :class:`Release <github3.repos.release.Release>`\n",
    "    \"\"\"\n",
    "    url = repo._build_url('releases', 'tags', tag_name,\n",
    "                          base_url=repo._api)\n",
    "    json = repo._json(repo._get(url), 200)\n",
    "    return Release(json, repo) if json else None\n",
    "\n",
    "\n",
    "def ebooks_in_github_release(repo_owner, repo_name, tag, token=None):\n",
    "    \"\"\"\n",
    "    returns a list of (book_type, book_name) for a given GitHub release (specified by \n",
    "    owner, name, tag).  token is a GitHub authorization token -- useful for accessing\n",
    "    higher rate limit in the GitHub API\n",
    "    \"\"\"\n",
    "    \n",
    "    # epub, mobi, pdf, html, text\n",
    "    # map mimetype to file extension\n",
    "    EBOOK_FORMATS = {'application/epub+zip':'epub',\n",
    "                 'application/x-mobipocket-ebook': 'mobi',\n",
    "                 'application/pdf': 'pdf',\n",
    "                 'text/plain': 'text',\n",
    "                 'text/html':'html'}\n",
    "    \n",
    "    if token is not None:\n",
    "        gh = login(token=token)\n",
    "    else:\n",
    "        # anonymous access\n",
    "        gh = GitHub()\n",
    "        \n",
    "    repo = gh.repository(repo_owner, repo_name)\n",
    "    release = release_from_tag(repo, tag)\n",
    "    \n",
    "    return [(EBOOK_FORMATS.get(asset.content_type), asset.name) \n",
    "            for asset in release.iter_assets() \n",
    "            if EBOOK_FORMATS.get(asset.content_type) is not None]\n",
    " \n",
    "\n",
    "# test out ebooks_in_github_release\n",
    "(repo_owner, repo_name) = ('GITenberg', 'Adventures-of-Huckleberry-Finn_76')\n",
    "ebooks_in_github_release(repo_owner, repo_name, '0.0.50', token=GITHUB_PUBLIC_TOKEN) "
   ]
  },
  {
   "cell_type": "code",
   "execution_count": 13,
   "metadata": {
    "collapsed": false
   },
   "outputs": [
    {
     "data": {
      "text/plain": [
       "('GITenberg', 'Adventures-of-Huckleberry-Finn_76')"
      ]
     },
     "execution_count": 13,
     "metadata": {},
     "output_type": "execute_result"
    }
   ],
   "source": [
    "# https://github.com/GITenberg/Adventures-of-Huckleberry-Finn_76/raw/master/metadata.yaml\n",
    "\n",
    "from urlparse import urlparse\n",
    "\n",
    "url = \"https://github.com/GITenberg/Adventures-of-Huckleberry-Finn_76/raw/master/metadata.yaml\"\n",
    "url_path = urlparse(url).path.split(\"/\")\n",
    "(repo_owner, repo_name) = (url_path[1], url_path[2])\n",
    "(repo_owner, repo_name) "
   ]
  },
  {
   "cell_type": "markdown",
   "metadata": {},
   "source": [
    "# create a repos\n",
    "\n",
    "[GitHub Examples — github3.py 0.9.3 documentation](http://github3py.readthedocs.org/en/master/examples/github.html#creating-a-new-repository)\n",
    "\n",
    "and code: [github3.py/github.py at 0.9.3 · sigmavirus24/github3.py](https://github.com/sigmavirus24/github3.py/blob/0.9.3/github3/github.py#L222-L259)"
   ]
  },
  {
   "cell_type": "code",
   "execution_count": null,
   "metadata": {
    "collapsed": false
   },
   "outputs": [],
   "source": [
    "try:\n",
    "    repo_data = {\n",
    "    'name': 'TEST REPO',\n",
    "    'description': 'can I create a repo using github3.py?',\n",
    "    'homepage': '',\n",
    "    'private': False,\n",
    "    'has_issues': True,\n",
    "    'has_wiki': True\n",
    "    }\n",
    "\n",
    "    if repo_data.get('name'):\n",
    "        r = gh.create_repo(repo_data.pop('name'), **repo_data)\n",
    "\n",
    "    if r:\n",
    "        print(\"Created {0} successfully.\".format(r.name))\n",
    "        \n",
    "except Exception as e:\n",
    "    \n",
    "    print (e)"
   ]
  },
  {
   "cell_type": "markdown",
   "metadata": {},
   "source": [
    "Now that I have an empty repo, how to do the equivalent of the following?\n",
    "\n",
    "```\n",
    "echo \"# TEST-REPO\" >> README.md\n",
    "git init\n",
    "git add README.md\n",
    "git commit -m \"first commit\"\n",
    "git remote add origin https://github.com/rdhyee-GITenberg/TEST-REPO.git\n",
    "git push -u origin master\n",
    "```"
   ]
  },
  {
   "cell_type": "code",
   "execution_count": null,
   "metadata": {
    "collapsed": false
   },
   "outputs": [],
   "source": [
    "# once we have a repo, we can instantiate it\n",
    "repo = gh.repository('rdhyee-GITenberg', 'TEST-REPO')\n",
    "repo"
   ]
  },
  {
   "cell_type": "markdown",
   "metadata": {
    "collapsed": true
   },
   "source": [
    "# challenges of using the GitHub API to do many things / simplification  \n",
    "\n",
    "[python - How to create a commit and push into repo with GitHub API v3? - Stack Overflow](https://stackoverflow.com/questions/11801983/how-to-create-a-commit-and-push-into-repo-with-github-api-v3)\n",
    "\n",
    "But there is a File CRUD API: [repo.create_file() in github3.py/repo.py at 0.9.3](https://github.com/sigmavirus24/github3.py/blob/0.9.3/github3/repos/repo.py#L538-L576)"
   ]
  },
  {
   "cell_type": "code",
   "execution_count": null,
   "metadata": {
    "collapsed": false
   },
   "outputs": [],
   "source": [
    "# now have r -- a repo\n",
    "\n",
    "# let's read off key parameters\n",
    "# latest commit\n",
    "\n",
    "# borrow code from https://github.com/sigmavirus24/github3.py/blob/d3552f77778c5f570cdd7efa5c80c0b88b8d9ad7/tests/integration/test_repos_repo.py#L239\n",
    "\n",
    "data = {\n",
    "    'path': 'README.md',\n",
    "    'message': 'first pass',\n",
    "    'content': b'Hello world',\n",
    "    'branch': 'master'\n",
    "}\n",
    "\n",
    "created_file = repo.create_file(**data)\n",
    "created_file"
   ]
  },
  {
   "cell_type": "code",
   "execution_count": null,
   "metadata": {
    "collapsed": false
   },
   "outputs": [],
   "source": [
    "# create a tag?\n",
    "\n",
    "import arrow\n",
    "\n",
    "commit = created_file['commit']\n",
    "commit.sha\n",
    "\n",
    "user = gh.user()\n",
    "\n",
    "tag_data =  {\n",
    "    'tag': '0.0.1',\n",
    "    'message': 'tag 0.0.1',\n",
    "    'sha': commit.sha,\n",
    "    'obj_type': 'commit',\n",
    "    'tagger': {\n",
    "        'name': user.name,\n",
    "        'email': user.email,\n",
    "        'date': arrow.utcnow().isoformat()\n",
    "    },\n",
    "    'lightweight': False\n",
    "}\n",
    "\n",
    "tag = repo.create_tag(**tag_data)\n",
    "tag  "
   ]
  },
  {
   "cell_type": "code",
   "execution_count": null,
   "metadata": {
    "collapsed": false
   },
   "outputs": [],
   "source": [
    "# get list of current tags\n",
    "\n",
    "list(repo.iter_tags())"
   ]
  },
  {
   "cell_type": "code",
   "execution_count": null,
   "metadata": {
    "collapsed": false
   },
   "outputs": [],
   "source": [
    "# directory_contents (in v 1+)\n",
    "# [github3.py/test_repos_repo.py at d3552f77778c5f570cdd7efa5c80c0b88b8d9ad7 · sigmavirus24/github3.py](https://github.com/sigmavirus24/github3.py/blob/d3552f77778c5f570cdd7efa5c80c0b88b8d9ad7/tests/integration/test_repos_repo.py#L475-L486)\n",
    "\n",
    "# \n",
    "repo.contents(\"\")"
   ]
  },
  {
   "cell_type": "code",
   "execution_count": null,
   "metadata": {
    "collapsed": true
   },
   "outputs": [],
   "source": [
    "# grab content\n",
    "content = repo.contents(\"README.md\", ref='master')"
   ]
  },
  {
   "cell_type": "code",
   "execution_count": null,
   "metadata": {
    "collapsed": false
   },
   "outputs": [],
   "source": [
    "new_content = content.decoded.decode('utf-8') + u\"\\n\" + u\"line 2\"\n",
    "\n",
    "data = {\n",
    "    'message': 'second pass',\n",
    "    'content': new_content.encode('utf-8'),\n",
    "}\n",
    "\n",
    "commit = content.update(**data)\n",
    "commit"
   ]
  },
  {
   "cell_type": "code",
   "execution_count": null,
   "metadata": {
    "collapsed": false
   },
   "outputs": [],
   "source": [
    "# tag again\n",
    "\n",
    "tag_data =  {\n",
    "    'tag': '0.0.2',\n",
    "    'message': 'tag 0.0.2',\n",
    "    'sha': commit.sha,\n",
    "    'obj_type': 'commit',\n",
    "    'tagger': {\n",
    "        'name': user.name,\n",
    "        'email': user.email,\n",
    "        'date': arrow.utcnow().isoformat()\n",
    "    },\n",
    "    'lightweight': False\n",
    "}\n",
    "\n",
    "tag = repo.create_tag(**tag_data)\n",
    "tag"
   ]
  },
  {
   "cell_type": "code",
   "execution_count": null,
   "metadata": {
    "collapsed": true
   },
   "outputs": [],
   "source": []
  }
 ],
 "metadata": {
  "kernelspec": {
   "display_name": "Python 2",
   "language": "python",
   "name": "python2"
  },
  "language_info": {
   "codemirror_mode": {
    "name": "ipython",
    "version": 2
   },
   "file_extension": ".py",
   "mimetype": "text/x-python",
   "name": "python",
   "nbconvert_exporter": "python",
   "pygments_lexer": "ipython2",
   "version": "2.7.11"
  }
 },
 "nbformat": 4,
 "nbformat_minor": 0
}
